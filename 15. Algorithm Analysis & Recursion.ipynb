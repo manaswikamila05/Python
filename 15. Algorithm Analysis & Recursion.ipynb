{
 "cells": [
  {
   "cell_type": "markdown",
   "metadata": {
    "id": "sxVWPN70ZNqi"
   },
   "source": [
    "\n",
    "# <font color=red>**Algorithm Analysis & Recursion**</font>"
   ]
  },
  {
   "cell_type": "markdown",
   "metadata": {},
   "source": [
    "The goal of algorithm analysis is:\n",
    "- To find a way to obtain the most efficient solution for each problem; and\n",
    "- More importantly, to confirm that it is indeed the most efficient. "
   ]
  },
  {
   "cell_type": "markdown",
   "metadata": {
    "id": "My4ZDeU4Bg2Q"
   },
   "source": [
    "\n",
    "## <font color='blue'>Search problem in an array (finding a specific item). </font>\n",
    "- <font color=blue> Linear Search (order of growth is linear) </font>\n",
    "-  <font color=blue> Binary Search  (order of growth is logarithmic) are two methods of searching</font>"
   ]
  },
  {
   "cell_type": "markdown",
   "metadata": {
    "id": "WRZQHTb5TGCz"
   },
   "source": [
    "## <font color=blue> **Linear Search** </font>\n",
    "\n",
    "<font>**Linear time – O(n)**</font>\n",
    "\n",
    "O(n) denotes that the output is proportional to the size of the input\n"
   ]
  },
  {
   "cell_type": "markdown",
   "metadata": {
    "id": "2Kc-2qHRSa5W"
   },
   "source": [
    "## <font color=blue> Time Linear Search algorithm </font>"
   ]
  },
  {
   "cell_type": "code",
   "execution_count": 1,
   "metadata": {
    "ExecuteTime": {
     "end_time": "2021-09-16T02:09:26.590174Z",
     "start_time": "2021-09-16T02:09:14.426426Z"
    },
    "colab": {
     "base_uri": "https://localhost:8080/"
    },
    "executionInfo": {
     "elapsed": 12392,
     "status": "ok",
     "timestamp": 1632322385036,
     "user": {
      "displayName": "Srikanth Gopalakrishnan",
      "photoUrl": "https://lh3.googleusercontent.com/a/default-user=s64",
      "userId": "16883702038636748324"
     },
     "user_tz": -330
    },
    "id": "dvAhnhFn_Lan",
    "outputId": "5a8ab614-c771-4ed8-a947-16bffe945142"
   },
   "outputs": [
    {
     "name": "stdout",
     "output_type": "stream",
     "text": [
      "Wall time: 14.1 s\n"
     ]
    }
   ],
   "source": [
    "%%time\n",
    "\n",
    "from time import sleep\n",
    "\n",
    "# Get Element by Linear Search\n",
    "def LinearSearch(lys, element):\n",
    "    for i in range (len(lys)):\n",
    "        sleep(1)\n",
    "        if lys[i] == element:\n",
    "            return i\n",
    "    return -1\n",
    "\n",
    "arr = [12,31,35,37,41,43,47,51,53,59,61,67,71,73,79,83,97]\n",
    "val = 73\n",
    "\n",
    "\n",
    "res = LinearSearch(arr, val)"
   ]
  },
  {
   "cell_type": "markdown",
   "metadata": {},
   "source": [
    "- To highlight the number of steps taken, wait for 1 sec is introduced before executing the next instance of the loop.\n",
    "- 14 sec is observed because it takes 14 seconds"
   ]
  },
  {
   "cell_type": "markdown",
   "metadata": {
    "id": "iq1-VRm8SYmL"
   },
   "source": [
    "## **Binary Search**\n",
    "\n",
    "<font>**A little faster...**</font>"
   ]
  },
  {
   "cell_type": "markdown",
   "metadata": {
    "id": "G8eIoinNSa5a"
   },
   "source": [
    "## <font color=blue> Time Binary Search algorithm </font>"
   ]
  },
  {
   "cell_type": "code",
   "execution_count": 2,
   "metadata": {
    "colab": {
     "base_uri": "https://localhost:8080/"
    },
    "executionInfo": {
     "elapsed": 6654,
     "status": "ok",
     "timestamp": 1632322368072,
     "user": {
      "displayName": "Srikanth Gopalakrishnan",
      "photoUrl": "https://lh3.googleusercontent.com/a/default-user=s64",
      "userId": "16883702038636748324"
     },
     "user_tz": -330
    },
    "id": "A3a0TJbGutX5",
    "outputId": "7a96a941-1c04-44cf-cb94-232f96f459a4"
   },
   "outputs": [
    {
     "name": "stdout",
     "output_type": "stream",
     "text": [
      "Wall time: 4.05 s\n"
     ]
    }
   ],
   "source": [
    "%%time\n",
    "\n",
    "from time import sleep\n",
    "\n",
    "# Get Element by Binary Search\n",
    "def BinarySearch(lys, val):\n",
    "    first = 0\n",
    "    last = len(lys)-1\n",
    "    index = -1\n",
    "    while (first <= last) and (index == -1):\n",
    "        sleep(1)\n",
    "        mid = (first+last)//2\n",
    "        if lys[mid] == val:\n",
    "            index = mid\n",
    "        else:\n",
    "            if val<lys[mid]:\n",
    "                last = mid -1\n",
    "            else:\n",
    "                first = mid +1\n",
    "    return index\n",
    "\n",
    "arr = [12,31,35,37,41,43,47,51,53,59,61,67,71,73,79,83,97]\n",
    "val = 73\n",
    "\n",
    "res = BinarySearch(arr, val)"
   ]
  },
  {
   "cell_type": "markdown",
   "metadata": {},
   "source": [
    "Suppose we have a function f(x). Now, irrespective of what input we provide, the function should take approximately the same amount of time to run."
   ]
  },
  {
   "cell_type": "markdown",
   "metadata": {},
   "source": [
    "**Deterministic algorithms**: the time taken for execution is constant even if the input is varied, keeping the input size constant. As the name ‘deterministic’ suggests, the runtime can be estimated as a function of its input size."
   ]
  },
  {
   "cell_type": "markdown",
   "metadata": {},
   "source": [
    "### Algorithm types\n",
    "- Deterministic\n",
    "- Probabilistic"
   ]
  },
  {
   "cell_type": "code",
   "execution_count": 5,
   "metadata": {},
   "outputs": [
    {
     "name": "stdout",
     "output_type": "stream",
     "text": [
      "142\n"
     ]
    }
   ],
   "source": [
    "# Deterministic algorithms\n",
    "# the time taken for execution is constant even if the input is varied, keeping the input size constant.\n",
    "\n",
    "def sum(list):\n",
    "    sum=0\n",
    "    for i in list:\n",
    "        sum=sum+i\n",
    "    return sum\n",
    "\n",
    "list=[1,6,77,5,4,5,5,34,5]\n",
    "print(sum(list))"
   ]
  },
  {
   "cell_type": "code",
   "execution_count": 7,
   "metadata": {},
   "outputs": [
    {
     "name": "stdout",
     "output_type": "stream",
     "text": [
      "13\n"
     ]
    }
   ],
   "source": [
    "# Probabilistic algorithms\n",
    "\n",
    "#Linear Search\n",
    "def LinearSearch(lys, element):\n",
    "    for i in range (len(lys)):\n",
    "        if lys[i] == element:\n",
    "            return i\n",
    "    return -1\n",
    "\n",
    "arr = [12,31,35,37,41,43,47,51,53,59,61,67,71,73,79,83,97]\n",
    "val = 73\n",
    "\n",
    "\n",
    "print(LinearSearch(arr, val))"
   ]
  },
  {
   "cell_type": "markdown",
   "metadata": {},
   "source": [
    "The problem with probabilistic algorithms is that their runtime is usually dependent on factors beyond the programmer's control, such as the user's input. So, in order to analyse such probabilistic algorithms, we need to come up with the concept of scenarios."
   ]
  },
  {
   "cell_type": "markdown",
   "metadata": {
    "ExecuteTime": {
     "end_time": "2021-09-13T11:56:09.620691Z",
     "start_time": "2021-09-13T11:56:09.549712Z"
    },
    "id": "8vMfIlPnSa5T"
   },
   "source": [
    "---\n",
    "\n",
    "# **Scenarios**\n",
    "\n",
    "\n",
    "\n",
    "**We have three cases for every algorithm**\n",
    "* Best Case denoted by omega symbol\n",
    "* Average Case denoted by theta symol\n",
    "* Worst Case denoted by big-o notation\n",
    "---\n"
   ]
  },
  {
   "cell_type": "markdown",
   "metadata": {
    "id": "2o9hMlDButX7"
   },
   "source": [
    "**Creating a num list of range 100,000**"
   ]
  },
  {
   "cell_type": "code",
   "execution_count": 10,
   "metadata": {},
   "outputs": [],
   "source": [
    "num_list = [x for x in range(100000)]"
   ]
  },
  {
   "cell_type": "code",
   "execution_count": 11,
   "metadata": {
    "id": "P1kPbp3FutX7"
   },
   "outputs": [],
   "source": [
    "import time\n",
    "\n",
    "#LINEAR SEARCH\n",
    "def LinearSearch(lys, element):\n",
    "    for i in range (len(lys)):\n",
    "        #sleep(1)\n",
    "        if lys[i] == element:\n",
    "            return i\n",
    "    return -1"
   ]
  },
  {
   "cell_type": "markdown",
   "metadata": {
    "id": "TCZKmOn1utX8"
   },
   "source": [
    "## <font color=blue> Best case scenario </font>"
   ]
  },
  {
   "cell_type": "code",
   "execution_count": 12,
   "metadata": {
    "id": "wnGFgYKIutX8",
    "outputId": "6e28d7f8-49f6-4398-83e8-d5dc92219213"
   },
   "outputs": [
    {
     "name": "stdout",
     "output_type": "stream",
     "text": [
      "INPUT: 11\n",
      "Time taken:0.0s\n"
     ]
    }
   ],
   "source": [
    "num = int(input(\"INPUT: \"))\n",
    "start_time = time.time()\n",
    "res1 = LinearSearch(num_list, num)\n",
    "req_time_1 = time.time() - start_time\n",
    "\n",
    "print(\"Time taken:{}s\".format(round(req_time_1,4)))"
   ]
  },
  {
   "cell_type": "markdown",
   "metadata": {
    "id": "CD7OBUQputX9"
   },
   "source": [
    "## <font color=blue> Average case scenario </font>"
   ]
  },
  {
   "cell_type": "code",
   "execution_count": 13,
   "metadata": {
    "id": "MdFqP1vrutX-",
    "outputId": "89e8b44e-fd47-4ca8-e632-38802128692f"
   },
   "outputs": [
    {
     "name": "stdout",
     "output_type": "stream",
     "text": [
      "INPUT: 500000\n",
      "Time taken:0.0038s\n"
     ]
    }
   ],
   "source": [
    "num = int(input(\"INPUT: \"))\n",
    "start_time = time.time()\n",
    "res2 = LinearSearch(num_list, num)\n",
    "req_time_2 = time.time() - start_time\n",
    "\n",
    "print(\"Time taken:{}s\".format(round(req_time_2,4)))"
   ]
  },
  {
   "cell_type": "markdown",
   "metadata": {
    "id": "7xweJfTyutX-"
   },
   "source": [
    "## <font color=blue> Worst case scenario </font>"
   ]
  },
  {
   "cell_type": "code",
   "execution_count": 14,
   "metadata": {
    "id": "tHHLX4WbutX-",
    "outputId": "1777588a-ca7e-475f-e042-32a3bac4f3f2"
   },
   "outputs": [
    {
     "name": "stdout",
     "output_type": "stream",
     "text": [
      "INPUT: 100000\n",
      "Time taken:0.004s\n"
     ]
    }
   ],
   "source": [
    "num = int(input(\"INPUT: \"))\n",
    "start_time = time.time()\n",
    "res3 = LinearSearch(num_list, num)\n",
    "req_time_3 = time.time() - start_time\n",
    "\n",
    "print(\"Time taken:{}s\".format(round(req_time_3,4)))"
   ]
  },
  {
   "cell_type": "code",
   "execution_count": 23,
   "metadata": {},
   "outputs": [],
   "source": [
    "def ReverseSearch(array,element):\n",
    "    n = len(array)\n",
    "    for i in range(-1,-n,-1):\n",
    "        print(array[i])\n",
    "        if array[i] == element:\n",
    "            return(n-i+1)"
   ]
  },
  {
   "cell_type": "code",
   "execution_count": 24,
   "metadata": {},
   "outputs": [
    {
     "name": "stdout",
     "output_type": "stream",
     "text": [
      "9\n",
      "8\n",
      "7\n",
      "6\n",
      "5\n",
      "4\n",
      "3\n",
      "2\n",
      "None\n"
     ]
    }
   ],
   "source": [
    "array = [1, 2, 3, 4, 5, 6, 7, 8, 9]\n",
    "element=1\n",
    "print(ReverseSearch(array,element))"
   ]
  },
  {
   "cell_type": "markdown",
   "metadata": {},
   "source": [
    "worst-case scenario: Search for 1"
   ]
  },
  {
   "cell_type": "code",
   "execution_count": 42,
   "metadata": {},
   "outputs": [],
   "source": [
    "def largestOddMultiple(number):\n",
    "    while(number%2==0):\n",
    "        sleep(1)\n",
    "        number = number/2\n",
    "        sleep(1)\n",
    "    return number"
   ]
  },
  {
   "cell_type": "code",
   "execution_count": 43,
   "metadata": {},
   "outputs": [
    {
     "name": "stdout",
     "output_type": "stream",
     "text": [
      "Time taken:0.0s\n"
     ]
    }
   ],
   "source": [
    "start_time = time.time()\n",
    "largestOddMultiple(133)\n",
    "req_time = time.time() - start_time\n",
    "\n",
    "print(\"Time taken:{}s\".format(round(req_time,4)))"
   ]
  },
  {
   "cell_type": "code",
   "execution_count": 44,
   "metadata": {},
   "outputs": [
    {
     "name": "stdout",
     "output_type": "stream",
     "text": [
      "Time taken:2.0127s\n"
     ]
    }
   ],
   "source": [
    "start_time = time.time()\n",
    "largestOddMultiple(250)\n",
    "req_time = time.time() - start_time\n",
    "\n",
    "print(\"Time taken:{}s\".format(round(req_time,4)))"
   ]
  },
  {
   "cell_type": "code",
   "execution_count": 45,
   "metadata": {},
   "outputs": [
    {
     "name": "stdout",
     "output_type": "stream",
     "text": [
      "Time taken:14.1295s\n"
     ]
    }
   ],
   "source": [
    "start_time = time.time()\n",
    "largestOddMultiple(128)\n",
    "req_time = time.time() - start_time\n",
    "\n",
    "print(\"Time taken:{}s\".format(round(req_time,4)))"
   ]
  },
  {
   "cell_type": "code",
   "execution_count": 46,
   "metadata": {},
   "outputs": [
    {
     "name": "stdout",
     "output_type": "stream",
     "text": [
      "Time taken:0.0s\n"
     ]
    }
   ],
   "source": [
    "start_time = time.time()\n",
    "largestOddMultiple(175)\n",
    "req_time = time.time() - start_time\n",
    "\n",
    "print(\"Time taken:{}s\".format(round(req_time,4)))"
   ]
  },
  {
   "cell_type": "code",
   "execution_count": 47,
   "metadata": {},
   "outputs": [
    {
     "name": "stdout",
     "output_type": "stream",
     "text": [
      "Time taken:0.0s\n"
     ]
    }
   ],
   "source": [
    "start_time = time.time()\n",
    "largestOddMultiple(133)\n",
    "req_time = time.time() - start_time\n",
    "\n",
    "print(\"Time taken:{}s\".format(round(req_time,4)))"
   ]
  },
  {
   "cell_type": "markdown",
   "metadata": {},
   "source": [
    "## Algorithm Analysis"
   ]
  },
  {
   "cell_type": "code",
   "execution_count": null,
   "metadata": {},
   "outputs": [],
   "source": [
    "def sum_n_numbers(n):\n",
    "    total = 0 # 1 assignment\n",
    "    for i in range(1,n+1): # n comparisons, n additions and n assignments\n",
    "        total = total+i # n additions and n assignments\n",
    "    return total"
   ]
  },
  {
   "cell_type": "markdown",
   "metadata": {},
   "source": [
    "the above program is inefficient"
   ]
  },
  {
   "cell_type": "markdown",
   "metadata": {},
   "source": [
    "Important factors to consider:\n",
    "- Time: Execution time of a program\n",
    "- Space: Amount of space that a program occupies\n",
    "    \n",
    "In general, time is more important than space. Time complexity is more important than space complexity."
   ]
  },
  {
   "cell_type": "markdown",
   "metadata": {},
   "source": [
    "Asymptotic analysis is a mathematical concept performed to constrain the plot of our runtime under known expressions. In simple terms, we try to fit a curve to the runtime and express the runtime as a simple function of the input size. "
   ]
  },
  {
   "cell_type": "markdown",
   "metadata": {},
   "source": [
    "Asymptotic analysis: \n",
    "- Evaluate algorithm performance in terms of input size\n",
    "- Calculate how time(or space) taken by algorithm grows with increase in input size"
   ]
  },
  {
   "cell_type": "markdown",
   "metadata": {},
   "source": [
    "### Algorithm complexity\n",
    "- Specifying N number of operations that are performed in the algorithm\n",
    "- Big-O expresses expresses its runtime in terms of how quickly it expands relative to input size\n",
    "\n",
    "Algorithm complexity - It is defined as sum of all O[n] allocated to each line of code"
   ]
  },
  {
   "cell_type": "markdown",
   "metadata": {
    "id": "NGnfDaDdTcUE"
   },
   "source": [
    "# **Linear Vs Binary**\n"
   ]
  },
  {
   "cell_type": "markdown",
   "metadata": {
    "id": "4OCC-0uR_l4H"
   },
   "source": [
    "### <font color=blue> **Lets Compute the Time Complexity of Linear Search with Respect to Input Size**</font>"
   ]
  },
  {
   "cell_type": "code",
   "execution_count": 5,
   "metadata": {
    "ExecuteTime": {
     "end_time": "2021-09-16T02:09:31.933356Z",
     "start_time": "2021-09-16T02:09:30.687699Z"
    },
    "id": "01cyMpHMArIj"
   },
   "outputs": [],
   "source": [
    "#Lets declare the global variable to save all records for visualization\n",
    "import pandas as pd  #importing Pandas \n",
    "\n",
    "# It will store {\"Size of Input\":[10,100,1000,10000], \"Search Time\":[0.1,0.2,0.3,0.4]}\n",
    "df = pd.DataFrame()"
   ]
  },
  {
   "cell_type": "code",
   "execution_count": 6,
   "metadata": {
    "ExecuteTime": {
     "end_time": "2021-09-16T02:09:39.021304Z",
     "start_time": "2021-09-16T02:09:31.937353Z"
    },
    "id": "lHjDKU-j9W-1",
    "outputId": "fa3869a6-7648-4921-da10-796b997f641a"
   },
   "outputs": [
    {
     "data": {
      "application/vnd.plotly.v1+json": {
       "config": {
        "plotlyServerURL": "https://plot.ly"
       },
       "data": [
        {
         "hovertemplate": "Algorithm=Linear Search<br>InputSize=%{x}<br>SearchTime=%{y}<extra></extra>",
         "legendgroup": "Linear Search",
         "line": {
          "color": "#636efa",
          "dash": "solid"
         },
         "marker": {
          "symbol": "circle"
         },
         "mode": "markers+lines",
         "name": "Linear Search",
         "orientation": "v",
         "showlegend": true,
         "type": "scatter",
         "x": [
          20,
          40,
          80,
          160,
          320,
          640,
          1280,
          2560,
          5120,
          10240,
          20480,
          40960,
          81920,
          163840,
          327680,
          655360,
          1310720
         ],
         "xaxis": "x",
         "y": [
          0,
          0,
          0,
          0,
          0,
          0,
          0,
          0,
          0.0009987354278564453,
          0.0010004043579101562,
          0.002999544143676758,
          0.0059964656829833984,
          0.013445615768432617,
          0.03336191177368164,
          0.08344197273254395,
          0.2097928524017334,
          0.33315563201904297
         ],
         "yaxis": "y"
        }
       ],
       "layout": {
        "legend": {
         "title": {
          "text": "Algorithm"
         },
         "tracegroupgap": 0
        },
        "margin": {
         "t": 60
        },
        "template": {
         "data": {
          "bar": [
           {
            "error_x": {
             "color": "#2a3f5f"
            },
            "error_y": {
             "color": "#2a3f5f"
            },
            "marker": {
             "line": {
              "color": "#E5ECF6",
              "width": 0.5
             },
             "pattern": {
              "fillmode": "overlay",
              "size": 10,
              "solidity": 0.2
             }
            },
            "type": "bar"
           }
          ],
          "barpolar": [
           {
            "marker": {
             "line": {
              "color": "#E5ECF6",
              "width": 0.5
             },
             "pattern": {
              "fillmode": "overlay",
              "size": 10,
              "solidity": 0.2
             }
            },
            "type": "barpolar"
           }
          ],
          "carpet": [
           {
            "aaxis": {
             "endlinecolor": "#2a3f5f",
             "gridcolor": "white",
             "linecolor": "white",
             "minorgridcolor": "white",
             "startlinecolor": "#2a3f5f"
            },
            "baxis": {
             "endlinecolor": "#2a3f5f",
             "gridcolor": "white",
             "linecolor": "white",
             "minorgridcolor": "white",
             "startlinecolor": "#2a3f5f"
            },
            "type": "carpet"
           }
          ],
          "choropleth": [
           {
            "colorbar": {
             "outlinewidth": 0,
             "ticks": ""
            },
            "type": "choropleth"
           }
          ],
          "contour": [
           {
            "colorbar": {
             "outlinewidth": 0,
             "ticks": ""
            },
            "colorscale": [
             [
              0,
              "#0d0887"
             ],
             [
              0.1111111111111111,
              "#46039f"
             ],
             [
              0.2222222222222222,
              "#7201a8"
             ],
             [
              0.3333333333333333,
              "#9c179e"
             ],
             [
              0.4444444444444444,
              "#bd3786"
             ],
             [
              0.5555555555555556,
              "#d8576b"
             ],
             [
              0.6666666666666666,
              "#ed7953"
             ],
             [
              0.7777777777777778,
              "#fb9f3a"
             ],
             [
              0.8888888888888888,
              "#fdca26"
             ],
             [
              1,
              "#f0f921"
             ]
            ],
            "type": "contour"
           }
          ],
          "contourcarpet": [
           {
            "colorbar": {
             "outlinewidth": 0,
             "ticks": ""
            },
            "type": "contourcarpet"
           }
          ],
          "heatmap": [
           {
            "colorbar": {
             "outlinewidth": 0,
             "ticks": ""
            },
            "colorscale": [
             [
              0,
              "#0d0887"
             ],
             [
              0.1111111111111111,
              "#46039f"
             ],
             [
              0.2222222222222222,
              "#7201a8"
             ],
             [
              0.3333333333333333,
              "#9c179e"
             ],
             [
              0.4444444444444444,
              "#bd3786"
             ],
             [
              0.5555555555555556,
              "#d8576b"
             ],
             [
              0.6666666666666666,
              "#ed7953"
             ],
             [
              0.7777777777777778,
              "#fb9f3a"
             ],
             [
              0.8888888888888888,
              "#fdca26"
             ],
             [
              1,
              "#f0f921"
             ]
            ],
            "type": "heatmap"
           }
          ],
          "heatmapgl": [
           {
            "colorbar": {
             "outlinewidth": 0,
             "ticks": ""
            },
            "colorscale": [
             [
              0,
              "#0d0887"
             ],
             [
              0.1111111111111111,
              "#46039f"
             ],
             [
              0.2222222222222222,
              "#7201a8"
             ],
             [
              0.3333333333333333,
              "#9c179e"
             ],
             [
              0.4444444444444444,
              "#bd3786"
             ],
             [
              0.5555555555555556,
              "#d8576b"
             ],
             [
              0.6666666666666666,
              "#ed7953"
             ],
             [
              0.7777777777777778,
              "#fb9f3a"
             ],
             [
              0.8888888888888888,
              "#fdca26"
             ],
             [
              1,
              "#f0f921"
             ]
            ],
            "type": "heatmapgl"
           }
          ],
          "histogram": [
           {
            "marker": {
             "pattern": {
              "fillmode": "overlay",
              "size": 10,
              "solidity": 0.2
             }
            },
            "type": "histogram"
           }
          ],
          "histogram2d": [
           {
            "colorbar": {
             "outlinewidth": 0,
             "ticks": ""
            },
            "colorscale": [
             [
              0,
              "#0d0887"
             ],
             [
              0.1111111111111111,
              "#46039f"
             ],
             [
              0.2222222222222222,
              "#7201a8"
             ],
             [
              0.3333333333333333,
              "#9c179e"
             ],
             [
              0.4444444444444444,
              "#bd3786"
             ],
             [
              0.5555555555555556,
              "#d8576b"
             ],
             [
              0.6666666666666666,
              "#ed7953"
             ],
             [
              0.7777777777777778,
              "#fb9f3a"
             ],
             [
              0.8888888888888888,
              "#fdca26"
             ],
             [
              1,
              "#f0f921"
             ]
            ],
            "type": "histogram2d"
           }
          ],
          "histogram2dcontour": [
           {
            "colorbar": {
             "outlinewidth": 0,
             "ticks": ""
            },
            "colorscale": [
             [
              0,
              "#0d0887"
             ],
             [
              0.1111111111111111,
              "#46039f"
             ],
             [
              0.2222222222222222,
              "#7201a8"
             ],
             [
              0.3333333333333333,
              "#9c179e"
             ],
             [
              0.4444444444444444,
              "#bd3786"
             ],
             [
              0.5555555555555556,
              "#d8576b"
             ],
             [
              0.6666666666666666,
              "#ed7953"
             ],
             [
              0.7777777777777778,
              "#fb9f3a"
             ],
             [
              0.8888888888888888,
              "#fdca26"
             ],
             [
              1,
              "#f0f921"
             ]
            ],
            "type": "histogram2dcontour"
           }
          ],
          "mesh3d": [
           {
            "colorbar": {
             "outlinewidth": 0,
             "ticks": ""
            },
            "type": "mesh3d"
           }
          ],
          "parcoords": [
           {
            "line": {
             "colorbar": {
              "outlinewidth": 0,
              "ticks": ""
             }
            },
            "type": "parcoords"
           }
          ],
          "pie": [
           {
            "automargin": true,
            "type": "pie"
           }
          ],
          "scatter": [
           {
            "fillpattern": {
             "fillmode": "overlay",
             "size": 10,
             "solidity": 0.2
            },
            "type": "scatter"
           }
          ],
          "scatter3d": [
           {
            "line": {
             "colorbar": {
              "outlinewidth": 0,
              "ticks": ""
             }
            },
            "marker": {
             "colorbar": {
              "outlinewidth": 0,
              "ticks": ""
             }
            },
            "type": "scatter3d"
           }
          ],
          "scattercarpet": [
           {
            "marker": {
             "colorbar": {
              "outlinewidth": 0,
              "ticks": ""
             }
            },
            "type": "scattercarpet"
           }
          ],
          "scattergeo": [
           {
            "marker": {
             "colorbar": {
              "outlinewidth": 0,
              "ticks": ""
             }
            },
            "type": "scattergeo"
           }
          ],
          "scattergl": [
           {
            "marker": {
             "colorbar": {
              "outlinewidth": 0,
              "ticks": ""
             }
            },
            "type": "scattergl"
           }
          ],
          "scattermapbox": [
           {
            "marker": {
             "colorbar": {
              "outlinewidth": 0,
              "ticks": ""
             }
            },
            "type": "scattermapbox"
           }
          ],
          "scatterpolar": [
           {
            "marker": {
             "colorbar": {
              "outlinewidth": 0,
              "ticks": ""
             }
            },
            "type": "scatterpolar"
           }
          ],
          "scatterpolargl": [
           {
            "marker": {
             "colorbar": {
              "outlinewidth": 0,
              "ticks": ""
             }
            },
            "type": "scatterpolargl"
           }
          ],
          "scatterternary": [
           {
            "marker": {
             "colorbar": {
              "outlinewidth": 0,
              "ticks": ""
             }
            },
            "type": "scatterternary"
           }
          ],
          "surface": [
           {
            "colorbar": {
             "outlinewidth": 0,
             "ticks": ""
            },
            "colorscale": [
             [
              0,
              "#0d0887"
             ],
             [
              0.1111111111111111,
              "#46039f"
             ],
             [
              0.2222222222222222,
              "#7201a8"
             ],
             [
              0.3333333333333333,
              "#9c179e"
             ],
             [
              0.4444444444444444,
              "#bd3786"
             ],
             [
              0.5555555555555556,
              "#d8576b"
             ],
             [
              0.6666666666666666,
              "#ed7953"
             ],
             [
              0.7777777777777778,
              "#fb9f3a"
             ],
             [
              0.8888888888888888,
              "#fdca26"
             ],
             [
              1,
              "#f0f921"
             ]
            ],
            "type": "surface"
           }
          ],
          "table": [
           {
            "cells": {
             "fill": {
              "color": "#EBF0F8"
             },
             "line": {
              "color": "white"
             }
            },
            "header": {
             "fill": {
              "color": "#C8D4E3"
             },
             "line": {
              "color": "white"
             }
            },
            "type": "table"
           }
          ]
         },
         "layout": {
          "annotationdefaults": {
           "arrowcolor": "#2a3f5f",
           "arrowhead": 0,
           "arrowwidth": 1
          },
          "autotypenumbers": "strict",
          "coloraxis": {
           "colorbar": {
            "outlinewidth": 0,
            "ticks": ""
           }
          },
          "colorscale": {
           "diverging": [
            [
             0,
             "#8e0152"
            ],
            [
             0.1,
             "#c51b7d"
            ],
            [
             0.2,
             "#de77ae"
            ],
            [
             0.3,
             "#f1b6da"
            ],
            [
             0.4,
             "#fde0ef"
            ],
            [
             0.5,
             "#f7f7f7"
            ],
            [
             0.6,
             "#e6f5d0"
            ],
            [
             0.7,
             "#b8e186"
            ],
            [
             0.8,
             "#7fbc41"
            ],
            [
             0.9,
             "#4d9221"
            ],
            [
             1,
             "#276419"
            ]
           ],
           "sequential": [
            [
             0,
             "#0d0887"
            ],
            [
             0.1111111111111111,
             "#46039f"
            ],
            [
             0.2222222222222222,
             "#7201a8"
            ],
            [
             0.3333333333333333,
             "#9c179e"
            ],
            [
             0.4444444444444444,
             "#bd3786"
            ],
            [
             0.5555555555555556,
             "#d8576b"
            ],
            [
             0.6666666666666666,
             "#ed7953"
            ],
            [
             0.7777777777777778,
             "#fb9f3a"
            ],
            [
             0.8888888888888888,
             "#fdca26"
            ],
            [
             1,
             "#f0f921"
            ]
           ],
           "sequentialminus": [
            [
             0,
             "#0d0887"
            ],
            [
             0.1111111111111111,
             "#46039f"
            ],
            [
             0.2222222222222222,
             "#7201a8"
            ],
            [
             0.3333333333333333,
             "#9c179e"
            ],
            [
             0.4444444444444444,
             "#bd3786"
            ],
            [
             0.5555555555555556,
             "#d8576b"
            ],
            [
             0.6666666666666666,
             "#ed7953"
            ],
            [
             0.7777777777777778,
             "#fb9f3a"
            ],
            [
             0.8888888888888888,
             "#fdca26"
            ],
            [
             1,
             "#f0f921"
            ]
           ]
          },
          "colorway": [
           "#636efa",
           "#EF553B",
           "#00cc96",
           "#ab63fa",
           "#FFA15A",
           "#19d3f3",
           "#FF6692",
           "#B6E880",
           "#FF97FF",
           "#FECB52"
          ],
          "font": {
           "color": "#2a3f5f"
          },
          "geo": {
           "bgcolor": "white",
           "lakecolor": "white",
           "landcolor": "#E5ECF6",
           "showlakes": true,
           "showland": true,
           "subunitcolor": "white"
          },
          "hoverlabel": {
           "align": "left"
          },
          "hovermode": "closest",
          "mapbox": {
           "style": "light"
          },
          "paper_bgcolor": "white",
          "plot_bgcolor": "#E5ECF6",
          "polar": {
           "angularaxis": {
            "gridcolor": "white",
            "linecolor": "white",
            "ticks": ""
           },
           "bgcolor": "#E5ECF6",
           "radialaxis": {
            "gridcolor": "white",
            "linecolor": "white",
            "ticks": ""
           }
          },
          "scene": {
           "xaxis": {
            "backgroundcolor": "#E5ECF6",
            "gridcolor": "white",
            "gridwidth": 2,
            "linecolor": "white",
            "showbackground": true,
            "ticks": "",
            "zerolinecolor": "white"
           },
           "yaxis": {
            "backgroundcolor": "#E5ECF6",
            "gridcolor": "white",
            "gridwidth": 2,
            "linecolor": "white",
            "showbackground": true,
            "ticks": "",
            "zerolinecolor": "white"
           },
           "zaxis": {
            "backgroundcolor": "#E5ECF6",
            "gridcolor": "white",
            "gridwidth": 2,
            "linecolor": "white",
            "showbackground": true,
            "ticks": "",
            "zerolinecolor": "white"
           }
          },
          "shapedefaults": {
           "line": {
            "color": "#2a3f5f"
           }
          },
          "ternary": {
           "aaxis": {
            "gridcolor": "white",
            "linecolor": "white",
            "ticks": ""
           },
           "baxis": {
            "gridcolor": "white",
            "linecolor": "white",
            "ticks": ""
           },
           "bgcolor": "#E5ECF6",
           "caxis": {
            "gridcolor": "white",
            "linecolor": "white",
            "ticks": ""
           }
          },
          "title": {
           "x": 0.05
          },
          "xaxis": {
           "automargin": true,
           "gridcolor": "white",
           "linecolor": "white",
           "ticks": "",
           "title": {
            "standoff": 15
           },
           "zerolinecolor": "white",
           "zerolinewidth": 2
          },
          "yaxis": {
           "automargin": true,
           "gridcolor": "white",
           "linecolor": "white",
           "ticks": "",
           "title": {
            "standoff": 15
           },
           "zerolinecolor": "white",
           "zerolinewidth": 2
          }
         }
        },
        "title": {
         "text": "Linear Search Complexity O(n)",
         "x": 0.5
        },
        "xaxis": {
         "anchor": "y",
         "domain": [
          0,
          1
         ],
         "title": {
          "text": "InputSize"
         }
        },
        "yaxis": {
         "anchor": "x",
         "domain": [
          0,
          1
         ],
         "title": {
          "text": "SearchTime"
         }
        }
       }
      },
      "text/html": [
       "<div>                            <div id=\"1e33b722-9cf9-44ea-9409-1def1b3b8bf5\" class=\"plotly-graph-div\" style=\"height:525px; width:100%;\"></div>            <script type=\"text/javascript\">                require([\"plotly\"], function(Plotly) {                    window.PLOTLYENV=window.PLOTLYENV || {};                                    if (document.getElementById(\"1e33b722-9cf9-44ea-9409-1def1b3b8bf5\")) {                    Plotly.newPlot(                        \"1e33b722-9cf9-44ea-9409-1def1b3b8bf5\",                        [{\"hovertemplate\":\"Algorithm=Linear Search<br>InputSize=%{x}<br>SearchTime=%{y}<extra></extra>\",\"legendgroup\":\"Linear Search\",\"line\":{\"color\":\"#636efa\",\"dash\":\"solid\"},\"marker\":{\"symbol\":\"circle\"},\"mode\":\"markers+lines\",\"name\":\"Linear Search\",\"orientation\":\"v\",\"showlegend\":true,\"x\":[20.0,40.0,80.0,160.0,320.0,640.0,1280.0,2560.0,5120.0,10240.0,20480.0,40960.0,81920.0,163840.0,327680.0,655360.0,1310720.0],\"xaxis\":\"x\",\"y\":[0.0,0.0,0.0,0.0,0.0,0.0,0.0,0.0,0.0009987354278564453,0.0010004043579101562,0.002999544143676758,0.0059964656829833984,0.013445615768432617,0.03336191177368164,0.08344197273254395,0.2097928524017334,0.33315563201904297],\"yaxis\":\"y\",\"type\":\"scatter\"}],                        {\"template\":{\"data\":{\"histogram2dcontour\":[{\"type\":\"histogram2dcontour\",\"colorbar\":{\"outlinewidth\":0,\"ticks\":\"\"},\"colorscale\":[[0.0,\"#0d0887\"],[0.1111111111111111,\"#46039f\"],[0.2222222222222222,\"#7201a8\"],[0.3333333333333333,\"#9c179e\"],[0.4444444444444444,\"#bd3786\"],[0.5555555555555556,\"#d8576b\"],[0.6666666666666666,\"#ed7953\"],[0.7777777777777778,\"#fb9f3a\"],[0.8888888888888888,\"#fdca26\"],[1.0,\"#f0f921\"]]}],\"choropleth\":[{\"type\":\"choropleth\",\"colorbar\":{\"outlinewidth\":0,\"ticks\":\"\"}}],\"histogram2d\":[{\"type\":\"histogram2d\",\"colorbar\":{\"outlinewidth\":0,\"ticks\":\"\"},\"colorscale\":[[0.0,\"#0d0887\"],[0.1111111111111111,\"#46039f\"],[0.2222222222222222,\"#7201a8\"],[0.3333333333333333,\"#9c179e\"],[0.4444444444444444,\"#bd3786\"],[0.5555555555555556,\"#d8576b\"],[0.6666666666666666,\"#ed7953\"],[0.7777777777777778,\"#fb9f3a\"],[0.8888888888888888,\"#fdca26\"],[1.0,\"#f0f921\"]]}],\"heatmap\":[{\"type\":\"heatmap\",\"colorbar\":{\"outlinewidth\":0,\"ticks\":\"\"},\"colorscale\":[[0.0,\"#0d0887\"],[0.1111111111111111,\"#46039f\"],[0.2222222222222222,\"#7201a8\"],[0.3333333333333333,\"#9c179e\"],[0.4444444444444444,\"#bd3786\"],[0.5555555555555556,\"#d8576b\"],[0.6666666666666666,\"#ed7953\"],[0.7777777777777778,\"#fb9f3a\"],[0.8888888888888888,\"#fdca26\"],[1.0,\"#f0f921\"]]}],\"heatmapgl\":[{\"type\":\"heatmapgl\",\"colorbar\":{\"outlinewidth\":0,\"ticks\":\"\"},\"colorscale\":[[0.0,\"#0d0887\"],[0.1111111111111111,\"#46039f\"],[0.2222222222222222,\"#7201a8\"],[0.3333333333333333,\"#9c179e\"],[0.4444444444444444,\"#bd3786\"],[0.5555555555555556,\"#d8576b\"],[0.6666666666666666,\"#ed7953\"],[0.7777777777777778,\"#fb9f3a\"],[0.8888888888888888,\"#fdca26\"],[1.0,\"#f0f921\"]]}],\"contourcarpet\":[{\"type\":\"contourcarpet\",\"colorbar\":{\"outlinewidth\":0,\"ticks\":\"\"}}],\"contour\":[{\"type\":\"contour\",\"colorbar\":{\"outlinewidth\":0,\"ticks\":\"\"},\"colorscale\":[[0.0,\"#0d0887\"],[0.1111111111111111,\"#46039f\"],[0.2222222222222222,\"#7201a8\"],[0.3333333333333333,\"#9c179e\"],[0.4444444444444444,\"#bd3786\"],[0.5555555555555556,\"#d8576b\"],[0.6666666666666666,\"#ed7953\"],[0.7777777777777778,\"#fb9f3a\"],[0.8888888888888888,\"#fdca26\"],[1.0,\"#f0f921\"]]}],\"surface\":[{\"type\":\"surface\",\"colorbar\":{\"outlinewidth\":0,\"ticks\":\"\"},\"colorscale\":[[0.0,\"#0d0887\"],[0.1111111111111111,\"#46039f\"],[0.2222222222222222,\"#7201a8\"],[0.3333333333333333,\"#9c179e\"],[0.4444444444444444,\"#bd3786\"],[0.5555555555555556,\"#d8576b\"],[0.6666666666666666,\"#ed7953\"],[0.7777777777777778,\"#fb9f3a\"],[0.8888888888888888,\"#fdca26\"],[1.0,\"#f0f921\"]]}],\"mesh3d\":[{\"type\":\"mesh3d\",\"colorbar\":{\"outlinewidth\":0,\"ticks\":\"\"}}],\"scatter\":[{\"fillpattern\":{\"fillmode\":\"overlay\",\"size\":10,\"solidity\":0.2},\"type\":\"scatter\"}],\"parcoords\":[{\"type\":\"parcoords\",\"line\":{\"colorbar\":{\"outlinewidth\":0,\"ticks\":\"\"}}}],\"scatterpolargl\":[{\"type\":\"scatterpolargl\",\"marker\":{\"colorbar\":{\"outlinewidth\":0,\"ticks\":\"\"}}}],\"bar\":[{\"error_x\":{\"color\":\"#2a3f5f\"},\"error_y\":{\"color\":\"#2a3f5f\"},\"marker\":{\"line\":{\"color\":\"#E5ECF6\",\"width\":0.5},\"pattern\":{\"fillmode\":\"overlay\",\"size\":10,\"solidity\":0.2}},\"type\":\"bar\"}],\"scattergeo\":[{\"type\":\"scattergeo\",\"marker\":{\"colorbar\":{\"outlinewidth\":0,\"ticks\":\"\"}}}],\"scatterpolar\":[{\"type\":\"scatterpolar\",\"marker\":{\"colorbar\":{\"outlinewidth\":0,\"ticks\":\"\"}}}],\"histogram\":[{\"marker\":{\"pattern\":{\"fillmode\":\"overlay\",\"size\":10,\"solidity\":0.2}},\"type\":\"histogram\"}],\"scattergl\":[{\"type\":\"scattergl\",\"marker\":{\"colorbar\":{\"outlinewidth\":0,\"ticks\":\"\"}}}],\"scatter3d\":[{\"type\":\"scatter3d\",\"line\":{\"colorbar\":{\"outlinewidth\":0,\"ticks\":\"\"}},\"marker\":{\"colorbar\":{\"outlinewidth\":0,\"ticks\":\"\"}}}],\"scattermapbox\":[{\"type\":\"scattermapbox\",\"marker\":{\"colorbar\":{\"outlinewidth\":0,\"ticks\":\"\"}}}],\"scatterternary\":[{\"type\":\"scatterternary\",\"marker\":{\"colorbar\":{\"outlinewidth\":0,\"ticks\":\"\"}}}],\"scattercarpet\":[{\"type\":\"scattercarpet\",\"marker\":{\"colorbar\":{\"outlinewidth\":0,\"ticks\":\"\"}}}],\"carpet\":[{\"aaxis\":{\"endlinecolor\":\"#2a3f5f\",\"gridcolor\":\"white\",\"linecolor\":\"white\",\"minorgridcolor\":\"white\",\"startlinecolor\":\"#2a3f5f\"},\"baxis\":{\"endlinecolor\":\"#2a3f5f\",\"gridcolor\":\"white\",\"linecolor\":\"white\",\"minorgridcolor\":\"white\",\"startlinecolor\":\"#2a3f5f\"},\"type\":\"carpet\"}],\"table\":[{\"cells\":{\"fill\":{\"color\":\"#EBF0F8\"},\"line\":{\"color\":\"white\"}},\"header\":{\"fill\":{\"color\":\"#C8D4E3\"},\"line\":{\"color\":\"white\"}},\"type\":\"table\"}],\"barpolar\":[{\"marker\":{\"line\":{\"color\":\"#E5ECF6\",\"width\":0.5},\"pattern\":{\"fillmode\":\"overlay\",\"size\":10,\"solidity\":0.2}},\"type\":\"barpolar\"}],\"pie\":[{\"automargin\":true,\"type\":\"pie\"}]},\"layout\":{\"autotypenumbers\":\"strict\",\"colorway\":[\"#636efa\",\"#EF553B\",\"#00cc96\",\"#ab63fa\",\"#FFA15A\",\"#19d3f3\",\"#FF6692\",\"#B6E880\",\"#FF97FF\",\"#FECB52\"],\"font\":{\"color\":\"#2a3f5f\"},\"hovermode\":\"closest\",\"hoverlabel\":{\"align\":\"left\"},\"paper_bgcolor\":\"white\",\"plot_bgcolor\":\"#E5ECF6\",\"polar\":{\"bgcolor\":\"#E5ECF6\",\"angularaxis\":{\"gridcolor\":\"white\",\"linecolor\":\"white\",\"ticks\":\"\"},\"radialaxis\":{\"gridcolor\":\"white\",\"linecolor\":\"white\",\"ticks\":\"\"}},\"ternary\":{\"bgcolor\":\"#E5ECF6\",\"aaxis\":{\"gridcolor\":\"white\",\"linecolor\":\"white\",\"ticks\":\"\"},\"baxis\":{\"gridcolor\":\"white\",\"linecolor\":\"white\",\"ticks\":\"\"},\"caxis\":{\"gridcolor\":\"white\",\"linecolor\":\"white\",\"ticks\":\"\"}},\"coloraxis\":{\"colorbar\":{\"outlinewidth\":0,\"ticks\":\"\"}},\"colorscale\":{\"sequential\":[[0.0,\"#0d0887\"],[0.1111111111111111,\"#46039f\"],[0.2222222222222222,\"#7201a8\"],[0.3333333333333333,\"#9c179e\"],[0.4444444444444444,\"#bd3786\"],[0.5555555555555556,\"#d8576b\"],[0.6666666666666666,\"#ed7953\"],[0.7777777777777778,\"#fb9f3a\"],[0.8888888888888888,\"#fdca26\"],[1.0,\"#f0f921\"]],\"sequentialminus\":[[0.0,\"#0d0887\"],[0.1111111111111111,\"#46039f\"],[0.2222222222222222,\"#7201a8\"],[0.3333333333333333,\"#9c179e\"],[0.4444444444444444,\"#bd3786\"],[0.5555555555555556,\"#d8576b\"],[0.6666666666666666,\"#ed7953\"],[0.7777777777777778,\"#fb9f3a\"],[0.8888888888888888,\"#fdca26\"],[1.0,\"#f0f921\"]],\"diverging\":[[0,\"#8e0152\"],[0.1,\"#c51b7d\"],[0.2,\"#de77ae\"],[0.3,\"#f1b6da\"],[0.4,\"#fde0ef\"],[0.5,\"#f7f7f7\"],[0.6,\"#e6f5d0\"],[0.7,\"#b8e186\"],[0.8,\"#7fbc41\"],[0.9,\"#4d9221\"],[1,\"#276419\"]]},\"xaxis\":{\"gridcolor\":\"white\",\"linecolor\":\"white\",\"ticks\":\"\",\"title\":{\"standoff\":15},\"zerolinecolor\":\"white\",\"automargin\":true,\"zerolinewidth\":2},\"yaxis\":{\"gridcolor\":\"white\",\"linecolor\":\"white\",\"ticks\":\"\",\"title\":{\"standoff\":15},\"zerolinecolor\":\"white\",\"automargin\":true,\"zerolinewidth\":2},\"scene\":{\"xaxis\":{\"backgroundcolor\":\"#E5ECF6\",\"gridcolor\":\"white\",\"linecolor\":\"white\",\"showbackground\":true,\"ticks\":\"\",\"zerolinecolor\":\"white\",\"gridwidth\":2},\"yaxis\":{\"backgroundcolor\":\"#E5ECF6\",\"gridcolor\":\"white\",\"linecolor\":\"white\",\"showbackground\":true,\"ticks\":\"\",\"zerolinecolor\":\"white\",\"gridwidth\":2},\"zaxis\":{\"backgroundcolor\":\"#E5ECF6\",\"gridcolor\":\"white\",\"linecolor\":\"white\",\"showbackground\":true,\"ticks\":\"\",\"zerolinecolor\":\"white\",\"gridwidth\":2}},\"shapedefaults\":{\"line\":{\"color\":\"#2a3f5f\"}},\"annotationdefaults\":{\"arrowcolor\":\"#2a3f5f\",\"arrowhead\":0,\"arrowwidth\":1},\"geo\":{\"bgcolor\":\"white\",\"landcolor\":\"#E5ECF6\",\"subunitcolor\":\"white\",\"showland\":true,\"showlakes\":true,\"lakecolor\":\"white\"},\"title\":{\"x\":0.05},\"mapbox\":{\"style\":\"light\"}}},\"xaxis\":{\"anchor\":\"y\",\"domain\":[0.0,1.0],\"title\":{\"text\":\"InputSize\"}},\"yaxis\":{\"anchor\":\"x\",\"domain\":[0.0,1.0],\"title\":{\"text\":\"SearchTime\"}},\"legend\":{\"title\":{\"text\":\"Algorithm\"},\"tracegroupgap\":0},\"margin\":{\"t\":60},\"title\":{\"text\":\"Linear Search Complexity O(n)\",\"x\":0.5}},                        {\"responsive\": true}                    ).then(function(){\n",
       "                            \n",
       "var gd = document.getElementById('1e33b722-9cf9-44ea-9409-1def1b3b8bf5');\n",
       "var x = new MutationObserver(function (mutations, observer) {{\n",
       "        var display = window.getComputedStyle(gd).display;\n",
       "        if (!display || display === 'none') {{\n",
       "            console.log([gd, 'removed!']);\n",
       "            Plotly.purge(gd);\n",
       "            observer.disconnect();\n",
       "        }}\n",
       "}});\n",
       "\n",
       "// Listen for the removal of the full notebook cells\n",
       "var notebookContainer = gd.closest('#notebook-container');\n",
       "if (notebookContainer) {{\n",
       "    x.observe(notebookContainer, {childList: true});\n",
       "}}\n",
       "\n",
       "// Listen for the clearing of the current output cell\n",
       "var outputEl = gd.closest('.output');\n",
       "if (outputEl) {{\n",
       "    x.observe(outputEl, {childList: true});\n",
       "}}\n",
       "\n",
       "                        })                };                });            </script>        </div>"
      ]
     },
     "metadata": {},
     "output_type": "display_data"
    }
   ],
   "source": [
    "# Get Element by Linear Search\n",
    "import numpy as np\n",
    "temp = 10\n",
    "while temp<1000000:\n",
    "    ############### Create Array with Random Numbers #######\n",
    "    '''\n",
    "    #Set the size of the array\n",
    "    '''\n",
    "    temp = temp * 2\n",
    "    INPUT_SIZE = temp\n",
    "    arr = list(np.random.randint(low = 1,high=100000000,size=INPUT_SIZE))\n",
    "    arr = sorted(arr)\n",
    "    '''\n",
    "    #set the value that you want to search \n",
    "    [Example 1: for Best Case I want to search value of index 0]\n",
    "    [Example 2: for worst Case I want to search value of index \"Size of Array\"]\n",
    "    '''\n",
    "    val = arr[INPUT_SIZE-1]                                                    \n",
    "  ########################################################\n",
    "\n",
    "  ################ Linear Search Function ################\n",
    "    def LinearSearch(lys, element):\n",
    "        for i in range (len(lys)):\n",
    "            if lys[i] == element:\n",
    "                return i\n",
    "        return -1\n",
    "  ########################################################\n",
    "\n",
    "  ############### Measure Time ###########################\n",
    "    import time\n",
    "    start_time = time.time()\n",
    "    res = LinearSearch(arr, val)\n",
    "    req_time = time.time() - start_time\n",
    "  ########################################################\n",
    "\n",
    "  ###### Insert Time & Input size for Line graph ########\n",
    "\n",
    "    df = df.append({'Algorithm':\"Linear Search\",'InputSize': INPUT_SIZE, 'SearchTime':req_time}, ignore_index=True)\n",
    "\n",
    "############## Plot Line Graph #########################\n",
    "import plotly.express as px\n",
    "# print(df)\n",
    "# fig = px.line(x=RECORDS_LINEAR[\"InputSize\"], y=RECORDS_LINEAR[\"SearchTime\"], labels=dict(x=\"Input Size\", y=\"Serach Time\"))\n",
    "fig = px.line(df, x=\"InputSize\", y=\"SearchTime\", color = 'Algorithm', labels=dict(x=\"Input Size\", y=\"Search Time\"))\n",
    "\n",
    "fig.update_traces(mode='markers+lines')\n",
    "fig.update_layout(title_text='Linear Search Complexity O(n)', title_x=0.5)\n",
    "fig.show()\n",
    "########################################################"
   ]
  },
  {
   "cell_type": "code",
   "execution_count": 7,
   "metadata": {},
   "outputs": [
    {
     "data": {
      "text/html": [
       "<div>\n",
       "<style scoped>\n",
       "    .dataframe tbody tr th:only-of-type {\n",
       "        vertical-align: middle;\n",
       "    }\n",
       "\n",
       "    .dataframe tbody tr th {\n",
       "        vertical-align: top;\n",
       "    }\n",
       "\n",
       "    .dataframe thead th {\n",
       "        text-align: right;\n",
       "    }\n",
       "</style>\n",
       "<table border=\"1\" class=\"dataframe\">\n",
       "  <thead>\n",
       "    <tr style=\"text-align: right;\">\n",
       "      <th></th>\n",
       "      <th>Algorithm</th>\n",
       "      <th>InputSize</th>\n",
       "      <th>SearchTime</th>\n",
       "    </tr>\n",
       "  </thead>\n",
       "  <tbody>\n",
       "    <tr>\n",
       "      <th>0</th>\n",
       "      <td>Linear Search</td>\n",
       "      <td>20.0</td>\n",
       "      <td>0.000000</td>\n",
       "    </tr>\n",
       "    <tr>\n",
       "      <th>1</th>\n",
       "      <td>Linear Search</td>\n",
       "      <td>40.0</td>\n",
       "      <td>0.000000</td>\n",
       "    </tr>\n",
       "    <tr>\n",
       "      <th>2</th>\n",
       "      <td>Linear Search</td>\n",
       "      <td>80.0</td>\n",
       "      <td>0.000000</td>\n",
       "    </tr>\n",
       "    <tr>\n",
       "      <th>3</th>\n",
       "      <td>Linear Search</td>\n",
       "      <td>160.0</td>\n",
       "      <td>0.000000</td>\n",
       "    </tr>\n",
       "    <tr>\n",
       "      <th>4</th>\n",
       "      <td>Linear Search</td>\n",
       "      <td>320.0</td>\n",
       "      <td>0.000000</td>\n",
       "    </tr>\n",
       "    <tr>\n",
       "      <th>5</th>\n",
       "      <td>Linear Search</td>\n",
       "      <td>640.0</td>\n",
       "      <td>0.000000</td>\n",
       "    </tr>\n",
       "    <tr>\n",
       "      <th>6</th>\n",
       "      <td>Linear Search</td>\n",
       "      <td>1280.0</td>\n",
       "      <td>0.000000</td>\n",
       "    </tr>\n",
       "    <tr>\n",
       "      <th>7</th>\n",
       "      <td>Linear Search</td>\n",
       "      <td>2560.0</td>\n",
       "      <td>0.000000</td>\n",
       "    </tr>\n",
       "    <tr>\n",
       "      <th>8</th>\n",
       "      <td>Linear Search</td>\n",
       "      <td>5120.0</td>\n",
       "      <td>0.000999</td>\n",
       "    </tr>\n",
       "    <tr>\n",
       "      <th>9</th>\n",
       "      <td>Linear Search</td>\n",
       "      <td>10240.0</td>\n",
       "      <td>0.001000</td>\n",
       "    </tr>\n",
       "    <tr>\n",
       "      <th>10</th>\n",
       "      <td>Linear Search</td>\n",
       "      <td>20480.0</td>\n",
       "      <td>0.003000</td>\n",
       "    </tr>\n",
       "    <tr>\n",
       "      <th>11</th>\n",
       "      <td>Linear Search</td>\n",
       "      <td>40960.0</td>\n",
       "      <td>0.005996</td>\n",
       "    </tr>\n",
       "    <tr>\n",
       "      <th>12</th>\n",
       "      <td>Linear Search</td>\n",
       "      <td>81920.0</td>\n",
       "      <td>0.013446</td>\n",
       "    </tr>\n",
       "    <tr>\n",
       "      <th>13</th>\n",
       "      <td>Linear Search</td>\n",
       "      <td>163840.0</td>\n",
       "      <td>0.033362</td>\n",
       "    </tr>\n",
       "    <tr>\n",
       "      <th>14</th>\n",
       "      <td>Linear Search</td>\n",
       "      <td>327680.0</td>\n",
       "      <td>0.083442</td>\n",
       "    </tr>\n",
       "    <tr>\n",
       "      <th>15</th>\n",
       "      <td>Linear Search</td>\n",
       "      <td>655360.0</td>\n",
       "      <td>0.209793</td>\n",
       "    </tr>\n",
       "    <tr>\n",
       "      <th>16</th>\n",
       "      <td>Linear Search</td>\n",
       "      <td>1310720.0</td>\n",
       "      <td>0.333156</td>\n",
       "    </tr>\n",
       "  </tbody>\n",
       "</table>\n",
       "</div>"
      ],
      "text/plain": [
       "        Algorithm  InputSize  SearchTime\n",
       "0   Linear Search       20.0    0.000000\n",
       "1   Linear Search       40.0    0.000000\n",
       "2   Linear Search       80.0    0.000000\n",
       "3   Linear Search      160.0    0.000000\n",
       "4   Linear Search      320.0    0.000000\n",
       "5   Linear Search      640.0    0.000000\n",
       "6   Linear Search     1280.0    0.000000\n",
       "7   Linear Search     2560.0    0.000000\n",
       "8   Linear Search     5120.0    0.000999\n",
       "9   Linear Search    10240.0    0.001000\n",
       "10  Linear Search    20480.0    0.003000\n",
       "11  Linear Search    40960.0    0.005996\n",
       "12  Linear Search    81920.0    0.013446\n",
       "13  Linear Search   163840.0    0.033362\n",
       "14  Linear Search   327680.0    0.083442\n",
       "15  Linear Search   655360.0    0.209793\n",
       "16  Linear Search  1310720.0    0.333156"
      ]
     },
     "execution_count": 7,
     "metadata": {},
     "output_type": "execute_result"
    }
   ],
   "source": [
    "df"
   ]
  },
  {
   "cell_type": "markdown",
   "metadata": {
    "id": "i66UPaeVHwnE"
   },
   "source": [
    "### <font color=blue>**Now Lets compare the time complexity of Binary Search with Linear Search with same setup**</font>\n",
    "\n",
    "Below code will run multiple time with increasing size of the array to check how time complexity depends on inputs differently on different algorithms"
   ]
  },
  {
   "cell_type": "code",
   "execution_count": 3,
   "metadata": {
    "ExecuteTime": {
     "end_time": "2021-09-16T02:09:42.585266Z",
     "start_time": "2021-09-16T02:09:39.025305Z"
    },
    "id": "Jvjc6ITwHLHW",
    "outputId": "24880ed7-78a3-4346-8822-f2aedcf62528"
   },
   "outputs": [
    {
     "data": {
      "application/vnd.plotly.v1+json": {
       "config": {
        "plotlyServerURL": "https://plot.ly"
       },
       "data": [
        {
         "hovertemplate": "Algorithm=Linear Search<br>InputSize=%{x}<br>SearchTime=%{y}<extra></extra>",
         "legendgroup": "Linear Search",
         "line": {
          "color": "#636efa",
          "dash": "solid"
         },
         "marker": {
          "symbol": "circle"
         },
         "mode": "markers+lines",
         "name": "Linear Search",
         "orientation": "v",
         "showlegend": true,
         "type": "scatter",
         "x": [
          20,
          40,
          80,
          160,
          320,
          640,
          1280,
          2560,
          5120,
          10240,
          20480,
          40960,
          81920,
          163840,
          327680,
          655360,
          1310720
         ],
         "xaxis": "x",
         "y": [
          0,
          0,
          0,
          0,
          0,
          0,
          0,
          0,
          0,
          0,
          0.0009915828704833984,
          0.0010051727294921875,
          0.004191160202026367,
          0.016288042068481445,
          0.0443727970123291,
          0.09972476959228516,
          0.27019762992858887
         ],
         "yaxis": "y"
        },
        {
         "hovertemplate": "Algorithm=Binary Search<br>InputSize=%{x}<br>SearchTime=%{y}<extra></extra>",
         "legendgroup": "Binary Search",
         "line": {
          "color": "#EF553B",
          "dash": "solid"
         },
         "marker": {
          "symbol": "circle"
         },
         "mode": "markers+lines",
         "name": "Binary Search",
         "orientation": "v",
         "showlegend": true,
         "type": "scatter",
         "x": [
          20,
          40,
          80,
          160,
          320,
          640,
          1280,
          2560,
          5120,
          10240,
          20480,
          40960,
          81920,
          163840,
          327680,
          655360,
          1310720
         ],
         "xaxis": "x",
         "y": [
          0,
          0,
          0,
          0,
          0,
          0,
          0,
          0,
          0,
          0,
          0,
          0,
          0,
          0,
          0,
          0,
          0
         ],
         "yaxis": "y"
        }
       ],
       "layout": {
        "legend": {
         "title": {
          "text": "Algorithm"
         },
         "tracegroupgap": 0
        },
        "margin": {
         "t": 60
        },
        "template": {
         "data": {
          "bar": [
           {
            "error_x": {
             "color": "#2a3f5f"
            },
            "error_y": {
             "color": "#2a3f5f"
            },
            "marker": {
             "line": {
              "color": "#E5ECF6",
              "width": 0.5
             },
             "pattern": {
              "fillmode": "overlay",
              "size": 10,
              "solidity": 0.2
             }
            },
            "type": "bar"
           }
          ],
          "barpolar": [
           {
            "marker": {
             "line": {
              "color": "#E5ECF6",
              "width": 0.5
             },
             "pattern": {
              "fillmode": "overlay",
              "size": 10,
              "solidity": 0.2
             }
            },
            "type": "barpolar"
           }
          ],
          "carpet": [
           {
            "aaxis": {
             "endlinecolor": "#2a3f5f",
             "gridcolor": "white",
             "linecolor": "white",
             "minorgridcolor": "white",
             "startlinecolor": "#2a3f5f"
            },
            "baxis": {
             "endlinecolor": "#2a3f5f",
             "gridcolor": "white",
             "linecolor": "white",
             "minorgridcolor": "white",
             "startlinecolor": "#2a3f5f"
            },
            "type": "carpet"
           }
          ],
          "choropleth": [
           {
            "colorbar": {
             "outlinewidth": 0,
             "ticks": ""
            },
            "type": "choropleth"
           }
          ],
          "contour": [
           {
            "colorbar": {
             "outlinewidth": 0,
             "ticks": ""
            },
            "colorscale": [
             [
              0,
              "#0d0887"
             ],
             [
              0.1111111111111111,
              "#46039f"
             ],
             [
              0.2222222222222222,
              "#7201a8"
             ],
             [
              0.3333333333333333,
              "#9c179e"
             ],
             [
              0.4444444444444444,
              "#bd3786"
             ],
             [
              0.5555555555555556,
              "#d8576b"
             ],
             [
              0.6666666666666666,
              "#ed7953"
             ],
             [
              0.7777777777777778,
              "#fb9f3a"
             ],
             [
              0.8888888888888888,
              "#fdca26"
             ],
             [
              1,
              "#f0f921"
             ]
            ],
            "type": "contour"
           }
          ],
          "contourcarpet": [
           {
            "colorbar": {
             "outlinewidth": 0,
             "ticks": ""
            },
            "type": "contourcarpet"
           }
          ],
          "heatmap": [
           {
            "colorbar": {
             "outlinewidth": 0,
             "ticks": ""
            },
            "colorscale": [
             [
              0,
              "#0d0887"
             ],
             [
              0.1111111111111111,
              "#46039f"
             ],
             [
              0.2222222222222222,
              "#7201a8"
             ],
             [
              0.3333333333333333,
              "#9c179e"
             ],
             [
              0.4444444444444444,
              "#bd3786"
             ],
             [
              0.5555555555555556,
              "#d8576b"
             ],
             [
              0.6666666666666666,
              "#ed7953"
             ],
             [
              0.7777777777777778,
              "#fb9f3a"
             ],
             [
              0.8888888888888888,
              "#fdca26"
             ],
             [
              1,
              "#f0f921"
             ]
            ],
            "type": "heatmap"
           }
          ],
          "heatmapgl": [
           {
            "colorbar": {
             "outlinewidth": 0,
             "ticks": ""
            },
            "colorscale": [
             [
              0,
              "#0d0887"
             ],
             [
              0.1111111111111111,
              "#46039f"
             ],
             [
              0.2222222222222222,
              "#7201a8"
             ],
             [
              0.3333333333333333,
              "#9c179e"
             ],
             [
              0.4444444444444444,
              "#bd3786"
             ],
             [
              0.5555555555555556,
              "#d8576b"
             ],
             [
              0.6666666666666666,
              "#ed7953"
             ],
             [
              0.7777777777777778,
              "#fb9f3a"
             ],
             [
              0.8888888888888888,
              "#fdca26"
             ],
             [
              1,
              "#f0f921"
             ]
            ],
            "type": "heatmapgl"
           }
          ],
          "histogram": [
           {
            "marker": {
             "pattern": {
              "fillmode": "overlay",
              "size": 10,
              "solidity": 0.2
             }
            },
            "type": "histogram"
           }
          ],
          "histogram2d": [
           {
            "colorbar": {
             "outlinewidth": 0,
             "ticks": ""
            },
            "colorscale": [
             [
              0,
              "#0d0887"
             ],
             [
              0.1111111111111111,
              "#46039f"
             ],
             [
              0.2222222222222222,
              "#7201a8"
             ],
             [
              0.3333333333333333,
              "#9c179e"
             ],
             [
              0.4444444444444444,
              "#bd3786"
             ],
             [
              0.5555555555555556,
              "#d8576b"
             ],
             [
              0.6666666666666666,
              "#ed7953"
             ],
             [
              0.7777777777777778,
              "#fb9f3a"
             ],
             [
              0.8888888888888888,
              "#fdca26"
             ],
             [
              1,
              "#f0f921"
             ]
            ],
            "type": "histogram2d"
           }
          ],
          "histogram2dcontour": [
           {
            "colorbar": {
             "outlinewidth": 0,
             "ticks": ""
            },
            "colorscale": [
             [
              0,
              "#0d0887"
             ],
             [
              0.1111111111111111,
              "#46039f"
             ],
             [
              0.2222222222222222,
              "#7201a8"
             ],
             [
              0.3333333333333333,
              "#9c179e"
             ],
             [
              0.4444444444444444,
              "#bd3786"
             ],
             [
              0.5555555555555556,
              "#d8576b"
             ],
             [
              0.6666666666666666,
              "#ed7953"
             ],
             [
              0.7777777777777778,
              "#fb9f3a"
             ],
             [
              0.8888888888888888,
              "#fdca26"
             ],
             [
              1,
              "#f0f921"
             ]
            ],
            "type": "histogram2dcontour"
           }
          ],
          "mesh3d": [
           {
            "colorbar": {
             "outlinewidth": 0,
             "ticks": ""
            },
            "type": "mesh3d"
           }
          ],
          "parcoords": [
           {
            "line": {
             "colorbar": {
              "outlinewidth": 0,
              "ticks": ""
             }
            },
            "type": "parcoords"
           }
          ],
          "pie": [
           {
            "automargin": true,
            "type": "pie"
           }
          ],
          "scatter": [
           {
            "fillpattern": {
             "fillmode": "overlay",
             "size": 10,
             "solidity": 0.2
            },
            "type": "scatter"
           }
          ],
          "scatter3d": [
           {
            "line": {
             "colorbar": {
              "outlinewidth": 0,
              "ticks": ""
             }
            },
            "marker": {
             "colorbar": {
              "outlinewidth": 0,
              "ticks": ""
             }
            },
            "type": "scatter3d"
           }
          ],
          "scattercarpet": [
           {
            "marker": {
             "colorbar": {
              "outlinewidth": 0,
              "ticks": ""
             }
            },
            "type": "scattercarpet"
           }
          ],
          "scattergeo": [
           {
            "marker": {
             "colorbar": {
              "outlinewidth": 0,
              "ticks": ""
             }
            },
            "type": "scattergeo"
           }
          ],
          "scattergl": [
           {
            "marker": {
             "colorbar": {
              "outlinewidth": 0,
              "ticks": ""
             }
            },
            "type": "scattergl"
           }
          ],
          "scattermapbox": [
           {
            "marker": {
             "colorbar": {
              "outlinewidth": 0,
              "ticks": ""
             }
            },
            "type": "scattermapbox"
           }
          ],
          "scatterpolar": [
           {
            "marker": {
             "colorbar": {
              "outlinewidth": 0,
              "ticks": ""
             }
            },
            "type": "scatterpolar"
           }
          ],
          "scatterpolargl": [
           {
            "marker": {
             "colorbar": {
              "outlinewidth": 0,
              "ticks": ""
             }
            },
            "type": "scatterpolargl"
           }
          ],
          "scatterternary": [
           {
            "marker": {
             "colorbar": {
              "outlinewidth": 0,
              "ticks": ""
             }
            },
            "type": "scatterternary"
           }
          ],
          "surface": [
           {
            "colorbar": {
             "outlinewidth": 0,
             "ticks": ""
            },
            "colorscale": [
             [
              0,
              "#0d0887"
             ],
             [
              0.1111111111111111,
              "#46039f"
             ],
             [
              0.2222222222222222,
              "#7201a8"
             ],
             [
              0.3333333333333333,
              "#9c179e"
             ],
             [
              0.4444444444444444,
              "#bd3786"
             ],
             [
              0.5555555555555556,
              "#d8576b"
             ],
             [
              0.6666666666666666,
              "#ed7953"
             ],
             [
              0.7777777777777778,
              "#fb9f3a"
             ],
             [
              0.8888888888888888,
              "#fdca26"
             ],
             [
              1,
              "#f0f921"
             ]
            ],
            "type": "surface"
           }
          ],
          "table": [
           {
            "cells": {
             "fill": {
              "color": "#EBF0F8"
             },
             "line": {
              "color": "white"
             }
            },
            "header": {
             "fill": {
              "color": "#C8D4E3"
             },
             "line": {
              "color": "white"
             }
            },
            "type": "table"
           }
          ]
         },
         "layout": {
          "annotationdefaults": {
           "arrowcolor": "#2a3f5f",
           "arrowhead": 0,
           "arrowwidth": 1
          },
          "autotypenumbers": "strict",
          "coloraxis": {
           "colorbar": {
            "outlinewidth": 0,
            "ticks": ""
           }
          },
          "colorscale": {
           "diverging": [
            [
             0,
             "#8e0152"
            ],
            [
             0.1,
             "#c51b7d"
            ],
            [
             0.2,
             "#de77ae"
            ],
            [
             0.3,
             "#f1b6da"
            ],
            [
             0.4,
             "#fde0ef"
            ],
            [
             0.5,
             "#f7f7f7"
            ],
            [
             0.6,
             "#e6f5d0"
            ],
            [
             0.7,
             "#b8e186"
            ],
            [
             0.8,
             "#7fbc41"
            ],
            [
             0.9,
             "#4d9221"
            ],
            [
             1,
             "#276419"
            ]
           ],
           "sequential": [
            [
             0,
             "#0d0887"
            ],
            [
             0.1111111111111111,
             "#46039f"
            ],
            [
             0.2222222222222222,
             "#7201a8"
            ],
            [
             0.3333333333333333,
             "#9c179e"
            ],
            [
             0.4444444444444444,
             "#bd3786"
            ],
            [
             0.5555555555555556,
             "#d8576b"
            ],
            [
             0.6666666666666666,
             "#ed7953"
            ],
            [
             0.7777777777777778,
             "#fb9f3a"
            ],
            [
             0.8888888888888888,
             "#fdca26"
            ],
            [
             1,
             "#f0f921"
            ]
           ],
           "sequentialminus": [
            [
             0,
             "#0d0887"
            ],
            [
             0.1111111111111111,
             "#46039f"
            ],
            [
             0.2222222222222222,
             "#7201a8"
            ],
            [
             0.3333333333333333,
             "#9c179e"
            ],
            [
             0.4444444444444444,
             "#bd3786"
            ],
            [
             0.5555555555555556,
             "#d8576b"
            ],
            [
             0.6666666666666666,
             "#ed7953"
            ],
            [
             0.7777777777777778,
             "#fb9f3a"
            ],
            [
             0.8888888888888888,
             "#fdca26"
            ],
            [
             1,
             "#f0f921"
            ]
           ]
          },
          "colorway": [
           "#636efa",
           "#EF553B",
           "#00cc96",
           "#ab63fa",
           "#FFA15A",
           "#19d3f3",
           "#FF6692",
           "#B6E880",
           "#FF97FF",
           "#FECB52"
          ],
          "font": {
           "color": "#2a3f5f"
          },
          "geo": {
           "bgcolor": "white",
           "lakecolor": "white",
           "landcolor": "#E5ECF6",
           "showlakes": true,
           "showland": true,
           "subunitcolor": "white"
          },
          "hoverlabel": {
           "align": "left"
          },
          "hovermode": "closest",
          "mapbox": {
           "style": "light"
          },
          "paper_bgcolor": "white",
          "plot_bgcolor": "#E5ECF6",
          "polar": {
           "angularaxis": {
            "gridcolor": "white",
            "linecolor": "white",
            "ticks": ""
           },
           "bgcolor": "#E5ECF6",
           "radialaxis": {
            "gridcolor": "white",
            "linecolor": "white",
            "ticks": ""
           }
          },
          "scene": {
           "xaxis": {
            "backgroundcolor": "#E5ECF6",
            "gridcolor": "white",
            "gridwidth": 2,
            "linecolor": "white",
            "showbackground": true,
            "ticks": "",
            "zerolinecolor": "white"
           },
           "yaxis": {
            "backgroundcolor": "#E5ECF6",
            "gridcolor": "white",
            "gridwidth": 2,
            "linecolor": "white",
            "showbackground": true,
            "ticks": "",
            "zerolinecolor": "white"
           },
           "zaxis": {
            "backgroundcolor": "#E5ECF6",
            "gridcolor": "white",
            "gridwidth": 2,
            "linecolor": "white",
            "showbackground": true,
            "ticks": "",
            "zerolinecolor": "white"
           }
          },
          "shapedefaults": {
           "line": {
            "color": "#2a3f5f"
           }
          },
          "ternary": {
           "aaxis": {
            "gridcolor": "white",
            "linecolor": "white",
            "ticks": ""
           },
           "baxis": {
            "gridcolor": "white",
            "linecolor": "white",
            "ticks": ""
           },
           "bgcolor": "#E5ECF6",
           "caxis": {
            "gridcolor": "white",
            "linecolor": "white",
            "ticks": ""
           }
          },
          "title": {
           "x": 0.05
          },
          "xaxis": {
           "automargin": true,
           "gridcolor": "white",
           "linecolor": "white",
           "ticks": "",
           "title": {
            "standoff": 15
           },
           "zerolinecolor": "white",
           "zerolinewidth": 2
          },
          "yaxis": {
           "automargin": true,
           "gridcolor": "white",
           "linecolor": "white",
           "ticks": "",
           "title": {
            "standoff": 15
           },
           "zerolinecolor": "white",
           "zerolinewidth": 2
          }
         }
        },
        "title": {
         "text": "Binary Search Complexity O(log n)",
         "x": 0.5
        },
        "xaxis": {
         "anchor": "y",
         "domain": [
          0,
          1
         ],
         "title": {
          "text": "InputSize"
         }
        },
        "yaxis": {
         "anchor": "x",
         "domain": [
          0,
          1
         ],
         "title": {
          "text": "SearchTime"
         }
        }
       }
      },
      "text/html": [
       "<div>                            <div id=\"5d392c48-bf74-4860-b4ab-d61a84bfeb09\" class=\"plotly-graph-div\" style=\"height:525px; width:100%;\"></div>            <script type=\"text/javascript\">                require([\"plotly\"], function(Plotly) {                    window.PLOTLYENV=window.PLOTLYENV || {};                                    if (document.getElementById(\"5d392c48-bf74-4860-b4ab-d61a84bfeb09\")) {                    Plotly.newPlot(                        \"5d392c48-bf74-4860-b4ab-d61a84bfeb09\",                        [{\"hovertemplate\":\"Algorithm=Linear Search<br>InputSize=%{x}<br>SearchTime=%{y}<extra></extra>\",\"legendgroup\":\"Linear Search\",\"line\":{\"color\":\"#636efa\",\"dash\":\"solid\"},\"marker\":{\"symbol\":\"circle\"},\"mode\":\"markers+lines\",\"name\":\"Linear Search\",\"orientation\":\"v\",\"showlegend\":true,\"x\":[20.0,40.0,80.0,160.0,320.0,640.0,1280.0,2560.0,5120.0,10240.0,20480.0,40960.0,81920.0,163840.0,327680.0,655360.0,1310720.0],\"xaxis\":\"x\",\"y\":[0.0,0.0,0.0,0.0,0.0,0.0,0.0,0.0,0.0,0.0,0.0009915828704833984,0.0010051727294921875,0.004191160202026367,0.016288042068481445,0.0443727970123291,0.09972476959228516,0.27019762992858887],\"yaxis\":\"y\",\"type\":\"scatter\"},{\"hovertemplate\":\"Algorithm=Binary Search<br>InputSize=%{x}<br>SearchTime=%{y}<extra></extra>\",\"legendgroup\":\"Binary Search\",\"line\":{\"color\":\"#EF553B\",\"dash\":\"solid\"},\"marker\":{\"symbol\":\"circle\"},\"mode\":\"markers+lines\",\"name\":\"Binary Search\",\"orientation\":\"v\",\"showlegend\":true,\"x\":[20.0,40.0,80.0,160.0,320.0,640.0,1280.0,2560.0,5120.0,10240.0,20480.0,40960.0,81920.0,163840.0,327680.0,655360.0,1310720.0],\"xaxis\":\"x\",\"y\":[0.0,0.0,0.0,0.0,0.0,0.0,0.0,0.0,0.0,0.0,0.0,0.0,0.0,0.0,0.0,0.0,0.0],\"yaxis\":\"y\",\"type\":\"scatter\"}],                        {\"template\":{\"data\":{\"histogram2dcontour\":[{\"type\":\"histogram2dcontour\",\"colorbar\":{\"outlinewidth\":0,\"ticks\":\"\"},\"colorscale\":[[0.0,\"#0d0887\"],[0.1111111111111111,\"#46039f\"],[0.2222222222222222,\"#7201a8\"],[0.3333333333333333,\"#9c179e\"],[0.4444444444444444,\"#bd3786\"],[0.5555555555555556,\"#d8576b\"],[0.6666666666666666,\"#ed7953\"],[0.7777777777777778,\"#fb9f3a\"],[0.8888888888888888,\"#fdca26\"],[1.0,\"#f0f921\"]]}],\"choropleth\":[{\"type\":\"choropleth\",\"colorbar\":{\"outlinewidth\":0,\"ticks\":\"\"}}],\"histogram2d\":[{\"type\":\"histogram2d\",\"colorbar\":{\"outlinewidth\":0,\"ticks\":\"\"},\"colorscale\":[[0.0,\"#0d0887\"],[0.1111111111111111,\"#46039f\"],[0.2222222222222222,\"#7201a8\"],[0.3333333333333333,\"#9c179e\"],[0.4444444444444444,\"#bd3786\"],[0.5555555555555556,\"#d8576b\"],[0.6666666666666666,\"#ed7953\"],[0.7777777777777778,\"#fb9f3a\"],[0.8888888888888888,\"#fdca26\"],[1.0,\"#f0f921\"]]}],\"heatmap\":[{\"type\":\"heatmap\",\"colorbar\":{\"outlinewidth\":0,\"ticks\":\"\"},\"colorscale\":[[0.0,\"#0d0887\"],[0.1111111111111111,\"#46039f\"],[0.2222222222222222,\"#7201a8\"],[0.3333333333333333,\"#9c179e\"],[0.4444444444444444,\"#bd3786\"],[0.5555555555555556,\"#d8576b\"],[0.6666666666666666,\"#ed7953\"],[0.7777777777777778,\"#fb9f3a\"],[0.8888888888888888,\"#fdca26\"],[1.0,\"#f0f921\"]]}],\"heatmapgl\":[{\"type\":\"heatmapgl\",\"colorbar\":{\"outlinewidth\":0,\"ticks\":\"\"},\"colorscale\":[[0.0,\"#0d0887\"],[0.1111111111111111,\"#46039f\"],[0.2222222222222222,\"#7201a8\"],[0.3333333333333333,\"#9c179e\"],[0.4444444444444444,\"#bd3786\"],[0.5555555555555556,\"#d8576b\"],[0.6666666666666666,\"#ed7953\"],[0.7777777777777778,\"#fb9f3a\"],[0.8888888888888888,\"#fdca26\"],[1.0,\"#f0f921\"]]}],\"contourcarpet\":[{\"type\":\"contourcarpet\",\"colorbar\":{\"outlinewidth\":0,\"ticks\":\"\"}}],\"contour\":[{\"type\":\"contour\",\"colorbar\":{\"outlinewidth\":0,\"ticks\":\"\"},\"colorscale\":[[0.0,\"#0d0887\"],[0.1111111111111111,\"#46039f\"],[0.2222222222222222,\"#7201a8\"],[0.3333333333333333,\"#9c179e\"],[0.4444444444444444,\"#bd3786\"],[0.5555555555555556,\"#d8576b\"],[0.6666666666666666,\"#ed7953\"],[0.7777777777777778,\"#fb9f3a\"],[0.8888888888888888,\"#fdca26\"],[1.0,\"#f0f921\"]]}],\"surface\":[{\"type\":\"surface\",\"colorbar\":{\"outlinewidth\":0,\"ticks\":\"\"},\"colorscale\":[[0.0,\"#0d0887\"],[0.1111111111111111,\"#46039f\"],[0.2222222222222222,\"#7201a8\"],[0.3333333333333333,\"#9c179e\"],[0.4444444444444444,\"#bd3786\"],[0.5555555555555556,\"#d8576b\"],[0.6666666666666666,\"#ed7953\"],[0.7777777777777778,\"#fb9f3a\"],[0.8888888888888888,\"#fdca26\"],[1.0,\"#f0f921\"]]}],\"mesh3d\":[{\"type\":\"mesh3d\",\"colorbar\":{\"outlinewidth\":0,\"ticks\":\"\"}}],\"scatter\":[{\"fillpattern\":{\"fillmode\":\"overlay\",\"size\":10,\"solidity\":0.2},\"type\":\"scatter\"}],\"parcoords\":[{\"type\":\"parcoords\",\"line\":{\"colorbar\":{\"outlinewidth\":0,\"ticks\":\"\"}}}],\"scatterpolargl\":[{\"type\":\"scatterpolargl\",\"marker\":{\"colorbar\":{\"outlinewidth\":0,\"ticks\":\"\"}}}],\"bar\":[{\"error_x\":{\"color\":\"#2a3f5f\"},\"error_y\":{\"color\":\"#2a3f5f\"},\"marker\":{\"line\":{\"color\":\"#E5ECF6\",\"width\":0.5},\"pattern\":{\"fillmode\":\"overlay\",\"size\":10,\"solidity\":0.2}},\"type\":\"bar\"}],\"scattergeo\":[{\"type\":\"scattergeo\",\"marker\":{\"colorbar\":{\"outlinewidth\":0,\"ticks\":\"\"}}}],\"scatterpolar\":[{\"type\":\"scatterpolar\",\"marker\":{\"colorbar\":{\"outlinewidth\":0,\"ticks\":\"\"}}}],\"histogram\":[{\"marker\":{\"pattern\":{\"fillmode\":\"overlay\",\"size\":10,\"solidity\":0.2}},\"type\":\"histogram\"}],\"scattergl\":[{\"type\":\"scattergl\",\"marker\":{\"colorbar\":{\"outlinewidth\":0,\"ticks\":\"\"}}}],\"scatter3d\":[{\"type\":\"scatter3d\",\"line\":{\"colorbar\":{\"outlinewidth\":0,\"ticks\":\"\"}},\"marker\":{\"colorbar\":{\"outlinewidth\":0,\"ticks\":\"\"}}}],\"scattermapbox\":[{\"type\":\"scattermapbox\",\"marker\":{\"colorbar\":{\"outlinewidth\":0,\"ticks\":\"\"}}}],\"scatterternary\":[{\"type\":\"scatterternary\",\"marker\":{\"colorbar\":{\"outlinewidth\":0,\"ticks\":\"\"}}}],\"scattercarpet\":[{\"type\":\"scattercarpet\",\"marker\":{\"colorbar\":{\"outlinewidth\":0,\"ticks\":\"\"}}}],\"carpet\":[{\"aaxis\":{\"endlinecolor\":\"#2a3f5f\",\"gridcolor\":\"white\",\"linecolor\":\"white\",\"minorgridcolor\":\"white\",\"startlinecolor\":\"#2a3f5f\"},\"baxis\":{\"endlinecolor\":\"#2a3f5f\",\"gridcolor\":\"white\",\"linecolor\":\"white\",\"minorgridcolor\":\"white\",\"startlinecolor\":\"#2a3f5f\"},\"type\":\"carpet\"}],\"table\":[{\"cells\":{\"fill\":{\"color\":\"#EBF0F8\"},\"line\":{\"color\":\"white\"}},\"header\":{\"fill\":{\"color\":\"#C8D4E3\"},\"line\":{\"color\":\"white\"}},\"type\":\"table\"}],\"barpolar\":[{\"marker\":{\"line\":{\"color\":\"#E5ECF6\",\"width\":0.5},\"pattern\":{\"fillmode\":\"overlay\",\"size\":10,\"solidity\":0.2}},\"type\":\"barpolar\"}],\"pie\":[{\"automargin\":true,\"type\":\"pie\"}]},\"layout\":{\"autotypenumbers\":\"strict\",\"colorway\":[\"#636efa\",\"#EF553B\",\"#00cc96\",\"#ab63fa\",\"#FFA15A\",\"#19d3f3\",\"#FF6692\",\"#B6E880\",\"#FF97FF\",\"#FECB52\"],\"font\":{\"color\":\"#2a3f5f\"},\"hovermode\":\"closest\",\"hoverlabel\":{\"align\":\"left\"},\"paper_bgcolor\":\"white\",\"plot_bgcolor\":\"#E5ECF6\",\"polar\":{\"bgcolor\":\"#E5ECF6\",\"angularaxis\":{\"gridcolor\":\"white\",\"linecolor\":\"white\",\"ticks\":\"\"},\"radialaxis\":{\"gridcolor\":\"white\",\"linecolor\":\"white\",\"ticks\":\"\"}},\"ternary\":{\"bgcolor\":\"#E5ECF6\",\"aaxis\":{\"gridcolor\":\"white\",\"linecolor\":\"white\",\"ticks\":\"\"},\"baxis\":{\"gridcolor\":\"white\",\"linecolor\":\"white\",\"ticks\":\"\"},\"caxis\":{\"gridcolor\":\"white\",\"linecolor\":\"white\",\"ticks\":\"\"}},\"coloraxis\":{\"colorbar\":{\"outlinewidth\":0,\"ticks\":\"\"}},\"colorscale\":{\"sequential\":[[0.0,\"#0d0887\"],[0.1111111111111111,\"#46039f\"],[0.2222222222222222,\"#7201a8\"],[0.3333333333333333,\"#9c179e\"],[0.4444444444444444,\"#bd3786\"],[0.5555555555555556,\"#d8576b\"],[0.6666666666666666,\"#ed7953\"],[0.7777777777777778,\"#fb9f3a\"],[0.8888888888888888,\"#fdca26\"],[1.0,\"#f0f921\"]],\"sequentialminus\":[[0.0,\"#0d0887\"],[0.1111111111111111,\"#46039f\"],[0.2222222222222222,\"#7201a8\"],[0.3333333333333333,\"#9c179e\"],[0.4444444444444444,\"#bd3786\"],[0.5555555555555556,\"#d8576b\"],[0.6666666666666666,\"#ed7953\"],[0.7777777777777778,\"#fb9f3a\"],[0.8888888888888888,\"#fdca26\"],[1.0,\"#f0f921\"]],\"diverging\":[[0,\"#8e0152\"],[0.1,\"#c51b7d\"],[0.2,\"#de77ae\"],[0.3,\"#f1b6da\"],[0.4,\"#fde0ef\"],[0.5,\"#f7f7f7\"],[0.6,\"#e6f5d0\"],[0.7,\"#b8e186\"],[0.8,\"#7fbc41\"],[0.9,\"#4d9221\"],[1,\"#276419\"]]},\"xaxis\":{\"gridcolor\":\"white\",\"linecolor\":\"white\",\"ticks\":\"\",\"title\":{\"standoff\":15},\"zerolinecolor\":\"white\",\"automargin\":true,\"zerolinewidth\":2},\"yaxis\":{\"gridcolor\":\"white\",\"linecolor\":\"white\",\"ticks\":\"\",\"title\":{\"standoff\":15},\"zerolinecolor\":\"white\",\"automargin\":true,\"zerolinewidth\":2},\"scene\":{\"xaxis\":{\"backgroundcolor\":\"#E5ECF6\",\"gridcolor\":\"white\",\"linecolor\":\"white\",\"showbackground\":true,\"ticks\":\"\",\"zerolinecolor\":\"white\",\"gridwidth\":2},\"yaxis\":{\"backgroundcolor\":\"#E5ECF6\",\"gridcolor\":\"white\",\"linecolor\":\"white\",\"showbackground\":true,\"ticks\":\"\",\"zerolinecolor\":\"white\",\"gridwidth\":2},\"zaxis\":{\"backgroundcolor\":\"#E5ECF6\",\"gridcolor\":\"white\",\"linecolor\":\"white\",\"showbackground\":true,\"ticks\":\"\",\"zerolinecolor\":\"white\",\"gridwidth\":2}},\"shapedefaults\":{\"line\":{\"color\":\"#2a3f5f\"}},\"annotationdefaults\":{\"arrowcolor\":\"#2a3f5f\",\"arrowhead\":0,\"arrowwidth\":1},\"geo\":{\"bgcolor\":\"white\",\"landcolor\":\"#E5ECF6\",\"subunitcolor\":\"white\",\"showland\":true,\"showlakes\":true,\"lakecolor\":\"white\"},\"title\":{\"x\":0.05},\"mapbox\":{\"style\":\"light\"}}},\"xaxis\":{\"anchor\":\"y\",\"domain\":[0.0,1.0],\"title\":{\"text\":\"InputSize\"}},\"yaxis\":{\"anchor\":\"x\",\"domain\":[0.0,1.0],\"title\":{\"text\":\"SearchTime\"}},\"legend\":{\"title\":{\"text\":\"Algorithm\"},\"tracegroupgap\":0},\"margin\":{\"t\":60},\"title\":{\"text\":\"Binary Search Complexity O(log n)\",\"x\":0.5}},                        {\"responsive\": true}                    ).then(function(){\n",
       "                            \n",
       "var gd = document.getElementById('5d392c48-bf74-4860-b4ab-d61a84bfeb09');\n",
       "var x = new MutationObserver(function (mutations, observer) {{\n",
       "        var display = window.getComputedStyle(gd).display;\n",
       "        if (!display || display === 'none') {{\n",
       "            console.log([gd, 'removed!']);\n",
       "            Plotly.purge(gd);\n",
       "            observer.disconnect();\n",
       "        }}\n",
       "}});\n",
       "\n",
       "// Listen for the removal of the full notebook cells\n",
       "var notebookContainer = gd.closest('#notebook-container');\n",
       "if (notebookContainer) {{\n",
       "    x.observe(notebookContainer, {childList: true});\n",
       "}}\n",
       "\n",
       "// Listen for the clearing of the current output cell\n",
       "var outputEl = gd.closest('.output');\n",
       "if (outputEl) {{\n",
       "    x.observe(outputEl, {childList: true});\n",
       "}}\n",
       "\n",
       "                        })                };                });            </script>        </div>"
      ]
     },
     "metadata": {},
     "output_type": "display_data"
    }
   ],
   "source": [
    "# Get Element by Linear Search\n",
    "import numpy as np\n",
    "\n",
    "temp = 10\n",
    "while temp<1000000:\n",
    "  ############### Create Array with Random Numbers #######\n",
    "    '''\n",
    "    #Set the size of the array\n",
    "    '''\n",
    "    temp = temp * 2\n",
    "    INPUT_SIZE = temp\n",
    "    arr = list(np.random.randint(low = 1,high=100000000,size=INPUT_SIZE))\n",
    "    arr = sorted(arr)\n",
    "    '''\n",
    "    #set the value that you want to search \n",
    "    [Example 1: for Best Case I want to search value of index 0]\n",
    "    [Example 2: for worst Case I want to search value of index \"Size of Array\"]\n",
    "    '''\n",
    "    val = arr[INPUT_SIZE-1]                                                    \n",
    "  ########################################################\n",
    "\n",
    "  ################ Binary Search Function ################\n",
    "    def BinarySearch(lys, val):\n",
    "        first = 0\n",
    "        last = len(lys)-1\n",
    "        index = -1\n",
    "        while (first <= last) and (index == -1):\n",
    "            mid = (first+last)//2\n",
    "            if lys[mid] == val:\n",
    "                index = mid\n",
    "            else:\n",
    "                if val<lys[mid]:\n",
    "                    last = mid -1\n",
    "                else:\n",
    "                    first = mid +1\n",
    "        return index\n",
    "  ########################################################\n",
    "\n",
    "\n",
    "\n",
    "  ############### Measure Time ###########################\n",
    "    import time\n",
    "    start_time = time.time()\n",
    "    res = BinarySearch(arr, val)\n",
    "    req_time = time.time() - start_time\n",
    "  ########################################################\n",
    "\n",
    "  ###### Insert Time & Input size for Line graph ########\n",
    "\n",
    "    df = df.append({'Algorithm':\"Binary Search\",'InputSize': INPUT_SIZE, 'SearchTime':req_time}, ignore_index=True)\n",
    "\n",
    "############## Plot Line Graph #########################\n",
    "import plotly.express as px\n",
    "# print(df)\n",
    "# fig = px.line(x=RECORDS_LINEAR[\"InputSize\"], y=RECORDS_LINEAR[\"SearchTime\"], labels=dict(x=\"Input Size\", y=\"Serach Time\"))\n",
    "fig = px.line(df, x=\"InputSize\", y=\"SearchTime\", color = 'Algorithm', labels=dict(x=\"Input Size\", y=\"Serach Time\"))\n",
    "\n",
    "fig.update_traces(mode='markers+lines')\n",
    "fig.update_layout(title_text='Binary Search Complexity O(log n)', title_x=0.5)\n",
    "fig.show()\n",
    "########################################################"
   ]
  },
  {
   "cell_type": "markdown",
   "metadata": {},
   "source": [
    "the two curves of the plot clearly highlight how one algorithm is more efficient than the other. Asymptotic analysis reveals details that the simple approach fails to highlight."
   ]
  },
  {
   "cell_type": "markdown",
   "metadata": {},
   "source": [
    "#### Suppose you have a list of the first 100 natural numbers, which is 1 to 100. Now, a number is removed from the list at random. Given the list, you have to find the missing number. "
   ]
  },
  {
   "cell_type": "code",
   "execution_count": 9,
   "metadata": {},
   "outputs": [],
   "source": [
    "# Approach 1\n",
    "\n",
    "def findMissing(num_list):\n",
    "    for i in range(len(num_list)):\n",
    "        if num_list[i]!=i+1:\n",
    "            return i+1\n",
    "    return 100"
   ]
  },
  {
   "cell_type": "code",
   "execution_count": 11,
   "metadata": {},
   "outputs": [
    {
     "name": "stdout",
     "output_type": "stream",
     "text": [
      "0.0\n"
     ]
    }
   ],
   "source": [
    "import time\n",
    "num_list = np.arange(1,100)\n",
    "start_time = time.time()\n",
    "res = findMissing(num_list)\n",
    "req_time = time.time() - start_time\n",
    "print(req_time)"
   ]
  },
  {
   "cell_type": "code",
   "execution_count": 12,
   "metadata": {},
   "outputs": [],
   "source": [
    "# Approach 2\n",
    "\n",
    "\n",
    "def findMissing(num_list):\n",
    "    return(100*101/2 - sum(num_list))"
   ]
  },
  {
   "cell_type": "code",
   "execution_count": 13,
   "metadata": {},
   "outputs": [
    {
     "name": "stdout",
     "output_type": "stream",
     "text": [
      "0.0\n"
     ]
    }
   ],
   "source": [
    "import time\n",
    "num_list = np.arange(1,100)\n",
    "start_time = time.time()\n",
    "res = findMissing(num_list)\n",
    "req_time = time.time() - start_time\n",
    "print(req_time)"
   ]
  },
  {
   "cell_type": "markdown",
   "metadata": {},
   "source": [
    "This algorithm subtracts the sum of the list from the sum of the first 100 natural numbers. This would give us the missing number. This is more efficient"
   ]
  },
  {
   "cell_type": "markdown",
   "metadata": {
    "id": "-uHXRJu_V9AD"
   },
   "source": [
    "# <font color=red> **Approach [Good vs Bad]** </font>\n",
    "\n",
    "\n"
   ]
  },
  {
   "cell_type": "markdown",
   "metadata": {},
   "source": [
    "- List comprehension being faster than appending items to a list.\n",
    "- Strings can be concatenated using the join method instead of adding characters to an empty string.\n",
    "- The map function can be used to apply an operation over a list."
   ]
  },
  {
   "cell_type": "markdown",
   "metadata": {
    "id": "xZq8SGNpVT2Y"
   },
   "source": [
    "# <font color=blue> **Use List Comprehension**\n",
    "**Because List comprehension is faster than append** </font>\n",
    "\n",
    "[**seconds** > **ms means miliseconds** > **us means microseconds** > **ns means nanoseconds**]"
   ]
  },
  {
   "cell_type": "markdown",
   "metadata": {
    "id": "-OpGbL6NcdT2"
   },
   "source": [
    "**Bad**"
   ]
  },
  {
   "cell_type": "code",
   "execution_count": null,
   "metadata": {
    "ExecuteTime": {
     "end_time": "2021-09-16T02:09:47.677351Z",
     "start_time": "2021-09-16T02:09:42.588265Z"
    },
    "id": "U9ad9D-6RRpc",
    "outputId": "6e984a38-3c89-438e-b9c9-9bd88f098c28"
   },
   "outputs": [
    {
     "name": "stdout",
     "output_type": "stream",
     "text": [
      "2.13 s ± 83.4 ms per loop (mean ± std. dev. of 7 runs, 1 loop each)\n"
     ]
    }
   ],
   "source": [
    "def odd(Number):\n",
    "    L = []\n",
    "    for i in range (1, Number+1):\n",
    "        if i%2 != 0:\n",
    "            L.append (i)\n",
    "    return L\n",
    "\n",
    "%timeit odd(9000000)"
   ]
  },
  {
   "cell_type": "markdown",
   "metadata": {
    "id": "W0tnle3Gcfkv"
   },
   "source": [
    "**Good**"
   ]
  },
  {
   "cell_type": "code",
   "execution_count": null,
   "metadata": {
    "ExecuteTime": {
     "end_time": "2021-09-16T02:09:50.963490Z",
     "start_time": "2021-09-16T02:09:47.679351Z"
    },
    "id": "3cvb86JmRRpc",
    "outputId": "541ceba3-ad3e-46ab-b70e-4654dbc405da"
   },
   "outputs": [
    {
     "name": "stdout",
     "output_type": "stream",
     "text": [
      "1.7 s ± 109 ms per loop (mean ± std. dev. of 7 runs, 1 loop each)\n"
     ]
    }
   ],
   "source": [
    "def odd(Number):\n",
    "    L = [i for i in range (1, Number+1) if i%2 != 0]\n",
    "    return L\n",
    "\n",
    "%timeit odd(9000000)"
   ]
  },
  {
   "cell_type": "markdown",
   "metadata": {
    "id": "cjSTkdaLYW7A"
   },
   "source": [
    "### **Concatenate strings with join method**\n",
    "**Because + operators produce a new string and then copy the old information at each step, join() concatenates strings more quickly than +.**"
   ]
  },
  {
   "cell_type": "markdown",
   "metadata": {
    "id": "_fQdkTbCciCA"
   },
   "source": [
    "**bad**"
   ]
  },
  {
   "cell_type": "code",
   "execution_count": null,
   "metadata": {
    "ExecuteTime": {
     "end_time": "2021-09-16T02:09:57.958214Z",
     "start_time": "2021-09-16T02:09:50.966469Z"
    },
    "id": "AmbATw09Yrqg",
    "outputId": "f63c5424-5856-4e9a-aa21-e838334bb75f"
   },
   "outputs": [
    {
     "name": "stdout",
     "output_type": "stream",
     "text": [
      "5.19 ms ± 734 µs per loop (mean ± std. dev. of 7 runs, 100 loops each)\n"
     ]
    }
   ],
   "source": [
    "def concat(lst):\n",
    "    concatenated = ''\n",
    "    for i in lst:\n",
    "        concatenated = concatenated + i\n",
    "\n",
    "lst = [\"A\"] * 10000\n",
    "\n",
    "%timeit concat(lst)"
   ]
  },
  {
   "cell_type": "markdown",
   "metadata": {
    "id": "QqKFAh57ckPx"
   },
   "source": [
    "**Good**"
   ]
  },
  {
   "cell_type": "code",
   "execution_count": null,
   "metadata": {
    "ExecuteTime": {
     "end_time": "2021-09-16T02:10:07.444179Z",
     "start_time": "2021-09-16T02:09:57.960196Z"
    },
    "id": "liEL2-T2ZRiA",
    "outputId": "128f6652-b4f3-46df-c023-e551ea111629"
   },
   "outputs": [
    {
     "name": "stdout",
     "output_type": "stream",
     "text": [
      "136 µs ± 6.14 µs per loop (mean ± std. dev. of 7 runs, 10000 loops each)\n"
     ]
    }
   ],
   "source": [
    "def concat(lst):\n",
    "  concatenated = \"\".join(lst)\n",
    "\n",
    "lst = [\"A\"] * 10000\n",
    "\n",
    "%timeit concat(lst)"
   ]
  },
  {
   "cell_type": "markdown",
   "metadata": {
    "id": "TPRsi0ZManuy"
   },
   "source": [
    "### **Use Map Function**\n",
    "**Using built-in map function will make operations faster, because it's written in C.**"
   ]
  },
  {
   "cell_type": "markdown",
   "metadata": {
    "id": "O4dYf-bAcnJK"
   },
   "source": [
    "**Bad**"
   ]
  },
  {
   "cell_type": "code",
   "execution_count": null,
   "metadata": {
    "ExecuteTime": {
     "end_time": "2021-09-16T02:10:11.706738Z",
     "start_time": "2021-09-16T02:10:07.449177Z"
    },
    "id": "Pfd9nbTdarBJ",
    "outputId": "7892f792-0394-48c3-d16d-09d9633856fc"
   },
   "outputs": [
    {
     "name": "stdout",
     "output_type": "stream",
     "text": [
      "9.56 µs ± 417 ns per loop (mean ± std. dev. of 7 runs, 100000 loops each)\n"
     ]
    }
   ],
   "source": [
    "def square(numbers):\n",
    "    lst = []\n",
    "    for i in numbers:\n",
    "        lst.append(i**2)\n",
    "    \n",
    "numbers = (1, 2, 3, 4, 5, 6, 7, 8, 9, 10)\n",
    "%timeit square(numbers)"
   ]
  },
  {
   "cell_type": "markdown",
   "metadata": {
    "id": "70fvyKgVcqYw"
   },
   "source": [
    "**Good**"
   ]
  },
  {
   "cell_type": "code",
   "execution_count": null,
   "metadata": {
    "ExecuteTime": {
     "end_time": "2021-09-16T02:10:14.662049Z",
     "start_time": "2021-09-16T02:10:11.708737Z"
    },
    "id": "c9H-w7Lwbv0p",
    "outputId": "35a48434-991f-4c50-9ec3-a072be38e809"
   },
   "outputs": [
    {
     "name": "stdout",
     "output_type": "stream",
     "text": [
      "531 ns ± 55.5 ns per loop (mean ± std. dev. of 7 runs, 1000000 loops each)\n"
     ]
    }
   ],
   "source": [
    "numbers = (1, 2, 3, 4, 5, 6, 7, 8, 9, 10)\n",
    "%timeit map(lambda x: x**2, numbers)"
   ]
  },
  {
   "cell_type": "markdown",
   "metadata": {
    "id": "narDrRfFocEO"
   },
   "source": [
    "# <font color=blue > **Time Complexity** </font>\n"
   ]
  },
  {
   "cell_type": "markdown",
   "metadata": {
    "id": "yQw74k0PutYF"
   },
   "source": [
    "\n",
    "**How do you Calculate the Time Complexity of an Algorithm?**\n",
    "\n",
    "While comparing algorithms, we usually compare their worst case scenarios. \n",
    "Big O notation is used to define the time complexity of an algorithm\n"
   ]
  },
  {
   "cell_type": "markdown",
   "metadata": {},
   "source": [
    "### Runtime of an algorithm depends on\n",
    "- Processor - Sinlge or multiprocessor\n",
    "- 32 or 64 bit architecture\n",
    "- Read and write speed of the machine\n",
    "- Time required to perform certain orpations(logical and arithmetic)\n",
    "- Return values and assignment\n",
    "- Input data"
   ]
  },
  {
   "cell_type": "markdown",
   "metadata": {},
   "source": [
    "### Loops\n",
    "\n",
    "- Sequential - Add sequential statements\n",
    "- Nested loop - Multiply nested statements"
   ]
  },
  {
   "cell_type": "markdown",
   "metadata": {},
   "source": [
    "```\n",
    "for i in range(n): # O(n)\n",
    "    for j in range(n): # O(n)\n",
    "        b[i][j] = a[i][j] # O(1)\n",
    "```\n",
    "        \n",
    "Time complexity = O(n) * O(n) * O(1) = O(n^2)"
   ]
  },
  {
   "cell_type": "markdown",
   "metadata": {},
   "source": [
    "### **Big O**\n",
    "* Big O notation is used to express an algorithm's upper bound in terms of Time Complexity.\n",
    "* As a result, Big O notation always reflects the algorithm's maximum duration for all input values.\n",
    "* As a result, Big O notation specifies the worst-case time complexity of an algorithm."
   ]
  },
  {
   "cell_type": "markdown",
   "metadata": {
    "id": "WesR_HwCm5Hi"
   },
   "source": [
    "Note : n in the below cases, indicates the size of the input"
   ]
  },
  {
   "cell_type": "markdown",
   "metadata": {
    "id": "C9RUbqThgXX8"
   },
   "source": [
    "# **Constant time – O(1)**\n",
    "\n",
    "\n",
    "**Example 1:**\n",
    "```\n",
    "print(x)                               // O(1)\n",
    "a = 10;                               // O(1)\n",
    "a = \"string\"                         // O(1)\n",
    "```\n",
    "**Example 2:**\n",
    "\n",
    "\n",
    "```\n",
    "a = input()                               // (1+1) = 2\n",
    "if a < 21 then start                      // 1\n",
    "      status = \"not allowed!\";            // 1\n",
    "end else start\n",
    "      status = \"Welcome!\";                // 1\n",
    "      visitor = visitor + 1;              // 1+1 = 2\n",
    "end;\n",
    "```\n",
    "**T(n) = 2 + 1 + max(1, 1+2) = 6 is the complexity of the given pseudo code. As a result, the big O remains constant T(n) = O(1).**\n",
    "\n",
    "\n",
    "\n"
   ]
  },
  {
   "cell_type": "markdown",
   "metadata": {
    "id": "QpEHfAOhxkJT"
   },
   "source": [
    "### **Program to check number is even or odd**\n",
    "Find the time complexity of given code"
   ]
  },
  {
   "cell_type": "code",
   "execution_count": 18,
   "metadata": {
    "id": "GSIDnb7XutYG"
   },
   "outputs": [
    {
     "name": "stdout",
     "output_type": "stream",
     "text": [
      "246 ns ± 31.9 ns per loop (mean ± std. dev. of 7 runs, 1000000 loops each)\n",
      "100.0\n"
     ]
    }
   ],
   "source": [
    "# Get Element by Index\n",
    "def Even_Odd(n):\n",
    "    if n%2==0:\n",
    "        return \"Even\"\n",
    "    else:\n",
    "        return \"Odd\"\n",
    "\n",
    "    \n",
    "%timeit res = Even_Odd(10)\n",
    "print(res)"
   ]
  },
  {
   "cell_type": "code",
   "execution_count": 19,
   "metadata": {},
   "outputs": [
    {
     "name": "stdout",
     "output_type": "stream",
     "text": [
      "273 ns ± 8.97 ns per loop (mean ± std. dev. of 7 runs, 1000000 loops each)\n",
      "100.0\n"
     ]
    }
   ],
   "source": [
    "%timeit res = Even_Odd(10**10)\n",
    "print(res)"
   ]
  },
  {
   "cell_type": "markdown",
   "metadata": {},
   "source": [
    "### operations are O(1)"
   ]
  },
  {
   "cell_type": "code",
   "execution_count": 20,
   "metadata": {},
   "outputs": [],
   "source": [
    "list = [1,2,3,4,5,5,6,3,3,2,1,1,2,23,3]"
   ]
  },
  {
   "cell_type": "code",
   "execution_count": 21,
   "metadata": {},
   "outputs": [
    {
     "name": "stdout",
     "output_type": "stream",
     "text": [
      "65.7 ns ± 5.5 ns per loop (mean ± std. dev. of 7 runs, 10000000 loops each)\n"
     ]
    }
   ],
   "source": [
    "%timeit len(list)"
   ]
  },
  {
   "cell_type": "code",
   "execution_count": 22,
   "metadata": {},
   "outputs": [
    {
     "name": "stdout",
     "output_type": "stream",
     "text": [
      "315 ns ± 41.5 ns per loop (mean ± std. dev. of 7 runs, 1000000 loops each)\n"
     ]
    }
   ],
   "source": [
    "%timeit max(list)"
   ]
  },
  {
   "cell_type": "code",
   "execution_count": 23,
   "metadata": {},
   "outputs": [
    {
     "name": "stdout",
     "output_type": "stream",
     "text": [
      "208 ns ± 12.6 ns per loop (mean ± std. dev. of 7 runs, 10000000 loops each)\n"
     ]
    }
   ],
   "source": [
    "%timeit sum(list)"
   ]
  },
  {
   "cell_type": "code",
   "execution_count": 24,
   "metadata": {},
   "outputs": [
    {
     "name": "stdout",
     "output_type": "stream",
     "text": [
      "87.2 ns ± 8.96 ns per loop (mean ± std. dev. of 7 runs, 10000000 loops each)\n"
     ]
    }
   ],
   "source": [
    "%timeit list.append(0)"
   ]
  },
  {
   "cell_type": "markdown",
   "metadata": {
    "id": "dCDYdxHWxM8K"
   },
   "source": [
    "#  **Linear time – O(n)**\n",
    "\n",
    "\n",
    "**Example 1:**\n",
    "\n",
    "\n",
    "```\n",
    "sum = 0;                                  // 1\n",
    "for i = 1 to n do begin                   // (1+1)*n = 2n\n",
    "      sum = sum + i;                      // (1+1)*n = 2n\n",
    "end;\n",
    "print(sum);                               // 1\n",
    "```\n",
    "**So, the complexity is T(n) = 1+4n+1 = 4n + 2. Thus, T(n) = O(n).**\n",
    "\n",
    "\n",
    "---"
   ]
  },
  {
   "cell_type": "code",
   "execution_count": 28,
   "metadata": {
    "ExecuteTime": {
     "end_time": "2021-09-16T02:10:14.708021Z",
     "start_time": "2021-09-16T02:10:14.695029Z"
    },
    "id": "YFCI-UMrwb9N"
   },
   "outputs": [
    {
     "name": "stdout",
     "output_type": "stream",
     "text": [
      "43.8 µs ± 1.55 µs per loop (mean ± std. dev. of 7 runs, 10000 loops each)\n",
      "100.0\n"
     ]
    }
   ],
   "source": [
    "def SumAll(N):\n",
    "    sum = 0\n",
    "    for i in range (1, N+1):\n",
    "        sum = sum + i\n",
    "    return sum\n",
    "\n",
    "val = 1000\n",
    "\n",
    "%timeit res = SumAll(val) \n",
    "print(res)"
   ]
  },
  {
   "cell_type": "markdown",
   "metadata": {},
   "source": [
    "This is a rather inefficient method of finding the sum of first n natural numbers. The reason, it being O(n) is we have to iterate n times to find the sum.\n",
    "\n",
    " "
   ]
  },
  {
   "cell_type": "code",
   "execution_count": 29,
   "metadata": {
    "ExecuteTime": {
     "end_time": "2021-09-16T02:10:14.739003Z",
     "start_time": "2021-09-16T02:10:14.714018Z"
    },
    "id": "2QBB1cL4Sa5m"
   },
   "outputs": [
    {
     "name": "stdout",
     "output_type": "stream",
     "text": [
      "221 ns ± 38.3 ns per loop (mean ± std. dev. of 7 runs, 10000000 loops each)\n",
      "100.0\n"
     ]
    }
   ],
   "source": [
    "def SumAll(N):\n",
    "    return N * (N+1)//2\n",
    "\n",
    "val = 1000\n",
    "%timeit res = SumAll(val) \n",
    "print(res)"
   ]
  },
  {
   "cell_type": "code",
   "execution_count": 35,
   "metadata": {},
   "outputs": [],
   "source": [
    "sentence = \"TAMAD ekfk dfk lmadl.\"\n",
    "def count_words_1(string):\n",
    "    for i in string:\n",
    "        count=1\n",
    "        if i=='':\n",
    "            count+=1\n",
    "        return count"
   ]
  },
  {
   "cell_type": "code",
   "execution_count": 36,
   "metadata": {},
   "outputs": [
    {
     "name": "stdout",
     "output_type": "stream",
     "text": [
      "183 ns ± 8.77 ns per loop (mean ± std. dev. of 7 runs, 10000000 loops each)\n"
     ]
    }
   ],
   "source": [
    "%timeit count_words_1(sentence)"
   ]
  },
  {
   "cell_type": "code",
   "execution_count": 33,
   "metadata": {},
   "outputs": [],
   "source": [
    "def count_words_2(string):\n",
    "    for i in string:\n",
    "        count=1\n",
    "        if i=='':\n",
    "            count+=1\n",
    "        return count"
   ]
  },
  {
   "cell_type": "code",
   "execution_count": 34,
   "metadata": {},
   "outputs": [
    {
     "name": "stdout",
     "output_type": "stream",
     "text": [
      "189 ns ± 25.1 ns per loop (mean ± std. dev. of 7 runs, 1000000 loops each)\n"
     ]
    }
   ],
   "source": [
    "%timeit count_words_2(sentence)"
   ]
  },
  {
   "cell_type": "markdown",
   "metadata": {
    "id": "UiOeSgAwxdfU"
   },
   "source": [
    "# **Quadratic time – O(n^2)**\n",
    "\n",
    "\n",
    "**Nested Loop (looping within looping): Because there is at least one looping inside the main looping, the statement's running time is used O(n^2) or O(n^3).**\n",
    "\n",
    "**Example 1**\n",
    "\n",
    "\n",
    "```\n",
    "for j in range(n):                          // (1+1)*n  = 2n\n",
    "   for k in range(n):                       // (1+1)n*n = 2n^2\n",
    "       x = x + 1;                           // (1+1)n*n = 2n^2\n",
    "       print(x);                            // (n*n)    = n^2\n",
    "   end;\n",
    "end;\n",
    "```\n",
    "\n",
    "**Example 2:**\n",
    "k = 3 means length of nested loop is 3\n",
    "\n",
    "\n",
    "```\n",
    "for i in range(n):\n",
    "  for j in range(n):\n",
    "    for k in range(n):\n",
    "      # some O(1) operation\n",
    "```\n",
    "the time complexity of the above code is O(n^k). Here k is 3. So the solution would be (n³).\n",
    "\n",
    "**Example 3**\n",
    "\n",
    "the following code consists of three phases with time complexities\n",
    "\n",
    "O ( n ), O ( n² ) and O ( n ). Thus, the total time complexity is O ( n² ).\n",
    "\n",
    "\n",
    "\n",
    "```\n",
    "  //Phase 1, time complexity is O(n)\n",
    "     for i in range(n):\n",
    "        #some code\n",
    "\n",
    "  //Phase 2 , time complexity is O(n²)\n",
    "     for j in range(n):\n",
    "          for k in range(n):\n",
    "              #some code\n",
    "\n",
    "  //Phase 3, time complexity is O(n)\n",
    "    for l in range(n):\n",
    "        #some code\n",
    "            \n",
    "```\n",
    "\n",
    "**How to combine time complexities of consecutive loops?**\n",
    "\n",
    "When there are multiple loops in a row, the time complexity is calculated as the sum of the time complexities of the individual loops.\n",
    "\n",
    "\n",
    "\n",
    "```\n",
    "   for i in range(m):\n",
    "        #some O(1) expressions\n",
    "   \n",
    "   for j in range(n):\n",
    "        #some O(1) expressions\n",
    "   \n",
    "   Time complexity of the code is O(m) + O(n) which is O(m+n)\n",
    "   If m == n, then time complexity will becomes O(2n) which is O(n).\n",
    "```\n",
    "\n",
    "\n",
    "\n",
    "\n",
    "\n",
    "\n",
    "<img src=\"https://he-s3.s3.amazonaws.com/media/uploads/873c255.png\">"
   ]
  },
  {
   "cell_type": "markdown",
   "metadata": {
    "id": "GrcuF5-8x6Uw"
   },
   "source": [
    "### <font color=green>  **Program to search element in 2D Array with linear search** </font>"
   ]
  },
  {
   "cell_type": "code",
   "execution_count": 38,
   "metadata": {
    "ExecuteTime": {
     "end_time": "2021-09-16T02:10:14.861934Z",
     "start_time": "2021-09-16T02:10:14.742002Z"
    },
    "id": "ZS0T02Q3xiYs"
   },
   "outputs": [
    {
     "name": "stdout",
     "output_type": "stream",
     "text": [
      "1.73 µs ± 120 ns per loop (mean ± std. dev. of 7 runs, 1000000 loops each)\n",
      "(2, 3)\n"
     ]
    }
   ],
   "source": [
    "# Linear Search in 2D Array\n",
    "def MatrixLinearSearch(arr, rows, columns, search):\n",
    "  for i in range(rows):\n",
    "      for j in range(columns):\n",
    "        if arr[i][j]==search:\n",
    "          return (i, j)\n",
    "\n",
    "# Input\n",
    "arr = [[5,12,17,9,3],[13,4,8,14,1],[9,6,3,7,21]]\n",
    "col = 5\n",
    "rows = 3\n",
    "search = 7\n",
    "%timeit res = MatrixLinearSearch(arr, rows,col, search)\n",
    "print(res)"
   ]
  },
  {
   "cell_type": "code",
   "execution_count": 42,
   "metadata": {},
   "outputs": [
    {
     "name": "stdout",
     "output_type": "stream",
     "text": [
      "1.77 s ± 236 ms per loop (mean ± std. dev. of 7 runs, 1 loop each)\n"
     ]
    }
   ],
   "source": [
    "n=1000\n",
    "\n",
    "import numpy as np\n",
    "search_element = n**2/2\n",
    "\n",
    "inp = np.arange(0,n**2).reshape((n,n))\n",
    "%timeit res = MatrixLinearSearch(inp, n,n, search_element)\n"
   ]
  },
  {
   "cell_type": "markdown",
   "metadata": {
    "id": "GCnnuYjQutYK"
   },
   "source": [
    "# **Other Orders**\n",
    "\n",
    "## <font color=blue> **$O(logn)$** </font>"
   ]
  },
  {
   "cell_type": "markdown",
   "metadata": {
    "id": "QvHHhmVvBg4N"
   },
   "source": [
    "O(log N) basically means time goes up linearly while the n goes up exponentially. So if it takes 1 second to \n",
    "compute 10 elements, it will take 2 seconds to compute 100 elements, 3 seconds to compute 1000 elements, and so on.\n",
    "\n",
    "It is O(log n) when we do divide and conquer type of algorithms e.g binary search. \n",
    "Another example is quick sort where each time we divide the array into two parts and \n",
    "each time it takes O(N) time to find a pivot element. Hence it N O(log N)\n",
    "\n",
    "Just in case somebody is missing it, in programming context, the base of log is 2 (not 10), so O(log n) scales like 1 sec for 10 elements, 2 sec for 20, 3 for 40 etc."
   ]
  },
  {
   "cell_type": "code",
   "execution_count": 46,
   "metadata": {
    "id": "IP6EsFMUutYK",
    "outputId": "2e2f9e2b-9910-4c02-bce9-bb3eb7ea3a3d",
    "scrolled": false
   },
   "outputs": [
    {
     "name": "stdout",
     "output_type": "stream",
     "text": [
      "118 ns ± 25.6 ns per loop (mean ± std. dev. of 7 runs, 10000 loops each)\n",
      "378 ns ± 40.4 ns per loop (mean ± std. dev. of 7 runs, 10000 loops each)\n",
      "421 ns ± 56.3 ns per loop (mean ± std. dev. of 7 runs, 10000 loops each)\n",
      "462 ns ± 45.9 ns per loop (mean ± std. dev. of 7 runs, 10000 loops each)\n",
      "570 ns ± 65.3 ns per loop (mean ± std. dev. of 7 runs, 10000 loops each)\n",
      "711 ns ± 91.9 ns per loop (mean ± std. dev. of 7 runs, 10000 loops each)\n",
      "678 ns ± 88.7 ns per loop (mean ± std. dev. of 7 runs, 10000 loops each)\n",
      "766 ns ± 73.1 ns per loop (mean ± std. dev. of 7 runs, 10000 loops each)\n",
      "810 ns ± 181 ns per loop (mean ± std. dev. of 7 runs, 10000 loops each)\n",
      "835 ns ± 51.3 ns per loop (mean ± std. dev. of 7 runs, 10000 loops each)\n",
      "900 ns ± 84.4 ns per loop (mean ± std. dev. of 7 runs, 10000 loops each)\n",
      "1.09 µs ± 89.9 ns per loop (mean ± std. dev. of 7 runs, 10000 loops each)\n",
      "1.1 µs ± 163 ns per loop (mean ± std. dev. of 7 runs, 10000 loops each)\n",
      "1.16 µs ± 99.3 ns per loop (mean ± std. dev. of 7 runs, 10000 loops each)\n",
      "1.4 µs ± 182 ns per loop (mean ± std. dev. of 7 runs, 10000 loops each)\n",
      "1.42 µs ± 171 ns per loop (mean ± std. dev. of 7 runs, 10000 loops each)\n",
      "1.44 µs ± 199 ns per loop (mean ± std. dev. of 7 runs, 10000 loops each)\n",
      "1.7 µs ± 264 ns per loop (mean ± std. dev. of 7 runs, 10000 loops each)\n",
      "1.81 µs ± 336 ns per loop (mean ± std. dev. of 7 runs, 10000 loops each)\n",
      "1.73 µs ± 241 ns per loop (mean ± std. dev. of 7 runs, 10000 loops each)\n",
      "1.89 µs ± 158 ns per loop (mean ± std. dev. of 7 runs, 10000 loops each)\n",
      "2.39 µs ± 283 ns per loop (mean ± std. dev. of 7 runs, 10000 loops each)\n",
      "2.65 µs ± 517 ns per loop (mean ± std. dev. of 7 runs, 10000 loops each)\n",
      "2.68 µs ± 320 ns per loop (mean ± std. dev. of 7 runs, 10000 loops each)\n",
      "3.29 µs ± 301 ns per loop (mean ± std. dev. of 7 runs, 10000 loops each)\n",
      "3.47 µs ± 417 ns per loop (mean ± std. dev. of 7 runs, 10000 loops each)\n",
      "3.72 µs ± 511 ns per loop (mean ± std. dev. of 7 runs, 10000 loops each)\n",
      "3.87 µs ± 379 ns per loop (mean ± std. dev. of 7 runs, 10000 loops each)\n",
      "4.74 µs ± 221 ns per loop (mean ± std. dev. of 7 runs, 10000 loops each)\n",
      "4.47 µs ± 369 ns per loop (mean ± std. dev. of 7 runs, 10000 loops each)\n"
     ]
    }
   ],
   "source": [
    "import math\n",
    "import time\n",
    "import matplotlib.pyplot as plt\n",
    "\n",
    "# the order is log(n) because the value of i increases geometrically\n",
    "def loop(n):\n",
    "    i = 1\n",
    "    while i<n:\n",
    "        i = i*10\n",
    "        \n",
    "run_times_lower = []\n",
    "run_times_upper = []\n",
    "num = []\n",
    "for i in range(30):\n",
    "    num.append(i)\n",
    "    time = %timeit -o -n 10000 loop(10**i)\n",
    "    run_times_lower.append(time.average - time.stdev)\n",
    "    run_times_upper.append(time.average + time.stdev)\n"
   ]
  },
  {
   "cell_type": "code",
   "execution_count": 47,
   "metadata": {
    "id": "sBFI_qubutYL",
    "outputId": "1517ca71-d7dd-47de-e55e-2607f9ec7c18"
   },
   "outputs": [
    {
     "data": {
      "text/plain": [
       "<matplotlib.collections.PolyCollection at 0x2062829ad30>"
      ]
     },
     "execution_count": 47,
     "metadata": {},
     "output_type": "execute_result"
    },
    {
     "data": {
      "image/png": "[encoded data removed]",
      "text/plain": [
       "<Figure size 432x288 with 1 Axes>"
      ]
     },
     "metadata": {
      "needs_background": "light"
     },
     "output_type": "display_data"
    }
   ],
   "source": [
    "plt.plot(run_times_lower)\n",
    "plt.plot(run_times_upper)\n",
    "plt.fill_between(num,run_times_lower, run_times_upper, color='pink',\n",
    "                 alpha=0.2)"
   ]
  },
  {
   "cell_type": "markdown",
   "metadata": {
    "id": "XOc1c7NPutYL"
   },
   "source": [
    "## <font color=blue> $O(2^n)$ </font>"
   ]
  },
  {
   "cell_type": "code",
   "execution_count": 48,
   "metadata": {
    "id": "Jf7ahzIKutYL",
    "outputId": "b44914e4-5e15-4d95-88c6-c93f9de0c595"
   },
   "outputs": [
    {
     "name": "stdout",
     "output_type": "stream",
     "text": [
      "126 ns ± 22.1 ns per loop (mean ± std. dev. of 7 runs, 10000 loops each)\n",
      "391 ns ± 34.5 ns per loop (mean ± std. dev. of 7 runs, 10000 loops each)\n",
      "1.14 µs ± 203 ns per loop (mean ± std. dev. of 7 runs, 10000 loops each)\n",
      "2.4 µs ± 293 ns per loop (mean ± std. dev. of 7 runs, 10000 loops each)\n",
      "3.75 µs ± 274 ns per loop (mean ± std. dev. of 7 runs, 10000 loops each)\n",
      "6.39 µs ± 635 ns per loop (mean ± std. dev. of 7 runs, 10000 loops each)\n",
      "10.7 µs ± 1.22 µs per loop (mean ± std. dev. of 7 runs, 10000 loops each)\n",
      "17.8 µs ± 758 ns per loop (mean ± std. dev. of 7 runs, 10000 loops each)\n",
      "33.3 µs ± 3.78 µs per loop (mean ± std. dev. of 7 runs, 10000 loops each)\n"
     ]
    }
   ],
   "source": [
    "#Use recursion\n",
    "def fibonacci(n):\n",
    "    if n==0 or n==1:\n",
    "        return 1\n",
    "    return(fibonacci(n-1)+fibonacci(n-2))\n",
    "\n",
    "run_times_lower = []\n",
    "run_times_upper = []\n",
    "num = []\n",
    "for i in range (1,10):\n",
    "    num.append(i)\n",
    "    time = %timeit -o -n 10000 fibonacci(i)\n",
    "    run_times_lower.append(time.average - time.stdev)\n",
    "    run_times_upper.append(time.average + time.stdev)"
   ]
  },
  {
   "cell_type": "code",
   "execution_count": 49,
   "metadata": {
    "id": "o_nCfOkQutYM",
    "outputId": "7fee0c59-97e7-4bdd-d4d8-3a9bc44ed62e"
   },
   "outputs": [
    {
     "data": {
      "text/plain": [
       "<matplotlib.collections.PolyCollection at 0x20628a3c1c0>"
      ]
     },
     "execution_count": 49,
     "metadata": {},
     "output_type": "execute_result"
    },
    {
     "data": {
      "image/png": "[encoded data removed]",
      "text/plain": [
       "<Figure size 432x288 with 1 Axes>"
      ]
     },
     "metadata": {
      "needs_background": "light"
     },
     "output_type": "display_data"
    }
   ],
   "source": [
    "import math\n",
    "import time\n",
    "import matplotlib.pyplot as plt\n",
    "\n",
    "plt.plot(num,run_times_lower)\n",
    "plt.plot(num,run_times_upper)\n",
    "plt.fill_between(num,run_times_lower, run_times_upper, color='pink',\n",
    "                 alpha=0.2)"
   ]
  },
  {
   "cell_type": "markdown",
   "metadata": {},
   "source": [
    "### Compare O(1) , O(n) and O(n^2)"
   ]
  },
  {
   "cell_type": "code",
   "execution_count": 43,
   "metadata": {
    "id": "KzYU2oyBBg4T"
   },
   "outputs": [],
   "source": [
    "def get_value(array):\n",
    "    return array[-1]\n",
    "\n",
    "def search_value(array):\n",
    "    for index, value in enumerate(array):\n",
    "      if index == len(array)-1:\n",
    "        return index\n",
    "\n",
    "def MatrixLinearSearch(arr):\n",
    "  arr = np.reshape(array, (-1, len(arr)))\n",
    "  rows, columns = arr.shape\n",
    "  for i in range(rows):\n",
    "      for j in range(columns):\n",
    "        if arr[i][j]==500:\n",
    "          return (i, j)\n"
   ]
  },
  {
   "cell_type": "code",
   "execution_count": 44,
   "metadata": {
    "id": "14G2S_fFBg4X",
    "outputId": "6a04b0e6-e5d6-4c34-8f84-8da81967ccbd"
   },
   "outputs": [],
   "source": [
    "import pandas as pd\n",
    "import time\n",
    "from numpy.random import randint\n",
    "import numpy as np\n",
    "\n",
    "\n",
    "DATA = pd.DataFrame()\n",
    "\n",
    "for array_size in range(1, 100000, 10000):\n",
    "  array = randint(0, 10, array_size)\n",
    "\n",
    "  # Big O(1)\n",
    "  start = time.time()\n",
    "  get_value(array)\n",
    "  end = time.time()\n",
    "  req_time = end - start\n",
    "  DATA = DATA.append({'Time Complexity':\"O(1)\",'InputSize': array_size, 'Time':req_time}, ignore_index=True)\n",
    "\n",
    "\n",
    "  # Big O(n)\n",
    "  start = time.time()\n",
    "  search_value(array)\n",
    "  end = time.time()\n",
    "  req_time = end - start\n",
    "  DATA = DATA.append({'Time Complexity':\"O(n)\",'InputSize': array_size, 'Time':req_time}, ignore_index=True)\n",
    "\n",
    "\n",
    "  # Big O(n^2)\n",
    "  start = time.time()\n",
    "  MatrixLinearSearch(array)\n",
    "  end = time.time()\n",
    "  req_time = end - start\n",
    "  DATA = DATA.append({'Time Complexity':\"O(n^2)\",'InputSize': array_size, 'Time':req_time}, ignore_index=True)\n",
    "\n"
   ]
  },
  {
   "cell_type": "code",
   "execution_count": 45,
   "metadata": {
    "id": "r8MyGt2rBg4Y"
   },
   "outputs": [
    {
     "name": "stdout",
     "output_type": "stream",
     "text": [
      "   Time Complexity  InputSize      Time\n",
      "0             O(1)        1.0  0.000000\n",
      "1             O(n)        1.0  0.001007\n",
      "2           O(n^2)        1.0  0.001389\n",
      "3             O(1)    10001.0  0.000000\n",
      "4             O(n)    10001.0  0.006593\n",
      "5           O(n^2)    10001.0  0.012159\n",
      "6             O(1)    20001.0  0.000000\n",
      "7             O(n)    20001.0  0.008997\n",
      "8           O(n^2)    20001.0  0.015489\n",
      "9             O(1)    30001.0  0.000000\n",
      "10            O(n)    30001.0  0.014004\n",
      "11          O(n^2)    30001.0  0.031405\n",
      "12            O(1)    40001.0  0.000000\n",
      "13            O(n)    40001.0  0.019712\n",
      "14          O(n^2)    40001.0  0.031324\n",
      "15            O(1)    50001.0  0.000000\n",
      "16            O(n)    50001.0  0.022548\n",
      "17          O(n^2)    50001.0  0.041743\n",
      "18            O(1)    60001.0  0.000000\n",
      "19            O(n)    60001.0  0.026731\n",
      "20          O(n^2)    60001.0  0.049785\n",
      "21            O(1)    70001.0  0.000000\n",
      "22            O(n)    70001.0  0.034571\n",
      "23          O(n^2)    70001.0  0.061106\n",
      "24            O(1)    80001.0  0.000000\n",
      "25            O(n)    80001.0  0.037272\n",
      "26          O(n^2)    80001.0  0.075157\n",
      "27            O(1)    90001.0  0.000000\n",
      "28            O(n)    90001.0  0.040552\n",
      "29          O(n^2)    90001.0  0.091884\n"
     ]
    },
    {
     "data": {
      "application/vnd.plotly.v1+json": {
       "config": {
        "plotlyServerURL": "https://plot.ly"
       },
       "data": [
        {
         "hovertemplate": "Time Complexity=O(1)<br>InputSize=%{x}<br>Time=%{y}<extra></extra>",
         "legendgroup": "O(1)",
         "line": {
          "color": "#636efa",
          "dash": "solid"
         },
         "marker": {
          "symbol": "circle"
         },
         "mode": "markers+lines",
         "name": "O(1)",
         "orientation": "v",
         "showlegend": true,
         "type": "scatter",
         "x": [
          1,
          10001,
          20001,
          30001,
          40001,
          50001,
          60001,
          70001,
          80001,
          90001
         ],
         "xaxis": "x",
         "y": [
          0,
          0,
          0,
          0,
          0,
          0,
          0,
          0,
          0,
          0
         ],
         "yaxis": "y"
        },
        {
         "hovertemplate": "Time Complexity=O(n)<br>InputSize=%{x}<br>Time=%{y}<extra></extra>",
         "legendgroup": "O(n)",
         "line": {
          "color": "#EF553B",
          "dash": "solid"
         },
         "marker": {
          "symbol": "circle"
         },
         "mode": "markers+lines",
         "name": "O(n)",
         "orientation": "v",
         "showlegend": true,
         "type": "scatter",
         "x": [
          1,
          10001,
          20001,
          30001,
          40001,
          50001,
          60001,
          70001,
          80001,
          90001
         ],
         "xaxis": "x",
         "y": [
          0.0010066032409667969,
          0.006592750549316406,
          0.008997201919555664,
          0.014003753662109375,
          0.019712448120117188,
          0.02254796028137207,
          0.026731014251708984,
          0.034570932388305664,
          0.037271976470947266,
          0.04055190086364746
         ],
         "yaxis": "y"
        },
        {
         "hovertemplate": "Time Complexity=O(n^2)<br>InputSize=%{x}<br>Time=%{y}<extra></extra>",
         "legendgroup": "O(n^2)",
         "line": {
          "color": "#00cc96",
          "dash": "solid"
         },
         "marker": {
          "symbol": "circle"
         },
         "mode": "markers+lines",
         "name": "O(n^2)",
         "orientation": "v",
         "showlegend": true,
         "type": "scatter",
         "x": [
          1,
          10001,
          20001,
          30001,
          40001,
          50001,
          60001,
          70001,
          80001,
          90001
         ],
         "xaxis": "x",
         "y": [
          0.0013887882232666016,
          0.012159347534179688,
          0.015488624572753906,
          0.031404972076416016,
          0.031323909759521484,
          0.041742801666259766,
          0.04978489875793457,
          0.061105966567993164,
          0.07515692710876465,
          0.09188413619995117
         ],
         "yaxis": "y"
        }
       ],
       "layout": {
        "legend": {
         "title": {
          "text": "Time Complexity"
         },
         "tracegroupgap": 0
        },
        "margin": {
         "t": 60
        },
        "template": {
         "data": {
          "bar": [
           {
            "error_x": {
             "color": "#2a3f5f"
            },
            "error_y": {
             "color": "#2a3f5f"
            },
            "marker": {
             "line": {
              "color": "#E5ECF6",
              "width": 0.5
             },
             "pattern": {
              "fillmode": "overlay",
              "size": 10,
              "solidity": 0.2
             }
            },
            "type": "bar"
           }
          ],
          "barpolar": [
           {
            "marker": {
             "line": {
              "color": "#E5ECF6",
              "width": 0.5
             },
             "pattern": {
              "fillmode": "overlay",
              "size": 10,
              "solidity": 0.2
             }
            },
            "type": "barpolar"
           }
          ],
          "carpet": [
           {
            "aaxis": {
             "endlinecolor": "#2a3f5f",
             "gridcolor": "white",
             "linecolor": "white",
             "minorgridcolor": "white",
             "startlinecolor": "#2a3f5f"
            },
            "baxis": {
             "endlinecolor": "#2a3f5f",
             "gridcolor": "white",
             "linecolor": "white",
             "minorgridcolor": "white",
             "startlinecolor": "#2a3f5f"
            },
            "type": "carpet"
           }
          ],
          "choropleth": [
           {
            "colorbar": {
             "outlinewidth": 0,
             "ticks": ""
            },
            "type": "choropleth"
           }
          ],
          "contour": [
           {
            "colorbar": {
             "outlinewidth": 0,
             "ticks": ""
            },
            "colorscale": [
             [
              0,
              "#0d0887"
             ],
             [
              0.1111111111111111,
              "#46039f"
             ],
             [
              0.2222222222222222,
              "#7201a8"
             ],
             [
              0.3333333333333333,
              "#9c179e"
             ],
             [
              0.4444444444444444,
              "#bd3786"
             ],
             [
              0.5555555555555556,
              "#d8576b"
             ],
             [
              0.6666666666666666,
              "#ed7953"
             ],
             [
              0.7777777777777778,
              "#fb9f3a"
             ],
             [
              0.8888888888888888,
              "#fdca26"
             ],
             [
              1,
              "#f0f921"
             ]
            ],
            "type": "contour"
           }
          ],
          "contourcarpet": [
           {
            "colorbar": {
             "outlinewidth": 0,
             "ticks": ""
            },
            "type": "contourcarpet"
           }
          ],
          "heatmap": [
           {
            "colorbar": {
             "outlinewidth": 0,
             "ticks": ""
            },
            "colorscale": [
             [
              0,
              "#0d0887"
             ],
             [
              0.1111111111111111,
              "#46039f"
             ],
             [
              0.2222222222222222,
              "#7201a8"
             ],
             [
              0.3333333333333333,
              "#9c179e"
             ],
             [
              0.4444444444444444,
              "#bd3786"
             ],
             [
              0.5555555555555556,
              "#d8576b"
             ],
             [
              0.6666666666666666,
              "#ed7953"
             ],
             [
              0.7777777777777778,
              "#fb9f3a"
             ],
             [
              0.8888888888888888,
              "#fdca26"
             ],
             [
              1,
              "#f0f921"
             ]
            ],
            "type": "heatmap"
           }
          ],
          "heatmapgl": [
           {
            "colorbar": {
             "outlinewidth": 0,
             "ticks": ""
            },
            "colorscale": [
             [
              0,
              "#0d0887"
             ],
             [
              0.1111111111111111,
              "#46039f"
             ],
             [
              0.2222222222222222,
              "#7201a8"
             ],
             [
              0.3333333333333333,
              "#9c179e"
             ],
             [
              0.4444444444444444,
              "#bd3786"
             ],
             [
              0.5555555555555556,
              "#d8576b"
             ],
             [
              0.6666666666666666,
              "#ed7953"
             ],
             [
              0.7777777777777778,
              "#fb9f3a"
             ],
             [
              0.8888888888888888,
              "#fdca26"
             ],
             [
              1,
              "#f0f921"
             ]
            ],
            "type": "heatmapgl"
           }
          ],
          "histogram": [
           {
            "marker": {
             "pattern": {
              "fillmode": "overlay",
              "size": 10,
              "solidity": 0.2
             }
            },
            "type": "histogram"
           }
          ],
          "histogram2d": [
           {
            "colorbar": {
             "outlinewidth": 0,
             "ticks": ""
            },
            "colorscale": [
             [
              0,
              "#0d0887"
             ],
             [
              0.1111111111111111,
              "#46039f"
             ],
             [
              0.2222222222222222,
              "#7201a8"
             ],
             [
              0.3333333333333333,
              "#9c179e"
             ],
             [
              0.4444444444444444,
              "#bd3786"
             ],
             [
              0.5555555555555556,
              "#d8576b"
             ],
             [
              0.6666666666666666,
              "#ed7953"
             ],
             [
              0.7777777777777778,
              "#fb9f3a"
             ],
             [
              0.8888888888888888,
              "#fdca26"
             ],
             [
              1,
              "#f0f921"
             ]
            ],
            "type": "histogram2d"
           }
          ],
          "histogram2dcontour": [
           {
            "colorbar": {
             "outlinewidth": 0,
             "ticks": ""
            },
            "colorscale": [
             [
              0,
              "#0d0887"
             ],
             [
              0.1111111111111111,
              "#46039f"
             ],
             [
              0.2222222222222222,
              "#7201a8"
             ],
             [
              0.3333333333333333,
              "#9c179e"
             ],
             [
              0.4444444444444444,
              "#bd3786"
             ],
             [
              0.5555555555555556,
              "#d8576b"
             ],
             [
              0.6666666666666666,
              "#ed7953"
             ],
             [
              0.7777777777777778,
              "#fb9f3a"
             ],
             [
              0.8888888888888888,
              "#fdca26"
             ],
             [
              1,
              "#f0f921"
             ]
            ],
            "type": "histogram2dcontour"
           }
          ],
          "mesh3d": [
           {
            "colorbar": {
             "outlinewidth": 0,
             "ticks": ""
            },
            "type": "mesh3d"
           }
          ],
          "parcoords": [
           {
            "line": {
             "colorbar": {
              "outlinewidth": 0,
              "ticks": ""
             }
            },
            "type": "parcoords"
           }
          ],
          "pie": [
           {
            "automargin": true,
            "type": "pie"
           }
          ],
          "scatter": [
           {
            "fillpattern": {
             "fillmode": "overlay",
             "size": 10,
             "solidity": 0.2
            },
            "type": "scatter"
           }
          ],
          "scatter3d": [
           {
            "line": {
             "colorbar": {
              "outlinewidth": 0,
              "ticks": ""
             }
            },
            "marker": {
             "colorbar": {
              "outlinewidth": 0,
              "ticks": ""
             }
            },
            "type": "scatter3d"
           }
          ],
          "scattercarpet": [
           {
            "marker": {
             "colorbar": {
              "outlinewidth": 0,
              "ticks": ""
             }
            },
            "type": "scattercarpet"
           }
          ],
          "scattergeo": [
           {
            "marker": {
             "colorbar": {
              "outlinewidth": 0,
              "ticks": ""
             }
            },
            "type": "scattergeo"
           }
          ],
          "scattergl": [
           {
            "marker": {
             "colorbar": {
              "outlinewidth": 0,
              "ticks": ""
             }
            },
            "type": "scattergl"
           }
          ],
          "scattermapbox": [
           {
            "marker": {
             "colorbar": {
              "outlinewidth": 0,
              "ticks": ""
             }
            },
            "type": "scattermapbox"
           }
          ],
          "scatterpolar": [
           {
            "marker": {
             "colorbar": {
              "outlinewidth": 0,
              "ticks": ""
             }
            },
            "type": "scatterpolar"
           }
          ],
          "scatterpolargl": [
           {
            "marker": {
             "colorbar": {
              "outlinewidth": 0,
              "ticks": ""
             }
            },
            "type": "scatterpolargl"
           }
          ],
          "scatterternary": [
           {
            "marker": {
             "colorbar": {
              "outlinewidth": 0,
              "ticks": ""
             }
            },
            "type": "scatterternary"
           }
          ],
          "surface": [
           {
            "colorbar": {
             "outlinewidth": 0,
             "ticks": ""
            },
            "colorscale": [
             [
              0,
              "#0d0887"
             ],
             [
              0.1111111111111111,
              "#46039f"
             ],
             [
              0.2222222222222222,
              "#7201a8"
             ],
             [
              0.3333333333333333,
              "#9c179e"
             ],
             [
              0.4444444444444444,
              "#bd3786"
             ],
             [
              0.5555555555555556,
              "#d8576b"
             ],
             [
              0.6666666666666666,
              "#ed7953"
             ],
             [
              0.7777777777777778,
              "#fb9f3a"
             ],
             [
              0.8888888888888888,
              "#fdca26"
             ],
             [
              1,
              "#f0f921"
             ]
            ],
            "type": "surface"
           }
          ],
          "table": [
           {
            "cells": {
             "fill": {
              "color": "#EBF0F8"
             },
             "line": {
              "color": "white"
             }
            },
            "header": {
             "fill": {
              "color": "#C8D4E3"
             },
             "line": {
              "color": "white"
             }
            },
            "type": "table"
           }
          ]
         },
         "layout": {
          "annotationdefaults": {
           "arrowcolor": "#2a3f5f",
           "arrowhead": 0,
           "arrowwidth": 1
          },
          "autotypenumbers": "strict",
          "coloraxis": {
           "colorbar": {
            "outlinewidth": 0,
            "ticks": ""
           }
          },
          "colorscale": {
           "diverging": [
            [
             0,
             "#8e0152"
            ],
            [
             0.1,
             "#c51b7d"
            ],
            [
             0.2,
             "#de77ae"
            ],
            [
             0.3,
             "#f1b6da"
            ],
            [
             0.4,
             "#fde0ef"
            ],
            [
             0.5,
             "#f7f7f7"
            ],
            [
             0.6,
             "#e6f5d0"
            ],
            [
             0.7,
             "#b8e186"
            ],
            [
             0.8,
             "#7fbc41"
            ],
            [
             0.9,
             "#4d9221"
            ],
            [
             1,
             "#276419"
            ]
           ],
           "sequential": [
            [
             0,
             "#0d0887"
            ],
            [
             0.1111111111111111,
             "#46039f"
            ],
            [
             0.2222222222222222,
             "#7201a8"
            ],
            [
             0.3333333333333333,
             "#9c179e"
            ],
            [
             0.4444444444444444,
             "#bd3786"
            ],
            [
             0.5555555555555556,
             "#d8576b"
            ],
            [
             0.6666666666666666,
             "#ed7953"
            ],
            [
             0.7777777777777778,
             "#fb9f3a"
            ],
            [
             0.8888888888888888,
             "#fdca26"
            ],
            [
             1,
             "#f0f921"
            ]
           ],
           "sequentialminus": [
            [
             0,
             "#0d0887"
            ],
            [
             0.1111111111111111,
             "#46039f"
            ],
            [
             0.2222222222222222,
             "#7201a8"
            ],
            [
             0.3333333333333333,
             "#9c179e"
            ],
            [
             0.4444444444444444,
             "#bd3786"
            ],
            [
             0.5555555555555556,
             "#d8576b"
            ],
            [
             0.6666666666666666,
             "#ed7953"
            ],
            [
             0.7777777777777778,
             "#fb9f3a"
            ],
            [
             0.8888888888888888,
             "#fdca26"
            ],
            [
             1,
             "#f0f921"
            ]
           ]
          },
          "colorway": [
           "#636efa",
           "#EF553B",
           "#00cc96",
           "#ab63fa",
           "#FFA15A",
           "#19d3f3",
           "#FF6692",
           "#B6E880",
           "#FF97FF",
           "#FECB52"
          ],
          "font": {
           "color": "#2a3f5f"
          },
          "geo": {
           "bgcolor": "white",
           "lakecolor": "white",
           "landcolor": "#E5ECF6",
           "showlakes": true,
           "showland": true,
           "subunitcolor": "white"
          },
          "hoverlabel": {
           "align": "left"
          },
          "hovermode": "closest",
          "mapbox": {
           "style": "light"
          },
          "paper_bgcolor": "white",
          "plot_bgcolor": "#E5ECF6",
          "polar": {
           "angularaxis": {
            "gridcolor": "white",
            "linecolor": "white",
            "ticks": ""
           },
           "bgcolor": "#E5ECF6",
           "radialaxis": {
            "gridcolor": "white",
            "linecolor": "white",
            "ticks": ""
           }
          },
          "scene": {
           "xaxis": {
            "backgroundcolor": "#E5ECF6",
            "gridcolor": "white",
            "gridwidth": 2,
            "linecolor": "white",
            "showbackground": true,
            "ticks": "",
            "zerolinecolor": "white"
           },
           "yaxis": {
            "backgroundcolor": "#E5ECF6",
            "gridcolor": "white",
            "gridwidth": 2,
            "linecolor": "white",
            "showbackground": true,
            "ticks": "",
            "zerolinecolor": "white"
           },
           "zaxis": {
            "backgroundcolor": "#E5ECF6",
            "gridcolor": "white",
            "gridwidth": 2,
            "linecolor": "white",
            "showbackground": true,
            "ticks": "",
            "zerolinecolor": "white"
           }
          },
          "shapedefaults": {
           "line": {
            "color": "#2a3f5f"
           }
          },
          "ternary": {
           "aaxis": {
            "gridcolor": "white",
            "linecolor": "white",
            "ticks": ""
           },
           "baxis": {
            "gridcolor": "white",
            "linecolor": "white",
            "ticks": ""
           },
           "bgcolor": "#E5ECF6",
           "caxis": {
            "gridcolor": "white",
            "linecolor": "white",
            "ticks": ""
           }
          },
          "title": {
           "x": 0.05
          },
          "xaxis": {
           "automargin": true,
           "gridcolor": "white",
           "linecolor": "white",
           "ticks": "",
           "title": {
            "standoff": 15
           },
           "zerolinecolor": "white",
           "zerolinewidth": 2
          },
          "yaxis": {
           "automargin": true,
           "gridcolor": "white",
           "linecolor": "white",
           "ticks": "",
           "title": {
            "standoff": 15
           },
           "zerolinecolor": "white",
           "zerolinewidth": 2
          }
         }
        },
        "title": {
         "text": "Time Complexity",
         "x": 0.5
        },
        "xaxis": {
         "anchor": "y",
         "domain": [
          0,
          1
         ],
         "title": {
          "text": "InputSize"
         }
        },
        "yaxis": {
         "anchor": "x",
         "domain": [
          0,
          1
         ],
         "title": {
          "text": "Time"
         }
        }
       }
      },
      "text/html": [
       "<div>                            <div id=\"fcbf7b22-70d8-401e-9312-af1357f5f9fa\" class=\"plotly-graph-div\" style=\"height:525px; width:100%;\"></div>            <script type=\"text/javascript\">                require([\"plotly\"], function(Plotly) {                    window.PLOTLYENV=window.PLOTLYENV || {};                                    if (document.getElementById(\"fcbf7b22-70d8-401e-9312-af1357f5f9fa\")) {                    Plotly.newPlot(                        \"fcbf7b22-70d8-401e-9312-af1357f5f9fa\",                        [{\"hovertemplate\":\"Time Complexity=O(1)<br>InputSize=%{x}<br>Time=%{y}<extra></extra>\",\"legendgroup\":\"O(1)\",\"line\":{\"color\":\"#636efa\",\"dash\":\"solid\"},\"marker\":{\"symbol\":\"circle\"},\"mode\":\"markers+lines\",\"name\":\"O(1)\",\"orientation\":\"v\",\"showlegend\":true,\"x\":[1.0,10001.0,20001.0,30001.0,40001.0,50001.0,60001.0,70001.0,80001.0,90001.0],\"xaxis\":\"x\",\"y\":[0.0,0.0,0.0,0.0,0.0,0.0,0.0,0.0,0.0,0.0],\"yaxis\":\"y\",\"type\":\"scatter\"},{\"hovertemplate\":\"Time Complexity=O(n)<br>InputSize=%{x}<br>Time=%{y}<extra></extra>\",\"legendgroup\":\"O(n)\",\"line\":{\"color\":\"#EF553B\",\"dash\":\"solid\"},\"marker\":{\"symbol\":\"circle\"},\"mode\":\"markers+lines\",\"name\":\"O(n)\",\"orientation\":\"v\",\"showlegend\":true,\"x\":[1.0,10001.0,20001.0,30001.0,40001.0,50001.0,60001.0,70001.0,80001.0,90001.0],\"xaxis\":\"x\",\"y\":[0.0010066032409667969,0.006592750549316406,0.008997201919555664,0.014003753662109375,0.019712448120117188,0.02254796028137207,0.026731014251708984,0.034570932388305664,0.037271976470947266,0.04055190086364746],\"yaxis\":\"y\",\"type\":\"scatter\"},{\"hovertemplate\":\"Time Complexity=O(n^2)<br>InputSize=%{x}<br>Time=%{y}<extra></extra>\",\"legendgroup\":\"O(n^2)\",\"line\":{\"color\":\"#00cc96\",\"dash\":\"solid\"},\"marker\":{\"symbol\":\"circle\"},\"mode\":\"markers+lines\",\"name\":\"O(n^2)\",\"orientation\":\"v\",\"showlegend\":true,\"x\":[1.0,10001.0,20001.0,30001.0,40001.0,50001.0,60001.0,70001.0,80001.0,90001.0],\"xaxis\":\"x\",\"y\":[0.0013887882232666016,0.012159347534179688,0.015488624572753906,0.031404972076416016,0.031323909759521484,0.041742801666259766,0.04978489875793457,0.061105966567993164,0.07515692710876465,0.09188413619995117],\"yaxis\":\"y\",\"type\":\"scatter\"}],                        {\"template\":{\"data\":{\"histogram2dcontour\":[{\"type\":\"histogram2dcontour\",\"colorbar\":{\"outlinewidth\":0,\"ticks\":\"\"},\"colorscale\":[[0.0,\"#0d0887\"],[0.1111111111111111,\"#46039f\"],[0.2222222222222222,\"#7201a8\"],[0.3333333333333333,\"#9c179e\"],[0.4444444444444444,\"#bd3786\"],[0.5555555555555556,\"#d8576b\"],[0.6666666666666666,\"#ed7953\"],[0.7777777777777778,\"#fb9f3a\"],[0.8888888888888888,\"#fdca26\"],[1.0,\"#f0f921\"]]}],\"choropleth\":[{\"type\":\"choropleth\",\"colorbar\":{\"outlinewidth\":0,\"ticks\":\"\"}}],\"histogram2d\":[{\"type\":\"histogram2d\",\"colorbar\":{\"outlinewidth\":0,\"ticks\":\"\"},\"colorscale\":[[0.0,\"#0d0887\"],[0.1111111111111111,\"#46039f\"],[0.2222222222222222,\"#7201a8\"],[0.3333333333333333,\"#9c179e\"],[0.4444444444444444,\"#bd3786\"],[0.5555555555555556,\"#d8576b\"],[0.6666666666666666,\"#ed7953\"],[0.7777777777777778,\"#fb9f3a\"],[0.8888888888888888,\"#fdca26\"],[1.0,\"#f0f921\"]]}],\"heatmap\":[{\"type\":\"heatmap\",\"colorbar\":{\"outlinewidth\":0,\"ticks\":\"\"},\"colorscale\":[[0.0,\"#0d0887\"],[0.1111111111111111,\"#46039f\"],[0.2222222222222222,\"#7201a8\"],[0.3333333333333333,\"#9c179e\"],[0.4444444444444444,\"#bd3786\"],[0.5555555555555556,\"#d8576b\"],[0.6666666666666666,\"#ed7953\"],[0.7777777777777778,\"#fb9f3a\"],[0.8888888888888888,\"#fdca26\"],[1.0,\"#f0f921\"]]}],\"heatmapgl\":[{\"type\":\"heatmapgl\",\"colorbar\":{\"outlinewidth\":0,\"ticks\":\"\"},\"colorscale\":[[0.0,\"#0d0887\"],[0.1111111111111111,\"#46039f\"],[0.2222222222222222,\"#7201a8\"],[0.3333333333333333,\"#9c179e\"],[0.4444444444444444,\"#bd3786\"],[0.5555555555555556,\"#d8576b\"],[0.6666666666666666,\"#ed7953\"],[0.7777777777777778,\"#fb9f3a\"],[0.8888888888888888,\"#fdca26\"],[1.0,\"#f0f921\"]]}],\"contourcarpet\":[{\"type\":\"contourcarpet\",\"colorbar\":{\"outlinewidth\":0,\"ticks\":\"\"}}],\"contour\":[{\"type\":\"contour\",\"colorbar\":{\"outlinewidth\":0,\"ticks\":\"\"},\"colorscale\":[[0.0,\"#0d0887\"],[0.1111111111111111,\"#46039f\"],[0.2222222222222222,\"#7201a8\"],[0.3333333333333333,\"#9c179e\"],[0.4444444444444444,\"#bd3786\"],[0.5555555555555556,\"#d8576b\"],[0.6666666666666666,\"#ed7953\"],[0.7777777777777778,\"#fb9f3a\"],[0.8888888888888888,\"#fdca26\"],[1.0,\"#f0f921\"]]}],\"surface\":[{\"type\":\"surface\",\"colorbar\":{\"outlinewidth\":0,\"ticks\":\"\"},\"colorscale\":[[0.0,\"#0d0887\"],[0.1111111111111111,\"#46039f\"],[0.2222222222222222,\"#7201a8\"],[0.3333333333333333,\"#9c179e\"],[0.4444444444444444,\"#bd3786\"],[0.5555555555555556,\"#d8576b\"],[0.6666666666666666,\"#ed7953\"],[0.7777777777777778,\"#fb9f3a\"],[0.8888888888888888,\"#fdca26\"],[1.0,\"#f0f921\"]]}],\"mesh3d\":[{\"type\":\"mesh3d\",\"colorbar\":{\"outlinewidth\":0,\"ticks\":\"\"}}],\"scatter\":[{\"fillpattern\":{\"fillmode\":\"overlay\",\"size\":10,\"solidity\":0.2},\"type\":\"scatter\"}],\"parcoords\":[{\"type\":\"parcoords\",\"line\":{\"colorbar\":{\"outlinewidth\":0,\"ticks\":\"\"}}}],\"scatterpolargl\":[{\"type\":\"scatterpolargl\",\"marker\":{\"colorbar\":{\"outlinewidth\":0,\"ticks\":\"\"}}}],\"bar\":[{\"error_x\":{\"color\":\"#2a3f5f\"},\"error_y\":{\"color\":\"#2a3f5f\"},\"marker\":{\"line\":{\"color\":\"#E5ECF6\",\"width\":0.5},\"pattern\":{\"fillmode\":\"overlay\",\"size\":10,\"solidity\":0.2}},\"type\":\"bar\"}],\"scattergeo\":[{\"type\":\"scattergeo\",\"marker\":{\"colorbar\":{\"outlinewidth\":0,\"ticks\":\"\"}}}],\"scatterpolar\":[{\"type\":\"scatterpolar\",\"marker\":{\"colorbar\":{\"outlinewidth\":0,\"ticks\":\"\"}}}],\"histogram\":[{\"marker\":{\"pattern\":{\"fillmode\":\"overlay\",\"size\":10,\"solidity\":0.2}},\"type\":\"histogram\"}],\"scattergl\":[{\"type\":\"scattergl\",\"marker\":{\"colorbar\":{\"outlinewidth\":0,\"ticks\":\"\"}}}],\"scatter3d\":[{\"type\":\"scatter3d\",\"line\":{\"colorbar\":{\"outlinewidth\":0,\"ticks\":\"\"}},\"marker\":{\"colorbar\":{\"outlinewidth\":0,\"ticks\":\"\"}}}],\"scattermapbox\":[{\"type\":\"scattermapbox\",\"marker\":{\"colorbar\":{\"outlinewidth\":0,\"ticks\":\"\"}}}],\"scatterternary\":[{\"type\":\"scatterternary\",\"marker\":{\"colorbar\":{\"outlinewidth\":0,\"ticks\":\"\"}}}],\"scattercarpet\":[{\"type\":\"scattercarpet\",\"marker\":{\"colorbar\":{\"outlinewidth\":0,\"ticks\":\"\"}}}],\"carpet\":[{\"aaxis\":{\"endlinecolor\":\"#2a3f5f\",\"gridcolor\":\"white\",\"linecolor\":\"white\",\"minorgridcolor\":\"white\",\"startlinecolor\":\"#2a3f5f\"},\"baxis\":{\"endlinecolor\":\"#2a3f5f\",\"gridcolor\":\"white\",\"linecolor\":\"white\",\"minorgridcolor\":\"white\",\"startlinecolor\":\"#2a3f5f\"},\"type\":\"carpet\"}],\"table\":[{\"cells\":{\"fill\":{\"color\":\"#EBF0F8\"},\"line\":{\"color\":\"white\"}},\"header\":{\"fill\":{\"color\":\"#C8D4E3\"},\"line\":{\"color\":\"white\"}},\"type\":\"table\"}],\"barpolar\":[{\"marker\":{\"line\":{\"color\":\"#E5ECF6\",\"width\":0.5},\"pattern\":{\"fillmode\":\"overlay\",\"size\":10,\"solidity\":0.2}},\"type\":\"barpolar\"}],\"pie\":[{\"automargin\":true,\"type\":\"pie\"}]},\"layout\":{\"autotypenumbers\":\"strict\",\"colorway\":[\"#636efa\",\"#EF553B\",\"#00cc96\",\"#ab63fa\",\"#FFA15A\",\"#19d3f3\",\"#FF6692\",\"#B6E880\",\"#FF97FF\",\"#FECB52\"],\"font\":{\"color\":\"#2a3f5f\"},\"hovermode\":\"closest\",\"hoverlabel\":{\"align\":\"left\"},\"paper_bgcolor\":\"white\",\"plot_bgcolor\":\"#E5ECF6\",\"polar\":{\"bgcolor\":\"#E5ECF6\",\"angularaxis\":{\"gridcolor\":\"white\",\"linecolor\":\"white\",\"ticks\":\"\"},\"radialaxis\":{\"gridcolor\":\"white\",\"linecolor\":\"white\",\"ticks\":\"\"}},\"ternary\":{\"bgcolor\":\"#E5ECF6\",\"aaxis\":{\"gridcolor\":\"white\",\"linecolor\":\"white\",\"ticks\":\"\"},\"baxis\":{\"gridcolor\":\"white\",\"linecolor\":\"white\",\"ticks\":\"\"},\"caxis\":{\"gridcolor\":\"white\",\"linecolor\":\"white\",\"ticks\":\"\"}},\"coloraxis\":{\"colorbar\":{\"outlinewidth\":0,\"ticks\":\"\"}},\"colorscale\":{\"sequential\":[[0.0,\"#0d0887\"],[0.1111111111111111,\"#46039f\"],[0.2222222222222222,\"#7201a8\"],[0.3333333333333333,\"#9c179e\"],[0.4444444444444444,\"#bd3786\"],[0.5555555555555556,\"#d8576b\"],[0.6666666666666666,\"#ed7953\"],[0.7777777777777778,\"#fb9f3a\"],[0.8888888888888888,\"#fdca26\"],[1.0,\"#f0f921\"]],\"sequentialminus\":[[0.0,\"#0d0887\"],[0.1111111111111111,\"#46039f\"],[0.2222222222222222,\"#7201a8\"],[0.3333333333333333,\"#9c179e\"],[0.4444444444444444,\"#bd3786\"],[0.5555555555555556,\"#d8576b\"],[0.6666666666666666,\"#ed7953\"],[0.7777777777777778,\"#fb9f3a\"],[0.8888888888888888,\"#fdca26\"],[1.0,\"#f0f921\"]],\"diverging\":[[0,\"#8e0152\"],[0.1,\"#c51b7d\"],[0.2,\"#de77ae\"],[0.3,\"#f1b6da\"],[0.4,\"#fde0ef\"],[0.5,\"#f7f7f7\"],[0.6,\"#e6f5d0\"],[0.7,\"#b8e186\"],[0.8,\"#7fbc41\"],[0.9,\"#4d9221\"],[1,\"#276419\"]]},\"xaxis\":{\"gridcolor\":\"white\",\"linecolor\":\"white\",\"ticks\":\"\",\"title\":{\"standoff\":15},\"zerolinecolor\":\"white\",\"automargin\":true,\"zerolinewidth\":2},\"yaxis\":{\"gridcolor\":\"white\",\"linecolor\":\"white\",\"ticks\":\"\",\"title\":{\"standoff\":15},\"zerolinecolor\":\"white\",\"automargin\":true,\"zerolinewidth\":2},\"scene\":{\"xaxis\":{\"backgroundcolor\":\"#E5ECF6\",\"gridcolor\":\"white\",\"linecolor\":\"white\",\"showbackground\":true,\"ticks\":\"\",\"zerolinecolor\":\"white\",\"gridwidth\":2},\"yaxis\":{\"backgroundcolor\":\"#E5ECF6\",\"gridcolor\":\"white\",\"linecolor\":\"white\",\"showbackground\":true,\"ticks\":\"\",\"zerolinecolor\":\"white\",\"gridwidth\":2},\"zaxis\":{\"backgroundcolor\":\"#E5ECF6\",\"gridcolor\":\"white\",\"linecolor\":\"white\",\"showbackground\":true,\"ticks\":\"\",\"zerolinecolor\":\"white\",\"gridwidth\":2}},\"shapedefaults\":{\"line\":{\"color\":\"#2a3f5f\"}},\"annotationdefaults\":{\"arrowcolor\":\"#2a3f5f\",\"arrowhead\":0,\"arrowwidth\":1},\"geo\":{\"bgcolor\":\"white\",\"landcolor\":\"#E5ECF6\",\"subunitcolor\":\"white\",\"showland\":true,\"showlakes\":true,\"lakecolor\":\"white\"},\"title\":{\"x\":0.05},\"mapbox\":{\"style\":\"light\"}}},\"xaxis\":{\"anchor\":\"y\",\"domain\":[0.0,1.0],\"title\":{\"text\":\"InputSize\"}},\"yaxis\":{\"anchor\":\"x\",\"domain\":[0.0,1.0],\"title\":{\"text\":\"Time\"}},\"legend\":{\"title\":{\"text\":\"Time Complexity\"},\"tracegroupgap\":0},\"margin\":{\"t\":60},\"title\":{\"text\":\"Time Complexity\",\"x\":0.5}},                        {\"responsive\": true}                    ).then(function(){\n",
       "                            \n",
       "var gd = document.getElementById('fcbf7b22-70d8-401e-9312-af1357f5f9fa');\n",
       "var x = new MutationObserver(function (mutations, observer) {{\n",
       "        var display = window.getComputedStyle(gd).display;\n",
       "        if (!display || display === 'none') {{\n",
       "            console.log([gd, 'removed!']);\n",
       "            Plotly.purge(gd);\n",
       "            observer.disconnect();\n",
       "        }}\n",
       "}});\n",
       "\n",
       "// Listen for the removal of the full notebook cells\n",
       "var notebookContainer = gd.closest('#notebook-container');\n",
       "if (notebookContainer) {{\n",
       "    x.observe(notebookContainer, {childList: true});\n",
       "}}\n",
       "\n",
       "// Listen for the clearing of the current output cell\n",
       "var outputEl = gd.closest('.output');\n",
       "if (outputEl) {{\n",
       "    x.observe(outputEl, {childList: true});\n",
       "}}\n",
       "\n",
       "                        })                };                });            </script>        </div>"
      ]
     },
     "metadata": {},
     "output_type": "display_data"
    }
   ],
   "source": [
    "print(DATA)\n",
    "############## Plot Line Graph #########################\n",
    "import plotly.express as px\n",
    "# print(df)\n",
    "# fig = px.line(x=RECORDS_LINEAR[\"InputSize\"], y=RECORDS_LINEAR[\"SearchTime\"], labels=dict(x=\"Input Size\", y=\"Serach Time\"))\n",
    "fig = px.line(DATA, x=\"InputSize\", y=\"Time\", color = 'Time Complexity', labels=dict(x=\"Input Size\", y=\"Time\"))\n",
    "\n",
    "fig.update_traces(mode='markers+lines')\n",
    "fig.update_layout(title_text='Time Complexity', title_x=0.5)\n",
    "fig.show()\n",
    "# fig.show(renderer='colab')\n",
    "########################################################"
   ]
  },
  {
   "cell_type": "markdown",
   "metadata": {
    "id": "bjt2gVMBzgnY"
   },
   "source": [
    "### **In the below table you can see computation required for different input size**"
   ]
  },
  {
   "cell_type": "markdown",
   "metadata": {
    "id": "lsyXNIgmrXyU"
   },
   "source": [
    "<img src=\"https://dz2cdn1.dzone.com/storage/temp/5068673-screen-shot-2017-04-24-at-21022-pm.png\">"
   ]
  },
  {
   "cell_type": "markdown",
   "metadata": {
    "id": "P_iS308LcP9F"
   },
   "source": [
    "# <font color=blue> **Space Complexity** </font>\n",
    "---\n",
    "<font color=\"red\">Consider a basic python procedure that adds two integers to get you started (numbers without a fractional part):</font>\n",
    "\n",
    "\n",
    "```\n",
    "def sum(a,b):\n",
    "  return a+b\n",
    "\n",
    "#In this particular method, three variables are used and allocated in memory:\n",
    "\n",
    "#the first int argument, a\n",
    "#the second int argument, b\n",
    "#and the returned sum result which is also an int like a and b\n",
    "```\n",
    "In this example, we have three integer variables. this procedure requires 12 bytes of memory (3*4 bytes).\n",
    "\n",
    "We can see that the space complexity is constant, hence it can be written as **O(1) in big-O notation**.\n",
    "\n",
    "\n",
    "---\n",
    "\n",
    "\n",
    "\n",
    "\n",
    "<font color=\"red\">Now, let’s determine the space complexity of an program that sums all integer in an array:</font>\n",
    "\n",
    "\n",
    "```\n",
    "def sum_of(array):\n",
    "  n = len(array)\n",
    "  sum = 0\n",
    "\n",
    "  for i in range(n):\n",
    "    sum = sum + array[i]\n",
    "\n",
    "  return sum\n",
    "```\n",
    "**Explanation:**\n",
    "\n",
    "In the above-given code, the array consists n integer. So, the space required by the array is 4 * n. \n",
    "\n",
    "There are also integer variables like n, i and sum. The total space occupied by the programme is 4n + 12 bytes, assuming each variable is 4 bytes. The space complexity is n because the largest order of n in the equation 4n + 12 is **O(n) or linear**..\n",
    "\n",
    "\n",
    "\n",
    "\n",
    "---\n",
    "\n",
    "\n",
    "\n",
    "\n"
   ]
  },
  {
   "cell_type": "markdown",
   "metadata": {
    "id": "XbOeJ_F59cR9"
   },
   "source": [
    "## **Good vs Bad Approach For Space Complexities**"
   ]
  },
  {
   "cell_type": "markdown",
   "metadata": {
    "id": "4QLEK_ys9qQR"
   },
   "source": [
    "**Looping over**\n",
    "\n",
    "range is better than [list, set, dict, str] as a iterable, because range function take constant space for any range as shown below."
   ]
  },
  {
   "cell_type": "markdown",
   "metadata": {
    "id": "UQK4CZ2-CBff"
   },
   "source": [
    "**Bad**"
   ]
  },
  {
   "cell_type": "code",
   "execution_count": 50,
   "metadata": {
    "ExecuteTime": {
     "end_time": "2021-09-16T02:10:14.892917Z",
     "start_time": "2021-09-16T02:10:14.879923Z"
    },
    "colab": {
     "base_uri": "https://localhost:8080/"
    },
    "id": "4zUaVKcRCKlA",
    "outputId": "cdc614da-154b-47ba-f064-b998092f1573"
   },
   "outputs": [
    {
     "name": "stdout",
     "output_type": "stream",
     "text": [
      "58\n",
      "112\n",
      "152\n",
      "728\n",
      "232\n"
     ]
    }
   ],
   "source": [
    "import sys\n",
    "   \n",
    "b=sys.getsizeof('123456789')\n",
    "print(b)\n",
    "  \n",
    "c=sys.getsizeof((1,2,3,4,5,6,7,8,9))\n",
    "print(c)\n",
    "   \n",
    "d=sys.getsizeof([1,2,3,4,5,6,7,8,9])\n",
    "print(d)\n",
    "   \n",
    "e=sys.getsizeof({1,2,3,4,5,6,7,8,9})\n",
    "print(e)\n",
    "   \n",
    "f=sys.getsizeof({1:'a',2:'b',3:'c',4:'d'})\n",
    "print(f)"
   ]
  },
  {
   "cell_type": "markdown",
   "metadata": {
    "id": "ILMM_FE2Eg8W"
   },
   "source": [
    "**Good**\n",
    "\n",
    "using range we can create iterable with constant space complexity"
   ]
  },
  {
   "cell_type": "code",
   "execution_count": 51,
   "metadata": {
    "ExecuteTime": {
     "end_time": "2021-09-16T02:10:14.922898Z",
     "start_time": "2021-09-16T02:10:14.895914Z"
    },
    "colab": {
     "base_uri": "https://localhost:8080/"
    },
    "id": "ADL55U2u9lfb",
    "outputId": "34770afc-6038-4e08-b0b9-9b0e490bea40"
   },
   "outputs": [
    {
     "name": "stdout",
     "output_type": "stream",
     "text": [
      "48\n"
     ]
    }
   ],
   "source": [
    "# To iterate over 10 elements it will take \n",
    "import sys\n",
    "a=sys.getsizeof(range(10)) \n",
    "print(a)"
   ]
  },
  {
   "cell_type": "code",
   "execution_count": 52,
   "metadata": {
    "ExecuteTime": {
     "end_time": "2021-09-16T02:10:14.938890Z",
     "start_time": "2021-09-16T02:10:14.925897Z"
    },
    "colab": {
     "base_uri": "https://localhost:8080/"
    },
    "id": "KIiaTZuPABXQ",
    "outputId": "2edbbb31-eb0a-469b-b459-cce2ba39f491"
   },
   "outputs": [
    {
     "name": "stdout",
     "output_type": "stream",
     "text": [
      "48\n"
     ]
    }
   ],
   "source": [
    "# To iterate over 100000 elements it will take same space\n",
    "import sys\n",
    "a=sys.getsizeof(range(100000)) \n",
    "print(a)"
   ]
  },
  {
   "cell_type": "markdown",
   "metadata": {},
   "source": [
    "An important observation to be made is that dict occupies the most amount of space. However, this is to be expected, given that dict is the most time-efficient data structure of all the other data structures for operations, such as searching, sorting, adding and deleting.\n",
    "\n",
    " "
   ]
  },
  {
   "cell_type": "markdown",
   "metadata": {
    "id": "Mtv2IurdhY8G"
   },
   "source": [
    "# **Summary**\n",
    "Finally, we discussed the spatial and temporal complexity considerations. We now know that maximising the algorithm's space and time complexity is impossible. Those variables should be adjusted based on our needs and the surroundings."
   ]
  },
  {
   "cell_type": "markdown",
   "metadata": {},
   "source": [
    "# Mathematical induction"
   ]
  },
  {
   "cell_type": "markdown",
   "metadata": {},
   "source": [
    "1. Prove that a statement holds true for n=1\n",
    "2.  Prove that a statement holds true for n=k\n",
    "3.  Prove that a statement holds true for n=k+1"
   ]
  },
  {
   "cell_type": "markdown",
   "metadata": {},
   "source": [
    "- Prove that P(1) is true.\n",
    "- Assume that P(n) is true for n = k-1.\n",
    "- Prove that P(n) is true for n = k."
   ]
  },
  {
   "cell_type": "markdown",
   "metadata": {},
   "source": [
    "Here, k is a natural number. P(1) indicates the proof, that is, whether the left-hand side expression equates to that on the right-hand side. \n",
    "The logic behind the proof of mathematical induction is that we know that if P(k-1) is true, then P(k) is true. Since k can be any natural number, this can be extended for P(k+1), P(k+2) and so on.\n",
    "So, to prove that P(n) is true for any n, we need to prove that it is true for one natural number, which we call the 'Base case'.\n",
    "\n",
    " \n",
    "\n",
    "We usually choose this base case to be for n=1."
   ]
  },
  {
   "cell_type": "markdown",
   "metadata": {},
   "source": [
    "Mathematical problems are solved by induction and implemented by recursion."
   ]
  },
  {
   "cell_type": "markdown",
   "metadata": {
    "id": "gWEImrNOTKd5"
   },
   "source": [
    "**Proof By Induction:**\n",
    "\n",
    "Sum of first N odd numbers\n",
    "> ∑(2i – 1) = n^2 where i varies from 1 to n\n",
    "\n",
    "\n",
    "<font color=\"red\">**We may use the odd number theorem to get the sum of the first n odd numbers, which asserts that the sum of the first n odd numbers equals the square of n.**</font>\n",
    "\n",
    "**Example 1**:\n",
    "\n",
    "* Basis: The proposition P(1) is true.\n",
    "\n",
    "* Inductive Step:\n",
    "P(n) --> P(n+1), is true for all p\n",
    "\n",
    "If n equals 10, the sum of the first ten odd numbers is 1 + 3 + 5 + 7 + 9 + 11 + 13 + 15 + 17 + 19 = 100.\n",
    "If the odd number theorem is applied, the sum of the first ten odd numbers equals n * n = 10 * 10 = 100.\n",
    "The following is how the above strategy is put into action: \n"
   ]
  },
  {
   "cell_type": "markdown",
   "metadata": {
    "id": "x-nE_kaYGYuP"
   },
   "source": [
    "\n",
    "**How does it work?**\n",
    "\n",
    "We can prove it using mathematical induction. We know it is true for n = 1 and n = 2 as sums are 1 and 4 (1 + 3) respectively.\n",
    "\n",
    "\n",
    "```\n",
    "Let it be true for n = k-1.\n",
    "\n",
    "Sum of first k odd numbers = \n",
    "  Sumation of first k-1 odd numbers + k'th odd number\n",
    "= (k-1)^2 + (2k - 1)\n",
    "= (k^2 - 2k + 1) + (2k - 1)\n",
    "= k^2\n",
    "```\n",
    "\n"
   ]
  },
  {
   "cell_type": "markdown",
   "metadata": {
    "id": "Q3lrz1T0G-aC"
   },
   "source": [
    "**Example 2**: \n",
    "\n",
    "**Proof by induction: Show that 9^n−2^n for any n natural number is divisible by 7.**\n",
    "```\n",
    "Let f(k)=9^k−2^k where k∈N.\n",
    "\n",
    "Base Case: f(1)=9−2=7=7(1).\n",
    "\n",
    "Inductive Hypothesis: Assume f(k) is divisible by 7 for some natural number k.\n",
    "\n",
    "f(k+1)=9^k+1−2^k+1=9⋅9^k−2⋅2^k.\n",
    "\n",
    "Inductive step: f(k+1)−2f(k)=7⋅9^k=7⋅9^k. So f(k+1)=7⋅9^k+2f(k).\n",
    "\n",
    "Recall: f(k) was assumed to be divisible by 7 for the inductive hypothesis. So we are done since f(k+1) is the sum of two things divisible by 7.\n",
    "```\n",
    "\n"
   ]
  },
  {
   "cell_type": "markdown",
   "metadata": {
    "id": "ZrrMZcb117ju"
   },
   "source": [
    "# <font color=red>  **Recursion** </font>\n",
    "\n",
    "### The connection between recursion and induction\n",
    "Eariler, you saw how to solve the problem of sum of the first 'n' odd natural numbers = n^2. Now let us look at how to calculate the sum of first 'n' odd natural numbers."
   ]
  },
  {
   "cell_type": "code",
   "execution_count": 56,
   "metadata": {
    "ExecuteTime": {
     "end_time": "2021-09-16T02:10:14.954879Z",
     "start_time": "2021-09-16T02:10:14.942887Z"
    },
    "colab": {
     "base_uri": "https://localhost:8080/"
    },
    "id": "B9Sy3jldGNeS",
    "outputId": "9d0eef2b-ea25-4380-9f70-0d54867da192"
   },
   "outputs": [
    {
     "name": "stdout",
     "output_type": "stream",
     "text": [
      " Sum of first 10 Odd Numbers is:  100\n"
     ]
    }
   ],
   "source": [
    "# Python3 program to find sum\n",
    "# of first n odd numbers\n",
    "\n",
    "def oddSum(n) :\n",
    "    \n",
    "    # Base case =>We know oddSum(1) = 1\n",
    "    if n==1:\n",
    "        return 1\n",
    "    \n",
    "    # Recursive step\n",
    "    # nth odd number = 2n-1\n",
    "    # We know oddSum(n) = oddSum(n-1)+ nth odd number\n",
    "    return (2*n-1)+oddSum(n-1)\n",
    "\n",
    "\n",
    "n = 10\n",
    "print (\" Sum of first\" , n, \"Odd Numbers is: \",oddSum(n) )"
   ]
  },
  {
   "cell_type": "markdown",
   "metadata": {},
   "source": [
    "There are two types of recursions, which are as follows:\n",
    "\n",
    "- Direct recursion: Function A() calls itself.\n",
    "- Indirect recursion: Function A() calls Function B(), which in return calls Function A()"
   ]
  },
  {
   "cell_type": "code",
   "execution_count": 57,
   "metadata": {},
   "outputs": [
    {
     "data": {
      "text/plain": [
       "120"
      ]
     },
     "execution_count": 57,
     "metadata": {},
     "output_type": "execute_result"
    }
   ],
   "source": [
    "# factorial\n",
    "def factorial(n):\n",
    "    if n==1:\n",
    "        return n\n",
    "    return n*factorial(n-1)\n",
    "\n",
    "factorial(5)\n",
    "\n",
    "# factorial(5) = 5 *factorial(4)\n",
    "# factorial(5) = 5 * 4 *factorial(3)\n",
    "# factorial(5) = 5 * 4 * 3 *factorial(2)\n",
    "# factorial(5) = 5 * 4 * 3 * 2* factorial(1)\n",
    "# factorial(5) = 5 * 4 * 3 * 2* 1"
   ]
  },
  {
   "cell_type": "markdown",
   "metadata": {
    "id": "fJSbxIxiGW2n"
   },
   "source": [
    "## **Use of Recursion**\n",
    "Recursion works best with what I like to call **\"fractal problems\"**, where you're dealing with a big thing that's made of smaller versions of that big thing, each of which is an even smaller version of the big thing, and so on. If you ever have to traverse or search through something like a tree or nested identical structures, you've got a problem that might be a good candidate for recursion.\n"
   ]
  },
  {
   "cell_type": "markdown",
   "metadata": {
    "id": "jKoG3C0DNCyf"
   },
   "source": [
    "To make our task easier and more practical, we break down a problem into smaller subproblems.\n",
    "\n",
    "<font color=\"blue\">The application of recursion is vital in computer science</font>\n",
    "\n",
    "* This is the foundation of AI. The NP problem cannot be solved in general, although it can be addressed to a certain extent (not totally) using recursion by limiting the depth of recursion.\n",
    "* Without recursion, the most important data structure, the Tree, does not exist. We can solve this in an iterative manner as well, but it will be a difficult effort.\n",
    "* Recursion is used in many well-known sorting algorithms (Quick sort, Merge sort, and so on).\n",
    "* Recursion is used extensively in all puzzle games (Chess, Candy Crush, and so on). Recursion has a plethora of applications these days since it is the backbone of searching, which is the most important thing.\n",
    "\n",
    "\n",
    "Recursion is a special form of iteration **in programming**, in which the call stack is used as a special mechanism of storing state. Any recursive algorithm can be rewritten to be iterative. It may be more difficult or less elegant, but the result is the same.\n",
    "\n",
    "There are various problems **in mathematics** that require recursive strategies to solve - for example, finding roots (Newton's Method), computing primes, graph optimization, and so on. However, even here, the distinction between the terms \"iteration\" and \"recursion\" is merely a matter of semantics."
   ]
  },
  {
   "cell_type": "markdown",
   "metadata": {
    "id": "oUidcVDeSaVw"
   },
   "source": [
    "## <font color=\"red\">Fibonacci Series</font>\n",
    "Fibonacci series = 1,1,2,3,5,8,13...\n",
    "\n",
    "It is defined by\n",
    "- f(n) = f(n-1) + f(n-2) for n>2 where n is a natural number\n",
    "- f(2) = 1\n",
    "- f(1) = 1\n",
    "\n",
    "\n",
    "## <font color=\"red\">Fibonacci Series using Recursion</font>\n",
    "\n",
    "For a given value of 'n' print the first 'n' fibonacci number using recursion\n"
   ]
  },
  {
   "cell_type": "code",
   "execution_count": 1,
   "metadata": {
    "ExecuteTime": {
     "end_time": "2021-09-16T02:12:08.514201Z",
     "start_time": "2021-09-16T02:10:14.956878Z"
    },
    "colab": {
     "base_uri": "https://localhost:8080/"
    },
    "id": "5EMg7rDwT_hG",
    "outputId": "3b51ceb6-2578-470b-a963-451d122205a6"
   },
   "outputs": [
    {
     "name": "stdout",
     "output_type": "stream",
     "text": [
      "Enter a number, N, N>=2 : 100\n",
      "318 ns ± 12.3 ns per loop (mean ± std. dev. of 7 runs, 1000000 loops each)\n"
     ]
    }
   ],
   "source": [
    "fibo_series = [0, 1]\n",
    "\n",
    "def fibonacci(n):\n",
    "    if n<=len(fibo_series) and n>0:\n",
    "        return fibo_series[n-1]\n",
    "    else:\n",
    "        fn = fibonacci(n-1) + fibonacci(n-2)\n",
    "        if n>len(fibo_series):\n",
    "            fibo_series.append(fn)\n",
    "        return fn\n",
    "\n",
    "n = int(input('Enter a number, N, N>=2 : '))\n",
    "\n",
    "# import time\n",
    "# start_time = time.time()\n",
    "%timeit fibonacci(n)"
   ]
  },
  {
   "cell_type": "markdown",
   "metadata": {
    "id": "Slun7n2FWPhC"
   },
   "source": [
    "## <font color=\"red\">Fibonacci Series using Loop</font>\n",
    "For a given value of 'n' print the first 'n' fibonacci number using iteration\n"
   ]
  },
  {
   "cell_type": "code",
   "execution_count": 60,
   "metadata": {
    "ExecuteTime": {
     "end_time": "2021-09-16T02:12:08.520200Z",
     "start_time": "2021-09-16T02:12:08.520200Z"
    },
    "id": "1XAr6sZ_VK79"
   },
   "outputs": [
    {
     "name": "stdout",
     "output_type": "stream",
     "text": [
      "Enter a number, N, N>=2 : 100\n",
      "18.1 µs ± 1.11 µs per loop (mean ± std. dev. of 7 runs, 100000 loops each)\n"
     ]
    }
   ],
   "source": [
    "n = int(input('Enter a number, N, N>=2 : '))\n",
    "\n",
    "def fib(n):\n",
    "  num = 0\n",
    "  num1 = 0\n",
    "  num2 = 1\n",
    "  count = 0\n",
    "  result = []\n",
    "  while (count<n):\n",
    "      result.append(num1)\n",
    "      num = num1 +num2\n",
    "      num1 = num2\n",
    "      num2 = num\n",
    "      count +=1\n",
    "  return result\n",
    "\n",
    "\n",
    "# import time\n",
    "# start_time = time.time()\n",
    "%timeit result = fib(n)\n",
    "# req_time = time.time() - start_time\n",
    "\n",
    "# print(\"Time:\",req_time, \"\\n\", result)"
   ]
  },
  {
   "cell_type": "markdown",
   "metadata": {},
   "source": [
    "Recursive solution is faster"
   ]
  },
  {
   "cell_type": "code",
   "execution_count": 62,
   "metadata": {
    "id": "xmQE91y1Bg4v"
   },
   "outputs": [
    {
     "name": "stdout",
     "output_type": "stream",
     "text": [
      "The gcd of 60 and 48 is : 12000\n",
      "Wall time: 0 ns\n"
     ]
    }
   ],
   "source": [
    "%%time\n",
    "def GCD(a,b):\n",
    "    if(b==0):\n",
    "        return a\n",
    "    else:\n",
    "        return GCD(b,a%b)\n",
    "\n",
    "a = 60000\n",
    "b = 48000\n",
    "\n",
    "print (\"The gcd of 60 and 48 is : \",end=\"\")\n",
    "print (GCD(a,b))"
   ]
  },
  {
   "cell_type": "code",
   "execution_count": 64,
   "metadata": {
    "id": "pckq-wPqBg4w"
   },
   "outputs": [
    {
     "name": "stdout",
     "output_type": "stream",
     "text": [
      "The gcd of 60 and 48 is : 12000\n",
      "Wall time: 500 µs\n"
     ]
    }
   ],
   "source": [
    "%%time\n",
    "def GCD1(x, y):\n",
    "\n",
    "  while(y):\n",
    "    x, y = y, x % y\n",
    "\n",
    "  return x\n",
    "\n",
    "a1 = 60000\n",
    "b1 = 48000\n",
    "\n",
    "# prints 12\n",
    "print (\"The gcd of 60 and 48 is : \",end=\"\")\n",
    "print (GCD(a1,b1))\n"
   ]
  },
  {
   "cell_type": "markdown",
   "metadata": {
    "id": "FwqJFuChBg4w"
   },
   "source": [
    "## <font color=red> Plot iteration vs recursion </font>"
   ]
  },
  {
   "cell_type": "code",
   "execution_count": 65,
   "metadata": {
    "id": "iVCjuiBbBg4w"
   },
   "outputs": [],
   "source": [
    "import pandas as pd\n",
    "import time\n",
    "\n",
    "\n",
    "series = pd.DataFrame()\n",
    "\n",
    "# Loop\n",
    "def fib1(n):\n",
    "    a = 0\n",
    "    b = 1\n",
    "    if n == 0:\n",
    "        return a\n",
    "    elif n == 1:\n",
    "        return b\n",
    "    else:\n",
    "        for i in range(2, n):\n",
    "            c = a + b\n",
    "            a = b\n",
    "            b = c\n",
    "        return b\n",
    "\n",
    "\n",
    "# Recursion\n",
    "def fib(n):\n",
    "    Array = [0, 1]\n",
    "    if n<= len(Array):\n",
    "        return Array[n-1]\n",
    "    else:\n",
    "        temp_fib = fib(n-1)+fib(n-2)\n",
    "        Array.append(temp_fib)\n",
    "        return temp_fib\n",
    "\n",
    "\n",
    "for a in range(10, 40, 4):\n",
    "\n",
    "  start = time.time()\n",
    "  ans = fib(a)\n",
    "  end = time.time()\n",
    "  req_time = end - start\n",
    "  series = series.append({'Algorithm':\"Recursion\",'InputSize': a, 'Time':req_time, \"Answer\":ans}, ignore_index=True)\n",
    "\n",
    "\n",
    "\n",
    "  start = time.time()\n",
    "  ans = fib1(a)\n",
    "  end = time.time()\n",
    "  req_time = end - start\n",
    "  series = series.append({'Algorithm':\"Loop\",'InputSize': a, 'Time':req_time, \"Answer\":ans}, ignore_index=True)\n",
    "\n"
   ]
  },
  {
   "cell_type": "code",
   "execution_count": 66,
   "metadata": {
    "id": "kbFdjXaqBg4x"
   },
   "outputs": [
    {
     "name": "stdout",
     "output_type": "stream",
     "text": [
      "    Algorithm  InputSize       Time      Answer\n",
      "0   Recursion       10.0   0.000000        34.0\n",
      "1        Loop       10.0   0.000000        34.0\n",
      "2   Recursion       14.0   0.000000       233.0\n",
      "3        Loop       14.0   0.000000       233.0\n",
      "4   Recursion       18.0   0.002000      1597.0\n",
      "5        Loop       18.0   0.000000      1597.0\n",
      "6   Recursion       22.0   0.010849     10946.0\n",
      "7        Loop       22.0   0.000000     10946.0\n",
      "8   Recursion       26.0   0.074584     75025.0\n",
      "9        Loop       26.0   0.000000     75025.0\n",
      "10  Recursion       30.0   0.580668    514229.0\n",
      "11       Loop       30.0   0.000000    514229.0\n",
      "12  Recursion       34.0   6.745952   3524578.0\n",
      "13       Loop       34.0   0.000000   3524578.0\n",
      "14  Recursion       38.0  30.084532  24157817.0\n",
      "15       Loop       38.0   0.000000  24157817.0\n"
     ]
    },
    {
     "data": {
      "application/vnd.plotly.v1+json": {
       "config": {
        "plotlyServerURL": "https://plot.ly"
       },
       "data": [
        {
         "hovertemplate": "Algorithm=Recursion<br>InputSize=%{x}<br>Time=%{y}<extra></extra>",
         "legendgroup": "Recursion",
         "line": {
          "color": "#636efa",
          "dash": "solid"
         },
         "marker": {
          "symbol": "circle"
         },
         "mode": "markers+lines",
         "name": "Recursion",
         "orientation": "v",
         "showlegend": true,
         "type": "scatter",
         "x": [
          10,
          14,
          18,
          22,
          26,
          30,
          34,
          38
         ],
         "xaxis": "x",
         "y": [
          0,
          0,
          0.0020003318786621094,
          0.010848522186279297,
          0.0745844841003418,
          0.5806684494018555,
          6.745951890945435,
          30.084532260894775
         ],
         "yaxis": "y"
        },
        {
         "hovertemplate": "Algorithm=Loop<br>InputSize=%{x}<br>Time=%{y}<extra></extra>",
         "legendgroup": "Loop",
         "line": {
          "color": "#EF553B",
          "dash": "solid"
         },
         "marker": {
          "symbol": "circle"
         },
         "mode": "markers+lines",
         "name": "Loop",
         "orientation": "v",
         "showlegend": true,
         "type": "scatter",
         "x": [
          10,
          14,
          18,
          22,
          26,
          30,
          34,
          38
         ],
         "xaxis": "x",
         "y": [
          0,
          0,
          0,
          0,
          0,
          0,
          0,
          0
         ],
         "yaxis": "y"
        }
       ],
       "layout": {
        "legend": {
         "title": {
          "text": "Algorithm"
         },
         "tracegroupgap": 0
        },
        "margin": {
         "t": 60
        },
        "template": {
         "data": {
          "bar": [
           {
            "error_x": {
             "color": "#2a3f5f"
            },
            "error_y": {
             "color": "#2a3f5f"
            },
            "marker": {
             "line": {
              "color": "#E5ECF6",
              "width": 0.5
             },
             "pattern": {
              "fillmode": "overlay",
              "size": 10,
              "solidity": 0.2
             }
            },
            "type": "bar"
           }
          ],
          "barpolar": [
           {
            "marker": {
             "line": {
              "color": "#E5ECF6",
              "width": 0.5
             },
             "pattern": {
              "fillmode": "overlay",
              "size": 10,
              "solidity": 0.2
             }
            },
            "type": "barpolar"
           }
          ],
          "carpet": [
           {
            "aaxis": {
             "endlinecolor": "#2a3f5f",
             "gridcolor": "white",
             "linecolor": "white",
             "minorgridcolor": "white",
             "startlinecolor": "#2a3f5f"
            },
            "baxis": {
             "endlinecolor": "#2a3f5f",
             "gridcolor": "white",
             "linecolor": "white",
             "minorgridcolor": "white",
             "startlinecolor": "#2a3f5f"
            },
            "type": "carpet"
           }
          ],
          "choropleth": [
           {
            "colorbar": {
             "outlinewidth": 0,
             "ticks": ""
            },
            "type": "choropleth"
           }
          ],
          "contour": [
           {
            "colorbar": {
             "outlinewidth": 0,
             "ticks": ""
            },
            "colorscale": [
             [
              0,
              "#0d0887"
             ],
             [
              0.1111111111111111,
              "#46039f"
             ],
             [
              0.2222222222222222,
              "#7201a8"
             ],
             [
              0.3333333333333333,
              "#9c179e"
             ],
             [
              0.4444444444444444,
              "#bd3786"
             ],
             [
              0.5555555555555556,
              "#d8576b"
             ],
             [
              0.6666666666666666,
              "#ed7953"
             ],
             [
              0.7777777777777778,
              "#fb9f3a"
             ],
             [
              0.8888888888888888,
              "#fdca26"
             ],
             [
              1,
              "#f0f921"
             ]
            ],
            "type": "contour"
           }
          ],
          "contourcarpet": [
           {
            "colorbar": {
             "outlinewidth": 0,
             "ticks": ""
            },
            "type": "contourcarpet"
           }
          ],
          "heatmap": [
           {
            "colorbar": {
             "outlinewidth": 0,
             "ticks": ""
            },
            "colorscale": [
             [
              0,
              "#0d0887"
             ],
             [
              0.1111111111111111,
              "#46039f"
             ],
             [
              0.2222222222222222,
              "#7201a8"
             ],
             [
              0.3333333333333333,
              "#9c179e"
             ],
             [
              0.4444444444444444,
              "#bd3786"
             ],
             [
              0.5555555555555556,
              "#d8576b"
             ],
             [
              0.6666666666666666,
              "#ed7953"
             ],
             [
              0.7777777777777778,
              "#fb9f3a"
             ],
             [
              0.8888888888888888,
              "#fdca26"
             ],
             [
              1,
              "#f0f921"
             ]
            ],
            "type": "heatmap"
           }
          ],
          "heatmapgl": [
           {
            "colorbar": {
             "outlinewidth": 0,
             "ticks": ""
            },
            "colorscale": [
             [
              0,
              "#0d0887"
             ],
             [
              0.1111111111111111,
              "#46039f"
             ],
             [
              0.2222222222222222,
              "#7201a8"
             ],
             [
              0.3333333333333333,
              "#9c179e"
             ],
             [
              0.4444444444444444,
              "#bd3786"
             ],
             [
              0.5555555555555556,
              "#d8576b"
             ],
             [
              0.6666666666666666,
              "#ed7953"
             ],
             [
              0.7777777777777778,
              "#fb9f3a"
             ],
             [
              0.8888888888888888,
              "#fdca26"
             ],
             [
              1,
              "#f0f921"
             ]
            ],
            "type": "heatmapgl"
           }
          ],
          "histogram": [
           {
            "marker": {
             "pattern": {
              "fillmode": "overlay",
              "size": 10,
              "solidity": 0.2
             }
            },
            "type": "histogram"
           }
          ],
          "histogram2d": [
           {
            "colorbar": {
             "outlinewidth": 0,
             "ticks": ""
            },
            "colorscale": [
             [
              0,
              "#0d0887"
             ],
             [
              0.1111111111111111,
              "#46039f"
             ],
             [
              0.2222222222222222,
              "#7201a8"
             ],
             [
              0.3333333333333333,
              "#9c179e"
             ],
             [
              0.4444444444444444,
              "#bd3786"
             ],
             [
              0.5555555555555556,
              "#d8576b"
             ],
             [
              0.6666666666666666,
              "#ed7953"
             ],
             [
              0.7777777777777778,
              "#fb9f3a"
             ],
             [
              0.8888888888888888,
              "#fdca26"
             ],
             [
              1,
              "#f0f921"
             ]
            ],
            "type": "histogram2d"
           }
          ],
          "histogram2dcontour": [
           {
            "colorbar": {
             "outlinewidth": 0,
             "ticks": ""
            },
            "colorscale": [
             [
              0,
              "#0d0887"
             ],
             [
              0.1111111111111111,
              "#46039f"
             ],
             [
              0.2222222222222222,
              "#7201a8"
             ],
             [
              0.3333333333333333,
              "#9c179e"
             ],
             [
              0.4444444444444444,
              "#bd3786"
             ],
             [
              0.5555555555555556,
              "#d8576b"
             ],
             [
              0.6666666666666666,
              "#ed7953"
             ],
             [
              0.7777777777777778,
              "#fb9f3a"
             ],
             [
              0.8888888888888888,
              "#fdca26"
             ],
             [
              1,
              "#f0f921"
             ]
            ],
            "type": "histogram2dcontour"
           }
          ],
          "mesh3d": [
           {
            "colorbar": {
             "outlinewidth": 0,
             "ticks": ""
            },
            "type": "mesh3d"
           }
          ],
          "parcoords": [
           {
            "line": {
             "colorbar": {
              "outlinewidth": 0,
              "ticks": ""
             }
            },
            "type": "parcoords"
           }
          ],
          "pie": [
           {
            "automargin": true,
            "type": "pie"
           }
          ],
          "scatter": [
           {
            "fillpattern": {
             "fillmode": "overlay",
             "size": 10,
             "solidity": 0.2
            },
            "type": "scatter"
           }
          ],
          "scatter3d": [
           {
            "line": {
             "colorbar": {
              "outlinewidth": 0,
              "ticks": ""
             }
            },
            "marker": {
             "colorbar": {
              "outlinewidth": 0,
              "ticks": ""
             }
            },
            "type": "scatter3d"
           }
          ],
          "scattercarpet": [
           {
            "marker": {
             "colorbar": {
              "outlinewidth": 0,
              "ticks": ""
             }
            },
            "type": "scattercarpet"
           }
          ],
          "scattergeo": [
           {
            "marker": {
             "colorbar": {
              "outlinewidth": 0,
              "ticks": ""
             }
            },
            "type": "scattergeo"
           }
          ],
          "scattergl": [
           {
            "marker": {
             "colorbar": {
              "outlinewidth": 0,
              "ticks": ""
             }
            },
            "type": "scattergl"
           }
          ],
          "scattermapbox": [
           {
            "marker": {
             "colorbar": {
              "outlinewidth": 0,
              "ticks": ""
             }
            },
            "type": "scattermapbox"
           }
          ],
          "scatterpolar": [
           {
            "marker": {
             "colorbar": {
              "outlinewidth": 0,
              "ticks": ""
             }
            },
            "type": "scatterpolar"
           }
          ],
          "scatterpolargl": [
           {
            "marker": {
             "colorbar": {
              "outlinewidth": 0,
              "ticks": ""
             }
            },
            "type": "scatterpolargl"
           }
          ],
          "scatterternary": [
           {
            "marker": {
             "colorbar": {
              "outlinewidth": 0,
              "ticks": ""
             }
            },
            "type": "scatterternary"
           }
          ],
          "surface": [
           {
            "colorbar": {
             "outlinewidth": 0,
             "ticks": ""
            },
            "colorscale": [
             [
              0,
              "#0d0887"
             ],
             [
              0.1111111111111111,
              "#46039f"
             ],
             [
              0.2222222222222222,
              "#7201a8"
             ],
             [
              0.3333333333333333,
              "#9c179e"
             ],
             [
              0.4444444444444444,
              "#bd3786"
             ],
             [
              0.5555555555555556,
              "#d8576b"
             ],
             [
              0.6666666666666666,
              "#ed7953"
             ],
             [
              0.7777777777777778,
              "#fb9f3a"
             ],
             [
              0.8888888888888888,
              "#fdca26"
             ],
             [
              1,
              "#f0f921"
             ]
            ],
            "type": "surface"
           }
          ],
          "table": [
           {
            "cells": {
             "fill": {
              "color": "#EBF0F8"
             },
             "line": {
              "color": "white"
             }
            },
            "header": {
             "fill": {
              "color": "#C8D4E3"
             },
             "line": {
              "color": "white"
             }
            },
            "type": "table"
           }
          ]
         },
         "layout": {
          "annotationdefaults": {
           "arrowcolor": "#2a3f5f",
           "arrowhead": 0,
           "arrowwidth": 1
          },
          "autotypenumbers": "strict",
          "coloraxis": {
           "colorbar": {
            "outlinewidth": 0,
            "ticks": ""
           }
          },
          "colorscale": {
           "diverging": [
            [
             0,
             "#8e0152"
            ],
            [
             0.1,
             "#c51b7d"
            ],
            [
             0.2,
             "#de77ae"
            ],
            [
             0.3,
             "#f1b6da"
            ],
            [
             0.4,
             "#fde0ef"
            ],
            [
             0.5,
             "#f7f7f7"
            ],
            [
             0.6,
             "#e6f5d0"
            ],
            [
             0.7,
             "#b8e186"
            ],
            [
             0.8,
             "#7fbc41"
            ],
            [
             0.9,
             "#4d9221"
            ],
            [
             1,
             "#276419"
            ]
           ],
           "sequential": [
            [
             0,
             "#0d0887"
            ],
            [
             0.1111111111111111,
             "#46039f"
            ],
            [
             0.2222222222222222,
             "#7201a8"
            ],
            [
             0.3333333333333333,
             "#9c179e"
            ],
            [
             0.4444444444444444,
             "#bd3786"
            ],
            [
             0.5555555555555556,
             "#d8576b"
            ],
            [
             0.6666666666666666,
             "#ed7953"
            ],
            [
             0.7777777777777778,
             "#fb9f3a"
            ],
            [
             0.8888888888888888,
             "#fdca26"
            ],
            [
             1,
             "#f0f921"
            ]
           ],
           "sequentialminus": [
            [
             0,
             "#0d0887"
            ],
            [
             0.1111111111111111,
             "#46039f"
            ],
            [
             0.2222222222222222,
             "#7201a8"
            ],
            [
             0.3333333333333333,
             "#9c179e"
            ],
            [
             0.4444444444444444,
             "#bd3786"
            ],
            [
             0.5555555555555556,
             "#d8576b"
            ],
            [
             0.6666666666666666,
             "#ed7953"
            ],
            [
             0.7777777777777778,
             "#fb9f3a"
            ],
            [
             0.8888888888888888,
             "#fdca26"
            ],
            [
             1,
             "#f0f921"
            ]
           ]
          },
          "colorway": [
           "#636efa",
           "#EF553B",
           "#00cc96",
           "#ab63fa",
           "#FFA15A",
           "#19d3f3",
           "#FF6692",
           "#B6E880",
           "#FF97FF",
           "#FECB52"
          ],
          "font": {
           "color": "#2a3f5f"
          },
          "geo": {
           "bgcolor": "white",
           "lakecolor": "white",
           "landcolor": "#E5ECF6",
           "showlakes": true,
           "showland": true,
           "subunitcolor": "white"
          },
          "hoverlabel": {
           "align": "left"
          },
          "hovermode": "closest",
          "mapbox": {
           "style": "light"
          },
          "paper_bgcolor": "white",
          "plot_bgcolor": "#E5ECF6",
          "polar": {
           "angularaxis": {
            "gridcolor": "white",
            "linecolor": "white",
            "ticks": ""
           },
           "bgcolor": "#E5ECF6",
           "radialaxis": {
            "gridcolor": "white",
            "linecolor": "white",
            "ticks": ""
           }
          },
          "scene": {
           "xaxis": {
            "backgroundcolor": "#E5ECF6",
            "gridcolor": "white",
            "gridwidth": 2,
            "linecolor": "white",
            "showbackground": true,
            "ticks": "",
            "zerolinecolor": "white"
           },
           "yaxis": {
            "backgroundcolor": "#E5ECF6",
            "gridcolor": "white",
            "gridwidth": 2,
            "linecolor": "white",
            "showbackground": true,
            "ticks": "",
            "zerolinecolor": "white"
           },
           "zaxis": {
            "backgroundcolor": "#E5ECF6",
            "gridcolor": "white",
            "gridwidth": 2,
            "linecolor": "white",
            "showbackground": true,
            "ticks": "",
            "zerolinecolor": "white"
           }
          },
          "shapedefaults": {
           "line": {
            "color": "#2a3f5f"
           }
          },
          "ternary": {
           "aaxis": {
            "gridcolor": "white",
            "linecolor": "white",
            "ticks": ""
           },
           "baxis": {
            "gridcolor": "white",
            "linecolor": "white",
            "ticks": ""
           },
           "bgcolor": "#E5ECF6",
           "caxis": {
            "gridcolor": "white",
            "linecolor": "white",
            "ticks": ""
           }
          },
          "title": {
           "x": 0.05
          },
          "xaxis": {
           "automargin": true,
           "gridcolor": "white",
           "linecolor": "white",
           "ticks": "",
           "title": {
            "standoff": 15
           },
           "zerolinecolor": "white",
           "zerolinewidth": 2
          },
          "yaxis": {
           "automargin": true,
           "gridcolor": "white",
           "linecolor": "white",
           "ticks": "",
           "title": {
            "standoff": 15
           },
           "zerolinecolor": "white",
           "zerolinewidth": 2
          }
         }
        },
        "title": {
         "text": "Recursion vs Loops",
         "x": 0.5
        },
        "xaxis": {
         "anchor": "y",
         "domain": [
          0,
          1
         ],
         "title": {
          "text": "InputSize"
         }
        },
        "yaxis": {
         "anchor": "x",
         "domain": [
          0,
          1
         ],
         "title": {
          "text": "Time"
         }
        }
       }
      },
      "text/html": [
       "<div>                            <div id=\"c16aad40-9abd-4dab-ae58-5d4de8470443\" class=\"plotly-graph-div\" style=\"height:525px; width:100%;\"></div>            <script type=\"text/javascript\">                require([\"plotly\"], function(Plotly) {                    window.PLOTLYENV=window.PLOTLYENV || {};                                    if (document.getElementById(\"c16aad40-9abd-4dab-ae58-5d4de8470443\")) {                    Plotly.newPlot(                        \"c16aad40-9abd-4dab-ae58-5d4de8470443\",                        [{\"hovertemplate\":\"Algorithm=Recursion<br>InputSize=%{x}<br>Time=%{y}<extra></extra>\",\"legendgroup\":\"Recursion\",\"line\":{\"color\":\"#636efa\",\"dash\":\"solid\"},\"marker\":{\"symbol\":\"circle\"},\"mode\":\"markers+lines\",\"name\":\"Recursion\",\"orientation\":\"v\",\"showlegend\":true,\"x\":[10.0,14.0,18.0,22.0,26.0,30.0,34.0,38.0],\"xaxis\":\"x\",\"y\":[0.0,0.0,0.0020003318786621094,0.010848522186279297,0.0745844841003418,0.5806684494018555,6.745951890945435,30.084532260894775],\"yaxis\":\"y\",\"type\":\"scatter\"},{\"hovertemplate\":\"Algorithm=Loop<br>InputSize=%{x}<br>Time=%{y}<extra></extra>\",\"legendgroup\":\"Loop\",\"line\":{\"color\":\"#EF553B\",\"dash\":\"solid\"},\"marker\":{\"symbol\":\"circle\"},\"mode\":\"markers+lines\",\"name\":\"Loop\",\"orientation\":\"v\",\"showlegend\":true,\"x\":[10.0,14.0,18.0,22.0,26.0,30.0,34.0,38.0],\"xaxis\":\"x\",\"y\":[0.0,0.0,0.0,0.0,0.0,0.0,0.0,0.0],\"yaxis\":\"y\",\"type\":\"scatter\"}],                        {\"template\":{\"data\":{\"histogram2dcontour\":[{\"type\":\"histogram2dcontour\",\"colorbar\":{\"outlinewidth\":0,\"ticks\":\"\"},\"colorscale\":[[0.0,\"#0d0887\"],[0.1111111111111111,\"#46039f\"],[0.2222222222222222,\"#7201a8\"],[0.3333333333333333,\"#9c179e\"],[0.4444444444444444,\"#bd3786\"],[0.5555555555555556,\"#d8576b\"],[0.6666666666666666,\"#ed7953\"],[0.7777777777777778,\"#fb9f3a\"],[0.8888888888888888,\"#fdca26\"],[1.0,\"#f0f921\"]]}],\"choropleth\":[{\"type\":\"choropleth\",\"colorbar\":{\"outlinewidth\":0,\"ticks\":\"\"}}],\"histogram2d\":[{\"type\":\"histogram2d\",\"colorbar\":{\"outlinewidth\":0,\"ticks\":\"\"},\"colorscale\":[[0.0,\"#0d0887\"],[0.1111111111111111,\"#46039f\"],[0.2222222222222222,\"#7201a8\"],[0.3333333333333333,\"#9c179e\"],[0.4444444444444444,\"#bd3786\"],[0.5555555555555556,\"#d8576b\"],[0.6666666666666666,\"#ed7953\"],[0.7777777777777778,\"#fb9f3a\"],[0.8888888888888888,\"#fdca26\"],[1.0,\"#f0f921\"]]}],\"heatmap\":[{\"type\":\"heatmap\",\"colorbar\":{\"outlinewidth\":0,\"ticks\":\"\"},\"colorscale\":[[0.0,\"#0d0887\"],[0.1111111111111111,\"#46039f\"],[0.2222222222222222,\"#7201a8\"],[0.3333333333333333,\"#9c179e\"],[0.4444444444444444,\"#bd3786\"],[0.5555555555555556,\"#d8576b\"],[0.6666666666666666,\"#ed7953\"],[0.7777777777777778,\"#fb9f3a\"],[0.8888888888888888,\"#fdca26\"],[1.0,\"#f0f921\"]]}],\"heatmapgl\":[{\"type\":\"heatmapgl\",\"colorbar\":{\"outlinewidth\":0,\"ticks\":\"\"},\"colorscale\":[[0.0,\"#0d0887\"],[0.1111111111111111,\"#46039f\"],[0.2222222222222222,\"#7201a8\"],[0.3333333333333333,\"#9c179e\"],[0.4444444444444444,\"#bd3786\"],[0.5555555555555556,\"#d8576b\"],[0.6666666666666666,\"#ed7953\"],[0.7777777777777778,\"#fb9f3a\"],[0.8888888888888888,\"#fdca26\"],[1.0,\"#f0f921\"]]}],\"contourcarpet\":[{\"type\":\"contourcarpet\",\"colorbar\":{\"outlinewidth\":0,\"ticks\":\"\"}}],\"contour\":[{\"type\":\"contour\",\"colorbar\":{\"outlinewidth\":0,\"ticks\":\"\"},\"colorscale\":[[0.0,\"#0d0887\"],[0.1111111111111111,\"#46039f\"],[0.2222222222222222,\"#7201a8\"],[0.3333333333333333,\"#9c179e\"],[0.4444444444444444,\"#bd3786\"],[0.5555555555555556,\"#d8576b\"],[0.6666666666666666,\"#ed7953\"],[0.7777777777777778,\"#fb9f3a\"],[0.8888888888888888,\"#fdca26\"],[1.0,\"#f0f921\"]]}],\"surface\":[{\"type\":\"surface\",\"colorbar\":{\"outlinewidth\":0,\"ticks\":\"\"},\"colorscale\":[[0.0,\"#0d0887\"],[0.1111111111111111,\"#46039f\"],[0.2222222222222222,\"#7201a8\"],[0.3333333333333333,\"#9c179e\"],[0.4444444444444444,\"#bd3786\"],[0.5555555555555556,\"#d8576b\"],[0.6666666666666666,\"#ed7953\"],[0.7777777777777778,\"#fb9f3a\"],[0.8888888888888888,\"#fdca26\"],[1.0,\"#f0f921\"]]}],\"mesh3d\":[{\"type\":\"mesh3d\",\"colorbar\":{\"outlinewidth\":0,\"ticks\":\"\"}}],\"scatter\":[{\"fillpattern\":{\"fillmode\":\"overlay\",\"size\":10,\"solidity\":0.2},\"type\":\"scatter\"}],\"parcoords\":[{\"type\":\"parcoords\",\"line\":{\"colorbar\":{\"outlinewidth\":0,\"ticks\":\"\"}}}],\"scatterpolargl\":[{\"type\":\"scatterpolargl\",\"marker\":{\"colorbar\":{\"outlinewidth\":0,\"ticks\":\"\"}}}],\"bar\":[{\"error_x\":{\"color\":\"#2a3f5f\"},\"error_y\":{\"color\":\"#2a3f5f\"},\"marker\":{\"line\":{\"color\":\"#E5ECF6\",\"width\":0.5},\"pattern\":{\"fillmode\":\"overlay\",\"size\":10,\"solidity\":0.2}},\"type\":\"bar\"}],\"scattergeo\":[{\"type\":\"scattergeo\",\"marker\":{\"colorbar\":{\"outlinewidth\":0,\"ticks\":\"\"}}}],\"scatterpolar\":[{\"type\":\"scatterpolar\",\"marker\":{\"colorbar\":{\"outlinewidth\":0,\"ticks\":\"\"}}}],\"histogram\":[{\"marker\":{\"pattern\":{\"fillmode\":\"overlay\",\"size\":10,\"solidity\":0.2}},\"type\":\"histogram\"}],\"scattergl\":[{\"type\":\"scattergl\",\"marker\":{\"colorbar\":{\"outlinewidth\":0,\"ticks\":\"\"}}}],\"scatter3d\":[{\"type\":\"scatter3d\",\"line\":{\"colorbar\":{\"outlinewidth\":0,\"ticks\":\"\"}},\"marker\":{\"colorbar\":{\"outlinewidth\":0,\"ticks\":\"\"}}}],\"scattermapbox\":[{\"type\":\"scattermapbox\",\"marker\":{\"colorbar\":{\"outlinewidth\":0,\"ticks\":\"\"}}}],\"scatterternary\":[{\"type\":\"scatterternary\",\"marker\":{\"colorbar\":{\"outlinewidth\":0,\"ticks\":\"\"}}}],\"scattercarpet\":[{\"type\":\"scattercarpet\",\"marker\":{\"colorbar\":{\"outlinewidth\":0,\"ticks\":\"\"}}}],\"carpet\":[{\"aaxis\":{\"endlinecolor\":\"#2a3f5f\",\"gridcolor\":\"white\",\"linecolor\":\"white\",\"minorgridcolor\":\"white\",\"startlinecolor\":\"#2a3f5f\"},\"baxis\":{\"endlinecolor\":\"#2a3f5f\",\"gridcolor\":\"white\",\"linecolor\":\"white\",\"minorgridcolor\":\"white\",\"startlinecolor\":\"#2a3f5f\"},\"type\":\"carpet\"}],\"table\":[{\"cells\":{\"fill\":{\"color\":\"#EBF0F8\"},\"line\":{\"color\":\"white\"}},\"header\":{\"fill\":{\"color\":\"#C8D4E3\"},\"line\":{\"color\":\"white\"}},\"type\":\"table\"}],\"barpolar\":[{\"marker\":{\"line\":{\"color\":\"#E5ECF6\",\"width\":0.5},\"pattern\":{\"fillmode\":\"overlay\",\"size\":10,\"solidity\":0.2}},\"type\":\"barpolar\"}],\"pie\":[{\"automargin\":true,\"type\":\"pie\"}]},\"layout\":{\"autotypenumbers\":\"strict\",\"colorway\":[\"#636efa\",\"#EF553B\",\"#00cc96\",\"#ab63fa\",\"#FFA15A\",\"#19d3f3\",\"#FF6692\",\"#B6E880\",\"#FF97FF\",\"#FECB52\"],\"font\":{\"color\":\"#2a3f5f\"},\"hovermode\":\"closest\",\"hoverlabel\":{\"align\":\"left\"},\"paper_bgcolor\":\"white\",\"plot_bgcolor\":\"#E5ECF6\",\"polar\":{\"bgcolor\":\"#E5ECF6\",\"angularaxis\":{\"gridcolor\":\"white\",\"linecolor\":\"white\",\"ticks\":\"\"},\"radialaxis\":{\"gridcolor\":\"white\",\"linecolor\":\"white\",\"ticks\":\"\"}},\"ternary\":{\"bgcolor\":\"#E5ECF6\",\"aaxis\":{\"gridcolor\":\"white\",\"linecolor\":\"white\",\"ticks\":\"\"},\"baxis\":{\"gridcolor\":\"white\",\"linecolor\":\"white\",\"ticks\":\"\"},\"caxis\":{\"gridcolor\":\"white\",\"linecolor\":\"white\",\"ticks\":\"\"}},\"coloraxis\":{\"colorbar\":{\"outlinewidth\":0,\"ticks\":\"\"}},\"colorscale\":{\"sequential\":[[0.0,\"#0d0887\"],[0.1111111111111111,\"#46039f\"],[0.2222222222222222,\"#7201a8\"],[0.3333333333333333,\"#9c179e\"],[0.4444444444444444,\"#bd3786\"],[0.5555555555555556,\"#d8576b\"],[0.6666666666666666,\"#ed7953\"],[0.7777777777777778,\"#fb9f3a\"],[0.8888888888888888,\"#fdca26\"],[1.0,\"#f0f921\"]],\"sequentialminus\":[[0.0,\"#0d0887\"],[0.1111111111111111,\"#46039f\"],[0.2222222222222222,\"#7201a8\"],[0.3333333333333333,\"#9c179e\"],[0.4444444444444444,\"#bd3786\"],[0.5555555555555556,\"#d8576b\"],[0.6666666666666666,\"#ed7953\"],[0.7777777777777778,\"#fb9f3a\"],[0.8888888888888888,\"#fdca26\"],[1.0,\"#f0f921\"]],\"diverging\":[[0,\"#8e0152\"],[0.1,\"#c51b7d\"],[0.2,\"#de77ae\"],[0.3,\"#f1b6da\"],[0.4,\"#fde0ef\"],[0.5,\"#f7f7f7\"],[0.6,\"#e6f5d0\"],[0.7,\"#b8e186\"],[0.8,\"#7fbc41\"],[0.9,\"#4d9221\"],[1,\"#276419\"]]},\"xaxis\":{\"gridcolor\":\"white\",\"linecolor\":\"white\",\"ticks\":\"\",\"title\":{\"standoff\":15},\"zerolinecolor\":\"white\",\"automargin\":true,\"zerolinewidth\":2},\"yaxis\":{\"gridcolor\":\"white\",\"linecolor\":\"white\",\"ticks\":\"\",\"title\":{\"standoff\":15},\"zerolinecolor\":\"white\",\"automargin\":true,\"zerolinewidth\":2},\"scene\":{\"xaxis\":{\"backgroundcolor\":\"#E5ECF6\",\"gridcolor\":\"white\",\"linecolor\":\"white\",\"showbackground\":true,\"ticks\":\"\",\"zerolinecolor\":\"white\",\"gridwidth\":2},\"yaxis\":{\"backgroundcolor\":\"#E5ECF6\",\"gridcolor\":\"white\",\"linecolor\":\"white\",\"showbackground\":true,\"ticks\":\"\",\"zerolinecolor\":\"white\",\"gridwidth\":2},\"zaxis\":{\"backgroundcolor\":\"#E5ECF6\",\"gridcolor\":\"white\",\"linecolor\":\"white\",\"showbackground\":true,\"ticks\":\"\",\"zerolinecolor\":\"white\",\"gridwidth\":2}},\"shapedefaults\":{\"line\":{\"color\":\"#2a3f5f\"}},\"annotationdefaults\":{\"arrowcolor\":\"#2a3f5f\",\"arrowhead\":0,\"arrowwidth\":1},\"geo\":{\"bgcolor\":\"white\",\"landcolor\":\"#E5ECF6\",\"subunitcolor\":\"white\",\"showland\":true,\"showlakes\":true,\"lakecolor\":\"white\"},\"title\":{\"x\":0.05},\"mapbox\":{\"style\":\"light\"}}},\"xaxis\":{\"anchor\":\"y\",\"domain\":[0.0,1.0],\"title\":{\"text\":\"InputSize\"}},\"yaxis\":{\"anchor\":\"x\",\"domain\":[0.0,1.0],\"title\":{\"text\":\"Time\"}},\"legend\":{\"title\":{\"text\":\"Algorithm\"},\"tracegroupgap\":0},\"margin\":{\"t\":60},\"title\":{\"text\":\"Recursion vs Loops\",\"x\":0.5}},                        {\"responsive\": true}                    ).then(function(){\n",
       "                            \n",
       "var gd = document.getElementById('c16aad40-9abd-4dab-ae58-5d4de8470443');\n",
       "var x = new MutationObserver(function (mutations, observer) {{\n",
       "        var display = window.getComputedStyle(gd).display;\n",
       "        if (!display || display === 'none') {{\n",
       "            console.log([gd, 'removed!']);\n",
       "            Plotly.purge(gd);\n",
       "            observer.disconnect();\n",
       "        }}\n",
       "}});\n",
       "\n",
       "// Listen for the removal of the full notebook cells\n",
       "var notebookContainer = gd.closest('#notebook-container');\n",
       "if (notebookContainer) {{\n",
       "    x.observe(notebookContainer, {childList: true});\n",
       "}}\n",
       "\n",
       "// Listen for the clearing of the current output cell\n",
       "var outputEl = gd.closest('.output');\n",
       "if (outputEl) {{\n",
       "    x.observe(outputEl, {childList: true});\n",
       "}}\n",
       "\n",
       "                        })                };                });            </script>        </div>"
      ]
     },
     "metadata": {},
     "output_type": "display_data"
    }
   ],
   "source": [
    "print(series)\n",
    "############## Plot Line Graph #########################\n",
    "import plotly.express as px\n",
    "# print(df)\n",
    "# fig = px.line(x=RECORDS_LINEAR[\"InputSize\"], y=RECORDS_LINEAR[\"SearchTime\"], labels=dict(x=\"Input Size\", y=\"Serach Time\"))\n",
    "fig = px.line(series, x=\"InputSize\", y=\"Time\", color = 'Algorithm', labels=dict(x=\"Input Size\", y=\"Time\"))\n",
    "\n",
    "fig.update_traces(mode='markers+lines')\n",
    "fig.update_layout(title_text='Recursion vs Loops', title_x=0.5)\n",
    "fig.show()\n",
    "# fig.show(renderer='colab')\n",
    "########################################################"
   ]
  },
  {
   "cell_type": "markdown",
   "metadata": {
    "id": "p53MAc0rW-oh"
   },
   "source": [
    "<img src=\"http://2.bp.blogspot.com/-AxaPtxd0Z1c/Usn2a3gTGyI/AAAAAAAAA_c/BIbMy6nn2ZE/s1600/plot.png\">"
   ]
  },
  {
   "cell_type": "markdown",
   "metadata": {},
   "source": [
    "Iteration more efficient in terms of time complexity/runtime"
   ]
  },
  {
   "cell_type": "code",
   "execution_count": 77,
   "metadata": {},
   "outputs": [
    {
     "data": {
      "text/plain": [
       "5"
      ]
     },
     "execution_count": 77,
     "metadata": {},
     "output_type": "execute_result"
    }
   ],
   "source": [
    "# Returns the value of floor(log2(number))\n",
    "\n",
    "def Unknown_func(number):\n",
    "    if(number == 1):\n",
    "        return (0)\n",
    "    else:\n",
    "        return (1 + Unknown_func(number//2))\n",
    "    \n",
    "Unknown_func(63)"
   ]
  },
  {
   "cell_type": "code",
   "execution_count": 70,
   "metadata": {},
   "outputs": [
    {
     "data": {
      "text/plain": [
       "5"
      ]
     },
     "execution_count": 70,
     "metadata": {},
     "output_type": "execute_result"
    }
   ],
   "source": [
    "11//2"
   ]
  },
  {
   "cell_type": "code",
   "execution_count": null,
   "metadata": {},
   "outputs": [],
   "source": [
    "# Given a positive integer 'n' and another positive integer 'k' (<n),  print the following pattern using recursion.\n",
    "\n",
    "# Input 1: n = 12, k = 5\n",
    "# Output 2: 12, 7, 2, -3, 2, 7, 12\n",
    "\n",
    "\n",
    "# Input 2: n = 10, k =2\n",
    "# Output 2: 10, 8, 6, 4, 2, 0, 2, 4, 6, 8, 10\n",
    "\n",
    "# Basically, you need to keep decrementing the given value of 'n' by 'k' until you encounter 0 or a negative number, in which case, you need to start incrementing by 'k' until you reach 'n' again."
   ]
  },
  {
   "cell_type": "code",
   "execution_count": 3,
   "metadata": {},
   "outputs": [],
   "source": [
    "n=12\n",
    "k=5\n",
    "m=n\n",
    "def pattern(n,m,k):\n",
    "    if m<=0:\n",
    "        print(m, end=\", \")\n",
    "        return\n",
    "    \n",
    "    print(m, end = \", \")\n",
    "    pattern(n,m-k,k)\n",
    "    \n",
    "    if(n != m):\n",
    "        print(m, end = \", \")\n",
    "    else:\n",
    "        print(m)\n",
    "        \n"
   ]
  },
  {
   "cell_type": "code",
   "execution_count": 4,
   "metadata": {},
   "outputs": [
    {
     "name": "stdout",
     "output_type": "stream",
     "text": [
      "12, 7, 2, -3, 2, 7, 12\n"
     ]
    }
   ],
   "source": [
    "pattern(n, m, k)"
   ]
  },
  {
   "cell_type": "code",
   "execution_count": 20,
   "metadata": {},
   "outputs": [
    {
     "name": "stdout",
     "output_type": "stream",
     "text": [
      "10, 8, 6, 4, 2, 0, 2, 4, 6, 8, 10"
     ]
    }
   ],
   "source": [
    "n=10\n",
    "k=2\n",
    "\n",
    "num=n\n",
    "\n",
    "def decrement(n,k):  \n",
    "    if n<=0:\n",
    "        return n\n",
    "    print(n, end=\", \")\n",
    "    return decrement(n-k,k)\n",
    "    \n",
    "def increment(n,k):\n",
    "    \n",
    "    if n!=num:\n",
    "        print(n, end=\", \")\n",
    "        return increment(n+k,k)\n",
    "    else:\n",
    "        print(n, end=\"\")\n",
    "        return\n",
    "\n",
    "def pattern(n,k):\n",
    "    n=decrement(n,k)\n",
    "    increment(n,k)\n",
    "\n",
    "pattern(n,k)"
   ]
  },
  {
   "cell_type": "code",
   "execution_count": 23,
   "metadata": {},
   "outputs": [
    {
     "name": "stdout",
     "output_type": "stream",
     "text": [
      "12\n",
      "5\n",
      "12, 7, 2, -3, 2, 7, 12\n"
     ]
    }
   ],
   "source": [
    "# Reading the input\n",
    "n = int(input())\n",
    "k = int(input())\n",
    "\n",
    "# Define the function\n",
    "def pattern(n, m, k):\n",
    "    \n",
    "    # Base case. If m <= 0, print m and return from the function\n",
    "    if m <= 0:\n",
    "        print(m, end = \", \")\n",
    "        return\n",
    "    \n",
    "    # Print m, call the recursive function with (n, m-k, k), and then print m again\n",
    "    print(m, end = \", \")\n",
    "    pattern(n, m-k, k)\n",
    "    # This conditional statement has been used so that you do not print a comma \n",
    "    # after the last element.\n",
    "    if(n != m):\n",
    "        print(m, end = \", \")\n",
    "    else:\n",
    "        print(m)\n",
    "\n",
    "# Declaring another variable m equal to n\n",
    "m = n\n",
    "\n",
    "# Calling the function with 3 arguments - n, m, and k. The extra m will be used\n",
    "# for recursive calls. The n will be preserved because if you check the output\n",
    "# format, you will see that after the last element, you shouldn't print a comma.\n",
    "# The value of 'n' in the function will be used primarily for that.\n",
    "pattern(n, m, k)"
   ]
  },
  {
   "cell_type": "markdown",
   "metadata": {
    "id": "zh7388NjZC9P"
   },
   "source": [
    "## **Check Palindrome String**\n",
    "The word and its reverse spell out the same\n",
    "-> Racecar in reverse is Racecar"
   ]
  },
  {
   "cell_type": "markdown",
   "metadata": {
    "id": "vUcrIFh3ZP53"
   },
   "source": [
    "**Recursion**"
   ]
  },
  {
   "cell_type": "code",
   "execution_count": 24,
   "metadata": {
    "ExecuteTime": {
     "end_time": "2021-09-16T02:12:08.522198Z",
     "start_time": "2021-09-16T02:12:08.522198Z"
    },
    "id": "s0jnQv0bZG4M"
   },
   "outputs": [
    {
     "name": "stdout",
     "output_type": "stream",
     "text": [
      "palindrome!\n"
     ]
    }
   ],
   "source": [
    "def is_palindrome(s):\n",
    "    if len(s) < 1:\n",
    "        return True\n",
    "    else:\n",
    "        if s[0] == s[-1]:\n",
    "            return is_palindrome(s[1:-1])\n",
    "        else:\n",
    "            return False\n",
    "        \n",
    "a=\"racecar\"\n",
    "\n",
    "if(is_palindrome(a)==True):\n",
    "    print(\"palindrome!\")\n",
    "else:\n",
    "    print(\"Not a palindrome!\")"
   ]
  },
  {
   "cell_type": "markdown",
   "metadata": {
    "id": "-bJVHzKBZhJm"
   },
   "source": [
    "**Loop**"
   ]
  },
  {
   "cell_type": "code",
   "execution_count": 25,
   "metadata": {
    "ExecuteTime": {
     "end_time": "2021-09-16T02:12:08.524196Z",
     "start_time": "2021-09-16T02:12:08.524196Z"
    },
    "id": "P3a6w6-vZiVx"
   },
   "outputs": [
    {
     "name": "stdout",
     "output_type": "stream",
     "text": [
      "Palindrome\n"
     ]
    }
   ],
   "source": [
    "def is_palindrome(string):\n",
    "    reversed_string=\"\"\n",
    "   # transversing through string from last\n",
    "    for i in range(len(string),0,-1):\n",
    "      # Addind last characters of string into a new string\n",
    "        reversed_string+=string[i-1]\n",
    "    if string==reversed_string:\n",
    "        print(\"Palindrome\")\n",
    "    else:\n",
    "        print(\"Not a palindrome\")\n",
    "            \n",
    "\n",
    "is_palindrome(\"racecar\")"
   ]
  },
  {
   "cell_type": "code",
   "execution_count": 28,
   "metadata": {},
   "outputs": [
    {
     "data": {
      "text/plain": [
       "'darGpu'"
      ]
     },
     "execution_count": 28,
     "metadata": {},
     "output_type": "execute_result"
    }
   ],
   "source": [
    "def mystery(string):\n",
    "    if len(string)==1:\n",
    "        return string\n",
    "    return string[-1]+mystery(string[:-1])\n",
    "\n",
    "\n",
    "mystery(\"upGrad\")"
   ]
  },
  {
   "cell_type": "code",
   "execution_count": 29,
   "metadata": {},
   "outputs": [
    {
     "name": "stdout",
     "output_type": "stream",
     "text": [
      "aa\n",
      "ab\n",
      "ba\n",
      "bb\n"
     ]
    }
   ],
   "source": [
    "def magic_print(values,string,k):\n",
    "    if k==0:\n",
    "        print(string)\n",
    "        return\n",
    "    for i in values:\n",
    "        magic_print(values,string+i,k-1)\n",
    "\n",
    "values= 'ab'\n",
    "count = 2\n",
    "magic_print(values,\"\",count)"
   ]
  }
 ],
 "metadata": {
  "colab": {
   "collapsed_sections": [],
   "name": "Algorithm_Analysis_local_v1.ipynb",
   "provenance": []
  },
  "kernelspec": {
   "display_name": "Python 3 (ipykernel)",
   "language": "python",
   "name": "python3"
  },
  "language_info": {
   "codemirror_mode": {
    "name": "ipython",
    "version": 3
   },
   "file_extension": ".py",
   "mimetype": "text/x-python",
   "name": "python",
   "nbconvert_exporter": "python",
   "pygments_lexer": "ipython3",
   "version": "3.9.7"
  }
 },
 "nbformat": 4,
 "nbformat_minor": 1
}
