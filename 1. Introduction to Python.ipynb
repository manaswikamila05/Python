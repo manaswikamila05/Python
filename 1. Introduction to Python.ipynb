{
 "cells": [
  {
   "cell_type": "code",
   "execution_count": null,
   "id": "55a9d954",
   "metadata": {},
   "outputs": [],
   "source": [
    "# Basics of Python\n",
    "# Data strusctures in Python\n",
    "# Control structures\n",
    "# OOP"
   ]
  },
  {
   "cell_type": "code",
   "execution_count": 88,
   "id": "ac1a5ecf",
   "metadata": {},
   "outputs": [],
   "source": [
    "# Python is a general-purpose programming language that was named after Monty Python. \n",
    "# Currently, there are two common versions of Python: Version 2 and 3 and later.\n",
    "# open source\n",
    "# supportive user community"
   ]
  },
  {
   "cell_type": "markdown",
   "id": "bfc55381",
   "metadata": {},
   "source": [
    "# Print"
   ]
  },
  {
   "cell_type": "code",
   "execution_count": null,
   "id": "7a33f727",
   "metadata": {},
   "outputs": [],
   "source": [
    "# Python program works on an Interpreter\n",
    "\n",
    "print(\"Hello!\")"
   ]
  },
  {
   "cell_type": "code",
   "execution_count": null,
   "id": "52bf38d0",
   "metadata": {},
   "outputs": [],
   "source": [
    "# Print statement, input data\n",
    "\n",
    "name = input(\"What is your name?: \")\n",
    "print(\"Welcome\", name)"
   ]
  },
  {
   "cell_type": "code",
   "execution_count": null,
   "id": "cdc2df03",
   "metadata": {},
   "outputs": [],
   "source": [
    "#Imaginary giraffe\n",
    "print(\"O    \")\n",
    "print(\"|    \")\n",
    "print(\"|____\")\n",
    "print(\" ||||\")\n",
    "print(\" ||||\")"
   ]
  },
  {
   "cell_type": "code",
   "execution_count": 171,
   "id": "d4cfa609",
   "metadata": {},
   "outputs": [
    {
     "name": "stdout",
     "output_type": "stream",
     "text": [
      "$*$            $*$            $*$            \n"
     ]
    }
   ],
   "source": [
    "# Print statement\n",
    "# Any character(s) whether it be numeric or text enclosed within \" \" or ' ' gets considered as a string\n",
    "# Below statement would print the characters the specified number of times\n",
    "\n",
    "print(\"$*$            \" * 3)"
   ]
  },
  {
   "cell_type": "code",
   "execution_count": 89,
   "id": "5ff1eac3",
   "metadata": {},
   "outputs": [
    {
     "name": "stdout",
     "output_type": "stream",
     "text": [
      "Hello! Hello!\n"
     ]
    }
   ],
   "source": [
    "print(\"Hello!\", end=\" \")\n",
    "print(\"Hello!\")"
   ]
  },
  {
   "cell_type": "code",
   "execution_count": 90,
   "id": "1d290c91",
   "metadata": {},
   "outputs": [
    {
     "name": "stdout",
     "output_type": "stream",
     "text": [
      "Hello!$Hello!\n"
     ]
    }
   ],
   "source": [
    "print(\"Hello!\", end=\"$\")\n",
    "print(\"Hello!\")"
   ]
  },
  {
   "cell_type": "markdown",
   "id": "4fd05a3b",
   "metadata": {},
   "source": [
    "# Import"
   ]
  },
  {
   "cell_type": "code",
   "execution_count": 91,
   "id": "0060d71e",
   "metadata": {},
   "outputs": [],
   "source": [
    "import math"
   ]
  },
  {
   "cell_type": "code",
   "execution_count": 92,
   "id": "2b835ee5",
   "metadata": {},
   "outputs": [
    {
     "data": {
      "text/plain": [
       "5.0"
      ]
     },
     "execution_count": 92,
     "metadata": {},
     "output_type": "execute_result"
    }
   ],
   "source": [
    "math.sqrt(25)"
   ]
  },
  {
   "cell_type": "code",
   "execution_count": 172,
   "id": "00ba15da",
   "metadata": {},
   "outputs": [
    {
     "data": {
      "text/plain": [
       "3.141592653589793"
      ]
     },
     "execution_count": 172,
     "metadata": {},
     "output_type": "execute_result"
    }
   ],
   "source": [
    "math.pi"
   ]
  },
  {
   "cell_type": "code",
   "execution_count": 94,
   "id": "aab4373a",
   "metadata": {},
   "outputs": [
    {
     "data": {
      "text/plain": [
       "'this is a documnetation'"
      ]
     },
     "execution_count": 94,
     "metadata": {},
     "output_type": "execute_result"
    }
   ],
   "source": [
    "\"\"\"this is a documentation\"\"\""
   ]
  },
  {
   "cell_type": "code",
   "execution_count": 95,
   "id": "5c40f6d4",
   "metadata": {},
   "outputs": [
    {
     "name": "stdout",
     "output_type": "stream",
     "text": [
      "Manaswi\n"
     ]
    }
   ],
   "source": [
    "\"\"\"this is a documentation\"\"\"\n",
    "var1 = \"Manaswi\"\n",
    "print(var1)"
   ]
  },
  {
   "cell_type": "markdown",
   "id": "2b4057cf",
   "metadata": {},
   "source": [
    "# Variables"
   ]
  },
  {
   "cell_type": "code",
   "execution_count": null,
   "id": "e218a2b7",
   "metadata": {},
   "outputs": [],
   "source": [
    "# Python variables are a container or reserved memory location that can store any type of value and of any particular size.\n",
    "# Variables in Python don't need initialization. \n",
    "\n",
    "var1 = \"Manaswi\"\n",
    "print(var1)"
   ]
  },
  {
   "cell_type": "code",
   "execution_count": null,
   "id": "ab9fdc31",
   "metadata": {},
   "outputs": [],
   "source": [
    "var2=6\n",
    "print(var2)"
   ]
  },
  {
   "cell_type": "code",
   "execution_count": 96,
   "id": "b55d3ec7",
   "metadata": {},
   "outputs": [
    {
     "data": {
      "text/plain": [
       "int"
      ]
     },
     "execution_count": 96,
     "metadata": {},
     "output_type": "execute_result"
    }
   ],
   "source": [
    "age = 20 \n",
    "type(age)"
   ]
  },
  {
   "cell_type": "code",
   "execution_count": 97,
   "id": "71ab250a",
   "metadata": {},
   "outputs": [
    {
     "data": {
      "text/plain": [
       "str"
      ]
     },
     "execution_count": 97,
     "metadata": {},
     "output_type": "execute_result"
    }
   ],
   "source": [
    "age = 'twenty'\n",
    "type(age)"
   ]
  },
  {
   "cell_type": "code",
   "execution_count": 98,
   "id": "07405ca8",
   "metadata": {},
   "outputs": [],
   "source": [
    "z = 3+4j"
   ]
  },
  {
   "cell_type": "code",
   "execution_count": 99,
   "id": "910ce467",
   "metadata": {},
   "outputs": [
    {
     "data": {
      "text/plain": [
       "3.0"
      ]
     },
     "execution_count": 99,
     "metadata": {},
     "output_type": "execute_result"
    }
   ],
   "source": [
    "z.real"
   ]
  },
  {
   "cell_type": "code",
   "execution_count": 100,
   "id": "19372ed2",
   "metadata": {},
   "outputs": [
    {
     "data": {
      "text/plain": [
       "4.0"
      ]
     },
     "execution_count": 100,
     "metadata": {},
     "output_type": "execute_result"
    }
   ],
   "source": [
    "z.imag"
   ]
  },
  {
   "cell_type": "code",
   "execution_count": 13,
   "id": "aef77f2d",
   "metadata": {},
   "outputs": [
    {
     "name": "stdout",
     "output_type": "stream",
     "text": [
      "Input a number: 10\n",
      "Number 10\n"
     ]
    }
   ],
   "source": [
    "# To get a input from a user we would use the 'input' function\n",
    "\n",
    "num = input(\"Input a number: \")\n",
    "print(\"Number\", num)"
   ]
  },
  {
   "cell_type": "code",
   "execution_count": 14,
   "id": "d8df79c0",
   "metadata": {},
   "outputs": [
    {
     "name": "stdout",
     "output_type": "stream",
     "text": [
      "Enter your age : 27\n",
      "You are  272727272727272727272727  months old\n"
     ]
    }
   ],
   "source": [
    "# Perform operation on input received?\n",
    "age = input(\"Enter your age : \")\n",
    "print(\"You are \" , age*12 , \" months old\")"
   ]
  },
  {
   "cell_type": "code",
   "execution_count": 16,
   "id": "d2788e8e",
   "metadata": {},
   "outputs": [
    {
     "name": "stdout",
     "output_type": "stream",
     "text": [
      "Enter your age : 27\n",
      "You are  272727272727272727272727  months old\n",
      "<class 'str'>\n"
     ]
    }
   ],
   "source": [
    "# Perform operation on input received?\n",
    "age = input(\"Enter your age : \")\n",
    "print(\"You are \" , (age*12) , \" months old\")\n",
    "print(type(age))"
   ]
  },
  {
   "cell_type": "code",
   "execution_count": 18,
   "id": "02c4cc3d",
   "metadata": {},
   "outputs": [
    {
     "name": "stdout",
     "output_type": "stream",
     "text": [
      "Enter your age : 27\n",
      "You are  324  months old\n"
     ]
    }
   ],
   "source": [
    "# Perform operation on input received?\n",
    "# Changing the datatype of variables is called typecasting\n",
    "# input function always reads data in a string\n",
    "age = input(\"Enter your age : \")\n",
    "print(\"You are \" , int(age)*12 , \" months old\")"
   ]
  },
  {
   "cell_type": "code",
   "execution_count": 19,
   "id": "ff961729",
   "metadata": {},
   "outputs": [
    {
     "name": "stdout",
     "output_type": "stream",
     "text": [
      "<class 'int'>\n",
      "<class 'float'>\n",
      "<class 'str'>\n",
      "<class 'bool'>\n"
     ]
    }
   ],
   "source": [
    "# find the data type of a variable use type()\n",
    "\n",
    "integer_num = 1\n",
    "floating_num = 1.3\n",
    "string = 'Mike'\n",
    "boolean = True\n",
    "\n",
    "print (type(integer_num))\n",
    "print (type(floating_num))\n",
    "print (type(string))\n",
    "print (type(boolean))"
   ]
  },
  {
   "cell_type": "code",
   "execution_count": 21,
   "id": "a3d2f31a",
   "metadata": {},
   "outputs": [
    {
     "name": "stdout",
     "output_type": "stream",
     "text": [
      "True\n",
      "1.0\n",
      "1\n"
     ]
    }
   ],
   "source": [
    "# Type Casting in Python\n",
    "\n",
    "a = 1\n",
    "print ( bool(a))\n",
    "print ( float(a))\n",
    "print ( str(a))"
   ]
  },
  {
   "cell_type": "markdown",
   "id": "7ee89ae7",
   "metadata": {},
   "source": [
    "# Arithmetic operations"
   ]
  },
  {
   "cell_type": "code",
   "execution_count": 22,
   "id": "7096b6b0",
   "metadata": {},
   "outputs": [
    {
     "name": "stdout",
     "output_type": "stream",
     "text": [
      "Addition  =  13\n",
      "Subtraction =  -1\n",
      "Multiplication =  42\n",
      "Division =  0.8571428571428571\n",
      "Floor Division =  0\n",
      "Modulus or remainder 6\n",
      "Exponential =  279936\n"
     ]
    }
   ],
   "source": [
    "a = 6\n",
    "b = 7\n",
    "print(\"Addition  = \", a + b)  \n",
    "print(\"Subtraction = \", a - b) \n",
    "print(\"Multiplication = \", a * b) \n",
    "print(\"Division = \", a / b)\n",
    "print(\"Floor Division = \", a // b) \n",
    "print(\"Modulus or remainder\",a % b) \n",
    "print(\"Exponential = \", a ** b)"
   ]
  },
  {
   "cell_type": "code",
   "execution_count": 23,
   "id": "b67f88b9",
   "metadata": {},
   "outputs": [
    {
     "name": "stdout",
     "output_type": "stream",
     "text": [
      "11.857142857142858\n"
     ]
    }
   ],
   "source": [
    "# mathematical operators follow a precedence rule called PEDMAS\n",
    "# Wherein the fist P is parenthesis, then it's E for exponents, M for multiplication, then D for division, \n",
    "# A for addition and finally S for subtraction.\n",
    "\n",
    "print((4 * 5) - 9 + 6 / 7)"
   ]
  },
  {
   "cell_type": "code",
   "execution_count": null,
   "id": "83366678",
   "metadata": {},
   "outputs": [],
   "source": [
    "# Explanation\n",
    "# 4*5 = 20\n",
    "# 6/7 = 0.8571\n",
    "# 20 -9 + 0.8571 = 11.857"
   ]
  },
  {
   "cell_type": "markdown",
   "id": "03246517",
   "metadata": {},
   "source": [
    "# String Operations"
   ]
  },
  {
   "cell_type": "code",
   "execution_count": 24,
   "id": "9b3f33a8",
   "metadata": {},
   "outputs": [],
   "source": [
    "# string data is an immutable type which means it cannot be modified.\n",
    "# Whenever we are assigning a char or string we use '' which represents a character\n",
    "# We can also use \" \" double quotes instead of single quotes for strings\n",
    "\n",
    "c = 'z'\n",
    "d = 'Mike'\n",
    "e = \"John\""
   ]
  },
  {
   "cell_type": "code",
   "execution_count": 25,
   "id": "32e70b44",
   "metadata": {},
   "outputs": [
    {
     "ename": "SyntaxError",
     "evalue": "invalid syntax (Temp/ipykernel_6892/2017692418.py, line 2)",
     "output_type": "error",
     "traceback": [
      "\u001b[1;36m  File \u001b[1;32m\"C:\\Users\\manas\\AppData\\Local\\Temp/ipykernel_6892/2017692418.py\"\u001b[1;36m, line \u001b[1;32m2\u001b[0m\n\u001b[1;33m    print('I didn't know that')\u001b[0m\n\u001b[1;37m                  ^\u001b[0m\n\u001b[1;31mSyntaxError\u001b[0m\u001b[1;31m:\u001b[0m invalid syntax\n"
     ]
    }
   ],
   "source": [
    "# Now when we want to include words with a single quote such as \"didn't\", \"I'll\".. we might end up with a error\n",
    "print('I didn't know that')"
   ]
  },
  {
   "cell_type": "code",
   "execution_count": 26,
   "id": "4d508df7",
   "metadata": {},
   "outputs": [
    {
     "name": "stdout",
     "output_type": "stream",
     "text": [
      "I didn't know that\n"
     ]
    }
   ],
   "source": [
    "# We can use an escape character like \n",
    "print('I didn\\'t know that')"
   ]
  },
  {
   "cell_type": "code",
   "execution_count": 27,
   "id": "dbbc4d85",
   "metadata": {},
   "outputs": [
    {
     "name": "stdout",
     "output_type": "stream",
     "text": [
      "I didn't know that\n"
     ]
    }
   ],
   "source": [
    "# Or we can use double quotes\n",
    "print(\"I didn't know that\")"
   ]
  },
  {
   "cell_type": "code",
   "execution_count": 28,
   "id": "1c4a5eb7",
   "metadata": {},
   "outputs": [
    {
     "name": "stdout",
     "output_type": "stream",
     "text": [
      "Hi Bob \n",
      "\n",
      "How are you?\n"
     ]
    }
   ],
   "source": [
    "# Escape character - adding a new line\n",
    "print(\"Hi Bob \\n\\nHow are you?\")"
   ]
  },
  {
   "cell_type": "code",
   "execution_count": 29,
   "id": "e83b692b",
   "metadata": {},
   "outputs": [
    {
     "name": "stdout",
     "output_type": "stream",
     "text": [
      "What flavour would you like? Vanilla\n",
      "What type of dessert would you like? Ice cream\n",
      "You have ordered Vanilla-Ice cream\n"
     ]
    }
   ],
   "source": [
    "# String Concatenation - Adding strings one after the other - use + operator\n",
    "\n",
    "flavour=input(\"What flavour would you like? \")\n",
    "dessert_type=input(\"What type of dessert would you like? \")\n",
    "print(\"You have ordered\", flavour+\"-\"+dessert_type)"
   ]
  },
  {
   "cell_type": "code",
   "execution_count": 30,
   "id": "a0f4a5d5",
   "metadata": {},
   "outputs": [],
   "source": [
    "# Indexing In Strings\n",
    "\n",
    "# Forward indexing starts with 0 in a python string\n",
    "# Reverse indexing starts with the last character as -1 in a python string\n",
    "# Strings are immutable which, means they cannot be changed once created.\n",
    "# Strings can be modified by slicing a part of it and concatenating with another"
   ]
  },
  {
   "cell_type": "code",
   "execution_count": 31,
   "id": "2626aa29",
   "metadata": {},
   "outputs": [
    {
     "data": {
      "text/plain": [
       "82"
      ]
     },
     "execution_count": 31,
     "metadata": {},
     "output_type": "execute_result"
    }
   ],
   "source": [
    "# len() function\n",
    "string = \"I have not failed. I’ve just found 10,000 ways that won’t work. – Thomas A. Edison\"\n",
    "len(string)"
   ]
  },
  {
   "cell_type": "code",
   "execution_count": 33,
   "id": "3b1bde07",
   "metadata": {},
   "outputs": [
    {
     "name": "stdout",
     "output_type": "stream",
     "text": [
      "I\n",
      "I\n"
     ]
    }
   ],
   "source": [
    "#Accessing first character using negative indexing\n",
    "print(string[-82])\n",
    "print(string[0])"
   ]
  },
  {
   "cell_type": "code",
   "execution_count": 35,
   "id": "d33bfcd8",
   "metadata": {},
   "outputs": [
    {
     "name": "stdout",
     "output_type": "stream",
     "text": [
      "n\n",
      "n\n"
     ]
    }
   ],
   "source": [
    "#Accessing last character using negative indexing\n",
    "print(string[-1])\n",
    "print(string[81]) "
   ]
  },
  {
   "cell_type": "code",
   "execution_count": 36,
   "id": "900fcd7b",
   "metadata": {},
   "outputs": [
    {
     "ename": "TypeError",
     "evalue": "'str' object does not support item assignment",
     "output_type": "error",
     "traceback": [
      "\u001b[1;31m---------------------------------------------------------------------------\u001b[0m",
      "\u001b[1;31mTypeError\u001b[0m                                 Traceback (most recent call last)",
      "\u001b[1;32m~\\AppData\\Local\\Temp/ipykernel_6892/3166205802.py\u001b[0m in \u001b[0;36m<module>\u001b[1;34m\u001b[0m\n\u001b[0;32m      2\u001b[0m \u001b[1;31m# Strings are immutable\u001b[0m\u001b[1;33m\u001b[0m\u001b[1;33m\u001b[0m\u001b[0m\n\u001b[0;32m      3\u001b[0m \u001b[1;33m\u001b[0m\u001b[0m\n\u001b[1;32m----> 4\u001b[1;33m \u001b[0mstring\u001b[0m\u001b[1;33m[\u001b[0m\u001b[1;36m2\u001b[0m\u001b[1;33m]\u001b[0m \u001b[1;33m=\u001b[0m \u001b[1;34m't'\u001b[0m\u001b[1;33m\u001b[0m\u001b[1;33m\u001b[0m\u001b[0m\n\u001b[0m",
      "\u001b[1;31mTypeError\u001b[0m: 'str' object does not support item assignment"
     ]
    }
   ],
   "source": [
    "# Trying to change the character at index 2\n",
    "# Strings are immutable\n",
    "\n",
    "string[2] = 't'"
   ]
  },
  {
   "cell_type": "code",
   "execution_count": 37,
   "id": "bfa28718",
   "metadata": {},
   "outputs": [
    {
     "name": "stdout",
     "output_type": "stream",
     "text": [
      "I have not failed. I’ve just found 10,000 ways that won’t work. \n"
     ]
    }
   ],
   "source": [
    "# Slicing In Strings\n",
    "\n",
    "statement = \"I have not failed. I’ve just found 10,000 ways that won’t work. – Thomas A. Edison\"\n",
    "sliced_statement = statement[0:64]\n",
    "print(sliced_statement)"
   ]
  },
  {
   "cell_type": "code",
   "execution_count": 40,
   "id": "a9e45442",
   "metadata": {},
   "outputs": [
    {
     "name": "stdout",
     "output_type": "stream",
     "text": [
      "I have not failed.\n"
     ]
    }
   ],
   "source": [
    "sliced_statement = statement[ :18]\n",
    "print(sliced_statement)"
   ]
  },
  {
   "cell_type": "code",
   "execution_count": 42,
   "id": "56b57a5f",
   "metadata": {},
   "outputs": [
    {
     "name": "stdout",
     "output_type": "stream",
     "text": [
      "I’ve just found 10,000 ways that won’t work. – Thomas A. Edison\n"
     ]
    }
   ],
   "source": [
    "print(statement[ 19: ])"
   ]
  },
  {
   "cell_type": "code",
   "execution_count": 44,
   "id": "ebb5fa56",
   "metadata": {},
   "outputs": [
    {
     "name": "stdout",
     "output_type": "stream",
     "text": [
      "False\n",
      "True\n",
      "False\n",
      "True\n"
     ]
    }
   ],
   "source": [
    "# Membership \n",
    "# Substring check\n",
    "\n",
    "String = \"John! Did you attend the conference on advanced machine learning\"\n",
    "print( 'Lincoln' in String)\n",
    "print( 'conference' in String)\n",
    "\n",
    "print ( 'machine' not in String)\n",
    "print ( 'JOHN' not in String)"
   ]
  },
  {
   "cell_type": "code",
   "execution_count": 45,
   "id": "2d1369a3",
   "metadata": {},
   "outputs": [],
   "source": [
    "# String methods\n",
    "#upper()\n",
    "#lower()\n",
    "#strip()\n",
    "#count(substring,begin,end)"
   ]
  },
  {
   "cell_type": "code",
   "execution_count": 46,
   "id": "0ab714fb",
   "metadata": {},
   "outputs": [
    {
     "name": "stdout",
     "output_type": "stream",
     "text": [
      "I AM UPPER CASED\n"
     ]
    }
   ],
   "source": [
    "# upper() \n",
    "small = \"i am upper cased\"\n",
    "print(small.upper())"
   ]
  },
  {
   "cell_type": "code",
   "execution_count": 47,
   "id": "c7b6d83a",
   "metadata": {},
   "outputs": [
    {
     "name": "stdout",
     "output_type": "stream",
     "text": [
      "i am lower cased\n"
     ]
    }
   ],
   "source": [
    "# lower() \n",
    "large = \"I AM LOWER CASED\"\n",
    "print(large.lower())"
   ]
  },
  {
   "cell_type": "code",
   "execution_count": 51,
   "id": "daf98da8",
   "metadata": {},
   "outputs": [
    {
     "name": "stdout",
     "output_type": "stream",
     "text": [
      "There is a space at the end    \n",
      "31\n",
      "There is a space at the end\n",
      "27\n"
     ]
    }
   ],
   "source": [
    "# rstrip () function - strips space at the end of the string\n",
    "some_sentence = \"There is a space at the end    \"\n",
    "print(some_sentence)\n",
    "print(len(some_sentence))\n",
    "print(some_sentence.rstrip())\n",
    "print(len(some_sentence.rstrip()))"
   ]
  },
  {
   "cell_type": "code",
   "execution_count": 52,
   "id": "fe3eeae3",
   "metadata": {},
   "outputs": [
    {
     "name": "stdout",
     "output_type": "stream",
     "text": [
      "   There is space at the start\n",
      "There is space at the start\n"
     ]
    }
   ],
   "source": [
    "# lstrip() function\n",
    "start = \"   There is space at the start\"\n",
    "print(start)\n",
    "print(start.lstrip())"
   ]
  },
  {
   "cell_type": "code",
   "execution_count": 55,
   "id": "09ccbe5a",
   "metadata": {},
   "outputs": [
    {
     "name": "stdout",
     "output_type": "stream",
     "text": [
      "   Trim                  whitespaces  \n",
      "Trim                  whitespaces\n"
     ]
    }
   ],
   "source": [
    "# strip() function - left and right side of the string\n",
    "spaces = \"   Trim                  whitespaces  \"\n",
    "print(spaces)\n",
    "print(spaces.strip())"
   ]
  },
  {
   "cell_type": "code",
   "execution_count": 56,
   "id": "d4b4f321",
   "metadata": {},
   "outputs": [
    {
     "name": "stdout",
     "output_type": "stream",
     "text": [
      "444\n"
     ]
    }
   ],
   "source": [
    "num_with_chars = '******444#######'\n",
    "print(num_with_chars.rstrip('#').lstrip('*'))"
   ]
  },
  {
   "cell_type": "code",
   "execution_count": 59,
   "id": "31fa318c",
   "metadata": {},
   "outputs": [
    {
     "name": "stdout",
     "output_type": "stream",
     "text": [
      "2\n"
     ]
    }
   ],
   "source": [
    "# count() function - number of occurences of a character\n",
    "num_with_chars = '******46474549454648#######'\n",
    "\n",
    "print(num_with_chars.count('45'))"
   ]
  },
  {
   "cell_type": "code",
   "execution_count": 70,
   "id": "0d24879f",
   "metadata": {},
   "outputs": [
    {
     "name": "stdout",
     "output_type": "stream",
     "text": [
      "0\n",
      "1\n",
      "******4647454\n"
     ]
    }
   ],
   "source": [
    "# number of occurences of a character after specified index\n",
    "\n",
    "print(num_with_chars.count('45',20))\n",
    "print(num_with_chars.count('45',13))\n",
    "print(num_with_chars[ : 13])"
   ]
  },
  {
   "cell_type": "code",
   "execution_count": 57,
   "id": "bf17c8f4",
   "metadata": {},
   "outputs": [
    {
     "name": "stdout",
     "output_type": "stream",
     "text": [
      "Data Analysis using Pandas\n"
     ]
    }
   ],
   "source": [
    "# string formatting\n",
    "\n",
    "A = \"Data\"\n",
    "B = \"Analysis\"\n",
    "C = \"Pandas\"\n",
    "\n",
    "print(\"{0} {1} using {2}\".format(A,B,C))"
   ]
  },
  {
   "cell_type": "code",
   "execution_count": 72,
   "id": "d3acb9f4",
   "metadata": {},
   "outputs": [
    {
     "name": "stdout",
     "output_type": "stream",
     "text": [
      "['Hello', 'World!']\n"
     ]
    }
   ],
   "source": [
    "# split() - splits the string into substrings based on the separator chosen\n",
    "# the final outcome is a list which has the substrings in it. \n",
    "\n",
    "a = \"Hello World!\"\n",
    "print(a.split(\" \")) "
   ]
  },
  {
   "cell_type": "code",
   "execution_count": 101,
   "id": "0bf51212",
   "metadata": {},
   "outputs": [
    {
     "name": "stdout",
     "output_type": "stream",
     "text": [
      "Help on class str in module builtins:\n",
      "\n",
      "class str(object)\n",
      " |  str(object='') -> str\n",
      " |  str(bytes_or_buffer[, encoding[, errors]]) -> str\n",
      " |  \n",
      " |  Create a new string object from the given object. If encoding or\n",
      " |  errors is specified, then the object must expose a data buffer\n",
      " |  that will be decoded using the given encoding and error handler.\n",
      " |  Otherwise, returns the result of object.__str__() (if defined)\n",
      " |  or repr(object).\n",
      " |  encoding defaults to sys.getdefaultencoding().\n",
      " |  errors defaults to 'strict'.\n",
      " |  \n",
      " |  Methods defined here:\n",
      " |  \n",
      " |  __add__(self, value, /)\n",
      " |      Return self+value.\n",
      " |  \n",
      " |  __contains__(self, key, /)\n",
      " |      Return key in self.\n",
      " |  \n",
      " |  __eq__(self, value, /)\n",
      " |      Return self==value.\n",
      " |  \n",
      " |  __format__(self, format_spec, /)\n",
      " |      Return a formatted version of the string as described by format_spec.\n",
      " |  \n",
      " |  __ge__(self, value, /)\n",
      " |      Return self>=value.\n",
      " |  \n",
      " |  __getattribute__(self, name, /)\n",
      " |      Return getattr(self, name).\n",
      " |  \n",
      " |  __getitem__(self, key, /)\n",
      " |      Return self[key].\n",
      " |  \n",
      " |  __getnewargs__(...)\n",
      " |  \n",
      " |  __gt__(self, value, /)\n",
      " |      Return self>value.\n",
      " |  \n",
      " |  __hash__(self, /)\n",
      " |      Return hash(self).\n",
      " |  \n",
      " |  __iter__(self, /)\n",
      " |      Implement iter(self).\n",
      " |  \n",
      " |  __le__(self, value, /)\n",
      " |      Return self<=value.\n",
      " |  \n",
      " |  __len__(self, /)\n",
      " |      Return len(self).\n",
      " |  \n",
      " |  __lt__(self, value, /)\n",
      " |      Return self<value.\n",
      " |  \n",
      " |  __mod__(self, value, /)\n",
      " |      Return self%value.\n",
      " |  \n",
      " |  __mul__(self, value, /)\n",
      " |      Return self*value.\n",
      " |  \n",
      " |  __ne__(self, value, /)\n",
      " |      Return self!=value.\n",
      " |  \n",
      " |  __repr__(self, /)\n",
      " |      Return repr(self).\n",
      " |  \n",
      " |  __rmod__(self, value, /)\n",
      " |      Return value%self.\n",
      " |  \n",
      " |  __rmul__(self, value, /)\n",
      " |      Return value*self.\n",
      " |  \n",
      " |  __sizeof__(self, /)\n",
      " |      Return the size of the string in memory, in bytes.\n",
      " |  \n",
      " |  __str__(self, /)\n",
      " |      Return str(self).\n",
      " |  \n",
      " |  capitalize(self, /)\n",
      " |      Return a capitalized version of the string.\n",
      " |      \n",
      " |      More specifically, make the first character have upper case and the rest lower\n",
      " |      case.\n",
      " |  \n",
      " |  casefold(self, /)\n",
      " |      Return a version of the string suitable for caseless comparisons.\n",
      " |  \n",
      " |  center(self, width, fillchar=' ', /)\n",
      " |      Return a centered string of length width.\n",
      " |      \n",
      " |      Padding is done using the specified fill character (default is a space).\n",
      " |  \n",
      " |  count(...)\n",
      " |      S.count(sub[, start[, end]]) -> int\n",
      " |      \n",
      " |      Return the number of non-overlapping occurrences of substring sub in\n",
      " |      string S[start:end].  Optional arguments start and end are\n",
      " |      interpreted as in slice notation.\n",
      " |  \n",
      " |  encode(self, /, encoding='utf-8', errors='strict')\n",
      " |      Encode the string using the codec registered for encoding.\n",
      " |      \n",
      " |      encoding\n",
      " |        The encoding in which to encode the string.\n",
      " |      errors\n",
      " |        The error handling scheme to use for encoding errors.\n",
      " |        The default is 'strict' meaning that encoding errors raise a\n",
      " |        UnicodeEncodeError.  Other possible values are 'ignore', 'replace' and\n",
      " |        'xmlcharrefreplace' as well as any other name registered with\n",
      " |        codecs.register_error that can handle UnicodeEncodeErrors.\n",
      " |  \n",
      " |  endswith(...)\n",
      " |      S.endswith(suffix[, start[, end]]) -> bool\n",
      " |      \n",
      " |      Return True if S ends with the specified suffix, False otherwise.\n",
      " |      With optional start, test S beginning at that position.\n",
      " |      With optional end, stop comparing S at that position.\n",
      " |      suffix can also be a tuple of strings to try.\n",
      " |  \n",
      " |  expandtabs(self, /, tabsize=8)\n",
      " |      Return a copy where all tab characters are expanded using spaces.\n",
      " |      \n",
      " |      If tabsize is not given, a tab size of 8 characters is assumed.\n",
      " |  \n",
      " |  find(...)\n",
      " |      S.find(sub[, start[, end]]) -> int\n",
      " |      \n",
      " |      Return the lowest index in S where substring sub is found,\n",
      " |      such that sub is contained within S[start:end].  Optional\n",
      " |      arguments start and end are interpreted as in slice notation.\n",
      " |      \n",
      " |      Return -1 on failure.\n",
      " |  \n",
      " |  format(...)\n",
      " |      S.format(*args, **kwargs) -> str\n",
      " |      \n",
      " |      Return a formatted version of S, using substitutions from args and kwargs.\n",
      " |      The substitutions are identified by braces ('{' and '}').\n",
      " |  \n",
      " |  format_map(...)\n",
      " |      S.format_map(mapping) -> str\n",
      " |      \n",
      " |      Return a formatted version of S, using substitutions from mapping.\n",
      " |      The substitutions are identified by braces ('{' and '}').\n",
      " |  \n",
      " |  index(...)\n",
      " |      S.index(sub[, start[, end]]) -> int\n",
      " |      \n",
      " |      Return the lowest index in S where substring sub is found,\n",
      " |      such that sub is contained within S[start:end].  Optional\n",
      " |      arguments start and end are interpreted as in slice notation.\n",
      " |      \n",
      " |      Raises ValueError when the substring is not found.\n",
      " |  \n",
      " |  isalnum(self, /)\n",
      " |      Return True if the string is an alpha-numeric string, False otherwise.\n",
      " |      \n",
      " |      A string is alpha-numeric if all characters in the string are alpha-numeric and\n",
      " |      there is at least one character in the string.\n",
      " |  \n",
      " |  isalpha(self, /)\n",
      " |      Return True if the string is an alphabetic string, False otherwise.\n",
      " |      \n",
      " |      A string is alphabetic if all characters in the string are alphabetic and there\n",
      " |      is at least one character in the string.\n",
      " |  \n",
      " |  isascii(self, /)\n",
      " |      Return True if all characters in the string are ASCII, False otherwise.\n",
      " |      \n",
      " |      ASCII characters have code points in the range U+0000-U+007F.\n",
      " |      Empty string is ASCII too.\n",
      " |  \n",
      " |  isdecimal(self, /)\n",
      " |      Return True if the string is a decimal string, False otherwise.\n",
      " |      \n",
      " |      A string is a decimal string if all characters in the string are decimal and\n",
      " |      there is at least one character in the string.\n",
      " |  \n",
      " |  isdigit(self, /)\n",
      " |      Return True if the string is a digit string, False otherwise.\n",
      " |      \n",
      " |      A string is a digit string if all characters in the string are digits and there\n",
      " |      is at least one character in the string.\n",
      " |  \n",
      " |  isidentifier(self, /)\n",
      " |      Return True if the string is a valid Python identifier, False otherwise.\n",
      " |      \n",
      " |      Call keyword.iskeyword(s) to test whether string s is a reserved identifier,\n",
      " |      such as \"def\" or \"class\".\n",
      " |  \n",
      " |  islower(self, /)\n",
      " |      Return True if the string is a lowercase string, False otherwise.\n",
      " |      \n",
      " |      A string is lowercase if all cased characters in the string are lowercase and\n",
      " |      there is at least one cased character in the string.\n",
      " |  \n",
      " |  isnumeric(self, /)\n",
      " |      Return True if the string is a numeric string, False otherwise.\n",
      " |      \n",
      " |      A string is numeric if all characters in the string are numeric and there is at\n",
      " |      least one character in the string.\n",
      " |  \n",
      " |  isprintable(self, /)\n",
      " |      Return True if the string is printable, False otherwise.\n",
      " |      \n",
      " |      A string is printable if all of its characters are considered printable in\n",
      " |      repr() or if it is empty.\n",
      " |  \n",
      " |  isspace(self, /)\n",
      " |      Return True if the string is a whitespace string, False otherwise.\n",
      " |      \n",
      " |      A string is whitespace if all characters in the string are whitespace and there\n",
      " |      is at least one character in the string.\n",
      " |  \n",
      " |  istitle(self, /)\n",
      " |      Return True if the string is a title-cased string, False otherwise.\n",
      " |      \n",
      " |      In a title-cased string, upper- and title-case characters may only\n",
      " |      follow uncased characters and lowercase characters only cased ones.\n",
      " |  \n",
      " |  isupper(self, /)\n",
      " |      Return True if the string is an uppercase string, False otherwise.\n",
      " |      \n",
      " |      A string is uppercase if all cased characters in the string are uppercase and\n",
      " |      there is at least one cased character in the string.\n",
      " |  \n",
      " |  join(self, iterable, /)\n",
      " |      Concatenate any number of strings.\n",
      " |      \n",
      " |      The string whose method is called is inserted in between each given string.\n",
      " |      The result is returned as a new string.\n",
      " |      \n",
      " |      Example: '.'.join(['ab', 'pq', 'rs']) -> 'ab.pq.rs'\n",
      " |  \n",
      " |  ljust(self, width, fillchar=' ', /)\n",
      " |      Return a left-justified string of length width.\n",
      " |      \n",
      " |      Padding is done using the specified fill character (default is a space).\n",
      " |  \n",
      " |  lower(self, /)\n",
      " |      Return a copy of the string converted to lowercase.\n",
      " |  \n",
      " |  lstrip(self, chars=None, /)\n",
      " |      Return a copy of the string with leading whitespace removed.\n",
      " |      \n",
      " |      If chars is given and not None, remove characters in chars instead.\n",
      " |  \n",
      " |  partition(self, sep, /)\n",
      " |      Partition the string into three parts using the given separator.\n",
      " |      \n",
      " |      This will search for the separator in the string.  If the separator is found,\n",
      " |      returns a 3-tuple containing the part before the separator, the separator\n",
      " |      itself, and the part after it.\n",
      " |      \n",
      " |      If the separator is not found, returns a 3-tuple containing the original string\n",
      " |      and two empty strings.\n",
      " |  \n",
      " |  removeprefix(self, prefix, /)\n",
      " |      Return a str with the given prefix string removed if present.\n",
      " |      \n",
      " |      If the string starts with the prefix string, return string[len(prefix):].\n",
      " |      Otherwise, return a copy of the original string.\n",
      " |  \n",
      " |  removesuffix(self, suffix, /)\n",
      " |      Return a str with the given suffix string removed if present.\n",
      " |      \n",
      " |      If the string ends with the suffix string and that suffix is not empty,\n",
      " |      return string[:-len(suffix)]. Otherwise, return a copy of the original\n",
      " |      string.\n",
      " |  \n",
      " |  replace(self, old, new, count=-1, /)\n",
      " |      Return a copy with all occurrences of substring old replaced by new.\n",
      " |      \n",
      " |        count\n",
      " |          Maximum number of occurrences to replace.\n",
      " |          -1 (the default value) means replace all occurrences.\n",
      " |      \n",
      " |      If the optional argument count is given, only the first count occurrences are\n",
      " |      replaced.\n",
      " |  \n",
      " |  rfind(...)\n",
      " |      S.rfind(sub[, start[, end]]) -> int\n",
      " |      \n",
      " |      Return the highest index in S where substring sub is found,\n",
      " |      such that sub is contained within S[start:end].  Optional\n",
      " |      arguments start and end are interpreted as in slice notation.\n",
      " |      \n",
      " |      Return -1 on failure.\n",
      " |  \n",
      " |  rindex(...)\n",
      " |      S.rindex(sub[, start[, end]]) -> int\n",
      " |      \n",
      " |      Return the highest index in S where substring sub is found,\n",
      " |      such that sub is contained within S[start:end].  Optional\n",
      " |      arguments start and end are interpreted as in slice notation.\n",
      " |      \n",
      " |      Raises ValueError when the substring is not found.\n",
      " |  \n",
      " |  rjust(self, width, fillchar=' ', /)\n",
      " |      Return a right-justified string of length width.\n",
      " |      \n",
      " |      Padding is done using the specified fill character (default is a space).\n",
      " |  \n",
      " |  rpartition(self, sep, /)\n",
      " |      Partition the string into three parts using the given separator.\n",
      " |      \n",
      " |      This will search for the separator in the string, starting at the end. If\n",
      " |      the separator is found, returns a 3-tuple containing the part before the\n",
      " |      separator, the separator itself, and the part after it.\n",
      " |      \n",
      " |      If the separator is not found, returns a 3-tuple containing two empty strings\n",
      " |      and the original string.\n",
      " |  \n",
      " |  rsplit(self, /, sep=None, maxsplit=-1)\n",
      " |      Return a list of the words in the string, using sep as the delimiter string.\n",
      " |      \n",
      " |        sep\n",
      " |          The delimiter according which to split the string.\n",
      " |          None (the default value) means split according to any whitespace,\n",
      " |          and discard empty strings from the result.\n",
      " |        maxsplit\n",
      " |          Maximum number of splits to do.\n",
      " |          -1 (the default value) means no limit.\n",
      " |      \n",
      " |      Splits are done starting at the end of the string and working to the front.\n",
      " |  \n",
      " |  rstrip(self, chars=None, /)\n",
      " |      Return a copy of the string with trailing whitespace removed.\n",
      " |      \n",
      " |      If chars is given and not None, remove characters in chars instead.\n",
      " |  \n",
      " |  split(self, /, sep=None, maxsplit=-1)\n",
      " |      Return a list of the words in the string, using sep as the delimiter string.\n",
      " |      \n",
      " |      sep\n",
      " |        The delimiter according which to split the string.\n",
      " |        None (the default value) means split according to any whitespace,\n",
      " |        and discard empty strings from the result.\n",
      " |      maxsplit\n",
      " |        Maximum number of splits to do.\n",
      " |        -1 (the default value) means no limit.\n",
      " |  \n",
      " |  splitlines(self, /, keepends=False)\n",
      " |      Return a list of the lines in the string, breaking at line boundaries.\n",
      " |      \n",
      " |      Line breaks are not included in the resulting list unless keepends is given and\n",
      " |      true.\n",
      " |  \n",
      " |  startswith(...)\n",
      " |      S.startswith(prefix[, start[, end]]) -> bool\n",
      " |      \n",
      " |      Return True if S starts with the specified prefix, False otherwise.\n",
      " |      With optional start, test S beginning at that position.\n",
      " |      With optional end, stop comparing S at that position.\n",
      " |      prefix can also be a tuple of strings to try.\n",
      " |  \n",
      " |  strip(self, chars=None, /)\n",
      " |      Return a copy of the string with leading and trailing whitespace removed.\n",
      " |      \n",
      " |      If chars is given and not None, remove characters in chars instead.\n",
      " |  \n",
      " |  swapcase(self, /)\n",
      " |      Convert uppercase characters to lowercase and lowercase characters to uppercase.\n",
      " |  \n",
      " |  title(self, /)\n",
      " |      Return a version of the string where each word is titlecased.\n",
      " |      \n",
      " |      More specifically, words start with uppercased characters and all remaining\n",
      " |      cased characters have lower case.\n",
      " |  \n",
      " |  translate(self, table, /)\n",
      " |      Replace each character in the string using the given translation table.\n",
      " |      \n",
      " |        table\n",
      " |          Translation table, which must be a mapping of Unicode ordinals to\n",
      " |          Unicode ordinals, strings, or None.\n",
      " |      \n",
      " |      The table must implement lookup/indexing via __getitem__, for instance a\n",
      " |      dictionary or list.  If this operation raises LookupError, the character is\n",
      " |      left untouched.  Characters mapped to None are deleted.\n",
      " |  \n",
      " |  upper(self, /)\n",
      " |      Return a copy of the string converted to uppercase.\n",
      " |  \n",
      " |  zfill(self, width, /)\n",
      " |      Pad a numeric string with zeros on the left, to fill a field of the given width.\n",
      " |      \n",
      " |      The string is never truncated.\n",
      " |  \n",
      " |  ----------------------------------------------------------------------\n",
      " |  Static methods defined here:\n",
      " |  \n",
      " |  __new__(*args, **kwargs) from builtins.type\n",
      " |      Create and return a new object.  See help(type) for accurate signature.\n",
      " |  \n",
      " |  maketrans(...)\n",
      " |      Return a translation table usable for str.translate().\n",
      " |      \n",
      " |      If there is only one argument, it must be a dictionary mapping Unicode\n",
      " |      ordinals (integers) or characters to Unicode ordinals, strings or None.\n",
      " |      Character keys will be then converted to ordinals.\n",
      " |      If there are two arguments, they must be strings of equal length, and\n",
      " |      in the resulting dictionary, each character in x will be mapped to the\n",
      " |      character at the same position in y. If there is a third argument, it\n",
      " |      must be a string, whose characters will be mapped to None in the result.\n",
      "\n"
     ]
    }
   ],
   "source": [
    "help(str)"
   ]
  },
  {
   "cell_type": "code",
   "execution_count": 104,
   "id": "ae283978",
   "metadata": {},
   "outputs": [
    {
     "name": "stdout",
     "output_type": "stream",
     "text": [
      "False\n",
      "False\n"
     ]
    }
   ],
   "source": [
    "a = \"Hello World!\"\n",
    "print(a.islower()) \n",
    "print(a.isnumeric()) "
   ]
  },
  {
   "cell_type": "code",
   "execution_count": 107,
   "id": "cea29d2b",
   "metadata": {},
   "outputs": [
    {
     "data": {
      "text/plain": [
       "['abc', '12', '34', '3', '2', '67', '9899']"
      ]
     },
     "execution_count": 107,
     "metadata": {},
     "output_type": "execute_result"
    }
   ],
   "source": [
    "# returns a list\n",
    "\n",
    "str = \" abc 12 34 3 2 67 9899\"\n",
    "str.split()"
   ]
  },
  {
   "cell_type": "code",
   "execution_count": 108,
   "id": "e9e1fdde",
   "metadata": {},
   "outputs": [
    {
     "data": {
      "text/plain": [
       "'abc'"
      ]
     },
     "execution_count": 108,
     "metadata": {},
     "output_type": "execute_result"
    }
   ],
   "source": [
    "str.split()[0]"
   ]
  },
  {
   "cell_type": "code",
   "execution_count": 109,
   "id": "7d29f3c9",
   "metadata": {},
   "outputs": [
    {
     "data": {
      "text/plain": [
       "str"
      ]
     },
     "execution_count": 109,
     "metadata": {},
     "output_type": "execute_result"
    }
   ],
   "source": [
    "type(str.split()[0])"
   ]
  },
  {
   "cell_type": "code",
   "execution_count": 110,
   "id": "9e7010d7",
   "metadata": {},
   "outputs": [
    {
     "data": {
      "text/plain": [
       "str"
      ]
     },
     "execution_count": 110,
     "metadata": {},
     "output_type": "execute_result"
    }
   ],
   "source": [
    "type(str.split()[1])"
   ]
  },
  {
   "cell_type": "code",
   "execution_count": 121,
   "id": "cde1dd32",
   "metadata": {},
   "outputs": [],
   "source": [
    "csv = \"abc ,12 ,34 ,3 ,2, 67 ,9899\""
   ]
  },
  {
   "cell_type": "code",
   "execution_count": 122,
   "id": "1c037bc2",
   "metadata": {},
   "outputs": [
    {
     "data": {
      "text/plain": [
       "['abc ', '12 ', '34 ', '3 ', '2', ' 67 ', '9899']"
      ]
     },
     "execution_count": 122,
     "metadata": {},
     "output_type": "execute_result"
    }
   ],
   "source": [
    "csv.split(\",\")"
   ]
  },
  {
   "cell_type": "code",
   "execution_count": 123,
   "id": "973d14e3",
   "metadata": {},
   "outputs": [
    {
     "data": {
      "text/plain": [
       "0"
      ]
     },
     "execution_count": 123,
     "metadata": {},
     "output_type": "execute_result"
    }
   ],
   "source": [
    "csv.find('abc')"
   ]
  },
  {
   "cell_type": "markdown",
   "id": "be600806",
   "metadata": {},
   "source": [
    "# Mutable and immutable objects"
   ]
  },
  {
   "cell_type": "code",
   "execution_count": 127,
   "id": "f15564e5",
   "metadata": {},
   "outputs": [],
   "source": [
    "# Mutable objects\n",
    "\n",
    "# Objects can change in value during execution of the program.\n",
    "# objects can be changed \"in-place\""
   ]
  },
  {
   "cell_type": "code",
   "execution_count": 128,
   "id": "5fcdb2c3",
   "metadata": {},
   "outputs": [],
   "source": [
    "l=[1,3,5,6,3,2,3]"
   ]
  },
  {
   "cell_type": "code",
   "execution_count": 130,
   "id": "a9c6c557",
   "metadata": {},
   "outputs": [
    {
     "data": {
      "text/plain": [
       "2880532770112"
      ]
     },
     "execution_count": 130,
     "metadata": {},
     "output_type": "execute_result"
    }
   ],
   "source": [
    "# Memory location\n",
    "\n",
    "id(l)"
   ]
  },
  {
   "cell_type": "code",
   "execution_count": 131,
   "id": "daa91950",
   "metadata": {},
   "outputs": [],
   "source": [
    "l[0]=100"
   ]
  },
  {
   "cell_type": "code",
   "execution_count": 132,
   "id": "21a53d4b",
   "metadata": {},
   "outputs": [
    {
     "data": {
      "text/plain": [
       "[100, 3, 5, 6, 3, 2, 3]"
      ]
     },
     "execution_count": 132,
     "metadata": {},
     "output_type": "execute_result"
    }
   ],
   "source": [
    "l"
   ]
  },
  {
   "cell_type": "code",
   "execution_count": 133,
   "id": "4592b2a7",
   "metadata": {},
   "outputs": [
    {
     "data": {
      "text/plain": [
       "2880532770112"
      ]
     },
     "execution_count": 133,
     "metadata": {},
     "output_type": "execute_result"
    }
   ],
   "source": [
    "id(l)"
   ]
  },
  {
   "cell_type": "code",
   "execution_count": 134,
   "id": "d1ffc9b9",
   "metadata": {},
   "outputs": [],
   "source": [
    "# list is modified and it's id remains the same -> mutable objects"
   ]
  },
  {
   "cell_type": "code",
   "execution_count": 135,
   "id": "46dc9223",
   "metadata": {},
   "outputs": [],
   "source": [
    "# Immutable\n",
    "\n",
    "# Objects cannot change in value during execution of the program.\n",
    "# Alter a value -> create an entirely new object containign the altered value\n",
    "# Immutable objects cannot be changed \"in-place\""
   ]
  },
  {
   "cell_type": "code",
   "execution_count": 140,
   "id": "8b411959",
   "metadata": {},
   "outputs": [],
   "source": [
    "a=10"
   ]
  },
  {
   "cell_type": "code",
   "execution_count": 141,
   "id": "9816ca24",
   "metadata": {},
   "outputs": [
    {
     "data": {
      "text/plain": [
       "2880454290000"
      ]
     },
     "execution_count": 141,
     "metadata": {},
     "output_type": "execute_result"
    }
   ],
   "source": [
    "id(a)"
   ]
  },
  {
   "cell_type": "code",
   "execution_count": 142,
   "id": "fbbbfec8",
   "metadata": {},
   "outputs": [],
   "source": [
    "a= a+1"
   ]
  },
  {
   "cell_type": "code",
   "execution_count": 143,
   "id": "e1f6dc88",
   "metadata": {},
   "outputs": [
    {
     "data": {
      "text/plain": [
       "2880454290032"
      ]
     },
     "execution_count": 143,
     "metadata": {},
     "output_type": "execute_result"
    }
   ],
   "source": [
    "id(a)"
   ]
  },
  {
   "cell_type": "code",
   "execution_count": 173,
   "id": "928296e0",
   "metadata": {},
   "outputs": [],
   "source": [
    "str ='abc'"
   ]
  },
  {
   "cell_type": "code",
   "execution_count": 175,
   "id": "523c6a27",
   "metadata": {},
   "outputs": [
    {
     "ename": "TypeError",
     "evalue": "'str' object does not support item assignment",
     "output_type": "error",
     "traceback": [
      "\u001b[1;31m---------------------------------------------------------------------------\u001b[0m",
      "\u001b[1;31mTypeError\u001b[0m                                 Traceback (most recent call last)",
      "\u001b[1;32m~\\AppData\\Local\\Temp/ipykernel_6892/2068386317.py\u001b[0m in \u001b[0;36m<module>\u001b[1;34m\u001b[0m\n\u001b[1;32m----> 1\u001b[1;33m \u001b[0mstr\u001b[0m\u001b[1;33m[\u001b[0m\u001b[1;36m0\u001b[0m\u001b[1;33m]\u001b[0m \u001b[1;33m=\u001b[0m\u001b[1;34m'z'\u001b[0m\u001b[1;33m\u001b[0m\u001b[1;33m\u001b[0m\u001b[0m\n\u001b[0m",
      "\u001b[1;31mTypeError\u001b[0m: 'str' object does not support item assignment"
     ]
    }
   ],
   "source": [
    "str[0] ='z'"
   ]
  },
  {
   "cell_type": "code",
   "execution_count": 144,
   "id": "5341d720",
   "metadata": {},
   "outputs": [],
   "source": [
    "# value of a is modified\n",
    "# id is changed\n",
    "# a is recreated\n",
    "# it now points to different object at different memory"
   ]
  },
  {
   "cell_type": "code",
   "execution_count": 145,
   "id": "a4a9f16e",
   "metadata": {},
   "outputs": [],
   "source": [
    "# Mutable - list, dictionary and sets\n",
    "\n",
    "# Immutable - tuple, numbers and strings"
   ]
  },
  {
   "cell_type": "code",
   "execution_count": 147,
   "id": "bac8149a",
   "metadata": {},
   "outputs": [],
   "source": [
    "# marks can change -> list\n",
    "# roll number won't -> tuple"
   ]
  },
  {
   "cell_type": "code",
   "execution_count": 154,
   "id": "04ac9893",
   "metadata": {},
   "outputs": [
    {
     "data": {
      "text/plain": [
       "'Sam'"
      ]
     },
     "execution_count": 154,
     "metadata": {},
     "output_type": "execute_result"
    }
   ],
   "source": [
    "name = \"Sam\"\n",
    "name"
   ]
  },
  {
   "cell_type": "code",
   "execution_count": 155,
   "id": "0cf3da67",
   "metadata": {},
   "outputs": [
    {
     "data": {
      "text/plain": [
       "'S'"
      ]
     },
     "execution_count": 155,
     "metadata": {},
     "output_type": "execute_result"
    }
   ],
   "source": [
    "name[0]"
   ]
  },
  {
   "cell_type": "code",
   "execution_count": 156,
   "id": "35ba300c",
   "metadata": {},
   "outputs": [
    {
     "data": {
      "text/plain": [
       "2880532915440"
      ]
     },
     "execution_count": 156,
     "metadata": {},
     "output_type": "execute_result"
    }
   ],
   "source": [
    "id(name)"
   ]
  },
  {
   "cell_type": "code",
   "execution_count": 157,
   "id": "d804e975",
   "metadata": {},
   "outputs": [
    {
     "ename": "TypeError",
     "evalue": "'str' object does not support item assignment",
     "output_type": "error",
     "traceback": [
      "\u001b[1;31m---------------------------------------------------------------------------\u001b[0m",
      "\u001b[1;31mTypeError\u001b[0m                                 Traceback (most recent call last)",
      "\u001b[1;32m~\\AppData\\Local\\Temp/ipykernel_6892/3422087346.py\u001b[0m in \u001b[0;36m<module>\u001b[1;34m\u001b[0m\n\u001b[1;32m----> 1\u001b[1;33m \u001b[0mname\u001b[0m\u001b[1;33m[\u001b[0m\u001b[1;36m0\u001b[0m\u001b[1;33m]\u001b[0m \u001b[1;33m=\u001b[0m \u001b[1;34m'R'\u001b[0m\u001b[1;33m\u001b[0m\u001b[1;33m\u001b[0m\u001b[0m\n\u001b[0m",
      "\u001b[1;31mTypeError\u001b[0m: 'str' object does not support item assignment"
     ]
    }
   ],
   "source": [
    "name[0] = 'R'"
   ]
  },
  {
   "cell_type": "code",
   "execution_count": null,
   "id": "8825dcc6",
   "metadata": {},
   "outputs": [],
   "source": [
    "# strings are immutable"
   ]
  },
  {
   "cell_type": "code",
   "execution_count": 160,
   "id": "4ff4e209",
   "metadata": {},
   "outputs": [],
   "source": [
    "# recreate name \n",
    "name = \"Ram\""
   ]
  },
  {
   "cell_type": "code",
   "execution_count": 161,
   "id": "3108d1ce",
   "metadata": {},
   "outputs": [
    {
     "data": {
      "text/plain": [
       "2880532922288"
      ]
     },
     "execution_count": 161,
     "metadata": {},
     "output_type": "execute_result"
    }
   ],
   "source": [
    "id(name)"
   ]
  },
  {
   "cell_type": "markdown",
   "id": "a6cd62d9",
   "metadata": {},
   "source": [
    "#### In a certain encrypted message which has information about the location(area, city), the characters are jumbled such that first character of the first word is followed by the first character of the second word, then it is followed by second character of the first word and so on. Let’s say the size or length of the two words wouldn’t match then the smaller word is appended with # and then encrypted in the above format.\n"
   ]
  },
  {
   "cell_type": "code",
   "execution_count": 74,
   "id": "1c768605",
   "metadata": {},
   "outputs": [],
   "source": [
    "#Sample Input:\n",
    "#bmaunmdbraai\n",
    "\n",
    "#Sample Output:\n",
    "#bandra,mumbai"
   ]
  },
  {
   "cell_type": "code",
   "execution_count": 76,
   "id": "9bcad576",
   "metadata": {},
   "outputs": [],
   "source": [
    "input_str = \"bmaunmdbraai\"\n",
    "area = input_str[ : : 2]\n",
    "city = input_str[1: : 2]"
   ]
  },
  {
   "cell_type": "code",
   "execution_count": 77,
   "id": "af1ff2dd",
   "metadata": {},
   "outputs": [
    {
     "name": "stdout",
     "output_type": "stream",
     "text": [
      "bandra\n",
      "mumbai\n"
     ]
    }
   ],
   "source": [
    "print(area.rstrip('#'))\n",
    "print(city.rstrip('#'))"
   ]
  },
  {
   "cell_type": "code",
   "execution_count": 81,
   "id": "39188274",
   "metadata": {},
   "outputs": [],
   "source": [
    "# Consider the string given below and answer the following questions \n",
    "string = \"OQYWFClFhFGAvIWYwGKpmZhnJiyzTslSIhSwvOsqJMEphzmifTkyqOMNpnOtXZxmCfgDYqbaBHAUvIWhMnvwZnEMVDvmEfLrDoQnAZgQEgXQVnmSYkfedpAdhrtpOgORpYLRZYGWdhWYuqQssCUXtTzKRDAhpjUheOzUroZNzWFtZOVwIapzUYtbSbjYNErzQ\""
   ]
  },
  {
   "cell_type": "code",
   "execution_count": 82,
   "id": "540299dc",
   "metadata": {},
   "outputs": [
    {
     "data": {
      "text/plain": [
       "193"
      ]
     },
     "execution_count": 82,
     "metadata": {},
     "output_type": "execute_result"
    }
   ],
   "source": [
    "# Calculate the number of characters in the string\n",
    "len(string)"
   ]
  },
  {
   "cell_type": "code",
   "execution_count": 83,
   "id": "bda3b52c",
   "metadata": {},
   "outputs": [
    {
     "data": {
      "text/plain": [
       "2"
      ]
     },
     "execution_count": 83,
     "metadata": {},
     "output_type": "execute_result"
    }
   ],
   "source": [
    "# Count the number of occurences of 'a' in the string\n",
    "string.count('a')"
   ]
  },
  {
   "cell_type": "code",
   "execution_count": 84,
   "id": "ad286ce7",
   "metadata": {},
   "outputs": [
    {
     "data": {
      "text/plain": [
       "False"
      ]
     },
     "execution_count": 84,
     "metadata": {},
     "output_type": "execute_result"
    }
   ],
   "source": [
    "# Identify whether the string starts with 'if'.\n",
    "string.startswith('if')"
   ]
  },
  {
   "cell_type": "code",
   "execution_count": 85,
   "id": "7ca6e6db",
   "metadata": {},
   "outputs": [
    {
     "data": {
      "text/plain": [
       "'mCfgDYqbaBHAUvIWhMnvwZnEM'"
      ]
     },
     "execution_count": 85,
     "metadata": {},
     "output_type": "execute_result"
    }
   ],
   "source": [
    "# Return the substring starting at index 63 and ending at index 88 [Both the indexes are inclusive]\n",
    "string[63:88]"
   ]
  },
  {
   "cell_type": "code",
   "execution_count": 86,
   "id": "63584588",
   "metadata": {},
   "outputs": [
    {
     "data": {
      "text/plain": [
       "'z'"
      ]
     },
     "execution_count": 86,
     "metadata": {},
     "output_type": "execute_result"
    }
   ],
   "source": [
    "# Identify the character at index 45\n",
    "string[45]"
   ]
  },
  {
   "cell_type": "code",
   "execution_count": null,
   "id": "47bb3695",
   "metadata": {},
   "outputs": [],
   "source": [
    "# Membership \n",
    "# in operator and not in operator"
   ]
  },
  {
   "cell_type": "code",
   "execution_count": 162,
   "id": "9e7c3667",
   "metadata": {},
   "outputs": [],
   "source": [
    "# Identity operators - checks ids are the same or not\n",
    "# is and is not operator"
   ]
  },
  {
   "cell_type": "code",
   "execution_count": 163,
   "id": "0c312b0a",
   "metadata": {},
   "outputs": [],
   "source": [
    "a=5\n",
    "b=5"
   ]
  },
  {
   "cell_type": "code",
   "execution_count": 164,
   "id": "e3011b9d",
   "metadata": {},
   "outputs": [
    {
     "data": {
      "text/plain": [
       "True"
      ]
     },
     "execution_count": 164,
     "metadata": {},
     "output_type": "execute_result"
    }
   ],
   "source": [
    "a is b"
   ]
  },
  {
   "cell_type": "code",
   "execution_count": 165,
   "id": "eaa75ccc",
   "metadata": {},
   "outputs": [
    {
     "data": {
      "text/plain": [
       "2880454289840"
      ]
     },
     "execution_count": 165,
     "metadata": {},
     "output_type": "execute_result"
    }
   ],
   "source": [
    "id(a)"
   ]
  },
  {
   "cell_type": "code",
   "execution_count": 166,
   "id": "6b37a832",
   "metadata": {},
   "outputs": [
    {
     "data": {
      "text/plain": [
       "2880454289840"
      ]
     },
     "execution_count": 166,
     "metadata": {},
     "output_type": "execute_result"
    }
   ],
   "source": [
    "id(b)"
   ]
  },
  {
   "cell_type": "code",
   "execution_count": 170,
   "id": "4f6f33eb",
   "metadata": {},
   "outputs": [],
   "source": [
    "# same value -> assigns the same location"
   ]
  },
  {
   "cell_type": "code",
   "execution_count": 168,
   "id": "c3c8226c",
   "metadata": {},
   "outputs": [],
   "source": [
    "c=10"
   ]
  },
  {
   "cell_type": "code",
   "execution_count": 169,
   "id": "bb28f9a9",
   "metadata": {},
   "outputs": [
    {
     "data": {
      "text/plain": [
       "False"
      ]
     },
     "execution_count": 169,
     "metadata": {},
     "output_type": "execute_result"
    }
   ],
   "source": [
    "c is a"
   ]
  },
  {
   "cell_type": "code",
   "execution_count": 177,
   "id": "75281b04",
   "metadata": {},
   "outputs": [
    {
     "name": "stdout",
     "output_type": "stream",
     "text": [
      "Yes, the string starts with \"Swa\"\n",
      "Yes, it contains the string \"a\"\n",
      "Yes, it contains the string \"war\"\n"
     ]
    }
   ],
   "source": [
    "# This is a string object\n",
    "name = 'Swaroop'\n",
    "\n",
    "if name.startswith('Swa'):\n",
    "    print('Yes, the string starts with \"Swa\"')\n",
    "\n",
    "if 'a' in name:\n",
    "    print('Yes, it contains the string \"a\"')\n",
    "\n",
    "if name.find('war') != -1:\n",
    "    print('Yes, it contains the string \"war\"')\n"
   ]
  },
  {
   "cell_type": "code",
   "execution_count": 178,
   "id": "bdd2ba3d",
   "metadata": {},
   "outputs": [
    {
     "name": "stdout",
     "output_type": "stream",
     "text": [
      "Brazil_*_Russia_*_India_*_China\n"
     ]
    }
   ],
   "source": [
    "delimiter = '_*_'\n",
    "mylist = ['Brazil', 'Russia', 'India', 'China']\n",
    "print(delimiter.join(mylist))"
   ]
  }
 ],
 "metadata": {
  "kernelspec": {
   "display_name": "Python 3 (ipykernel)",
   "language": "python",
   "name": "python3"
  },
  "language_info": {
   "codemirror_mode": {
    "name": "ipython",
    "version": 3
   },
   "file_extension": ".py",
   "mimetype": "text/x-python",
   "name": "python",
   "nbconvert_exporter": "python",
   "pygments_lexer": "ipython3",
   "version": "3.9.7"
  }
 },
 "nbformat": 4,
 "nbformat_minor": 5
}
