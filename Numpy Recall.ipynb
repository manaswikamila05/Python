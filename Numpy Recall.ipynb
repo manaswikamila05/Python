{
 "cells": [
  {
   "cell_type": "markdown",
   "id": "statewide-africa",
   "metadata": {},
   "source": [
    "# <font color = red> Numpy"
   ]
  },
  {
   "cell_type": "code",
   "execution_count": 1,
   "id": "b4970212",
   "metadata": {
    "id": "b4970212"
   },
   "outputs": [],
   "source": [
    "import numpy as np\n",
    "import warnings\n",
    "warnings.filterwarnings(\"ignore\")"
   ]
  },
  {
   "cell_type": "markdown",
   "id": "fancy-former",
   "metadata": {},
   "source": [
    "---\n",
    "## <font color = blue> Create a Numpy array</font>\n",
    "---\n",
    "    \n",
    "### 1.1 Using `np.array()`"
   ]
  },
  {
   "cell_type": "code",
   "execution_count": 2,
   "id": "b82d9507",
   "metadata": {
    "id": "b82d9507",
    "outputId": "732fc3d3-c4a7-4aaa-cf90-3b82ef2b5c4f"
   },
   "outputs": [
    {
     "name": "stdout",
     "output_type": "stream",
     "text": [
      "[[11 23 32]\n",
      " [12 34 56]\n",
      " [77 77 54]]\n",
      "\n",
      "(3, 3)\n"
     ]
    }
   ],
   "source": [
    "# Create a numpy array\n",
    "\n",
    "np_arr = np.array([[11,23,32],[12,34,56],[77,77,54]])\n",
    "print(np_arr)\n",
    "print()\n",
    "print(np_arr.shape)"
   ]
  },
  {
   "cell_type": "code",
   "execution_count": 3,
   "id": "ecacd49b",
   "metadata": {
    "colab": {
     "base_uri": "https://localhost:8080/",
     "height": 214
    },
    "executionInfo": {
     "elapsed": 1496,
     "status": "error",
     "timestamp": 1634147084496,
     "user": {
      "displayName": "Gowdham Ravichandran",
      "photoUrl": "https://lh3.googleusercontent.com/a-/AOh14Gh0QQnGEYvqia-wXXOBfhB190-PhCdgoqaLfCxn=s64",
      "userId": "02295107535681367825"
     },
     "user_tz": -330
    },
    "id": "ecacd49b",
    "outputId": "ff3bf2bd-da52-4986-eccd-930a5e2ca911"
   },
   "outputs": [
    {
     "name": "stdout",
     "output_type": "stream",
     "text": [
      "[list([11, 23, 32]) list([12, 34, 56]) list([77, 77])]\n",
      "\n",
      "(3,)\n"
     ]
    }
   ],
   "source": [
    "np_arr = np.array([[11,23,32],[12,34,56],[77,77]])\n",
    "print(np_arr)\n",
    "print()\n",
    "print(np_arr.shape)"
   ]
  },
  {
   "cell_type": "code",
   "execution_count": 4,
   "id": "c1950969",
   "metadata": {
    "id": "c1950969",
    "outputId": "1d4c69b6-093d-49c8-d15a-04190efc72de"
   },
   "outputs": [
    {
     "name": "stdout",
     "output_type": "stream",
     "text": [
      "[[11 23 32]\n",
      " [12 34 56]\n",
      " [77 77 None]]\n",
      "\n",
      "(3, 3)\n"
     ]
    }
   ],
   "source": [
    "np_arr = np.array([[11,23,32],[12,34,56],[77,77,None]])\n",
    "print(np_arr)\n",
    "print()\n",
    "print(np_arr.shape)"
   ]
  },
  {
   "cell_type": "markdown",
   "id": "0f12e642",
   "metadata": {
    "id": "0f12e642"
   },
   "source": [
    "### 1.2 `np.zeros() and np.ones()`"
   ]
  },
  {
   "cell_type": "code",
   "execution_count": 17,
   "id": "7445e6e7",
   "metadata": {
    "id": "7445e6e7",
    "outputId": "ebad7244-cbe1-49ce-df42-71eb2b3b2d7b"
   },
   "outputs": [
    {
     "data": {
      "text/plain": [
       "array([[0., 0., 0., 0.],\n",
       "       [0., 0., 0., 0.]])"
      ]
     },
     "execution_count": 17,
     "metadata": {},
     "output_type": "execute_result"
    }
   ],
   "source": [
    "np_zeros = np.zeros([2,4])\n",
    "np_zeros"
   ]
  },
  {
   "cell_type": "code",
   "execution_count": 18,
   "id": "912fe210",
   "metadata": {
    "id": "912fe210",
    "outputId": "1980028e-d63f-4fc8-f5a5-8e5c0c6751c9"
   },
   "outputs": [
    {
     "data": {
      "text/plain": [
       "array([[1., 1., 1., 1.],\n",
       "       [1., 1., 1., 1.]])"
      ]
     },
     "execution_count": 18,
     "metadata": {},
     "output_type": "execute_result"
    }
   ],
   "source": [
    "np_ones = np.ones([2,4])\n",
    "np_ones"
   ]
  },
  {
   "cell_type": "markdown",
   "id": "9cf43913",
   "metadata": {
    "id": "9cf43913"
   },
   "source": [
    "### 1.3 `np.full()`"
   ]
  },
  {
   "cell_type": "code",
   "execution_count": 19,
   "id": "85fd9741",
   "metadata": {
    "id": "85fd9741",
    "outputId": "c90efd75-10bc-45cc-90a0-0c8b12096eb0"
   },
   "outputs": [
    {
     "data": {
      "text/plain": [
       "array([[4, 4],\n",
       "       [4, 4],\n",
       "       [4, 4]])"
      ]
     },
     "execution_count": 19,
     "metadata": {},
     "output_type": "execute_result"
    }
   ],
   "source": [
    "np.full((3,2),4)"
   ]
  },
  {
   "cell_type": "markdown",
   "id": "republican-casino",
   "metadata": {},
   "source": [
    "### 1.4 `np.arange()`\n"
   ]
  },
  {
   "cell_type": "code",
   "execution_count": 20,
   "id": "127068b5",
   "metadata": {
    "id": "127068b5",
    "outputId": "71e21d05-1440-42f9-ae34-19bae89a057e"
   },
   "outputs": [
    {
     "data": {
      "text/plain": [
       "array([ 0,  1,  2,  3,  4,  5,  6,  7,  8,  9, 10, 11])"
      ]
     },
     "execution_count": 20,
     "metadata": {},
     "output_type": "execute_result"
    }
   ],
   "source": [
    "np.arange(12)"
   ]
  },
  {
   "cell_type": "markdown",
   "id": "7486b597",
   "metadata": {
    "id": "7486b597"
   },
   "source": [
    "### 1.5 `np.linspace()`\n",
    "\n",
    "the `linspace()` function generates an array with evenly spaced values between specified start, end values, using a specified number of elements"
   ]
  },
  {
   "cell_type": "code",
   "execution_count": 22,
   "id": "5b982bac",
   "metadata": {
    "id": "5b982bac",
    "outputId": "68bac5ce-8e1f-45ef-f92f-83846b3cb748"
   },
   "outputs": [
    {
     "data": {
      "text/plain": [
       "array([0., 0., 0., 1., 1.])"
      ]
     },
     "execution_count": 22,
     "metadata": {},
     "output_type": "execute_result"
    }
   ],
   "source": [
    "np.linspace(0, 1, 5)"
   ]
  },
  {
   "cell_type": "code",
   "execution_count": 23,
   "id": "1bf54867",
   "metadata": {
    "id": "1bf54867",
    "outputId": "624b3b46-318a-4294-93e8-acbbfe992818"
   },
   "outputs": [
    {
     "data": {
      "text/plain": [
       "array([0., 0., 0., 0., 0., 0., 0., 0., 0., 0., 1., 1., 1., 1., 1., 1., 1.,\n",
       "       1., 1., 1.])"
      ]
     },
     "execution_count": 23,
     "metadata": {},
     "output_type": "execute_result"
    }
   ],
   "source": [
    "np.linspace(0, 1, 20)\n",
    "# 20 points equally spaced between 0 and 1"
   ]
  },
  {
   "cell_type": "code",
   "execution_count": 24,
   "id": "ce7064fc",
   "metadata": {
    "id": "ce7064fc",
    "outputId": "2856b665-ecbb-4ed7-9072-420afaf7b044"
   },
   "outputs": [
    {
     "data": {
      "text/plain": [
       "array([0., 0., 0., 0., 0., 0., 0., 0., 0., 0., 0., 1., 1., 1., 1., 1., 1.,\n",
       "       1., 1., 1.])"
      ]
     },
     "execution_count": 24,
     "metadata": {},
     "output_type": "execute_result"
    }
   ],
   "source": [
    "np.linspace(0, 1, 20, False)\n",
    "# 20 points equally spaced between 0 and 1, not including 1"
   ]
  },
  {
   "cell_type": "markdown",
   "id": "80fab194",
   "metadata": {
    "id": "80fab194"
   },
   "source": [
    "### 1.6 `identity`"
   ]
  },
  {
   "cell_type": "code",
   "execution_count": 25,
   "id": "8f415f4b",
   "metadata": {
    "id": "8f415f4b",
    "outputId": "eba6f5ea-7843-41b1-9961-b9826e730332"
   },
   "outputs": [
    {
     "data": {
      "text/plain": [
       "array([[1., 0., 0.],\n",
       "       [0., 1., 0.],\n",
       "       [0., 0., 1.]])"
      ]
     },
     "execution_count": 25,
     "metadata": {},
     "output_type": "execute_result"
    }
   ],
   "source": [
    "np.identity(3)"
   ]
  },
  {
   "cell_type": "markdown",
   "id": "1db0ce8a",
   "metadata": {
    "id": "1db0ce8a"
   },
   "source": [
    "### 1.7 `np.random()` "
   ]
  },
  {
   "cell_type": "code",
   "execution_count": 26,
   "id": "be6f479d",
   "metadata": {
    "id": "be6f479d",
    "outputId": "b3c27851-a847-4aa6-fb30-daf199f8d2b2"
   },
   "outputs": [
    {
     "data": {
      "text/plain": [
       "array([0., 1.])"
      ]
     },
     "execution_count": 26,
     "metadata": {},
     "output_type": "execute_result"
    }
   ],
   "source": [
    "np.random.random(size=2)\n",
    "# Return random floats in the half-open interval [0.0, 1.0).\n",
    "# Results are from the “continuous uniform” distribution over the stated interval."
   ]
  },
  {
   "cell_type": "code",
   "execution_count": 27,
   "id": "bbd8beb2",
   "metadata": {
    "id": "bbd8beb2",
    "outputId": "50cadc59-ddc2-4cac-8bf6-8163f1e75480"
   },
   "outputs": [
    {
     "data": {
      "text/plain": [
       "array([1., 1.])"
      ]
     },
     "execution_count": 27,
     "metadata": {},
     "output_type": "execute_result"
    }
   ],
   "source": [
    "np.random.normal(size=2)\n",
    "# creates an array of specified shape and fills it with random values which \n",
    "# is actually a part of Normal(Gaussian)Distribution. \n",
    "# This is Distribution is also known as Bell Curve because of its characteristics shape.\n",
    "\n",
    "# https://www.geeksforgeeks.org/rand-vs-normal-numpy-random-python/"
   ]
  },
  {
   "cell_type": "code",
   "execution_count": 30,
   "id": "45d8b3fd",
   "metadata": {
    "id": "45d8b3fd",
    "outputId": "4c3173ef-2043-4bbe-813d-a6def082cc0d",
    "scrolled": true
   },
   "outputs": [
    {
     "data": {
      "text/plain": [
       "array([[4, 9, 4],\n",
       "       [4, 8, 8],\n",
       "       [9, 9, 4]])"
      ]
     },
     "execution_count": 30,
     "metadata": {},
     "output_type": "execute_result"
    }
   ],
   "source": [
    "arr = np.random.randint(2,10, size =(3,3) )  # 9 random numbers between 2 and 10 in a 3x3 matrix\n",
    "arr"
   ]
  },
  {
   "cell_type": "code",
   "execution_count": 33,
   "id": "primary-spectrum",
   "metadata": {},
   "outputs": [
    {
     "data": {
      "text/plain": [
       "array([5, 9, 2, 0, 6, 4, 3, 8, 7, 1])"
      ]
     },
     "execution_count": 33,
     "metadata": {},
     "output_type": "execute_result"
    }
   ],
   "source": [
    "arr = np.arange(10)\n",
    "np.random.shuffle(arr)\n",
    "arr"
   ]
  },
  {
   "cell_type": "code",
   "execution_count": 35,
   "id": "053f682d",
   "metadata": {},
   "outputs": [
    {
     "data": {
      "text/plain": [
       "array([0, 1, 2, 3, 4, 5, 6, 7, 8, 9])"
      ]
     },
     "execution_count": 35,
     "metadata": {},
     "output_type": "execute_result"
    }
   ],
   "source": [
    "arr = np.arange(10)\n",
    "arr"
   ]
  },
  {
   "cell_type": "code",
   "execution_count": 36,
   "id": "4e381873",
   "metadata": {},
   "outputs": [
    {
     "data": {
      "text/plain": [
       "array([5, 0, 4, 1, 6, 3, 2, 7, 8, 9])"
      ]
     },
     "execution_count": 36,
     "metadata": {},
     "output_type": "execute_result"
    }
   ],
   "source": [
    "np.random.shuffle(arr)\n",
    "arr"
   ]
  },
  {
   "cell_type": "code",
   "execution_count": 37,
   "id": "e9a50efb",
   "metadata": {
    "id": "e9a50efb",
    "outputId": "c1e0654e-3738-4874-84d4-7367722383a7"
   },
   "outputs": [
    {
     "data": {
      "text/plain": [
       "array([[1., 0., 1., 1.],\n",
       "       [0., 0., 1., 0.]])"
      ]
     },
     "execution_count": 37,
     "metadata": {},
     "output_type": "execute_result"
    }
   ],
   "source": [
    "np.random.rand(2, 4)"
   ]
  },
  {
   "cell_type": "markdown",
   "id": "qualified-demand",
   "metadata": {},
   "source": [
    "### 1.1  - Create a 1D array of the first 1000 odd numbers"
   ]
  },
  {
   "cell_type": "code",
   "execution_count": 38,
   "id": "subsequent-doubt",
   "metadata": {},
   "outputs": [
    {
     "name": "stdout",
     "output_type": "stream",
     "text": [
      "[1.e+00 3.e+00 5.e+00 7.e+00 9.e+00 1.e+01 1.e+01 2.e+01 2.e+01 2.e+01\n",
      " 2.e+01 2.e+01 2.e+01 3.e+01 3.e+01 3.e+01 3.e+01 4.e+01 4.e+01 4.e+01\n",
      " 4.e+01 4.e+01 4.e+01 5.e+01 5.e+01 5.e+01 5.e+01 6.e+01 6.e+01 6.e+01\n",
      " 6.e+01 6.e+01 6.e+01 7.e+01 7.e+01 7.e+01 7.e+01 8.e+01 8.e+01 8.e+01\n",
      " 8.e+01 8.e+01 8.e+01 9.e+01 9.e+01 9.e+01 9.e+01 1.e+02 1.e+02 1.e+02\n",
      " 1.e+02 1.e+02 1.e+02 1.e+02 1.e+02 1.e+02 1.e+02 1.e+02 1.e+02 1.e+02\n",
      " 1.e+02 1.e+02 1.e+02 1.e+02 1.e+02 1.e+02 1.e+02 1.e+02 1.e+02 1.e+02\n",
      " 1.e+02 1.e+02 1.e+02 1.e+02 1.e+02 2.e+02 2.e+02 2.e+02 2.e+02 2.e+02\n",
      " 2.e+02 2.e+02 2.e+02 2.e+02 2.e+02 2.e+02 2.e+02 2.e+02 2.e+02 2.e+02\n",
      " 2.e+02 2.e+02 2.e+02 2.e+02 2.e+02 2.e+02 2.e+02 2.e+02 2.e+02 2.e+02\n",
      " 2.e+02 2.e+02 2.e+02 2.e+02 2.e+02 2.e+02 2.e+02 2.e+02 2.e+02 2.e+02\n",
      " 2.e+02 2.e+02 2.e+02 2.e+02 2.e+02 2.e+02 2.e+02 2.e+02 2.e+02 2.e+02\n",
      " 2.e+02 2.e+02 2.e+02 2.e+02 2.e+02 3.e+02 3.e+02 3.e+02 3.e+02 3.e+02\n",
      " 3.e+02 3.e+02 3.e+02 3.e+02 3.e+02 3.e+02 3.e+02 3.e+02 3.e+02 3.e+02\n",
      " 3.e+02 3.e+02 3.e+02 3.e+02 3.e+02 3.e+02 3.e+02 3.e+02 3.e+02 3.e+02\n",
      " 3.e+02 3.e+02 3.e+02 3.e+02 3.e+02 3.e+02 3.e+02 3.e+02 3.e+02 3.e+02\n",
      " 3.e+02 3.e+02 3.e+02 3.e+02 3.e+02 3.e+02 3.e+02 3.e+02 3.e+02 3.e+02\n",
      " 3.e+02 3.e+02 3.e+02 3.e+02 3.e+02 4.e+02 4.e+02 4.e+02 4.e+02 4.e+02\n",
      " 4.e+02 4.e+02 4.e+02 4.e+02 4.e+02 4.e+02 4.e+02 4.e+02 4.e+02 4.e+02\n",
      " 4.e+02 4.e+02 4.e+02 4.e+02 4.e+02 4.e+02 4.e+02 4.e+02 4.e+02 4.e+02\n",
      " 4.e+02 4.e+02 4.e+02 4.e+02 4.e+02 4.e+02 4.e+02 4.e+02 4.e+02 4.e+02\n",
      " 4.e+02 4.e+02 4.e+02 4.e+02 4.e+02 4.e+02 4.e+02 4.e+02 4.e+02 4.e+02\n",
      " 4.e+02 4.e+02 4.e+02 4.e+02 4.e+02 5.e+02 5.e+02 5.e+02 5.e+02 5.e+02\n",
      " 5.e+02 5.e+02 5.e+02 5.e+02 5.e+02 5.e+02 5.e+02 5.e+02 5.e+02 5.e+02\n",
      " 5.e+02 5.e+02 5.e+02 5.e+02 5.e+02 5.e+02 5.e+02 5.e+02 5.e+02 5.e+02\n",
      " 5.e+02 5.e+02 5.e+02 5.e+02 5.e+02 5.e+02 5.e+02 5.e+02 5.e+02 5.e+02\n",
      " 5.e+02 5.e+02 5.e+02 5.e+02 5.e+02 5.e+02 5.e+02 5.e+02 5.e+02 5.e+02\n",
      " 5.e+02 5.e+02 5.e+02 5.e+02 5.e+02 6.e+02 6.e+02 6.e+02 6.e+02 6.e+02\n",
      " 6.e+02 6.e+02 6.e+02 6.e+02 6.e+02 6.e+02 6.e+02 6.e+02 6.e+02 6.e+02\n",
      " 6.e+02 6.e+02 6.e+02 6.e+02 6.e+02 6.e+02 6.e+02 6.e+02 6.e+02 6.e+02\n",
      " 6.e+02 6.e+02 6.e+02 6.e+02 6.e+02 6.e+02 6.e+02 6.e+02 6.e+02 6.e+02\n",
      " 6.e+02 6.e+02 6.e+02 6.e+02 6.e+02 6.e+02 6.e+02 6.e+02 6.e+02 6.e+02\n",
      " 6.e+02 6.e+02 6.e+02 6.e+02 6.e+02 7.e+02 7.e+02 7.e+02 7.e+02 7.e+02\n",
      " 7.e+02 7.e+02 7.e+02 7.e+02 7.e+02 7.e+02 7.e+02 7.e+02 7.e+02 7.e+02\n",
      " 7.e+02 7.e+02 7.e+02 7.e+02 7.e+02 7.e+02 7.e+02 7.e+02 7.e+02 7.e+02\n",
      " 7.e+02 7.e+02 7.e+02 7.e+02 7.e+02 7.e+02 7.e+02 7.e+02 7.e+02 7.e+02\n",
      " 7.e+02 7.e+02 7.e+02 7.e+02 7.e+02 7.e+02 7.e+02 7.e+02 7.e+02 7.e+02\n",
      " 7.e+02 7.e+02 7.e+02 7.e+02 7.e+02 8.e+02 8.e+02 8.e+02 8.e+02 8.e+02\n",
      " 8.e+02 8.e+02 8.e+02 8.e+02 8.e+02 8.e+02 8.e+02 8.e+02 8.e+02 8.e+02\n",
      " 8.e+02 8.e+02 8.e+02 8.e+02 8.e+02 8.e+02 8.e+02 8.e+02 8.e+02 8.e+02\n",
      " 8.e+02 8.e+02 8.e+02 8.e+02 8.e+02 8.e+02 8.e+02 8.e+02 8.e+02 8.e+02\n",
      " 8.e+02 8.e+02 8.e+02 8.e+02 8.e+02 8.e+02 8.e+02 8.e+02 8.e+02 8.e+02\n",
      " 8.e+02 8.e+02 8.e+02 8.e+02 8.e+02 9.e+02 9.e+02 9.e+02 9.e+02 9.e+02\n",
      " 9.e+02 9.e+02 9.e+02 9.e+02 9.e+02 9.e+02 9.e+02 9.e+02 9.e+02 9.e+02\n",
      " 9.e+02 9.e+02 9.e+02 9.e+02 9.e+02 9.e+02 9.e+02 9.e+02 9.e+02 9.e+02\n",
      " 9.e+02 9.e+02 9.e+02 9.e+02 9.e+02 9.e+02 9.e+02 9.e+02 9.e+02 9.e+02\n",
      " 9.e+02 9.e+02 9.e+02 9.e+02 9.e+02 9.e+02 9.e+02 9.e+02 9.e+02 9.e+02\n",
      " 9.e+02 9.e+02 9.e+02 9.e+02 9.e+02 1.e+03 1.e+03 1.e+03 1.e+03 1.e+03\n",
      " 1.e+03 1.e+03 1.e+03 1.e+03 1.e+03 1.e+03 1.e+03 1.e+03 1.e+03 1.e+03\n",
      " 1.e+03 1.e+03 1.e+03 1.e+03 1.e+03 1.e+03 1.e+03 1.e+03 1.e+03 1.e+03\n",
      " 1.e+03 1.e+03 1.e+03 1.e+03 1.e+03 1.e+03 1.e+03 1.e+03 1.e+03 1.e+03\n",
      " 1.e+03 1.e+03 1.e+03 1.e+03 1.e+03 1.e+03 1.e+03 1.e+03 1.e+03 1.e+03\n",
      " 1.e+03 1.e+03 1.e+03 1.e+03 1.e+03 1.e+03 1.e+03 1.e+03 1.e+03 1.e+03\n",
      " 1.e+03 1.e+03 1.e+03 1.e+03 1.e+03 1.e+03 1.e+03 1.e+03 1.e+03 1.e+03\n",
      " 1.e+03 1.e+03 1.e+03 1.e+03 1.e+03 1.e+03 1.e+03 1.e+03 1.e+03 1.e+03\n",
      " 1.e+03 1.e+03 1.e+03 1.e+03 1.e+03 1.e+03 1.e+03 1.e+03 1.e+03 1.e+03\n",
      " 1.e+03 1.e+03 1.e+03 1.e+03 1.e+03 1.e+03 1.e+03 1.e+03 1.e+03 1.e+03\n",
      " 1.e+03 1.e+03 1.e+03 1.e+03 1.e+03 1.e+03 1.e+03 1.e+03 1.e+03 1.e+03\n",
      " 1.e+03 1.e+03 1.e+03 1.e+03 1.e+03 1.e+03 1.e+03 1.e+03 1.e+03 1.e+03\n",
      " 1.e+03 1.e+03 1.e+03 1.e+03 1.e+03 1.e+03 1.e+03 1.e+03 1.e+03 1.e+03\n",
      " 1.e+03 1.e+03 1.e+03 1.e+03 1.e+03 1.e+03 1.e+03 1.e+03 1.e+03 1.e+03\n",
      " 1.e+03 1.e+03 1.e+03 1.e+03 1.e+03 1.e+03 1.e+03 1.e+03 1.e+03 1.e+03\n",
      " 1.e+03 1.e+03 1.e+03 1.e+03 1.e+03 1.e+03 1.e+03 1.e+03 1.e+03 1.e+03\n",
      " 1.e+03 1.e+03 1.e+03 1.e+03 1.e+03 1.e+03 1.e+03 1.e+03 1.e+03 1.e+03\n",
      " 1.e+03 1.e+03 1.e+03 1.e+03 1.e+03 1.e+03 1.e+03 1.e+03 1.e+03 1.e+03\n",
      " 1.e+03 1.e+03 1.e+03 1.e+03 1.e+03 1.e+03 1.e+03 1.e+03 1.e+03 1.e+03\n",
      " 1.e+03 1.e+03 1.e+03 1.e+03 1.e+03 1.e+03 1.e+03 1.e+03 1.e+03 1.e+03\n",
      " 1.e+03 1.e+03 1.e+03 1.e+03 1.e+03 1.e+03 1.e+03 1.e+03 1.e+03 1.e+03\n",
      " 1.e+03 1.e+03 1.e+03 1.e+03 1.e+03 1.e+03 1.e+03 1.e+03 1.e+03 1.e+03\n",
      " 1.e+03 1.e+03 1.e+03 1.e+03 1.e+03 1.e+03 1.e+03 1.e+03 1.e+03 1.e+03\n",
      " 1.e+03 1.e+03 1.e+03 1.e+03 1.e+03 1.e+03 1.e+03 1.e+03 1.e+03 1.e+03\n",
      " 1.e+03 1.e+03 1.e+03 1.e+03 1.e+03 1.e+03 1.e+03 1.e+03 1.e+03 1.e+03\n",
      " 1.e+03 1.e+03 1.e+03 1.e+03 1.e+03 1.e+03 1.e+03 1.e+03 1.e+03 1.e+03\n",
      " 1.e+03 1.e+03 1.e+03 1.e+03 1.e+03 1.e+03 1.e+03 1.e+03 1.e+03 1.e+03\n",
      " 1.e+03 1.e+03 1.e+03 1.e+03 1.e+03 1.e+03 1.e+03 1.e+03 1.e+03 1.e+03\n",
      " 2.e+03 2.e+03 2.e+03 2.e+03 2.e+03 2.e+03 2.e+03 2.e+03 2.e+03 2.e+03\n",
      " 2.e+03 2.e+03 2.e+03 2.e+03 2.e+03 2.e+03 2.e+03 2.e+03 2.e+03 2.e+03\n",
      " 2.e+03 2.e+03 2.e+03 2.e+03 2.e+03 2.e+03 2.e+03 2.e+03 2.e+03 2.e+03\n",
      " 2.e+03 2.e+03 2.e+03 2.e+03 2.e+03 2.e+03 2.e+03 2.e+03 2.e+03 2.e+03\n",
      " 2.e+03 2.e+03 2.e+03 2.e+03 2.e+03 2.e+03 2.e+03 2.e+03 2.e+03 2.e+03\n",
      " 2.e+03 2.e+03 2.e+03 2.e+03 2.e+03 2.e+03 2.e+03 2.e+03 2.e+03 2.e+03\n",
      " 2.e+03 2.e+03 2.e+03 2.e+03 2.e+03 2.e+03 2.e+03 2.e+03 2.e+03 2.e+03\n",
      " 2.e+03 2.e+03 2.e+03 2.e+03 2.e+03 2.e+03 2.e+03 2.e+03 2.e+03 2.e+03\n",
      " 2.e+03 2.e+03 2.e+03 2.e+03 2.e+03 2.e+03 2.e+03 2.e+03 2.e+03 2.e+03\n",
      " 2.e+03 2.e+03 2.e+03 2.e+03 2.e+03 2.e+03 2.e+03 2.e+03 2.e+03 2.e+03\n",
      " 2.e+03 2.e+03 2.e+03 2.e+03 2.e+03 2.e+03 2.e+03 2.e+03 2.e+03 2.e+03\n",
      " 2.e+03 2.e+03 2.e+03 2.e+03 2.e+03 2.e+03 2.e+03 2.e+03 2.e+03 2.e+03\n",
      " 2.e+03 2.e+03 2.e+03 2.e+03 2.e+03 2.e+03 2.e+03 2.e+03 2.e+03 2.e+03\n",
      " 2.e+03 2.e+03 2.e+03 2.e+03 2.e+03 2.e+03 2.e+03 2.e+03 2.e+03 2.e+03\n",
      " 2.e+03 2.e+03 2.e+03 2.e+03 2.e+03 2.e+03 2.e+03 2.e+03 2.e+03 2.e+03\n",
      " 2.e+03 2.e+03 2.e+03 2.e+03 2.e+03 2.e+03 2.e+03 2.e+03 2.e+03 2.e+03\n",
      " 2.e+03 2.e+03 2.e+03 2.e+03 2.e+03 2.e+03 2.e+03 2.e+03 2.e+03 2.e+03\n",
      " 2.e+03 2.e+03 2.e+03 2.e+03 2.e+03 2.e+03 2.e+03 2.e+03 2.e+03 2.e+03\n",
      " 2.e+03 2.e+03 2.e+03 2.e+03 2.e+03 2.e+03 2.e+03 2.e+03 2.e+03 2.e+03\n",
      " 2.e+03 2.e+03 2.e+03 2.e+03 2.e+03 2.e+03 2.e+03 2.e+03 2.e+03 2.e+03\n",
      " 2.e+03 2.e+03 2.e+03 2.e+03 2.e+03 2.e+03 2.e+03 2.e+03 2.e+03 2.e+03\n",
      " 2.e+03 2.e+03 2.e+03 2.e+03 2.e+03 2.e+03 2.e+03 2.e+03 2.e+03 2.e+03\n",
      " 2.e+03 2.e+03 2.e+03 2.e+03 2.e+03 2.e+03 2.e+03 2.e+03 2.e+03 2.e+03\n",
      " 2.e+03 2.e+03 2.e+03 2.e+03 2.e+03 2.e+03 2.e+03 2.e+03 2.e+03 2.e+03\n",
      " 2.e+03 2.e+03 2.e+03 2.e+03 2.e+03 2.e+03 2.e+03 2.e+03 2.e+03 2.e+03]\n"
     ]
    }
   ],
   "source": [
    "print(np.linspace(1,1999,1000))"
   ]
  },
  {
   "cell_type": "markdown",
   "id": "confidential-origin",
   "metadata": {},
   "source": [
    "### 1.2  - Create a 2D array of size (5,10) containing random numbers between 1 and 2"
   ]
  },
  {
   "cell_type": "code",
   "execution_count": 39,
   "id": "extreme-mixture",
   "metadata": {},
   "outputs": [
    {
     "data": {
      "text/plain": [
       "array([[1., 1., 1., 2., 2., 2., 2., 2., 1., 1.],\n",
       "       [2., 2., 2., 2., 1., 1., 1., 2., 2., 1.],\n",
       "       [1., 1., 1., 2., 1., 1., 1., 1., 2., 2.],\n",
       "       [1., 1., 1., 2., 1., 1., 1., 2., 2., 1.],\n",
       "       [2., 1., 2., 2., 2., 1., 1., 2., 2., 2.]])"
      ]
     },
     "execution_count": 39,
     "metadata": {},
     "output_type": "execute_result"
    }
   ],
   "source": [
    "np.random.rand(5,10)+1"
   ]
  },
  {
   "cell_type": "markdown",
   "id": "executed-canyon",
   "metadata": {},
   "source": [
    "### 1.3 - Create a 10x10 Identity matrix where all the numbers are in integer format"
   ]
  },
  {
   "cell_type": "code",
   "execution_count": 40,
   "id": "hearing-transfer",
   "metadata": {},
   "outputs": [
    {
     "data": {
      "text/plain": [
       "array([[1, 0, 0, 0, 0, 0, 0, 0, 0, 0],\n",
       "       [0, 1, 0, 0, 0, 0, 0, 0, 0, 0],\n",
       "       [0, 0, 1, 0, 0, 0, 0, 0, 0, 0],\n",
       "       [0, 0, 0, 1, 0, 0, 0, 0, 0, 0],\n",
       "       [0, 0, 0, 0, 1, 0, 0, 0, 0, 0],\n",
       "       [0, 0, 0, 0, 0, 1, 0, 0, 0, 0],\n",
       "       [0, 0, 0, 0, 0, 0, 1, 0, 0, 0],\n",
       "       [0, 0, 0, 0, 0, 0, 0, 1, 0, 0],\n",
       "       [0, 0, 0, 0, 0, 0, 0, 0, 1, 0],\n",
       "       [0, 0, 0, 0, 0, 0, 0, 0, 0, 1]])"
      ]
     },
     "execution_count": 40,
     "metadata": {},
     "output_type": "execute_result"
    }
   ],
   "source": [
    "np.identity(10, dtype='int')"
   ]
  },
  {
   "cell_type": "markdown",
   "id": "2b41c95e",
   "metadata": {},
   "source": [
    "There are multiple ways in which numpy arrays can be created:\n",
    "\n",
    "- np.array()\n",
    "- np.ones() / np.zeros()\n",
    "- np.full()\n",
    "- np.arange()\n",
    "- np.linspace()\n",
    "- np.identity()\n",
    "- np.random()"
   ]
  },
  {
   "cell_type": "markdown",
   "id": "framed-engine",
   "metadata": {},
   "source": [
    "---\n",
    "## <font color = blue> Reshape the array</font>\n",
    "---    "
   ]
  },
  {
   "cell_type": "markdown",
   "id": "hundred-briefs",
   "metadata": {},
   "source": [
    "### 2.1 `np_array.reshape()`"
   ]
  },
  {
   "cell_type": "code",
   "execution_count": 41,
   "id": "30632723",
   "metadata": {
    "id": "30632723",
    "outputId": "b8f849ab-0b0e-4e84-e375-1cb6ecbcb723"
   },
   "outputs": [
    {
     "data": {
      "text/plain": [
       "array([[ 0,  1,  2,  3],\n",
       "       [ 4,  5,  6,  7],\n",
       "       [ 8,  9, 10, 11]])"
      ]
     },
     "execution_count": 41,
     "metadata": {},
     "output_type": "execute_result"
    }
   ],
   "source": [
    "np.arange(12).reshape(3,4)"
   ]
  },
  {
   "cell_type": "code",
   "execution_count": 42,
   "id": "7d229a49",
   "metadata": {
    "id": "7d229a49",
    "outputId": "87bf3bc1-d137-4f78-ad3e-759824580d30"
   },
   "outputs": [
    {
     "data": {
      "text/plain": [
       "array([[ 0,  1,  2],\n",
       "       [ 3,  4,  5],\n",
       "       [ 6,  7,  8],\n",
       "       [ 9, 10, 11]])"
      ]
     },
     "execution_count": 42,
     "metadata": {},
     "output_type": "execute_result"
    }
   ],
   "source": [
    "np.arange(12).reshape(4,3)"
   ]
  },
  {
   "cell_type": "code",
   "execution_count": 43,
   "id": "35aee197",
   "metadata": {
    "id": "35aee197",
    "outputId": "fa248654-820d-4228-fd8b-71725c84ed9f"
   },
   "outputs": [
    {
     "data": {
      "text/plain": [
       "array([[ 0],\n",
       "       [ 1],\n",
       "       [ 2],\n",
       "       [ 3],\n",
       "       [ 4],\n",
       "       [ 5],\n",
       "       [ 6],\n",
       "       [ 7],\n",
       "       [ 8],\n",
       "       [ 9],\n",
       "       [10],\n",
       "       [11]])"
      ]
     },
     "execution_count": 43,
     "metadata": {},
     "output_type": "execute_result"
    }
   ],
   "source": [
    "np.arange(12).reshape(12,1)"
   ]
  },
  {
   "cell_type": "markdown",
   "id": "charitable-westminster",
   "metadata": {},
   "source": [
    "### 2.2 `arr.flatten()`"
   ]
  },
  {
   "cell_type": "code",
   "execution_count": 48,
   "id": "777fa6ca",
   "metadata": {
    "id": "777fa6ca",
    "outputId": "c46c33fc-fc02-4035-ede7-dc2e54071885"
   },
   "outputs": [
    {
     "name": "stdout",
     "output_type": "stream",
     "text": [
      "(9,)\n",
      "[10 20 30 40 50 60 18 18 18]\n"
     ]
    }
   ],
   "source": [
    "arr = np.array([[10,20,30],[40,50,60],[18,18,18]])\n",
    "print(arr.flatten().shape)\n",
    "print(arr.flatten())"
   ]
  },
  {
   "cell_type": "code",
   "execution_count": 49,
   "id": "divine-potter",
   "metadata": {},
   "outputs": [
    {
     "data": {
      "text/plain": [
       "numpy.ndarray"
      ]
     },
     "execution_count": 49,
     "metadata": {},
     "output_type": "execute_result"
    }
   ],
   "source": [
    "type(arr.flatten())"
   ]
  },
  {
   "cell_type": "markdown",
   "id": "parliamentary-coalition",
   "metadata": {},
   "source": [
    "### 2.3 `np.ravel()`"
   ]
  },
  {
   "cell_type": "code",
   "execution_count": 50,
   "id": "fa4a9f4e",
   "metadata": {
    "id": "fa4a9f4e",
    "outputId": "45a7b4b3-77fa-45c3-d50b-7563dd3b8881"
   },
   "outputs": [
    {
     "data": {
      "text/plain": [
       "array([[10, 20, 30],\n",
       "       [40, 50, 60],\n",
       "       [18, 18, 18]])"
      ]
     },
     "execution_count": 50,
     "metadata": {},
     "output_type": "execute_result"
    }
   ],
   "source": [
    "arr"
   ]
  },
  {
   "cell_type": "code",
   "execution_count": 52,
   "id": "ebca126c",
   "metadata": {
    "id": "ebca126c",
    "outputId": "1e2bb088-7b83-4b20-dbc6-12a07109cd04"
   },
   "outputs": [
    {
     "name": "stdout",
     "output_type": "stream",
     "text": [
      "[10 20 30 40 50 60 18 18 18]\n"
     ]
    }
   ],
   "source": [
    "# Return a contiguous flattened array.\n",
    "\n",
    "arr_ravel = np.ravel(arr)  \n",
    "print(arr_ravel)"
   ]
  },
  {
   "cell_type": "code",
   "execution_count": 56,
   "id": "12fa6dbc",
   "metadata": {
    "id": "12fa6dbc",
    "outputId": "4f0fe818-b1d5-4d1f-b09b-49b4958b6d59",
    "scrolled": true
   },
   "outputs": [
    {
     "data": {
      "text/plain": [
       "array([10, 20, 30, 40, 50, 60, 18, 18, 18])"
      ]
     },
     "execution_count": 56,
     "metadata": {},
     "output_type": "execute_result"
    }
   ],
   "source": [
    "# Row-wise\n",
    "np.ravel(arr, order='C')"
   ]
  },
  {
   "cell_type": "code",
   "execution_count": 57,
   "id": "338c728b",
   "metadata": {
    "id": "338c728b",
    "outputId": "28ba7e4e-b83c-438d-dde5-0264cf115383"
   },
   "outputs": [
    {
     "data": {
      "text/plain": [
       "array([10, 40, 18, 20, 50, 18, 30, 60, 18])"
      ]
     },
     "execution_count": 57,
     "metadata": {},
     "output_type": "execute_result"
    }
   ],
   "source": [
    "# Column-wise\n",
    "np.ravel(arr, order='F')"
   ]
  },
  {
   "cell_type": "markdown",
   "id": "transparent-hamilton",
   "metadata": {},
   "source": [
    "### 2.1 - Find the transpose of the given array without using `np.transpose`"
   ]
  },
  {
   "cell_type": "code",
   "execution_count": 64,
   "id": "authentic-retrieval",
   "metadata": {
    "scrolled": true
   },
   "outputs": [
    {
     "name": "stdout",
     "output_type": "stream",
     "text": [
      "(50,)\n"
     ]
    }
   ],
   "source": [
    "arr = np.arange(50)\n",
    "print(arr.shape)"
   ]
  },
  {
   "cell_type": "code",
   "execution_count": 66,
   "id": "f7ad5e2a",
   "metadata": {},
   "outputs": [
    {
     "name": "stdout",
     "output_type": "stream",
     "text": [
      "(50, 1)\n"
     ]
    }
   ],
   "source": [
    "arr = arr.reshape(50,1)\n",
    "print(arr.shape)"
   ]
  },
  {
   "cell_type": "markdown",
   "id": "polish-circuit",
   "metadata": {},
   "source": [
    "### 2.2 Convert the following 2-D array into a 1-D array in columnar fashion (the first few elements should belong to the first column)"
   ]
  },
  {
   "cell_type": "code",
   "execution_count": 68,
   "id": "welsh-inspiration",
   "metadata": {},
   "outputs": [
    {
     "data": {
      "text/plain": [
       "array([[ 0,  1,  2,  3,  4,  5,  6,  7,  8,  9],\n",
       "       [10, 11, 12, 13, 14, 15, 16, 17, 18, 19],\n",
       "       [20, 21, 22, 23, 24, 25, 26, 27, 28, 29],\n",
       "       [30, 31, 32, 33, 34, 35, 36, 37, 38, 39],\n",
       "       [40, 41, 42, 43, 44, 45, 46, 47, 48, 49]])"
      ]
     },
     "execution_count": 68,
     "metadata": {},
     "output_type": "execute_result"
    }
   ],
   "source": [
    "arr = np.arange(50).reshape(5,10)\n",
    "arr"
   ]
  },
  {
   "cell_type": "code",
   "execution_count": 69,
   "id": "bb8eca62",
   "metadata": {},
   "outputs": [
    {
     "data": {
      "text/plain": [
       "array([ 0, 10, 20, 30, 40,  1, 11, 21, 31, 41,  2, 12, 22, 32, 42,  3, 13,\n",
       "       23, 33, 43,  4, 14, 24, 34, 44,  5, 15, 25, 35, 45,  6, 16, 26, 36,\n",
       "       46,  7, 17, 27, 37, 47,  8, 18, 28, 38, 48,  9, 19, 29, 39, 49])"
      ]
     },
     "execution_count": 69,
     "metadata": {},
     "output_type": "execute_result"
    }
   ],
   "source": [
    "np.ravel(arr, order='F')"
   ]
  },
  {
   "cell_type": "markdown",
   "id": "a2b95ec0",
   "metadata": {},
   "source": [
    "The following commands can be used to reshape the array\n",
    "\n",
    "- np.reshape()\n",
    "- np.ravel()\n",
    "- np.flatten()"
   ]
  },
  {
   "cell_type": "markdown",
   "id": "460cabf8",
   "metadata": {},
   "source": [
    "The one command np.reshape() is enough to perform all reshaping operations. The other two are just good to know if you want to flatten a dataset in a single command, without inspecting it first."
   ]
  },
  {
   "cell_type": "markdown",
   "id": "11d33899",
   "metadata": {
    "id": "11d33899"
   },
   "source": [
    "---\n",
    "## <font color=blue>  Join and stack two arrays</font>\n",
    "---\n",
    "\n",
    "- Vertical stacking (row wise) using `vstack()`\n",
    "- Horizontal stacking (column wise) using `hstack()`\n",
    "- Depth wise stacking (along third axis) using `dstack()`\n",
    "- `concatenate()` function creates a new array by appending arrays after each other, along a given axis\n",
    "- `append()` function appends an element to an array and creates a new copy of the array\n"
   ]
  },
  {
   "cell_type": "code",
   "execution_count": 70,
   "id": "14e09cc1",
   "metadata": {
    "id": "14e09cc1",
    "outputId": "a88250bc-ed1b-42ac-9976-c4ac06ab736c"
   },
   "outputs": [
    {
     "name": "stdout",
     "output_type": "stream",
     "text": [
      "[[0 1 2 3 4]\n",
      " [5 6 7 8 9]]\n",
      "------------------------------\n",
      "[[13 14 15 16 17]\n",
      " [18 19 20 21 22]]\n"
     ]
    }
   ],
   "source": [
    "import numpy as np\n",
    "\n",
    "\n",
    "array_1 = np.arange(10).reshape(2,5)\n",
    "print(array_1)\n",
    "\n",
    "print(\"-\"*30)\n",
    "\n",
    "array_2 = np.arange(13,23,1).reshape(2,5)\n",
    "print(array_2)"
   ]
  },
  {
   "cell_type": "markdown",
   "id": "strategic-wilson",
   "metadata": {},
   "source": [
    "### 3.1 `np.vstack()`"
   ]
  },
  {
   "cell_type": "code",
   "execution_count": 71,
   "id": "030dbf27",
   "metadata": {
    "id": "030dbf27",
    "outputId": "a9d76cb7-9d95-4e16-bba3-ee27e098f267"
   },
   "outputs": [
    {
     "name": "stdout",
     "output_type": "stream",
     "text": [
      "[[ 0  1  2  3  4]\n",
      " [ 5  6  7  8  9]\n",
      " [13 14 15 16 17]\n",
      " [18 19 20 21 22]]\n"
     ]
    }
   ],
   "source": [
    "array_vstack = np.vstack([array_1,array_2])\n",
    "print(array_vstack)"
   ]
  },
  {
   "cell_type": "code",
   "execution_count": 72,
   "id": "awful-shower",
   "metadata": {},
   "outputs": [
    {
     "name": "stdout",
     "output_type": "stream",
     "text": [
      "(4, 5)\n"
     ]
    }
   ],
   "source": [
    "print(array_vstack.shape)"
   ]
  },
  {
   "cell_type": "markdown",
   "id": "headed-fleet",
   "metadata": {},
   "source": [
    "### 3.2 `np.hstack()`"
   ]
  },
  {
   "cell_type": "code",
   "execution_count": 73,
   "id": "34a940af",
   "metadata": {
    "id": "34a940af",
    "outputId": "5789f5c3-e8b3-4d1c-a95e-456bc5f35603"
   },
   "outputs": [
    {
     "name": "stdout",
     "output_type": "stream",
     "text": [
      "[[ 0  1  2  3  4 13 14 15 16 17]\n",
      " [ 5  6  7  8  9 18 19 20 21 22]]\n"
     ]
    }
   ],
   "source": [
    "array_hstack = np.hstack([array_1,array_2])\n",
    "print(array_hstack)"
   ]
  },
  {
   "cell_type": "code",
   "execution_count": 74,
   "id": "southern-spanish",
   "metadata": {},
   "outputs": [
    {
     "name": "stdout",
     "output_type": "stream",
     "text": [
      "(2, 10)\n"
     ]
    }
   ],
   "source": [
    "print(array_hstack.shape)"
   ]
  },
  {
   "cell_type": "markdown",
   "id": "controlling-convergence",
   "metadata": {},
   "source": [
    "### 3.3 `np.dstack()`"
   ]
  },
  {
   "cell_type": "code",
   "execution_count": 75,
   "id": "c516e09a",
   "metadata": {
    "id": "c516e09a",
    "outputId": "ce1eed04-6efc-40af-a22b-e5e4b1a74bc9"
   },
   "outputs": [
    {
     "name": "stdout",
     "output_type": "stream",
     "text": [
      "[[[ 0 13]\n",
      "  [ 1 14]\n",
      "  [ 2 15]\n",
      "  [ 3 16]\n",
      "  [ 4 17]]\n",
      "\n",
      " [[ 5 18]\n",
      "  [ 6 19]\n",
      "  [ 7 20]\n",
      "  [ 8 21]\n",
      "  [ 9 22]]]\n"
     ]
    }
   ],
   "source": [
    "array_dstack = np.dstack([array_1,array_2])\n",
    "print(array_dstack)"
   ]
  },
  {
   "cell_type": "code",
   "execution_count": 76,
   "id": "documented-thanksgiving",
   "metadata": {},
   "outputs": [
    {
     "name": "stdout",
     "output_type": "stream",
     "text": [
      "(2, 5, 2)\n"
     ]
    }
   ],
   "source": [
    "print(array_dstack.shape) # two sets of 5x2 matrices"
   ]
  },
  {
   "cell_type": "markdown",
   "id": "pediatric-toronto",
   "metadata": {},
   "source": [
    "### 3.4 `np.concatenate()`"
   ]
  },
  {
   "cell_type": "code",
   "execution_count": 77,
   "id": "bf8619ea",
   "metadata": {
    "id": "bf8619ea",
    "outputId": "bb96fc3f-6c9c-4b61-f561-5f3ae769f7f4",
    "scrolled": true
   },
   "outputs": [
    {
     "name": "stdout",
     "output_type": "stream",
     "text": [
      "[[ 0  1  2  3  4]\n",
      " [ 5  6  7  8  9]\n",
      " [13 14 15 16 17]\n",
      " [18 19 20 21 22]]\n"
     ]
    }
   ],
   "source": [
    "array_concatenate = np.concatenate([array_1,array_2])\n",
    "print(array_concatenate)"
   ]
  },
  {
   "cell_type": "code",
   "execution_count": 78,
   "id": "stuffed-bible",
   "metadata": {},
   "outputs": [
    {
     "name": "stdout",
     "output_type": "stream",
     "text": [
      "(4, 5)\n"
     ]
    }
   ],
   "source": [
    "print(array_concatenate.shape) # same as vstack"
   ]
  },
  {
   "cell_type": "markdown",
   "id": "native-ceramic",
   "metadata": {},
   "source": [
    "### 3.5 `np.append()`"
   ]
  },
  {
   "cell_type": "code",
   "execution_count": 79,
   "id": "69829dd5",
   "metadata": {
    "id": "69829dd5",
    "outputId": "305dc7de-cfe0-446f-82f2-0b2f8971c638"
   },
   "outputs": [
    {
     "name": "stdout",
     "output_type": "stream",
     "text": [
      "[ 0  1  2  3  4  5  6  7  8  9 13 14 15 16 17 18 19 20 21 22]\n"
     ]
    }
   ],
   "source": [
    "array_append = np.append(array_1,array_2)\n",
    "print(array_append)"
   ]
  },
  {
   "cell_type": "code",
   "execution_count": 80,
   "id": "cooked-facial",
   "metadata": {},
   "outputs": [
    {
     "name": "stdout",
     "output_type": "stream",
     "text": [
      "(20,)\n"
     ]
    }
   ],
   "source": [
    "print(array_append.shape)"
   ]
  },
  {
   "cell_type": "code",
   "execution_count": 81,
   "id": "501e830c",
   "metadata": {
    "id": "501e830c",
    "outputId": "22814f7a-e2e0-4aba-c0a5-addbb303c431"
   },
   "outputs": [
    {
     "name": "stdout",
     "output_type": "stream",
     "text": [
      "[[ 0  1  2  3  4 13 14 15 16 17]\n",
      " [ 5  6  7  8  9 18 19 20 21 22]]\n"
     ]
    }
   ],
   "source": [
    "array_append = np.append(array_1,array_2,axis =1)\n",
    "print(array_append)"
   ]
  },
  {
   "cell_type": "code",
   "execution_count": 82,
   "id": "median-stylus",
   "metadata": {},
   "outputs": [
    {
     "name": "stdout",
     "output_type": "stream",
     "text": [
      "(2, 10)\n"
     ]
    }
   ],
   "source": [
    "print(array_append.shape)"
   ]
  },
  {
   "cell_type": "code",
   "execution_count": 83,
   "id": "135e989e",
   "metadata": {
    "id": "135e989e",
    "outputId": "dcce51ca-43cb-4212-889e-b9d1a17bffd5"
   },
   "outputs": [
    {
     "name": "stdout",
     "output_type": "stream",
     "text": [
      "[[ 0  1  2  3  4]\n",
      " [ 5  6  7  8  9]\n",
      " [13 14 15 16 17]\n",
      " [18 19 20 21 22]]\n"
     ]
    }
   ],
   "source": [
    "array_append = np.append(array_1,array_2,axis = 0)\n",
    "print(array_append)"
   ]
  },
  {
   "cell_type": "code",
   "execution_count": 84,
   "id": "handed-congo",
   "metadata": {
    "scrolled": true
   },
   "outputs": [
    {
     "name": "stdout",
     "output_type": "stream",
     "text": [
      "(4, 5)\n"
     ]
    }
   ],
   "source": [
    "print(array_append.shape)"
   ]
  },
  {
   "cell_type": "markdown",
   "id": "known-thirty",
   "metadata": {},
   "source": [
    "### 3.1 Represent the chess board as a numpy array\n",
    "The following are the numerical mapping to chess pieces:\n",
    "- Pawns: 1\n",
    "- Rook: 2\n",
    "- Knight: 3\n",
    "- Bishop: 4\n",
    "- King: 5\n",
    "- Queen: 6\n",
    "- Empty spaces: 0"
   ]
  },
  {
   "cell_type": "code",
   "execution_count": 86,
   "id": "27a5244f",
   "metadata": {},
   "outputs": [
    {
     "name": "stdout",
     "output_type": "stream",
     "text": [
      "[[2 3 4 5 6 4 3 2]\n",
      " [1 1 1 1 1 1 1 1]\n",
      " [0 0 0 0 0 0 0 0]\n",
      " [0 0 0 0 0 0 0 0]]\n"
     ]
    }
   ],
   "source": [
    "row_1 = [2,3,4,5,6,4,3,2]\n",
    "row_2 = np.ones(8,dtype=int)\n",
    "row_3_4 = np.zeros(16,dtype=int).reshape(2,8)\n",
    "top_half = np.vstack([row_1,row_2,row_3_4])\n",
    "print(top_half)"
   ]
  },
  {
   "cell_type": "code",
   "execution_count": 89,
   "id": "9d78b6e8",
   "metadata": {},
   "outputs": [
    {
     "name": "stdout",
     "output_type": "stream",
     "text": [
      "[[0 0 0 0 0 0 0 0]\n",
      " [0 0 0 0 0 0 0 0]\n",
      " [1 1 1 1 1 1 1 1]\n",
      " [2 3 4 5 6 4 3 2]]\n"
     ]
    }
   ],
   "source": [
    "bottom_half = np.flip(top_half,axis = 0)\n",
    "print(bottom_half)"
   ]
  },
  {
   "cell_type": "code",
   "execution_count": 85,
   "id": "steady-flight",
   "metadata": {},
   "outputs": [
    {
     "data": {
      "text/plain": [
       "array([[2, 3, 4, 5, 6, 4, 3, 2],\n",
       "       [1, 1, 1, 1, 1, 1, 1, 1],\n",
       "       [0, 0, 0, 0, 0, 0, 0, 0],\n",
       "       [0, 0, 0, 0, 0, 0, 0, 0],\n",
       "       [0, 0, 0, 0, 0, 0, 0, 0],\n",
       "       [0, 0, 0, 0, 0, 0, 0, 0],\n",
       "       [1, 1, 1, 1, 1, 1, 1, 1],\n",
       "       [2, 3, 4, 5, 6, 4, 3, 2]])"
      ]
     },
     "execution_count": 85,
     "metadata": {},
     "output_type": "execute_result"
    }
   ],
   "source": [
    "row_1 = [2,3,4,5,6,4,3,2]\n",
    "row_2 = np.ones(8,dtype=int)\n",
    "row_3_4 = np.zeros(16,dtype=int).reshape(2,8)\n",
    "top_half = np.vstack([row_1,row_2,row_3_4])\n",
    "bottom_half = np.flip(top_half,axis = 0)\n",
    "\n",
    "chess_board = np.vstack([top_half,bottom_half])\n",
    "chess_board"
   ]
  },
  {
   "cell_type": "markdown",
   "id": "signed-criticism",
   "metadata": {},
   "source": [
    "### 3.2 Create an array of size 10x10 ,where the borders are all ones and the inside elements are zeros"
   ]
  },
  {
   "cell_type": "code",
   "execution_count": 105,
   "id": "brown-minute",
   "metadata": {},
   "outputs": [
    {
     "name": "stdout",
     "output_type": "stream",
     "text": [
      "[[0 0 0 0 0 0 0 0 0 0]\n",
      " [0 0 0 0 0 0 0 0 0 0]\n",
      " [0 0 0 0 0 0 0 0 0 0]\n",
      " [0 0 0 0 0 0 0 0 0 0]\n",
      " [0 0 0 0 0 0 0 0 0 0]\n",
      " [0 0 0 0 0 0 0 0 0 0]\n",
      " [0 0 0 0 0 0 0 0 0 0]\n",
      " [0 0 0 0 0 0 0 0 0 0]\n",
      " [0 0 0 0 0 0 0 0 0 0]\n",
      " [0 0 0 0 0 0 0 0 0 0]]\n"
     ]
    }
   ],
   "source": [
    "arr = np.zeros(100, dtype=int).reshape(10,10)\n",
    "print(arr)"
   ]
  },
  {
   "cell_type": "code",
   "execution_count": 106,
   "id": "6c7362fa",
   "metadata": {},
   "outputs": [
    {
     "data": {
      "text/plain": [
       "array([[1, 1, 1, 1, 1, 1, 1, 1, 1, 1],\n",
       "       [1, 0, 0, 0, 0, 0, 0, 0, 0, 1],\n",
       "       [1, 0, 0, 0, 0, 0, 0, 0, 0, 1],\n",
       "       [1, 0, 0, 0, 0, 0, 0, 0, 0, 1],\n",
       "       [1, 0, 0, 0, 0, 0, 0, 0, 0, 1],\n",
       "       [1, 0, 0, 0, 0, 0, 0, 0, 0, 1],\n",
       "       [1, 0, 0, 0, 0, 0, 0, 0, 0, 1],\n",
       "       [1, 0, 0, 0, 0, 0, 0, 0, 0, 1],\n",
       "       [1, 0, 0, 0, 0, 0, 0, 0, 0, 1],\n",
       "       [1, 1, 1, 1, 1, 1, 1, 1, 1, 1]])"
      ]
     },
     "execution_count": 106,
     "metadata": {},
     "output_type": "execute_result"
    }
   ],
   "source": [
    "arr[0 , :] = arr[-1 , : ] = arr[ : , 0] = arr[ : , -1] = 1\n",
    "arr"
   ]
  },
  {
   "cell_type": "code",
   "execution_count": 114,
   "id": "f8b06e64",
   "metadata": {},
   "outputs": [
    {
     "name": "stdout",
     "output_type": "stream",
     "text": [
      "[[1 1 1 1 1 1 1 1 1 1]\n",
      " [1 1 1 1 1 1 1 1 1 1]\n",
      " [1 1 1 1 1 1 1 1 1 1]\n",
      " [1 1 1 1 1 1 1 1 1 1]\n",
      " [1 1 1 1 1 1 1 1 1 1]\n",
      " [1 1 1 1 1 1 1 1 1 1]\n",
      " [1 1 1 1 1 1 1 1 1 1]\n",
      " [1 1 1 1 1 1 1 1 1 1]\n",
      " [1 1 1 1 1 1 1 1 1 1]\n",
      " [1 1 1 1 1 1 1 1 1 1]]\n"
     ]
    }
   ],
   "source": [
    "arr = np.ones(100, dtype=int).reshape(10,10)\n",
    "print(arr)"
   ]
  },
  {
   "cell_type": "code",
   "execution_count": 115,
   "id": "3d247cfd",
   "metadata": {},
   "outputs": [
    {
     "data": {
      "text/plain": [
       "array([[1, 1, 1, 1, 1, 1, 1, 1, 1, 1],\n",
       "       [1, 0, 0, 0, 0, 0, 0, 0, 0, 1],\n",
       "       [1, 0, 0, 0, 0, 0, 0, 0, 0, 1],\n",
       "       [1, 0, 0, 0, 0, 0, 0, 0, 0, 1],\n",
       "       [1, 0, 0, 0, 0, 0, 0, 0, 0, 1],\n",
       "       [1, 0, 0, 0, 0, 0, 0, 0, 0, 1],\n",
       "       [1, 0, 0, 0, 0, 0, 0, 0, 0, 1],\n",
       "       [1, 0, 0, 0, 0, 0, 0, 0, 0, 1],\n",
       "       [1, 0, 0, 0, 0, 0, 0, 0, 0, 1],\n",
       "       [1, 1, 1, 1, 1, 1, 1, 1, 1, 1]])"
      ]
     },
     "execution_count": 115,
     "metadata": {},
     "output_type": "execute_result"
    }
   ],
   "source": [
    "arr[1:-1 , 1:-1] = 0\n",
    "arr"
   ]
  },
  {
   "cell_type": "markdown",
   "id": "5755c40f",
   "metadata": {},
   "source": [
    "Any two arrays can be joined in the following formats:\n",
    "- vstack() - Vertical stacking (row wise)\n",
    "- hstack() - Horizontal stacking (column wise)\n",
    "- dstack() - Depth wise stacking (along third axis)\n",
    "- concatenate() - Creates a new array by appending arrays after each other, along a given axis\n",
    "- append() - Appends an element to an array and creates a new copy of the array\n"
   ]
  },
  {
   "cell_type": "code",
   "execution_count": 123,
   "id": "e84f2392",
   "metadata": {},
   "outputs": [
    {
     "data": {
      "text/plain": [
       "array([[1, 0, 0],\n",
       "       [0, 1, 0],\n",
       "       [0, 0, 1]])"
      ]
     },
     "execution_count": 123,
     "metadata": {},
     "output_type": "execute_result"
    }
   ],
   "source": [
    "np.identity(3,dtype=int)"
   ]
  },
  {
   "cell_type": "code",
   "execution_count": 122,
   "id": "0e57b74a",
   "metadata": {},
   "outputs": [
    {
     "name": "stdout",
     "output_type": "stream",
     "text": [
      "(6,)\n"
     ]
    }
   ],
   "source": [
    "arr = np.array([[10,20,30],[40,50,60]])\n",
    "print(arr.flatten().shape)"
   ]
  },
  {
   "cell_type": "code",
   "execution_count": 124,
   "id": "ee0c851e",
   "metadata": {},
   "outputs": [],
   "source": [
    "arr1 = np.array([[0,0],[0,0]])\n",
    "arr2 = np.array([[1],[1]])\n",
    "arr3 = np.array([1,1,1])"
   ]
  },
  {
   "cell_type": "code",
   "execution_count": 126,
   "id": "6ddbc244",
   "metadata": {},
   "outputs": [
    {
     "name": "stdout",
     "output_type": "stream",
     "text": [
      "[[0 0 1]\n",
      " [0 0 1]\n",
      " [1 1 1]]\n"
     ]
    }
   ],
   "source": [
    "arr4 = np.hstack([arr1,arr2])\n",
    "print(np.vstack([arr4,arr3]))"
   ]
  },
  {
   "cell_type": "markdown",
   "id": "5f0cff16",
   "metadata": {
    "id": "5f0cff16"
   },
   "source": [
    "---\n",
    "## <font color = blue> Perform basic Slicing and Indexing</font>\n",
    "---"
   ]
  },
  {
   "cell_type": "markdown",
   "id": "legislative-probe",
   "metadata": {},
   "source": [
    "### 4.1 `Location based indexing`"
   ]
  },
  {
   "cell_type": "code",
   "execution_count": null,
   "id": "8c7e4352",
   "metadata": {
    "id": "8c7e4352",
    "outputId": "d9e38f1f-8d41-4f29-8288-c950e3772b02"
   },
   "outputs": [],
   "source": [
    "arr = np.array([[10,20,30],[40,50,60],[70,80,90]])"
   ]
  },
  {
   "cell_type": "code",
   "execution_count": null,
   "id": "hungarian-vitamin",
   "metadata": {},
   "outputs": [],
   "source": [
    "print(arr[0])"
   ]
  },
  {
   "cell_type": "code",
   "execution_count": null,
   "id": "departmental-tourist",
   "metadata": {},
   "outputs": [],
   "source": [
    "print(arr[0][0])"
   ]
  },
  {
   "cell_type": "code",
   "execution_count": null,
   "id": "intimate-reconstruction",
   "metadata": {},
   "outputs": [],
   "source": [
    "print(arr[0,0])"
   ]
  },
  {
   "cell_type": "code",
   "execution_count": null,
   "id": "civilian-combining",
   "metadata": {},
   "outputs": [],
   "source": [
    "print(arr[-1])"
   ]
  },
  {
   "cell_type": "code",
   "execution_count": null,
   "id": "light-baseball",
   "metadata": {},
   "outputs": [],
   "source": [
    "print(arr[:,1:3])"
   ]
  },
  {
   "cell_type": "code",
   "execution_count": null,
   "id": "0d2388da",
   "metadata": {
    "id": "0d2388da",
    "outputId": "a3d36da0-ce53-45d7-b66c-3146ec5b375b"
   },
   "outputs": [],
   "source": [
    "print(arr[[0,1,2],[1,0,0]])"
   ]
  },
  {
   "cell_type": "markdown",
   "id": "c5c5eb72",
   "metadata": {
    "id": "c5c5eb72"
   },
   "source": [
    "### 4.2 `Boolean Indexing`"
   ]
  },
  {
   "cell_type": "markdown",
   "id": "eba41879",
   "metadata": {
    "id": "eba41879"
   },
   "source": [
    "### `np.where(  )`\n",
    "\n",
    "- Returns the index based on the boolean\n",
    "\n",
    "### `np.isnan()` \n",
    "- Returns the boolean of data == np.nan"
   ]
  },
  {
   "cell_type": "code",
   "execution_count": null,
   "id": "aab86b24",
   "metadata": {
    "id": "aab86b24",
    "outputId": "b3e96af4-3072-4b01-fcde-61db6dc05e3b"
   },
   "outputs": [],
   "source": [
    "location = np.array([\"Mumbai\",\"Mumbai\",\"Delhi\",\"Chennai\",\"Bangalore\"]) #2 branches in Mumbai\n",
    "sales_data = np.random.randint(1,10,size=(5,5))\n",
    "sales_data = sales_data.astype(float)\n",
    "sales_data[[[1,4],[2,3]]] = np.nan\n",
    "print(sales_data)"
   ]
  },
  {
   "cell_type": "code",
   "execution_count": null,
   "id": "caa4e65a",
   "metadata": {
    "id": "caa4e65a",
    "outputId": "46ad0cf3-73a1-4bd3-f5e6-03d2f6502376"
   },
   "outputs": [],
   "source": [
    "sales_data[location ==\"Mumbai\"]\n",
    "# depending on which index is True, it prints that row\n",
    "# In this case, mumbai is at index 2, therefore row no. 2 will be printed"
   ]
  },
  {
   "cell_type": "code",
   "execution_count": null,
   "id": "75a1e3d8",
   "metadata": {
    "id": "75a1e3d8",
    "outputId": "5f73e76c-d247-4ede-bdc2-d6cca785180e"
   },
   "outputs": [],
   "source": [
    "(location ==\"Mumbai\")"
   ]
  },
  {
   "cell_type": "code",
   "execution_count": null,
   "id": "brief-representative",
   "metadata": {},
   "outputs": [],
   "source": [
    "np.where(location == \"Mumbai\")"
   ]
  },
  {
   "cell_type": "code",
   "execution_count": null,
   "id": "c8c7794e",
   "metadata": {
    "id": "c8c7794e",
    "outputId": "6fe6ca84-ed06-418c-c13f-17c1d06446d2"
   },
   "outputs": [],
   "source": [
    "# if the match does not happen , then all values are false.\n",
    "sales_data[location ==\"Kolkata\"]\n",
    "# the o/p in such a case is indicating shape as(0 rows, 3 features)"
   ]
  },
  {
   "cell_type": "markdown",
   "id": "legislative-component",
   "metadata": {
    "id": "68e4e774"
   },
   "source": [
    "We can also use Boolean indexing for selecting some elements of an array that satisfy a\n",
    "particular condition. For example, in the previous array suppose we want to only select\n",
    "non-zero elements.\n",
    "We can do that easily using the following code."
   ]
  },
  {
   "cell_type": "code",
   "execution_count": null,
   "id": "2031b785",
   "metadata": {
    "id": "2031b785",
    "outputId": "a5768bca-c6bb-414f-cc11-68f695b00bec"
   },
   "outputs": [],
   "source": [
    "sales_data >4"
   ]
  },
  {
   "cell_type": "code",
   "execution_count": null,
   "id": "crude-pakistan",
   "metadata": {},
   "outputs": [],
   "source": [
    "sales_data == np.nan"
   ]
  },
  {
   "cell_type": "markdown",
   "id": "elementary-sender",
   "metadata": {},
   "source": [
    "`np.nan==np.nan` is always `False`\n",
    "\n",
    "We use np.isnan() to find out the nan values in the data"
   ]
  },
  {
   "cell_type": "code",
   "execution_count": null,
   "id": "tamil-international",
   "metadata": {},
   "outputs": [],
   "source": [
    "np.isnan(sales_data)"
   ]
  },
  {
   "cell_type": "code",
   "execution_count": null,
   "id": "perfect-escape",
   "metadata": {},
   "outputs": [],
   "source": [
    "np.where(np.isnan(sales_data))"
   ]
  },
  {
   "cell_type": "code",
   "execution_count": null,
   "id": "b541dfba",
   "metadata": {
    "id": "b541dfba"
   },
   "outputs": [],
   "source": [
    "sales_data[np.isnan(sales_data)] = 0.0 # all nan values will be reset to 0\n",
    "sales_data"
   ]
  },
  {
   "cell_type": "markdown",
   "id": "696b7126",
   "metadata": {
    "id": "696b7126"
   },
   "source": [
    "### 4.3 `np.ndenumerate()`\n",
    "\n",
    "ndenumerate return the co-ordinates and corresponding values in the co-ordinates"
   ]
  },
  {
   "cell_type": "code",
   "execution_count": null,
   "id": "606b9ad6",
   "metadata": {
    "id": "606b9ad6",
    "outputId": "0e800813-e5ad-44f2-be22-f66eb3438afc"
   },
   "outputs": [],
   "source": [
    "A = np.array([[11, 22, 23], [33, 43, 55]])"
   ]
  },
  {
   "cell_type": "code",
   "execution_count": null,
   "id": "suffering-supervisor",
   "metadata": {},
   "outputs": [],
   "source": [
    "np.ndenumerate(A)"
   ]
  },
  {
   "cell_type": "code",
   "execution_count": null,
   "id": "broken-listing",
   "metadata": {},
   "outputs": [],
   "source": [
    "for index, x in np.ndenumerate(A):\n",
    "    print(index, x)"
   ]
  },
  {
   "cell_type": "markdown",
   "id": "charming-maine",
   "metadata": {},
   "source": [
    "### 4.1 - Create a 1D array of alternating 0's and 1's of size 500"
   ]
  },
  {
   "cell_type": "code",
   "execution_count": null,
   "id": "naked-polls",
   "metadata": {},
   "outputs": [],
   "source": [
    "#SOLUTION-\n",
    "\n",
    "arr = np.zeros(500,dtype=int)\n",
    "arr[1::2]=1\n",
    "arr"
   ]
  },
  {
   "cell_type": "markdown",
   "id": "surprising-thought",
   "metadata": {},
   "source": [
    "### 4.2 - Remove all the prime numbers from the following array and replace it with 0"
   ]
  },
  {
   "cell_type": "code",
   "execution_count": null,
   "id": "instant-discipline",
   "metadata": {},
   "outputs": [],
   "source": [
    "def isprime(number):\n",
    "    for i in range(2,number):\n",
    "        if(number%i == 0 and number!=2 ):\n",
    "            return False\n",
    "    return True\n",
    "primecheck = np.vectorize(isprime) ##vectorizes isprime() to be applied on np array\n",
    "arr = np.arange(2,102).reshape(20,5)\n",
    "\n",
    "\n",
    "#SOLUTION-\n",
    "\n",
    "arr[primecheck(arr)]=0\n",
    "arr"
   ]
  },
  {
   "cell_type": "markdown",
   "id": "vital-cambodia",
   "metadata": {},
   "source": [
    "### 4.3 - In the previous array, find the position of all the squares, $1^2, 2^2, 3^2$..."
   ]
  },
  {
   "cell_type": "code",
   "execution_count": null,
   "id": "academic-career",
   "metadata": {},
   "outputs": [],
   "source": [
    "arr = np.arange(2,102).reshape(20,5)"
   ]
  },
  {
   "cell_type": "code",
   "execution_count": null,
   "id": "subjective-division",
   "metadata": {},
   "outputs": [],
   "source": [
    "#SOLUTION-\n",
    "\n",
    "    "
   ]
  },
  {
   "cell_type": "markdown",
   "id": "a4e9695d",
   "metadata": {
    "id": "a4e9695d"
   },
   "source": [
    "---\n",
    "## <font color=blue> Perform operations on Arrays (addition, multiplication etc.)</font>\n",
    "---"
   ]
  },
  {
   "cell_type": "code",
   "execution_count": null,
   "id": "3cc79b8b",
   "metadata": {
    "id": "3cc79b8b",
    "outputId": "9d4d7b72-2c0b-45b0-b25a-640641a2aa93"
   },
   "outputs": [],
   "source": [
    "arr1 = np.arange(15).reshape(5,3)\n",
    "arr1"
   ]
  },
  {
   "cell_type": "code",
   "execution_count": null,
   "id": "e84954a3",
   "metadata": {
    "id": "e84954a3",
    "outputId": "6a71c637-1955-422e-80a0-bd31a5cf8eab"
   },
   "outputs": [],
   "source": [
    "#adding a constant\n",
    "arr1 + 5 "
   ]
  },
  {
   "cell_type": "code",
   "execution_count": null,
   "id": "686e1a4f",
   "metadata": {
    "id": "686e1a4f",
    "outputId": "dea39d89-364c-4730-e469-bc8f46cef419"
   },
   "outputs": [],
   "source": [
    "#product using constant\n",
    "arr1 * 2"
   ]
  },
  {
   "cell_type": "code",
   "execution_count": null,
   "id": "27750b63",
   "metadata": {
    "id": "27750b63",
    "outputId": "486dfb68-6c7f-4534-abd2-b72645088094"
   },
   "outputs": [],
   "source": [
    "arr2 = np.arange(5).reshape(5,1) \n",
    "print(arr2)"
   ]
  },
  {
   "cell_type": "code",
   "execution_count": null,
   "id": "according-queen",
   "metadata": {},
   "outputs": [],
   "source": [
    "#Matrix sum\n",
    "print(arr2 + arr1) # arr2[i] + arr1's entire row"
   ]
  },
  {
   "cell_type": "code",
   "execution_count": null,
   "id": "friendly-weekend",
   "metadata": {},
   "outputs": [],
   "source": [
    "#Transpose\n",
    "arr1.T"
   ]
  },
  {
   "cell_type": "code",
   "execution_count": null,
   "id": "specified-midwest",
   "metadata": {},
   "outputs": [],
   "source": [
    "#matrix multiplication\n",
    "arr1.T @ arr2"
   ]
  },
  {
   "cell_type": "code",
   "execution_count": null,
   "id": "electric-henry",
   "metadata": {},
   "outputs": [],
   "source": [
    "arr3 = np.random.randn(3,5)"
   ]
  },
  {
   "cell_type": "code",
   "execution_count": null,
   "id": "communist-contributor",
   "metadata": {},
   "outputs": [],
   "source": [
    "# dot product\n",
    "arr1.dot(arr3)"
   ]
  },
  {
   "cell_type": "code",
   "execution_count": null,
   "id": "roman-drama",
   "metadata": {},
   "outputs": [],
   "source": [
    "arr = np.random.rand(16).reshape(4,4)"
   ]
  },
  {
   "cell_type": "code",
   "execution_count": null,
   "id": "cosmetic-separate",
   "metadata": {},
   "outputs": [],
   "source": [
    "np.linalg.inv(arr)"
   ]
  },
  {
   "cell_type": "code",
   "execution_count": null,
   "id": "automated-tissue",
   "metadata": {},
   "outputs": [],
   "source": [
    "arr = np.identity(4)\n",
    "np.linalg.inv(arr)"
   ]
  },
  {
   "cell_type": "code",
   "execution_count": null,
   "id": "joined-mandate",
   "metadata": {},
   "outputs": [],
   "source": [
    "np.ones(5).T @ np.ones(5)"
   ]
  },
  {
   "cell_type": "markdown",
   "id": "overall-writer",
   "metadata": {},
   "source": [
    " ### 5.1 - Verify that `np.linalg.inv()` computes the inverse of a matrix"
   ]
  },
  {
   "cell_type": "code",
   "execution_count": null,
   "id": "solved-details",
   "metadata": {},
   "outputs": [],
   "source": [
    "#SOLUTION-\n",
    "\n",
    "arr = np.random.rand(3,3)\n",
    "arr_inv = np.linalg.inv(arr)\n",
    "arr @ arr_inv"
   ]
  },
  {
   "cell_type": "markdown",
   "id": "blond-mozambique",
   "metadata": {},
   "source": [
    "### 5.2 - Extract the row-wise and column-wise sum of the following array"
   ]
  },
  {
   "cell_type": "code",
   "execution_count": null,
   "id": "going-anthony",
   "metadata": {},
   "outputs": [],
   "source": [
    "arr = np.arange(100).reshape(10,10)\n",
    "\n",
    "#SOLUTION-\n",
    "#HINT: Think along the lines of matrix multiplication"
   ]
  },
  {
   "cell_type": "markdown",
   "id": "72b58005",
   "metadata": {
    "id": "72b58005"
   },
   "source": [
    "---\n",
    "## <font color = blue>Sorting the array</font>\n",
    "---\n",
    "### 6.1 `np.sort()`"
   ]
  },
  {
   "cell_type": "code",
   "execution_count": null,
   "id": "ef0e98ef",
   "metadata": {
    "id": "ef0e98ef",
    "outputId": "9028e7fd-468d-4a98-ab7d-4c7daffff98e"
   },
   "outputs": [],
   "source": [
    "arr = np.random.randint(1,7, size=[8, 4])\n",
    "arr"
   ]
  },
  {
   "cell_type": "markdown",
   "id": "demographic-search",
   "metadata": {
    "id": "cae969d1"
   },
   "source": [
    "We have a random array of 8 rows and 4 columns.\n",
    "\n",
    "If you use the np.sort function with axis=0, all the columns will be sorted in ascending order independent of eachother, effectively compromising the integrity of the row items. In simple terms, the values in each row gets corrupted with values from other rows."
   ]
  },
  {
   "cell_type": "code",
   "execution_count": null,
   "id": "f135e046",
   "metadata": {
    "id": "f135e046",
    "outputId": "bb586608-8833-42cf-c155-62e23f1d8f1c"
   },
   "outputs": [],
   "source": [
    "# Sort each columns of arr\n",
    "np.sort(arr, axis=0)"
   ]
  },
  {
   "cell_type": "markdown",
   "id": "known-transcript",
   "metadata": {
    "id": "6c36aca7"
   },
   "source": [
    "Since I don’t want the content of rows to be disturbed, I resort to an indirect method using np.argsort."
   ]
  },
  {
   "cell_type": "markdown",
   "id": "8ecbb474",
   "metadata": {
    "id": "8ecbb474"
   },
   "source": [
    "### 6.2 `np.argsort()`"
   ]
  },
  {
   "cell_type": "markdown",
   "id": "military-moore",
   "metadata": {
    "id": "afafacd3"
   },
   "source": [
    "Let’s first understand what np.argsort does.\n",
    "\n",
    "np.argsort returns the index positions of that would make a given 1d array sorted.\n",
    "\n"
   ]
  },
  {
   "cell_type": "code",
   "execution_count": null,
   "id": "783c2927",
   "metadata": {
    "id": "783c2927",
    "outputId": "149aa002-5003-43bf-e8c9-85d519dca2a9"
   },
   "outputs": [],
   "source": [
    "# Get the index positions that would sort the array\n",
    "x = np.array([1, 10, 5, 2, 8, 9])\n",
    "sort_index = np.argsort(x)\n",
    "print(sort_index)"
   ]
  },
  {
   "cell_type": "markdown",
   "id": "distinct-remove",
   "metadata": {
    "id": "28fc50b6"
   },
   "source": [
    "How to interpret this?\n",
    "\n",
    "In array ‘x’, the 0th item is the smallest, 3rd item is the second smallest and so on."
   ]
  },
  {
   "cell_type": "code",
   "execution_count": null,
   "id": "765cd6bc",
   "metadata": {
    "id": "765cd6bc",
    "outputId": "1baabfd9-6e19-43f6-85f7-dacfded94f0e"
   },
   "outputs": [],
   "source": [
    "x[sort_index]"
   ]
  },
  {
   "cell_type": "markdown",
   "id": "billion-synthetic",
   "metadata": {
    "id": "f874d1c3"
   },
   "source": [
    "Now, in order to sort the original arr, I am going to do an argsort on the 1st column and use the resulting index positions to sort arr. See the code."
   ]
  },
  {
   "cell_type": "code",
   "execution_count": null,
   "id": "553d1e9f",
   "metadata": {
    "id": "553d1e9f",
    "outputId": "75a30f9f-6892-459a-83b7-c5c6de1d3749"
   },
   "outputs": [],
   "source": [
    "# Argsort the first column\n",
    "sorted_index_1stcol = arr[:, 0].argsort()\n",
    "\n",
    "# Sort 'arr' by first column without disturbing the integrity of rows\n",
    "arr[sorted_index_1stcol]\n"
   ]
  },
  {
   "cell_type": "markdown",
   "id": "rolled-number",
   "metadata": {
    "id": "0fce2233"
   },
   "source": [
    "To sort it in decreasing order, simply reverse the argsorted index."
   ]
  },
  {
   "cell_type": "code",
   "execution_count": null,
   "id": "f3424bf3",
   "metadata": {
    "id": "f3424bf3",
    "outputId": "144e8bca-7a43-425c-d35e-7e784ec51de5"
   },
   "outputs": [],
   "source": [
    "# Descending sort\n",
    "arr[sorted_index_1stcol[::-1]]"
   ]
  },
  {
   "cell_type": "markdown",
   "id": "abc6f1ab",
   "metadata": {
    "id": "abc6f1ab"
   },
   "source": [
    "### 6.3 `np.lexsort()`"
   ]
  },
  {
   "cell_type": "code",
   "execution_count": null,
   "id": "19f09f45",
   "metadata": {
    "id": "19f09f45",
    "outputId": "b5926796-6132-4a68-d837-37b3db99c394"
   },
   "outputs": [],
   "source": [
    "# Sort by column 0, then by column 1\n",
    "lexsorted_index = np.lexsort((arr[:, 1], arr[:, 0])) \n",
    "arr[lexsorted_index]"
   ]
  },
  {
   "cell_type": "markdown",
   "id": "continuous-posting",
   "metadata": {},
   "source": [
    "### 6.1 Sort the following array based on the first column, in the descending order"
   ]
  },
  {
   "cell_type": "code",
   "execution_count": null,
   "id": "coupled-window",
   "metadata": {},
   "outputs": [],
   "source": [
    "arr = np.random.randint(1,7, size=[8, 4])\n",
    "\n",
    "#SOLUTION-"
   ]
  },
  {
   "cell_type": "markdown",
   "id": "68d5a607",
   "metadata": {
    "id": "68d5a607"
   },
   "source": [
    "---\n",
    "## <font color=blue> Size of objects in Memory</font>\n",
    "---\n"
   ]
  },
  {
   "cell_type": "code",
   "execution_count": null,
   "id": "cc078ada",
   "metadata": {
    "id": "cc078ada"
   },
   "outputs": [],
   "source": [
    "import sys"
   ]
  },
  {
   "cell_type": "code",
   "execution_count": null,
   "id": "209b0daf",
   "metadata": {
    "id": "209b0daf",
    "outputId": "76fda4b1-81b0-409f-8a5f-dac60f68bf93"
   },
   "outputs": [],
   "source": [
    "# An integer in Python is > 24bytes\n",
    "sys.getsizeof(1)"
   ]
  },
  {
   "cell_type": "code",
   "execution_count": null,
   "id": "5e383f2d",
   "metadata": {
    "id": "5e383f2d",
    "outputId": "0c3ca2d3-a15b-40e3-8419-c396bb792e0a"
   },
   "outputs": [],
   "source": [
    "sys.getsizeof(10)"
   ]
  },
  {
   "cell_type": "code",
   "execution_count": null,
   "id": "6a896d65",
   "metadata": {
    "id": "6a896d65",
    "outputId": "3e5d98d0-1fea-47b5-ace5-2c0f0fc4f0a9"
   },
   "outputs": [],
   "source": [
    "# Longs are even larger\n",
    "sys.getsizeof(10**100)"
   ]
  },
  {
   "cell_type": "code",
   "execution_count": null,
   "id": "fed01ec0",
   "metadata": {
    "id": "fed01ec0",
    "outputId": "016effc9-6150-4fd0-98a1-edf6e436bc4f"
   },
   "outputs": [],
   "source": [
    "# Numpy size is much smaller\n",
    "np.dtype(int).itemsize"
   ]
  },
  {
   "cell_type": "code",
   "execution_count": null,
   "id": "d39fe9d9",
   "metadata": {
    "id": "d39fe9d9",
    "outputId": "425c07bd-7506-4d05-dd10-8a36d794320e"
   },
   "outputs": [],
   "source": [
    "# Numpy size is much smaller\n",
    "np.dtype(np.int8).itemsize"
   ]
  },
  {
   "cell_type": "code",
   "execution_count": null,
   "id": "3ac152a5",
   "metadata": {
    "id": "3ac152a5",
    "outputId": "1ec2de0e-d97b-41f8-8c10-4a681379cc50"
   },
   "outputs": [],
   "source": [
    "np.dtype(float).itemsize"
   ]
  },
  {
   "cell_type": "markdown",
   "id": "9b52c4fd",
   "metadata": {
    "id": "9b52c4fd"
   },
   "source": [
    "#### Lists are even larger"
   ]
  },
  {
   "cell_type": "code",
   "execution_count": null,
   "id": "d81f1845",
   "metadata": {
    "id": "d81f1845",
    "outputId": "15fab9a9-122d-4b91-9bf3-4fd6caf0d264"
   },
   "outputs": [],
   "source": [
    "# A one-element list\n",
    "sys.getsizeof([1])"
   ]
  },
  {
   "cell_type": "code",
   "execution_count": null,
   "id": "17a3ec9e",
   "metadata": {
    "id": "17a3ec9e",
    "outputId": "636098a1-ed70-4c75-a57a-01704ee1fc01"
   },
   "outputs": [],
   "source": [
    "# An array of one element in numpy\n",
    "np.array([1]).nbytes"
   ]
  },
  {
   "cell_type": "markdown",
   "id": "c347fa4b",
   "metadata": {
    "id": "c347fa4b"
   },
   "source": [
    "#### And performance is also important\n"
   ]
  },
  {
   "cell_type": "code",
   "execution_count": null,
   "id": "00d71aa9",
   "metadata": {
    "id": "00d71aa9",
    "outputId": "9d359cb5-c5fa-4bd8-8e65-626d521dfb2e"
   },
   "outputs": [],
   "source": [
    "l = list(range(100000))\n",
    "l"
   ]
  },
  {
   "cell_type": "code",
   "execution_count": null,
   "id": "64881316",
   "metadata": {
    "id": "64881316",
    "outputId": "c999f126-9919-4343-edfb-0599fa15b856"
   },
   "outputs": [],
   "source": [
    "import numpy as np\n",
    "a = np.arange(100000)\n",
    "a"
   ]
  },
  {
   "cell_type": "code",
   "execution_count": null,
   "id": "7d3d15af",
   "metadata": {
    "id": "7d3d15af",
    "outputId": "283e9e66-986b-4722-a993-00a8cd8b1650"
   },
   "outputs": [],
   "source": [
    "%time np.sum(a ** 2) # Numpy is much faster"
   ]
  },
  {
   "cell_type": "code",
   "execution_count": null,
   "id": "f126eb38",
   "metadata": {
    "id": "f126eb38",
    "outputId": "5647d34b-6f7e-4b31-cfbb-aeaced47fd6e"
   },
   "outputs": [],
   "source": [
    "%time sum([x ** 2 for x in l])"
   ]
  }
 ],
 "metadata": {
  "colab": {
   "name": "Darshan - Numpy.ipynb",
   "provenance": []
  },
  "kernelspec": {
   "display_name": "Python 3 (ipykernel)",
   "language": "python",
   "name": "python3"
  },
  "language_info": {
   "codemirror_mode": {
    "name": "ipython",
    "version": 3
   },
   "file_extension": ".py",
   "mimetype": "text/x-python",
   "name": "python",
   "nbconvert_exporter": "python",
   "pygments_lexer": "ipython3",
   "version": "3.9.7"
  }
 },
 "nbformat": 4,
 "nbformat_minor": 5
}
