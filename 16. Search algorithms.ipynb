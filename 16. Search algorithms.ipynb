{
 "cells": [
  {
   "cell_type": "markdown",
   "id": "48e5deb3",
   "metadata": {},
   "source": [
    "# Linear Search\n"
   ]
  },
  {
   "cell_type": "code",
   "execution_count": 1,
   "id": "f0737a1a",
   "metadata": {},
   "outputs": [],
   "source": [
    "data_list = [1, 2, 4, 2, 3,  2, 3, 3, 6, 7]\n",
    "key=3"
   ]
  },
  {
   "cell_type": "code",
   "execution_count": 8,
   "id": "ac0fbdd1",
   "metadata": {},
   "outputs": [
    {
     "data": {
      "text/plain": [
       "True"
      ]
     },
     "execution_count": 8,
     "metadata": {},
     "output_type": "execute_result"
    }
   ],
   "source": [
    "key in data_list"
   ]
  },
  {
   "cell_type": "code",
   "execution_count": 9,
   "id": "70920c68",
   "metadata": {},
   "outputs": [
    {
     "name": "stdout",
     "output_type": "stream",
     "text": [
      "4\n"
     ]
    }
   ],
   "source": [
    "#data_list=list(input())\n",
    "#key=int(input())\n",
    "\n",
    "loc=-1\n",
    "#find the index of the key in data_list here\n",
    "for i in range(0,len(data_list)):\n",
    "    if key == data_list[i]:\n",
    "        loc=i\n",
    "        break\n",
    "print(loc)\n"
   ]
  },
  {
   "cell_type": "code",
   "execution_count": 11,
   "id": "75ff1a99",
   "metadata": {},
   "outputs": [
    {
     "name": "stdout",
     "output_type": "stream",
     "text": [
      "4\n"
     ]
    }
   ],
   "source": [
    "if key in data_list:\n",
    "    for i in range(0,len(data_list)):\n",
    "        if key == data_list[i]:\n",
    "            print(i)\n",
    "            break\n",
    "else:\n",
    "    print(-1)\n",
    "    "
   ]
  },
  {
   "cell_type": "markdown",
   "id": "d99077bf",
   "metadata": {},
   "source": [
    "### Time Complexity of Linear Search\n"
   ]
  },
  {
   "cell_type": "markdown",
   "id": "ab032f46",
   "metadata": {},
   "source": [
    "For a list with n entries, the algorithm takes n steps in the worst case. Hence, linear search follows O(n) time complexity."
   ]
  },
  {
   "cell_type": "markdown",
   "id": "2cd00339",
   "metadata": {},
   "source": [
    "Linear search is more of a direct and brute-force approach, where you iterate through the list element by element to find the key."
   ]
  },
  {
   "cell_type": "markdown",
   "id": "600ae038",
   "metadata": {},
   "source": [
    "### Brute-Force Searching:\n"
   ]
  },
  {
   "cell_type": "markdown",
   "id": "318f0ce7",
   "metadata": {},
   "source": [
    "Brute-force searching is also known as exhaustive searching; it simply means checking all possible configurations for a given problem. It is easy to implement and would most definitely find the solution, although it consumes a lot of time."
   ]
  },
  {
   "cell_type": "markdown",
   "id": "ce91390e",
   "metadata": {},
   "source": [
    "If you have a problem set in a countable space (for example, chess moves are countable, passwords are countable, continuous stuff is uncountable), then the brute-force approach will explore this space considering all solutions equally. In the chess example, if you want to checkmate your opponent, then this is done through a series of moves that are countable. Brute force will go through all the sequences of moves, however unlikely they may be. The word unlikely is important because it means that if you have knowledge of your problem (you know what is unlikely to be a solution, for example, sacrificing your queen), then you can do much better than applying brute force to find the solution."
   ]
  },
  {
   "cell_type": "markdown",
   "id": "7dc08865",
   "metadata": {},
   "source": [
    "Linear search can be said to be a special case of the brute-force method.\n",
    "\n",
    "\n",
    "The brute-force method is a broader category in which each option available is checked for the best possible answer. Although a linear search also compares the key element with every element in the series, it would stop as soon as the element being searched is found and would not further check whether the element is present in the series again later.\n"
   ]
  },
  {
   "cell_type": "markdown",
   "id": "b94d7b96",
   "metadata": {},
   "source": [
    "# Binary search"
   ]
  },
  {
   "cell_type": "code",
   "execution_count": 12,
   "id": "3f49a28b",
   "metadata": {},
   "outputs": [],
   "source": [
    "# concept of divide and conquer\n",
    "# sorted list "
   ]
  },
  {
   "cell_type": "markdown",
   "id": "b578c5fd",
   "metadata": {},
   "source": [
    "- For binary search, you need a sorted list.\n",
    "- You start at the middle index and compare the element that you are searching for with the element at the middle index.\n",
    "- If the element at this index does not match the element that you are searching for, then you check whether it is greater or lesser than the element at the index.\n",
    "- If it is greater than the element at the middle index, then you discard everything to the left and move to the right.\n",
    "- Then, you find the middle of this array, which is to the right, compare the required element with its middle and continue doing this until you find the required element.\n"
   ]
  },
  {
   "cell_type": "code",
   "execution_count": 14,
   "id": "c96679b5",
   "metadata": {},
   "outputs": [
    {
     "name": "stdout",
     "output_type": "stream",
     "text": [
      "1,3,42,34,2,2,1,13\n",
      "13\n",
      "[1, 1, 2, 2, 3, 13, 34, 42]\n"
     ]
    },
    {
     "data": {
      "text/plain": [
       "5"
      ]
     },
     "execution_count": 14,
     "metadata": {},
     "output_type": "execute_result"
    }
   ],
   "source": [
    "import ast\n",
    "\n",
    "inp = ast.literal_eval(input())\n",
    "sorted_list = sorted(inp)\n",
    "key = int(input())\n",
    "\n",
    "def binary_search(sorted_list, key):\n",
    "    l=0\n",
    "    r=len(sorted_list)-1\n",
    "    \n",
    "    while(l<=r):\n",
    "        mid=(l+r)//2\n",
    "        \n",
    "        if sorted_list[mid]==key:\n",
    "            return mid\n",
    "        elif sorted_list[mid]<key:\n",
    "            l=mid+1\n",
    "        else:\n",
    "            r=mid-1\n",
    "    return(-1)\n",
    "\n",
    "print(sorted_list)\n",
    "binary_search(sorted_list, key)"
   ]
  },
  {
   "cell_type": "markdown",
   "id": "14caea14",
   "metadata": {},
   "source": [
    "### Time Complexity of Binary Search\n"
   ]
  },
  {
   "cell_type": "markdown",
   "id": "e4230548",
   "metadata": {},
   "source": [
    "The time complexity of binary search is O(logn)"
   ]
  },
  {
   "cell_type": "markdown",
   "id": "06e8eb8e",
   "metadata": {},
   "source": [
    "The best and average/worst time complexity of binary search using recursion - O(1) and O(log n)"
   ]
  },
  {
   "cell_type": "markdown",
   "id": "6234dae9",
   "metadata": {},
   "source": [
    "Binary search follows the O(log n) time complexity. This is considerably less than the number of steps taken by an O(n) algorithm."
   ]
  },
  {
   "cell_type": "markdown",
   "id": "4c8d158d",
   "metadata": {},
   "source": [
    "The worst-case number of steps in linear search is double when you double the number of elements in the database. For example, if you have 16 elements in the database, then linear search would take 16 steps in The worst case, and doubling the number of elements to 32 will also double the number of steps required in the worst case to 32."
   ]
  },
  {
   "cell_type": "markdown",
   "id": "3252440e",
   "metadata": {},
   "source": [
    "In contrast, in binary search, for 16 entries, you need only 4 steps in the worst case. Only when the number of elements is increased by 16 times, that is, to 256, the number of steps in the worse case is doubled to 8. So, binary search is far from being sensitive to the number of entries in the database."
   ]
  },
  {
   "cell_type": "markdown",
   "id": "1b987864",
   "metadata": {},
   "source": [
    "### Linear Search vs Binary Search\n"
   ]
  },
  {
   "cell_type": "markdown",
   "id": "c44763a0",
   "metadata": {},
   "source": [
    "Suppose you have an unsorted array, and you are told to search for a particular element in it. \n",
    "Since you know that binary search is more efficient than linear search, and since binary search can be applied only on a sorted array, what is the most efficient way to approach this task?\n",
    "\n"
   ]
  },
  {
   "cell_type": "markdown",
   "id": "5c884943",
   "metadata": {},
   "source": [
    "In such a case, we should calculate the efficiency of the entire process. Sorting an unsorted array is an O(nlogn) process. Once sorted, applying binary search on the array is an O(logn) process. So, the entire process would take steps in the order of nlogn + logn, which is more than O(n), as taken by linear search. So, if we have an unsorted array and there is no need to sort it, then using linear search is more efficient than using binary search."
   ]
  },
  {
   "cell_type": "markdown",
   "id": "86df6bfc",
   "metadata": {},
   "source": [
    "# Rotated list"
   ]
  },
  {
   "cell_type": "markdown",
   "id": "5063302c",
   "metadata": {},
   "source": [
    "Suppose we took a sorted list, split it at a point and then swapped or rotated the positions of the two resulting lists. "
   ]
  },
  {
   "cell_type": "markdown",
   "id": "c381e7ef",
   "metadata": {},
   "source": [
    "Consider list : [6,7,8,9,10,12,3,4,5], let k=7\n",
    "\n",
    "- mid = (l+r)// 2 -> mid=10\n",
    "- [6,7,8,9,10] is sorted -> we can apply binary search logic here\n",
    "- Check if 7 is in [6,7,8,9,10]\n",
    "    if a[l]<a[mid]: # sorted list\n",
    "        if k<a[mid] and k>a[l] # check if 7 is present in the list\n",
    "            r=mid-1\n",
    "        else: # search in the right side of the list\n",
    "            l=mid+1"
   ]
  },
  {
   "cell_type": "markdown",
   "id": "2c525c4d",
   "metadata": {},
   "source": [
    "Consider list : [9,10,12,3,4,5,6,7,8]\n",
    "let k=7\n",
    "\n",
    "- mid element = 4 and the first half of the list is not sorted.\n",
    "- [4,5,6,7,8] is sorted, we can apply binary search here\n",
    "    if a[l]>a[mid]: # sorted list\n",
    "        if k>a[mid] and k<a[r] # check if 7 is present in the list\n",
    "            l=mid+1\n",
    "        else: # search in the right side of the list\n",
    "            r=mid-1"
   ]
  },
  {
   "cell_type": "code",
   "execution_count": null,
   "id": "675d5f78",
   "metadata": {},
   "outputs": [],
   "source": [
    "import ast\n",
    "\n",
    "data = ast.literal_eval(input())\n",
    "key = int(input())\n",
    "\n",
    "l=0\n",
    "r=len(data)-1\n",
    "\n",
    "while l<=r:\n",
    "    mid = (l+r)//2\n",
    "    \n",
    "    if data[mid]==key:\n",
    "        return mid\n",
    "    elif data[l] <= data[mid]:\n",
    "        if key>=data[l] and key<data[mid]:\n",
    "            r=mid-1\n",
    "        else:\n",
    "            l=mid+1\n",
    "    elif data[l]>data[mid]:\n",
    "        if key>=data[mid] and key<=data[r]:\n",
    "            l=mid+1\n",
    "        else:\n",
    "            r=mid-1\n",
    "\n",
    "        "
   ]
  },
  {
   "cell_type": "code",
   "execution_count": null,
   "id": "4dcd69d8",
   "metadata": {},
   "outputs": [],
   "source": [
    "import ast\n",
    "#take input on your own\n",
    "data = ast.literal_eval(input())\n",
    "key = int(input())\n",
    "\n",
    "#find key in rotated list\n",
    "\n",
    "def rotated_list(data,key):\n",
    "    l=0\n",
    "    r=len(data)-1\n",
    "    \n",
    "    while l<=r:\n",
    "        mid = (l+r)//2\n",
    "        \n",
    "        if data[mid]==key:\n",
    "            return mid\n",
    "        elif data[l] <= data[mid]:\n",
    "            if key>=data[l] and key<data[mid]:\n",
    "                r=mid-1\n",
    "            else:\n",
    "                l=mid+1\n",
    "        elif data[l]>data[mid]:\n",
    "            if key>=data[mid] and key<=data[r]:\n",
    "                l=mid+1\n",
    "            else:\n",
    "                r=mid-1\n",
    "    \n",
    "    return -1\n",
    "    \n",
    "print(rotated_list(data,key))\n"
   ]
  },
  {
   "cell_type": "markdown",
   "id": "f5b74455",
   "metadata": {},
   "source": [
    "# Square root"
   ]
  },
  {
   "cell_type": "code",
   "execution_count": null,
   "id": "14afeca8",
   "metadata": {},
   "outputs": [],
   "source": [
    "# leverage the constant difference between any two consecutive numbers to find the square root of a given number."
   ]
  },
  {
   "cell_type": "markdown",
   "id": "a660dd93",
   "metadata": {},
   "source": [
    "Suppose you are given a number and you need to find its square root using the searching techniques without using any inbuilt function"
   ]
  },
  {
   "cell_type": "markdown",
   "id": "52118837",
   "metadata": {},
   "source": [
    "- You start by initialising the leftmost element, l=0, and the rightmost element, r=n.\n",
    "- Then, you start the while loop with mid being initialised as (l+r)/2. In every iteration, you update the value of either l or r depending on whether n^2 is greater than the mid or lesser.\n",
    "- The condition for the while loop to run is abs(l-r)>10**-5\n",
    "- Now, what does this condition mean? The moment abs(l-r) = 10**-5 means that the fifth decimal digits of l and r have a difference of 1. This will only happen the very first time when the fourth decimal digits of l and r are matched. Suppose 123.4567 is our target value; at some point of iteration, 123.45670 and 123.45671 can be the values of l and r, respectively. Since we want accuracy until the fourth decimal digit only, we can stop the loop, as both l and r have their fourth digit as 7.\n",
    "- If we do not stop the loop, in the next iteration, 'l' will remain as 123.45670 and 'r' will become 123.456705 and abs(l-r) = 5* 10**-6, which is greater than 10**-5, with their fourth decimal digit equal again. Hence, it is advisable to stop the loop as soon as abs(l-r) becomes equal to 10**-5 and not increase the number of iterations.\n"
   ]
  },
  {
   "cell_type": "code",
   "execution_count": 23,
   "id": "cc33d1e3",
   "metadata": {},
   "outputs": [
    {
     "name": "stdout",
     "output_type": "stream",
     "text": [
      "5\n",
      "2.2361\n",
      "2.2361\n"
     ]
    }
   ],
   "source": [
    "n=int(input())\n",
    "\n",
    "l=0 \n",
    "r=n\n",
    "\n",
    "while abs(l-r) > 10**-5:\n",
    "    mid=(l+r)/2\n",
    "\n",
    "    if mid**2 > n:\n",
    "        r = mid\n",
    "    else:\n",
    "        l = mid\n",
    "        \n",
    "print(round(mid,4))\n",
    "print(\"%.4f\" % mid)"
   ]
  }
 ],
 "metadata": {
  "kernelspec": {
   "display_name": "Python 3 (ipykernel)",
   "language": "python",
   "name": "python3"
  },
  "language_info": {
   "codemirror_mode": {
    "name": "ipython",
    "version": 3
   },
   "file_extension": ".py",
   "mimetype": "text/x-python",
   "name": "python",
   "nbconvert_exporter": "python",
   "pygments_lexer": "ipython3",
   "version": "3.9.7"
  }
 },
 "nbformat": 4,
 "nbformat_minor": 5
}
