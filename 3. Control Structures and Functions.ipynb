{
 "cells": [
  {
   "cell_type": "markdown",
   "id": "c83023d7",
   "metadata": {},
   "source": [
    "# Control structures"
   ]
  },
  {
   "cell_type": "code",
   "execution_count": null,
   "id": "d7ef7d06",
   "metadata": {},
   "outputs": [],
   "source": [
    "# Control structures are used to control the order of execution of a program on the basis of logic and values\n",
    "# function is a set of statements that takes input, does some computation, and returns an output"
   ]
  },
  {
   "cell_type": "code",
   "execution_count": 2,
   "id": "b5592e5f",
   "metadata": {},
   "outputs": [],
   "source": [
    "# Relational Operators - Compares the values on either side of the operator and returns and boolean value as True or False.\n",
    "\n",
    "# Double equal to operator\n",
    "# Not equal to operator\n",
    "# Greater than operator\n",
    "# Lesser than operator\n",
    "# Greater than equal to operator\n",
    "# Lesser than equal to operator"
   ]
  },
  {
   "cell_type": "code",
   "execution_count": 3,
   "id": "22e86508",
   "metadata": {},
   "outputs": [
    {
     "data": {
      "text/plain": [
       "True"
      ]
     },
     "execution_count": 3,
     "metadata": {},
     "output_type": "execute_result"
    }
   ],
   "source": [
    "10 == 10"
   ]
  },
  {
   "cell_type": "code",
   "execution_count": 4,
   "id": "fc4d045f",
   "metadata": {},
   "outputs": [
    {
     "data": {
      "text/plain": [
       "False"
      ]
     },
     "execution_count": 4,
     "metadata": {},
     "output_type": "execute_result"
    }
   ],
   "source": [
    "10 == 5"
   ]
  },
  {
   "cell_type": "code",
   "execution_count": 5,
   "id": "a059a595",
   "metadata": {},
   "outputs": [
    {
     "data": {
      "text/plain": [
       "True"
      ]
     },
     "execution_count": 5,
     "metadata": {},
     "output_type": "execute_result"
    }
   ],
   "source": [
    "10 != 5"
   ]
  },
  {
   "cell_type": "markdown",
   "id": "9e8ed7df",
   "metadata": {},
   "source": [
    "# If else"
   ]
  },
  {
   "cell_type": "code",
   "execution_count": 6,
   "id": "0f282d23",
   "metadata": {},
   "outputs": [],
   "source": [
    "# The colon that indicates the start of block creation, \n",
    "# The indentation here defines the scope of the if- or else- statement, \n",
    "# Either code under the if-block is executed or under the else-block is executed, not both of them. "
   ]
  },
  {
   "cell_type": "code",
   "execution_count": 63,
   "id": "648dfa07",
   "metadata": {},
   "outputs": [],
   "source": [
    "# the elif and else parts are optional."
   ]
  },
  {
   "cell_type": "code",
   "execution_count": 7,
   "id": "7098cc95",
   "metadata": {},
   "outputs": [
    {
     "name": "stdout",
     "output_type": "stream",
     "text": [
      "121  is more than 99\n"
     ]
    }
   ],
   "source": [
    "x = 121\n",
    "\n",
    "if x < 99:\n",
    "    print(x, \"is less than equal to 99\")\n",
    "elif x == 99:\n",
    "    print(x, \"is equal to 99\")\n",
    "else:\n",
    "    print(x, \" is more than 99\") "
   ]
  },
  {
   "cell_type": "code",
   "execution_count": 8,
   "id": "d41329cb",
   "metadata": {},
   "outputs": [],
   "source": [
    "# Logical Operators - combine multiple conditions\n",
    "\n",
    "# AND\n",
    "# OR\n",
    "# NOR\n",
    "# XOR"
   ]
  },
  {
   "cell_type": "code",
   "execution_count": 9,
   "id": "f184ac14",
   "metadata": {},
   "outputs": [
    {
     "name": "stdout",
     "output_type": "stream",
     "text": [
      "Enter your shopping total : 1000\n",
      "You won a discount voucher of flat 1000 on next purchase\n"
     ]
    }
   ],
   "source": [
    "shopping_total = int(input(\"Enter your shopping total : \"))\n",
    "\n",
    "if shopping_total >= 500:\n",
    "    print(\"You won a discount voucher of flat 1000 on next purchase\")\n",
    "elif shopping_total >= 250:\n",
    "    print(\"You won a discount voucher of flat 500 on next purchase\")\n",
    "elif shopping_total >= 100:\n",
    "    print(\"You won a discount voucher of flat 100 on next purchase\")    \n",
    "else:\n",
    "    print(\"No discount applicable!!!\")"
   ]
  },
  {
   "cell_type": "code",
   "execution_count": 10,
   "id": "ef699e85",
   "metadata": {},
   "outputs": [
    {
     "name": "stdout",
     "output_type": "stream",
     "text": [
      "Enter year to check New Zealand made it to Finals in 20th century : 10\n",
      "World cup wasn't played in 10\n"
     ]
    }
   ],
   "source": [
    "# Nested if\n",
    "\n",
    "world_cups = {2019 : ['England', 'New Zealand'], 2015:[\"Australia\", \"New Zealand\"], 2011 : [\"India\", \"Sri Lanka\"], 2007: [\"Australia\", \"Sri Lanka\"], 2003: [\"Australia\", \"India\"]}\n",
    "\n",
    "year = int(input(\"Enter year to check New Zealand made it to Finals in 20th century : \"))\n",
    "\n",
    "if year in world_cups :\n",
    "    if \"New Zealand\" in world_cups[year] :\n",
    "        print(\"New Zealand made it to Finals\")\n",
    "    else:\n",
    "        print(\"New Zealand could not make it to Finals\")\n",
    "        \n",
    "else:\n",
    "    print(\"World cup wasn't played in\", year)"
   ]
  },
  {
   "cell_type": "code",
   "execution_count": 11,
   "id": "7d577dc5",
   "metadata": {},
   "outputs": [],
   "source": [
    "# When there is more than one condition to check and you need to:\n",
    "\n",
    "# Perform a different operation at each condition involving a single variable, you use an if-elif-else condition.\n",
    "# Just return a boolean functionality, i.e., Yes or No, you use logical operators in a single if-else construct.\n",
    "# Perform a different operation in each condition involving different variables, you use a nested if-else construct."
   ]
  },
  {
   "cell_type": "code",
   "execution_count": 12,
   "id": "23c8714a",
   "metadata": {},
   "outputs": [
    {
     "name": "stdout",
     "output_type": "stream",
     "text": [
      "Enter a string: jkkll\n",
      "NO\n"
     ]
    }
   ],
   "source": [
    "# Write a code to check if the string in input_str starts with a vowel or not. Print capital YES or NO.\n",
    "\n",
    "input_str =input(\"Enter a string: \")\n",
    "\n",
    "first_char = input_str[0]\n",
    "vowels = ['a','e','i','u','A','E','I','O','U']\n",
    "\n",
    "if first_char in vowels:\n",
    "    print(\"YES\")\n",
    "else:\n",
    "    print(\"NO\")"
   ]
  },
  {
   "cell_type": "code",
   "execution_count": 62,
   "id": "e61507b9",
   "metadata": {},
   "outputs": [
    {
     "name": "stdout",
     "output_type": "stream",
     "text": [
      "26\n",
      "Enter an integer in the range of 20 and 30: 45\n",
      "No, it is a little lower than that\n",
      "Done\n"
     ]
    }
   ],
   "source": [
    "#number = 23\n",
    "\n",
    "from random import seed\n",
    "from random import randint\n",
    "\n",
    "number = randint(20,30)\n",
    "print(number)\n",
    "\n",
    "guess = int(input('Enter an integer in the range of 20 and 30: '))\n",
    "\n",
    "if guess == number:\n",
    "    print('Congratulations, you guessed it.')\n",
    "elif guess < number:\n",
    "    print('No, it is a little higher than that')\n",
    "else:\n",
    "    print('No, it is a little lower than that')\n",
    "\n",
    "print('Done')"
   ]
  },
  {
   "cell_type": "markdown",
   "id": "b1d4b7b9",
   "metadata": {},
   "source": [
    "# Loops and iterations"
   ]
  },
  {
   "cell_type": "code",
   "execution_count": 13,
   "id": "d14010fa",
   "metadata": {},
   "outputs": [],
   "source": [
    "# Iteration -  repeating the same operation multiple times"
   ]
  },
  {
   "cell_type": "markdown",
   "id": "2b7e2502",
   "metadata": {},
   "source": [
    "### While loop"
   ]
  },
  {
   "cell_type": "code",
   "execution_count": 14,
   "id": "8f7aebd0",
   "metadata": {},
   "outputs": [],
   "source": [
    "# while loop keeps on executing a block of statements until the defined condition is true. \n",
    "# Once the condition fails the loop is exited."
   ]
  },
  {
   "cell_type": "code",
   "execution_count": 15,
   "id": "ab33173f",
   "metadata": {},
   "outputs": [
    {
     "name": "stdout",
     "output_type": "stream",
     "text": [
      "Enter your four digit pin: 565\n",
      "Invalid input, please try again: 1214\n",
      "Invalid input, please try again: 56554\n",
      "Invalid input, please try again: 4554\n",
      "Invalid input, please try again: 4554\n",
      "Invalid input, please try again: 1256\n",
      "Invalid input, please try again: 1234\n",
      "Pin validation successful.\n"
     ]
    }
   ],
   "source": [
    "#Pin checker \n",
    "pin = input(\"Enter your four digit pin: \")\n",
    "\n",
    "#Pre-set pin is 1234\n",
    "while pin != '1234':                           \n",
    "    pin = input('Invalid input, please try again: ')  \n",
    "print(\"Pin validation successful.\")"
   ]
  },
  {
   "cell_type": "code",
   "execution_count": 16,
   "id": "744b834a",
   "metadata": {},
   "outputs": [
    {
     "name": "stdout",
     "output_type": "stream",
     "text": [
      "Enter your four digit pin: 5654\n",
      "Invalid input, please try again: 4562\n",
      "Invalid input, please try again: 2346\n"
     ]
    },
    {
     "ename": "SystemExit",
     "evalue": "Too many invalid attempts",
     "output_type": "error",
     "traceback": [
      "An exception has occurred, use %tb to see the full traceback.\n",
      "\u001b[1;31mSystemExit\u001b[0m\u001b[1;31m:\u001b[0m Too many invalid attempts\n"
     ]
    },
    {
     "name": "stderr",
     "output_type": "stream",
     "text": [
      "C:\\Users\\manas\\anaconda3\\lib\\site-packages\\IPython\\core\\interactiveshell.py:3452: UserWarning: To exit: use 'exit', 'quit', or Ctrl-D.\n",
      "  warn(\"To exit: use 'exit', 'quit', or Ctrl-D.\", stacklevel=1)\n"
     ]
    }
   ],
   "source": [
    "# add the functionality of the number of attempts -> use a counter variable\n",
    "import sys    \n",
    "\n",
    "pin = input(\"Enter your four digit pin: \")\n",
    "attempt_count = 1\n",
    "\n",
    "while pin != '1234':\n",
    "    if attempt_count >= 3:\n",
    "     sys.exit(\"Too many invalid attempts\")   #error code\n",
    "    pin = input('Invalid input, please try again: ')  \n",
    "    attempt_count += 1\n",
    "print(\"Pin validation successful.\")"
   ]
  },
  {
   "cell_type": "code",
   "execution_count": 64,
   "id": "49fb1731",
   "metadata": {},
   "outputs": [],
   "source": [
    "# A while statement can have an optional else clause.\n",
    "# The else block is executed when the while loop condition becomes False \n",
    "# If there is an else clause for a while loop, it is always executed unless you break out of the loop with a break statement."
   ]
  },
  {
   "cell_type": "code",
   "execution_count": 70,
   "id": "f50e25c8",
   "metadata": {},
   "outputs": [
    {
     "name": "stdout",
     "output_type": "stream",
     "text": [
      "Enter your four digit pin: 54\n",
      "Invalid input, please try again: 45\n",
      "Invalid input, please try again: 56\n",
      "The while loop is over.\n"
     ]
    }
   ],
   "source": [
    "pin = input(\"Enter your four digit pin: \")\n",
    "attempt_count = 1\n",
    "\n",
    "while ((pin != '1234') & (attempt_count<=2)):\n",
    "    pin = input('Invalid input, please try again: ')  \n",
    "    attempt_count += 1\n",
    "else:\n",
    "    print('The while loop is over.')"
   ]
  },
  {
   "cell_type": "markdown",
   "id": "5c27c1ea",
   "metadata": {},
   "source": [
    "### For loop"
   ]
  },
  {
   "cell_type": "markdown",
   "id": "e1e2a2a1",
   "metadata": {},
   "source": [
    "Syntax -> \n",
    "for val in seq :\n",
    "    statements"
   ]
  },
  {
   "cell_type": "code",
   "execution_count": 17,
   "id": "e2e0dd34",
   "metadata": {},
   "outputs": [],
   "source": [
    "# seq, which represents a sequence; it can be a list, a tuple or a string(any iterable object)\n",
    "# in operator -> membership operator that helps to check for the presence of an element in a sequence. "
   ]
  },
  {
   "cell_type": "code",
   "execution_count": 18,
   "id": "bf91e3e6",
   "metadata": {},
   "outputs": [
    {
     "name": "stdout",
     "output_type": "stream",
     "text": [
      "1\n",
      "3\n",
      "4\n",
      "2\n",
      "5\n",
      "6\n"
     ]
    }
   ],
   "source": [
    "# iterate over list of integers\n",
    "\n",
    "l = [1,3,4,2,5,6]\n",
    "for i in l : \n",
    "    print(i)"
   ]
  },
  {
   "cell_type": "code",
   "execution_count": 19,
   "id": "8042c51f",
   "metadata": {},
   "outputs": [
    {
     "name": "stdout",
     "output_type": "stream",
     "text": [
      "N:e:w: :Y:o:r:k:"
     ]
    }
   ],
   "source": [
    "# iterate over a string\n",
    "# default value of end = \"\\n\"\n",
    "\n",
    "string = \"New York\"\n",
    "for ch in string:\n",
    "    print(ch, end = \":\") "
   ]
  },
  {
   "cell_type": "code",
   "execution_count": 20,
   "id": "e338a2f5",
   "metadata": {},
   "outputs": [
    {
     "name": "stdout",
     "output_type": "stream",
     "text": [
      "1 ['Sam', 24]\n",
      "2 ['Rob', 25]\n",
      "3 ['Jack', 26]\n",
      "4 ['Cornor', 24]\n",
      "5 ['Trump', 27]\n"
     ]
    }
   ],
   "source": [
    "# iterating over a dictionary\n",
    "\n",
    "students_data = {1:['Sam', 24] , 2:['Rob',25], 3:['Jack', 26], 4:['Cornor',24], 5:['Trump',27]}\n",
    "for key, val in students_data.items():\n",
    "    print(key, val)"
   ]
  },
  {
   "cell_type": "code",
   "execution_count": 21,
   "id": "f79eae38",
   "metadata": {},
   "outputs": [
    {
     "name": "stdout",
     "output_type": "stream",
     "text": [
      "1\n",
      "2\n",
      "3\n",
      "4\n",
      "5\n"
     ]
    }
   ],
   "source": [
    "# iterate over keys of a dictionary\n",
    "for key in students_data.keys():\n",
    "    print(key)"
   ]
  },
  {
   "cell_type": "code",
   "execution_count": 22,
   "id": "08f8cf34",
   "metadata": {},
   "outputs": [
    {
     "name": "stdout",
     "output_type": "stream",
     "text": [
      "0\n",
      "1\n",
      "2\n"
     ]
    }
   ],
   "source": [
    "# By default, the iteration is over the keys.\n",
    "\n",
    "d = {0: 'Fish', 1: 'Bird', 2: 'Mammal'}\n",
    "for i in d:\n",
    "    print(i)"
   ]
  },
  {
   "cell_type": "code",
   "execution_count": 23,
   "id": "cabc93a6",
   "metadata": {},
   "outputs": [
    {
     "name": "stdout",
     "output_type": "stream",
     "text": [
      "['Sam', 24]\n",
      "['Rob', 25]\n",
      "['Jack', 26]\n",
      "['Cornor', 24]\n",
      "['Trump', 27]\n"
     ]
    }
   ],
   "source": [
    "# iterate over values of a dictionary\n",
    "for key in students_data.values():\n",
    "    print(key)"
   ]
  },
  {
   "cell_type": "code",
   "execution_count": 24,
   "id": "bc6e5743",
   "metadata": {},
   "outputs": [],
   "source": [
    "# range(n): This creates a range object that has elements from 0 to n-1 [ both inclusive].\n",
    "# range(m,n): This creates a range object that has elements from m to n-1 [both inclusive].\n",
    "# range(m,n,t): This creates a range object that has elements from m to n-1 with a step count of t."
   ]
  },
  {
   "cell_type": "code",
   "execution_count": 25,
   "id": "7436b48e",
   "metadata": {},
   "outputs": [
    {
     "data": {
      "text/plain": [
       "range(1, 101)"
      ]
     },
     "execution_count": 25,
     "metadata": {},
     "output_type": "execute_result"
    }
   ],
   "source": [
    "# Generate range of values.\n",
    "range(1, 101)"
   ]
  },
  {
   "cell_type": "code",
   "execution_count": 26,
   "id": "3d645c85",
   "metadata": {},
   "outputs": [
    {
     "name": "stdout",
     "output_type": "stream",
     "text": [
      "1 2 3 4 5 6 7 8 9 10 11 12 13 14 15 16 17 18 19 20 21 22 23 24 25 26 27 28 29 30 31 32 33 34 35 36 37 38 39 40 41 42 43 44 45 46 47 48 49 50 51 52 53 54 55 56 57 58 59 60 61 62 63 64 65 66 67 68 69 70 71 72 73 74 75 76 77 78 79 80 81 82 83 84 85 86 87 88 89 90 91 92 93 94 95 96 97 98 99 100 "
     ]
    }
   ],
   "source": [
    "# Iterate over range of values\n",
    "\n",
    "for i in range(1, 101):\n",
    "    print(i, end = \" \")"
   ]
  },
  {
   "cell_type": "code",
   "execution_count": 27,
   "id": "e878eb5f",
   "metadata": {},
   "outputs": [
    {
     "name": "stdout",
     "output_type": "stream",
     "text": [
      "[1, 3, 5, 7, 9, 11, 13, 15, 17, 19, 21, 23, 25, 27, 29, 31, 33, 35, 37, 39, 41, 43, 45, 47, 49, 51, 53, 55, 57, 59, 61, 63, 65, 67, 69, 71, 73, 75, 77, 79, 81, 83, 85, 87, 89, 91, 93, 95, 97, 99]\n",
      "[100, 99, 98, 97, 96, 95, 94, 93, 92, 91, 90, 89, 88, 87, 86, 85, 84, 83, 82, 81, 80, 79, 78, 77, 76, 75, 74, 73, 72, 71, 70, 69, 68, 67, 66, 65, 64, 63, 62, 61, 60, 59, 58, 57, 56, 55, 54, 53, 52, 51, 50, 49, 48, 47, 46, 45, 44, 43, 42, 41, 40, 39, 38, 37, 36, 35, 34, 33, 32, 31, 30, 29, 28, 27, 26, 25, 24, 23, 22, 21, 20, 19, 18, 17, 16, 15, 14, 13, 12, 11, 10, 9, 8, 7, 6, 5, 4, 3, 2, 1]\n"
     ]
    }
   ],
   "source": [
    "# different variations in range\n",
    "\n",
    "print(list(range(1, 100, 2) ))# gives numbers from 1 to 100 with a step count of 2\n",
    "print(list(range(100, 0, -1))) # gives a reversed sequence of numbers from 100 to 1"
   ]
  },
  {
   "cell_type": "code",
   "execution_count": 28,
   "id": "2630936a",
   "metadata": {},
   "outputs": [
    {
     "data": {
      "text/plain": [
       "[2, 3, 4, 5, 7, 11, 13, 17, 19]"
      ]
     },
     "execution_count": 28,
     "metadata": {},
     "output_type": "execute_result"
    }
   ],
   "source": [
    "# print prime numbers between 1 to 20\n",
    "\n",
    "prime=[2]\n",
    "for n in range(3,21):\n",
    "    flag= True\n",
    "    \n",
    "    for i in range(2,int(n/2)):\n",
    "        if n%i == 0:\n",
    "            flag=False\n",
    "            break\n",
    "    if flag == True:\n",
    "        prime.append(n)\n",
    "prime"
   ]
  },
  {
   "cell_type": "code",
   "execution_count": 29,
   "id": "0870e1d0",
   "metadata": {},
   "outputs": [],
   "source": [
    "L1 = [10, 20, 30, 24, 18]\n",
    "L2 = [8, 14, 15, 20, 10]\n",
    "L3 = [0, 1, 2, 3, 4]\n",
    "\n",
    "for i in L3:\n",
    "    L3[i] = L1[i] - L2[i]"
   ]
  },
  {
   "cell_type": "code",
   "execution_count": 30,
   "id": "d3879cd0",
   "metadata": {},
   "outputs": [
    {
     "data": {
      "text/plain": [
       "[2, 6, 15, 4, 8]"
      ]
     },
     "execution_count": 30,
     "metadata": {},
     "output_type": "execute_result"
    }
   ],
   "source": [
    "L3"
   ]
  },
  {
   "cell_type": "code",
   "execution_count": 31,
   "id": "0b3b3e54",
   "metadata": {},
   "outputs": [
    {
     "name": "stdout",
     "output_type": "stream",
     "text": [
      "['Varma', 'Raj', 'Gupta', 'Sandeep']\n"
     ]
    }
   ],
   "source": [
    "#  given a list of string elements, return a list which contains each element of the string in title case \n",
    "\n",
    "l = ['VARMA', 'raj', 'Gupta', 'SaNdeeP']\n",
    "title=[]\n",
    "for str in l:\n",
    "    title.append(str.title())\n",
    "print(title)"
   ]
  },
  {
   "cell_type": "code",
   "execution_count": 71,
   "id": "6e295a9a",
   "metadata": {},
   "outputs": [
    {
     "name": "stdout",
     "output_type": "stream",
     "text": [
      "1\n",
      "2\n",
      "3\n",
      "4\n",
      "The for loop is over\n"
     ]
    }
   ],
   "source": [
    "# the else part is optional. When included, it is always executed once after the for loop is over unless a break statement is encountered.\n",
    "\n",
    "for i in range(1, 5):\n",
    "    print(i)\n",
    "else:\n",
    "    print('The for loop is over')"
   ]
  },
  {
   "cell_type": "code",
   "execution_count": 73,
   "id": "5a870d66",
   "metadata": {},
   "outputs": [
    {
     "name": "stdout",
     "output_type": "stream",
     "text": [
      "Enter something : qui\n",
      "Length of the string is 3\n",
      "Enter something : quit\n",
      "Done\n"
     ]
    }
   ],
   "source": [
    "# The break statement is used to break out of a loop statement i.e. \n",
    "# stop the execution of a looping statement, even if the loop condition has not become False or the sequence of items has not been completely iterated over.\n",
    "# An important note is that if you break out of a for or while loop, any corresponding loop else block is not executed.\n",
    "\n",
    "while True:\n",
    "    s = input('Enter something : ')\n",
    "    if s == 'quit':\n",
    "        break\n",
    "    print('Length of the string is', len(s))\n",
    "print('Done')"
   ]
  },
  {
   "cell_type": "code",
   "execution_count": 74,
   "id": "8a7a1e83",
   "metadata": {},
   "outputs": [
    {
     "name": "stdout",
     "output_type": "stream",
     "text": [
      "Enter something : 45\n",
      "Too small\n",
      "Enter something : 4\n",
      "Too small\n",
      "Enter something : 45\n",
      "Too small\n",
      "Enter something : 456\n",
      "Input is of sufficient length\n",
      "Enter something : 789\n",
      "Input is of sufficient length\n",
      "Enter something : 5566\n",
      "Input is of sufficient length\n",
      "Enter something : quit\n"
     ]
    }
   ],
   "source": [
    "# The continue statement is used to tell Python to skip the rest of the statements in the current loop block \n",
    "# and to continue to the next iteration of the loop.\n",
    "\n",
    "while True:\n",
    "    s = input('Enter something : ')\n",
    "    if s == 'quit':\n",
    "        break\n",
    "    if len(s) < 3:\n",
    "        print('Too small')\n",
    "        continue\n",
    "    print('Input is of sufficient length')"
   ]
  },
  {
   "cell_type": "markdown",
   "id": "dee5b43d",
   "metadata": {},
   "source": [
    "# Functions"
   ]
  },
  {
   "cell_type": "code",
   "execution_count": 75,
   "id": "673f36ff",
   "metadata": {},
   "outputs": [],
   "source": [
    "# Functions are reusable pieces of programs."
   ]
  },
  {
   "cell_type": "code",
   "execution_count": 32,
   "id": "f0420615",
   "metadata": {},
   "outputs": [],
   "source": [
    "def factorial(n):\n",
    "    \n",
    "    fact = 1\n",
    "    for i in range(1, n+1):\n",
    "        fact *= i\n",
    "    return fact"
   ]
  },
  {
   "cell_type": "code",
   "execution_count": 33,
   "id": "7694a859",
   "metadata": {},
   "outputs": [
    {
     "data": {
      "text/plain": [
       "120"
      ]
     },
     "execution_count": 33,
     "metadata": {},
     "output_type": "execute_result"
    }
   ],
   "source": [
    "factorial(5)"
   ]
  },
  {
   "cell_type": "code",
   "execution_count": 34,
   "id": "40e1af7e",
   "metadata": {},
   "outputs": [],
   "source": [
    " # default parameter\n",
    "\n",
    "def func(name, age = 35): \n",
    "    print(\"name : \", name)\n",
    "    print(\"age : \", age)"
   ]
  },
  {
   "cell_type": "code",
   "execution_count": 35,
   "id": "71c88417",
   "metadata": {},
   "outputs": [
    {
     "name": "stdout",
     "output_type": "stream",
     "text": [
      "name :  Jane\n",
      "age :  25\n"
     ]
    }
   ],
   "source": [
    "func(\"Jane\", 25)"
   ]
  },
  {
   "cell_type": "code",
   "execution_count": 36,
   "id": "1bdbcc25",
   "metadata": {},
   "outputs": [
    {
     "name": "stdout",
     "output_type": "stream",
     "text": [
      "name :  Jane\n",
      "age :  35\n"
     ]
    }
   ],
   "source": [
    "func(\"Jane\")"
   ]
  },
  {
   "cell_type": "code",
   "execution_count": 37,
   "id": "3cfb8fa9",
   "metadata": {},
   "outputs": [
    {
     "name": "stdout",
     "output_type": "stream",
     "text": [
      "name :  Jane\n",
      "age :  35\n",
      "city :  Seattle\n"
     ]
    }
   ],
   "source": [
    "def func(name, age = 35, city = \"New York\"):\n",
    "    print(\"name : \", name)\n",
    "    print(\"age : \", age)\n",
    "    print(\"city : \", city)\n",
    "    \n",
    "func(\"Jane\", city = \"Seattle\") # key-word argument"
   ]
  },
  {
   "cell_type": "code",
   "execution_count": 39,
   "id": "f7803f6a",
   "metadata": {},
   "outputs": [],
   "source": [
    "# variable-length argument\n",
    "\n",
    "def var_func(*args):\n",
    "    print(args)"
   ]
  },
  {
   "cell_type": "code",
   "execution_count": 40,
   "id": "65828e3d",
   "metadata": {},
   "outputs": [
    {
     "name": "stdout",
     "output_type": "stream",
     "text": [
      "(1, 3, 'abc')\n"
     ]
    }
   ],
   "source": [
    "var_func(1,3,\"abc\") "
   ]
  },
  {
   "cell_type": "code",
   "execution_count": 43,
   "id": "92917e92",
   "metadata": {},
   "outputs": [
    {
     "name": "stdout",
     "output_type": "stream",
     "text": [
      "(1,)\n"
     ]
    }
   ],
   "source": [
    "var_func(1) "
   ]
  },
  {
   "cell_type": "code",
   "execution_count": 77,
   "id": "9afb003c",
   "metadata": {},
   "outputs": [
    {
     "name": "stdout",
     "output_type": "stream",
     "text": [
      "Enter x: 10\n",
      "Enter y: 2\n",
      "100\n"
     ]
    }
   ],
   "source": [
    "# Create a function squared(), which takes x and y as arguments and returns the x**y value. \n",
    "\n",
    "x = int(input(\"Enter x: \"))\n",
    "y = int(input(\"Enter y: \"))\n",
    "\n",
    "def squared(x,y):\n",
    "    return (x**y)\n",
    "\n",
    "print(squared(x,y))\n"
   ]
  },
  {
   "cell_type": "code",
   "execution_count": 78,
   "id": "37eb23b6",
   "metadata": {},
   "outputs": [],
   "source": [
    "# Local Variables \n",
    "# variables inside a function definition are not related in any way to other variables with the same names used outside the function\n",
    "# variable names are local to the function - scope of the variable"
   ]
  },
  {
   "cell_type": "code",
   "execution_count": 49,
   "id": "30191374",
   "metadata": {},
   "outputs": [],
   "source": [
    "# Function parameters are the variables used while defining the function\n",
    "# values used while calling this function are the function arguments"
   ]
  },
  {
   "cell_type": "code",
   "execution_count": 50,
   "id": "a05aae9b",
   "metadata": {},
   "outputs": [],
   "source": [
    "# types of function parameters:\n",
    "\n",
    "# Required parameters: These parameters are necessary for the function to execute.\n",
    "# Default arguments: These parameters have a default value and will not throw any error if they are not passed while using the function. \n",
    "# Keyword parameters: These parameters are expected to be passed using a keyword. \n",
    "# Variable-length parameters: These enable the function to accept multiple arguments. "
   ]
  },
  {
   "cell_type": "code",
   "execution_count": 51,
   "id": "57a4ec0f",
   "metadata": {},
   "outputs": [
    {
     "data": {
      "text/plain": [
       "10"
      ]
     },
     "execution_count": 51,
     "metadata": {},
     "output_type": "execute_result"
    }
   ],
   "source": [
    "# Required parameters\n",
    "# inbuilt max() function\n",
    "\n",
    "max([10,2,3])"
   ]
  },
  {
   "cell_type": "code",
   "execution_count": 52,
   "id": "df627728",
   "metadata": {},
   "outputs": [
    {
     "name": "stdout",
     "output_type": "stream",
     "text": [
      "Hello\n"
     ]
    }
   ],
   "source": [
    "# Default arguments\n",
    "# default argument - end ='\\n'\n",
    "\n",
    "print(\"Hello\")\n",
    "print(\"World\")"
   ]
  },
  {
   "cell_type": "code",
   "execution_count": 54,
   "id": "63974103",
   "metadata": {},
   "outputs": [
    {
     "name": "stdout",
     "output_type": "stream",
     "text": [
      "Hello,World\n"
     ]
    }
   ],
   "source": [
    "# Keyword parameters\n",
    "\n",
    "print(\"Hello\", end=',')\n",
    "print(\"World\")"
   ]
  },
  {
   "cell_type": "code",
   "execution_count": 79,
   "id": "251ef721",
   "metadata": {},
   "outputs": [
    {
     "name": "stdout",
     "output_type": "stream",
     "text": [
      "a is 3 and b is 7 and c is 10\n",
      "a is 25 and b is 5 and c is 24\n",
      "a is 100 and b is 5 and c is 50\n"
     ]
    }
   ],
   "source": [
    "def func(a, b=5, c=10):\n",
    "    print('a is', a, 'and b is', b, 'and c is', c)\n",
    "\n",
    "func(3,7)\n",
    "func(25, c=24)\n",
    "func(c=50, a=100)"
   ]
  },
  {
   "cell_type": "code",
   "execution_count": null,
   "id": "678d46c5",
   "metadata": {},
   "outputs": [],
   "source": [
    "# variable-length parameters\n",
    "\n",
    "def var_func(*args):\n",
    "    print(args)"
   ]
  },
  {
   "cell_type": "code",
   "execution_count": 55,
   "id": "731aae11",
   "metadata": {},
   "outputs": [
    {
     "name": "stdout",
     "output_type": "stream",
     "text": [
      "(1,)\n"
     ]
    }
   ],
   "source": [
    "var_func(1) "
   ]
  },
  {
   "cell_type": "code",
   "execution_count": 81,
   "id": "c6c73b28",
   "metadata": {},
   "outputs": [
    {
     "name": "stdout",
     "output_type": "stream",
     "text": [
      "a 10\n",
      "single_item 1\n",
      "single_item 2\n",
      "single_item 3\n",
      "Jack 1123\n",
      "John 2231\n",
      "Inge 1560\n"
     ]
    }
   ],
   "source": [
    "def total(a=5, *numbers, **phonebook):\n",
    "    print('a', a)\n",
    "\n",
    "    #iterate through all the items in tuple\n",
    "    for single_item in numbers:\n",
    "        print('single_item', single_item)\n",
    "\n",
    "    #iterate through all the items in dictionary    \n",
    "    for key, value in phonebook.items():\n",
    "        print(key,value)\n",
    "\n",
    "total(10,1,2,3,Jack=1123,John=2231,Inge=1560)"
   ]
  },
  {
   "cell_type": "code",
   "execution_count": null,
   "id": "e84313a6",
   "metadata": {},
   "outputs": [],
   "source": [
    "# When we declare a starred parameter such as *param, \n",
    "# then all the positional arguments from that point till the end are collected as a tuple called 'param'.\n",
    "\n",
    "# we declare a double-starred parameter such as **param, \n",
    "# then all the keyword arguments from that point till the end are collected as a dictionary called 'param'."
   ]
  },
  {
   "cell_type": "code",
   "execution_count": 56,
   "id": "11668efa",
   "metadata": {},
   "outputs": [
    {
     "data": {
      "text/plain": [
       "23"
      ]
     },
     "execution_count": 56,
     "metadata": {},
     "output_type": "execute_result"
    }
   ],
   "source": [
    "def func(x, y = 1):\n",
    "    z = x * y + x + y\n",
    "    return z\n",
    "\n",
    "func(2, func(3))"
   ]
  },
  {
   "cell_type": "code",
   "execution_count": 57,
   "id": "cb02e5d3",
   "metadata": {},
   "outputs": [],
   "source": [
    "# func(3) = 7\n",
    "# func(2,7)"
   ]
  },
  {
   "cell_type": "code",
   "execution_count": 58,
   "id": "2f22979c",
   "metadata": {},
   "outputs": [
    {
     "ename": "TypeError",
     "evalue": "func() missing 1 required positional argument: 'y'",
     "output_type": "error",
     "traceback": [
      "\u001b[1;31m---------------------------------------------------------------------------\u001b[0m",
      "\u001b[1;31mTypeError\u001b[0m                                 Traceback (most recent call last)",
      "\u001b[1;32m~\\AppData\\Local\\Temp/ipykernel_22348/3964590848.py\u001b[0m in \u001b[0;36m<module>\u001b[1;34m\u001b[0m\n\u001b[0;32m      3\u001b[0m     \u001b[1;32mreturn\u001b[0m \u001b[0mz\u001b[0m\u001b[1;33m\u001b[0m\u001b[1;33m\u001b[0m\u001b[0m\n\u001b[0;32m      4\u001b[0m \u001b[1;33m\u001b[0m\u001b[0m\n\u001b[1;32m----> 5\u001b[1;33m \u001b[0mfunc\u001b[0m\u001b[1;33m(\u001b[0m\u001b[1;36m2\u001b[0m\u001b[1;33m,\u001b[0m \u001b[0mfunc\u001b[0m\u001b[1;33m(\u001b[0m\u001b[1;36m3\u001b[0m\u001b[1;33m)\u001b[0m\u001b[1;33m)\u001b[0m\u001b[1;33m\u001b[0m\u001b[1;33m\u001b[0m\u001b[0m\n\u001b[0m",
      "\u001b[1;31mTypeError\u001b[0m: func() missing 1 required positional argument: 'y'"
     ]
    }
   ],
   "source": [
    "# both x and y are required parameters. \n",
    "# function call would throw an error if only one argument is given.\n",
    "\n",
    "def func(x, y):\n",
    "    z = x * y + x + y\n",
    "    return z\n",
    "\n",
    "func(2, func(3))"
   ]
  },
  {
   "cell_type": "markdown",
   "id": "26e41aa5",
   "metadata": {},
   "source": [
    "# Looping techniques"
   ]
  },
  {
   "cell_type": "code",
   "execution_count": 2,
   "id": "a74bbb72",
   "metadata": {},
   "outputs": [
    {
     "name": "stdout",
     "output_type": "stream",
     "text": [
      "gallahad the pure\n",
      "robin the brave\n"
     ]
    }
   ],
   "source": [
    "# items() method\n",
    "# Dictionary - key and corresponding value can be retrieved at the same time using the items() method.\n",
    "knights = {'gallahad': 'the pure', 'robin': 'the brave'}\n",
    "for k, v in knights.items():\n",
    "    print(k, v) "
   ]
  },
  {
   "cell_type": "code",
   "execution_count": 3,
   "id": "aae9cc07",
   "metadata": {},
   "outputs": [
    {
     "name": "stdout",
     "output_type": "stream",
     "text": [
      "0 tic\n",
      "1 tac\n",
      "2 toe\n"
     ]
    }
   ],
   "source": [
    "# enumerate() \n",
    "# looping through a sequence\n",
    "# the position index and corresponding value can be retrieved at the same time using the enumerate() function\n",
    "\n",
    "for i, v in enumerate(['tic', 'tac', 'toe']):\n",
    "    print(i, v)"
   ]
  },
  {
   "cell_type": "code",
   "execution_count": 4,
   "id": "576cf1fa",
   "metadata": {},
   "outputs": [
    {
     "name": "stdout",
     "output_type": "stream",
     "text": [
      "What is your name?  It is lancelot.\n",
      "What is your quest?  It is the holy grail.\n",
      "What is your favorite color?  It is blue.\n"
     ]
    }
   ],
   "source": [
    "# zip()\n",
    "# To loop over two or more sequences at the same time, the entries can be paired with the zip() function.\n",
    "\n",
    "questions = ['name', 'quest', 'favorite color']\n",
    "answers = ['lancelot', 'the holy grail', 'blue']\n",
    "\n",
    "for q, a in zip(questions, answers):\n",
    "    print('What is your {0}?  It is {1}.'.format(q, a))"
   ]
  },
  {
   "cell_type": "code",
   "execution_count": 5,
   "id": "c920c86a",
   "metadata": {},
   "outputs": [
    {
     "name": "stdout",
     "output_type": "stream",
     "text": [
      "9\n",
      "7\n",
      "5\n",
      "3\n",
      "1\n"
     ]
    }
   ],
   "source": [
    "# reversed() function\n",
    "# To loop over a sequence in reverse, first specify the sequence in a forward direction and then call the reversed() function\n",
    "\n",
    "for i in reversed(range(1, 10, 2)):\n",
    "    print(i)"
   ]
  },
  {
   "cell_type": "code",
   "execution_count": 6,
   "id": "c16d965e",
   "metadata": {},
   "outputs": [
    {
     "name": "stdout",
     "output_type": "stream",
     "text": [
      "apple\n",
      "apple\n",
      "banana\n",
      "orange\n",
      "orange\n",
      "pear\n"
     ]
    }
   ],
   "source": [
    "# sorted() function\n",
    "# To loop over a sequence in sorted order, \n",
    "# use the sorted() function which returns a new sorted list while leaving the source unaltered.\n",
    "\n",
    "basket = ['apple', 'orange', 'apple', 'pear', 'orange', 'banana']\n",
    "\n",
    "for i in sorted(basket):\n",
    "    print(i)"
   ]
  },
  {
   "cell_type": "code",
   "execution_count": 7,
   "id": "c4d6c280",
   "metadata": {},
   "outputs": [
    {
     "name": "stdout",
     "output_type": "stream",
     "text": [
      "apple\n",
      "banana\n",
      "orange\n",
      "pear\n"
     ]
    }
   ],
   "source": [
    "# set()\n",
    "# Using set() on a sequence eliminates duplicate elements. \n",
    "# The use of sorted() in combination with set() over a sequence is an idiomatic way to loop over unique elements of the sequence in sorted order.\n",
    "basket = ['apple', 'orange', 'apple', 'pear', 'orange', 'banana']\n",
    "for f in sorted(set(basket)):\n",
    "    print(f)"
   ]
  }
 ],
 "metadata": {
  "kernelspec": {
   "display_name": "Python 3 (ipykernel)",
   "language": "python",
   "name": "python3"
  },
  "language_info": {
   "codemirror_mode": {
    "name": "ipython",
    "version": 3
   },
   "file_extension": ".py",
   "mimetype": "text/x-python",
   "name": "python",
   "nbconvert_exporter": "python",
   "pygments_lexer": "ipython3",
   "version": "3.9.7"
  }
 },
 "nbformat": 4,
 "nbformat_minor": 5
}
