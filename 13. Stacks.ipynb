{
 "cells": [
  {
   "cell_type": "markdown",
   "id": "cd7717ae",
   "metadata": {},
   "source": [
    "### Stack"
   ]
  },
  {
   "cell_type": "markdown",
   "id": "5307caec",
   "metadata": {},
   "source": [
    "- Linear data structure\n",
    "- Stack follows last in first out principle or first in last out principle (LIFO or FILO)"
   ]
  },
  {
   "cell_type": "markdown",
   "id": "fc1022a3",
   "metadata": {},
   "source": [
    "Ex: The Undo option in text editors (MS Word/Google Docs). When you use the Undo option in a text editor, the last change that you made is the first to be reverted. Therefore, such options are examples of 'last in, first out."
   ]
  },
  {
   "cell_type": "markdown",
   "id": "79ad7e60",
   "metadata": {},
   "source": [
    "- Elements are inserted and removed from a single end - top of the stack\n",
    "- Insertion of elements : PUSH\n",
    "- Removal of elements : POP\n",
    "- Addition and removal of elements are allowed only from the TOP of the stack\n",
    "- Elements are stored in contiguous memory locations"
   ]
  },
  {
   "cell_type": "markdown",
   "id": "2df46634",
   "metadata": {},
   "source": [
    "### Stack operations"
   ]
  },
  {
   "cell_type": "markdown",
   "id": "a4cca2e4",
   "metadata": {},
   "source": [
    "- push(object element): It inserts an element to the top of a stack.\n",
    "\n",
    "- pop(): It removes an element from the top of a stack.\n",
    "\n",
    "- isEmpty(): It returns true if a stack is empty; otherwise false.\n",
    "\n",
    "- peek(): It returns the element at the top of a stack but will not remove it from the stack.\n",
    "\n",
    "- size(): It returns the size of the stack"
   ]
  },
  {
   "cell_type": "markdown",
   "id": "f42ac8ae",
   "metadata": {},
   "source": [
    "### Exceptions"
   ]
  },
  {
   "cell_type": "markdown",
   "id": "18b682d5",
   "metadata": {},
   "source": [
    "Stackoverflow exception: You cannot push an element to the top of a stack if it is already full. "
   ]
  },
  {
   "cell_type": "markdown",
   "id": "fb40c010",
   "metadata": {},
   "source": [
    "Stackunderflow exception: You cannot pop an element from the top of a stack if it is empty."
   ]
  },
  {
   "cell_type": "markdown",
   "id": "43ad52d1",
   "metadata": {},
   "source": [
    "### Why is stack an abstract or user-defined data type?"
   ]
  },
  {
   "cell_type": "markdown",
   "id": "2cb2ce77",
   "metadata": {},
   "source": [
    "Stack is an abstract data type(ADT). An abstract data type is a combination of data values and a set of operations that can be performed. But how those operations are written or the source code is 'abstracted'. You package the base data structure which is used to create the stack (list here) and define all the methods based on stack property and put that into a class say 'Stack'.  When you create a stack, you simply use **s=Stack()**, and you call the methods that are required to perform operations on the stack using object name. This is known as **abstraction.  Queues, deques are other examples of abstract data types**"
   ]
  },
  {
   "cell_type": "markdown",
   "id": "395b95eb",
   "metadata": {},
   "source": [
    "### Implementation "
   ]
  },
  {
   "cell_type": "markdown",
   "id": "9bdd4176",
   "metadata": {},
   "source": [
    "There are different ways to implement stack data structure in Python. The most common ways are:\n",
    "- Python lists\n",
    "- Inbuilt Python classes - queue.LifoQueue and collections.deque\n",
    "- Linked lists"
   ]
  },
  {
   "cell_type": "markdown",
   "id": "1de716a4",
   "metadata": {},
   "source": [
    "Intuitively, a stack is nothing but lists with restricted access to its elements. It allows you to access only the element at the top in a ‘Last In First Out’ fashion, unlike lists that allow random access to its elements."
   ]
  },
  {
   "cell_type": "markdown",
   "id": "5892c711",
   "metadata": {},
   "source": [
    "- The right end of the list is considered the top. It is denoted by the index n-1, where n is the length of the stack.\n",
    "- Both push and pop operations can be performed at the top only since it follows the LIFO (Last In, First Out) order.\n",
    "- ‘s.items’ (object_name.list_name) is used to print the elements of the stack. However, you can also write a method inside the class to print the contents of the stack"
   ]
  },
  {
   "cell_type": "markdown",
   "id": "3f00881b",
   "metadata": {},
   "source": [
    "Exception Handling: You could encounter the following two types of exceptions in stacks. You can try to avoid these exceptions by writing checks in your code or by handling exceptions:\n",
    "\n",
    "- Underflow: Trying to pop/peek an element from an empty stack. \n",
    "- Overflow: Trying to push an element into a stack that is already at its maximum capacity. A stack overflow occurs when you have used up more memory for a stack than your program was supposed to. An instance of this occurs when there are infinite recursive calls, and the compiler shows stack overflow due to the overflow in the program stack. \n",
    "\n",
    "- Stack overflow condition was not added to our push method because we have created a dynamic list. There is no fixed size for it."
   ]
  },
  {
   "cell_type": "code",
   "execution_count": 44,
   "id": "484722a6",
   "metadata": {},
   "outputs": [],
   "source": [
    "# create a class called Stack\n",
    "\n",
    "class Stack:\n",
    "    def __init__(self):\n",
    "        self.items=[]\n",
    "    \n",
    "    # insert element at the top of the stack\n",
    "    def push(self, item):\n",
    "        self.items.append(item)\n",
    "    \n",
    "    def size(self):\n",
    "        return len(self.items)\n",
    "    \n",
    "    def isEmpty(self):\n",
    "        return self.items==[]\n",
    "    \n",
    "    # returns element at the top of the stack\n",
    "    def peek(self):\n",
    "        return self.items[len(self.items)-1]\n",
    "    \n",
    "    # delete element from the top of the stack\n",
    "    def pop(self):\n",
    "        # underflow condition\n",
    "        if self.isEmpty():\n",
    "            return \"Stack is empty\"\n",
    "        return self.items.pop()"
   ]
  },
  {
   "cell_type": "code",
   "execution_count": 45,
   "id": "4ae92af4",
   "metadata": {},
   "outputs": [],
   "source": [
    "# create object of class Stack\n",
    "\n",
    "s=Stack()"
   ]
  },
  {
   "cell_type": "code",
   "execution_count": 46,
   "id": "7d573ccc",
   "metadata": {},
   "outputs": [
    {
     "data": {
      "text/plain": [
       "[]"
      ]
     },
     "execution_count": 46,
     "metadata": {},
     "output_type": "execute_result"
    }
   ],
   "source": [
    "# print items of the stack\n",
    "s.items"
   ]
  },
  {
   "cell_type": "code",
   "execution_count": 47,
   "id": "aa224a60",
   "metadata": {},
   "outputs": [
    {
     "data": {
      "text/plain": [
       "'Stack is empty'"
      ]
     },
     "execution_count": 47,
     "metadata": {},
     "output_type": "execute_result"
    }
   ],
   "source": [
    "# Perform pop operation\n",
    "s.pop()"
   ]
  },
  {
   "cell_type": "code",
   "execution_count": 48,
   "id": "085344a7",
   "metadata": {},
   "outputs": [],
   "source": [
    "# insert element\n",
    "s.push(10)\n",
    "s.push(\"A\")\n",
    "s.push(20)\n",
    "s.push(\"F\")"
   ]
  },
  {
   "cell_type": "code",
   "execution_count": 49,
   "id": "967453b5",
   "metadata": {},
   "outputs": [
    {
     "data": {
      "text/plain": [
       "[10, 'A', 20, 'F']"
      ]
     },
     "execution_count": 49,
     "metadata": {},
     "output_type": "execute_result"
    }
   ],
   "source": [
    "s.items"
   ]
  },
  {
   "cell_type": "code",
   "execution_count": 50,
   "id": "e0bbd0ee",
   "metadata": {},
   "outputs": [
    {
     "data": {
      "text/plain": [
       "4"
      ]
     },
     "execution_count": 50,
     "metadata": {},
     "output_type": "execute_result"
    }
   ],
   "source": [
    "s.size()"
   ]
  },
  {
   "cell_type": "code",
   "execution_count": 51,
   "id": "794de519",
   "metadata": {},
   "outputs": [
    {
     "data": {
      "text/plain": [
       "False"
      ]
     },
     "execution_count": 51,
     "metadata": {},
     "output_type": "execute_result"
    }
   ],
   "source": [
    "s.isEmpty()"
   ]
  },
  {
   "cell_type": "code",
   "execution_count": 52,
   "id": "b5579c30",
   "metadata": {},
   "outputs": [
    {
     "data": {
      "text/plain": [
       "'F'"
      ]
     },
     "execution_count": 52,
     "metadata": {},
     "output_type": "execute_result"
    }
   ],
   "source": [
    "s.peek()"
   ]
  },
  {
   "cell_type": "code",
   "execution_count": 53,
   "id": "ec79c89d",
   "metadata": {},
   "outputs": [
    {
     "data": {
      "text/plain": [
       "'F'"
      ]
     },
     "execution_count": 53,
     "metadata": {},
     "output_type": "execute_result"
    }
   ],
   "source": [
    "s.pop()"
   ]
  },
  {
   "cell_type": "code",
   "execution_count": 55,
   "id": "8f5cc0d2",
   "metadata": {},
   "outputs": [
    {
     "data": {
      "text/plain": [
       "[10, 'A', 20]"
      ]
     },
     "execution_count": 55,
     "metadata": {},
     "output_type": "execute_result"
    }
   ],
   "source": [
    "s.items"
   ]
  },
  {
   "cell_type": "code",
   "execution_count": 71,
   "id": "af240acb",
   "metadata": {},
   "outputs": [
    {
     "name": "stdout",
     "output_type": "stream",
     "text": [
      "1 2 3 4 5 6 7 8 9 10 11 12\n",
      "3\n",
      "10\n"
     ]
    }
   ],
   "source": [
    "# You are given a stack, and you need to print the kth element from the top of the stack.\n",
    "\n",
    "def print_element(s,k):\n",
    "    \n",
    "    if s.size() < k:\n",
    "        print(\"There are not enough elements in the stack\")\n",
    "    else:\n",
    "        for i in range(1,k):\n",
    "            s.pop()\n",
    "        print(s.peek())\n",
    "    return\n",
    "\n",
    "\n",
    "s=Stack()\n",
    "inp= input().split()\n",
    "k = int(input())\n",
    "\n",
    "for ele in inp:\n",
    "    s.push(ele)\n",
    "    \n",
    "print_element(s,k)"
   ]
  },
  {
   "cell_type": "code",
   "execution_count": 90,
   "id": "29dfd2bb",
   "metadata": {},
   "outputs": [
    {
     "name": "stdout",
     "output_type": "stream",
     "text": [
      "abcdef\n",
      "fedcba\n"
     ]
    }
   ],
   "source": [
    "# Given a string, reverse it using a stack and print it.\n",
    "\n",
    "def check_palindrome(string,s):\n",
    "    str=\"\"\n",
    "    for i in range(len(string)):\n",
    "        str = str+ s.pop()    \n",
    "    print(str)\n",
    "    \n",
    "string = input()\n",
    "s=Stack()\n",
    "\n",
    "for char in string:\n",
    "    s.push(char)\n",
    "\n",
    "check_palindrome(string,s)"
   ]
  },
  {
   "cell_type": "code",
   "execution_count": 93,
   "id": "4e5a4e4d",
   "metadata": {},
   "outputs": [
    {
     "name": "stdout",
     "output_type": "stream",
     "text": [
      "\n",
      "\n"
     ]
    }
   ],
   "source": [
    "def check_palindrome(string,s):\n",
    "    reverse=\"\"\n",
    "    while s.isEmpty()==False:\n",
    "        reverse = reverse+ s.pop()    \n",
    "    print(reverse)\n",
    "    \n",
    "string = input()\n",
    "s=Stack()\n",
    "\n",
    "for char in string:\n",
    "    s.push(char)\n",
    "\n",
    "check_palindrome(string,s)"
   ]
  },
  {
   "cell_type": "markdown",
   "id": "85fff472",
   "metadata": {},
   "source": [
    "### Balanced Parentheses Problem - I"
   ]
  },
  {
   "cell_type": "markdown",
   "id": "6c7f7edf",
   "metadata": {},
   "source": [
    "Let's consider a simpler case of the problem discussed above where you have a string of parentheses only and not any expression. Example: (()), ((())). A string of parentheses is said to be balanced if every '(' has its corresponding ')'. We call it a 'balanced parentheses problem'."
   ]
  },
  {
   "cell_type": "markdown",
   "id": "ba502afa",
   "metadata": {},
   "source": [
    "Approach\n",
    "- brute force approach of using a counter variable\n",
    "- stack-based approach to check if the given set of parentheses are balanced or not."
   ]
  },
  {
   "cell_type": "markdown",
   "id": "7806f3e8",
   "metadata": {},
   "source": [
    "- Consider sing type of brackets: '()'.\n",
    "- Single counter variable used"
   ]
  },
  {
   "cell_type": "markdown",
   "id": "0a4aa696",
   "metadata": {},
   "source": [
    "- Create a 'count' variable and initialise it with zero\n",
    "- Parse through the string character by character from the left.\n",
    "- Increment count by one for every '('\n",
    "- Decrement it by one by for every ')'\n",
    "- At the end of scanning the string, check the value of count.\n",
    "- If the value of count is 0, the string is well formed\n",
    "- Otherwise the string is illformed.\n",
    "- If count becomes negative while scanning the string, the string is illformed."
   ]
  },
  {
   "cell_type": "code",
   "execution_count": 120,
   "id": "3dd42a4e",
   "metadata": {},
   "outputs": [],
   "source": [
    "# You are given a string of parentheses. You have to check whether the parentheses are well-formed in the string or not. \\\n",
    "# Return 'True' if the parentheses are well-formed; otherwise, return 'False'.\n",
    "\n",
    "def parantheses_matching(input_str):\n",
    "    # return True or False\n",
    "    s=Stack()\n",
    "    \n",
    "    for char in input_str:\n",
    "        s.push(char)\n",
    "    \n",
    "    count=0\n",
    "    while s.isEmpty() == False:\n",
    "        char=s.pop()\n",
    "        if char==')':\n",
    "            count=count+1\n",
    "        elif char=='(':\n",
    "            count=count-1 \n",
    "        if count<0:\n",
    "            break\n",
    "            \n",
    "    if count==0:\n",
    "        return True\n",
    "    else:\n",
    "        return False"
   ]
  },
  {
   "cell_type": "code",
   "execution_count": 121,
   "id": "3eb0fb13",
   "metadata": {},
   "outputs": [
    {
     "name": "stdout",
     "output_type": "stream",
     "text": [
      "\n",
      "True\n"
     ]
    }
   ],
   "source": [
    "input_string= input()\n",
    "print(parantheses_matching(input_string))"
   ]
  },
  {
   "cell_type": "code",
   "execution_count": 122,
   "id": "3e020dc4",
   "metadata": {},
   "outputs": [],
   "source": [
    "def parantheses_matching(input_str):\n",
    "    count=0\n",
    "    for char in input_str:\n",
    "        if char=='(':\n",
    "            count=count+1\n",
    "        elif char==')':\n",
    "            count=count-1 \n",
    "        if count<0:\n",
    "            break\n",
    "            \n",
    "    if count==0:\n",
    "        return True\n",
    "    else:\n",
    "        return False"
   ]
  },
  {
   "cell_type": "code",
   "execution_count": 123,
   "id": "f9aaee27",
   "metadata": {},
   "outputs": [
    {
     "name": "stdout",
     "output_type": "stream",
     "text": [
      "\n",
      "True\n"
     ]
    }
   ],
   "source": [
    "input_string= input()\n",
    "print(parantheses_matching(input_string))"
   ]
  },
  {
   "cell_type": "markdown",
   "id": "9313d8f3",
   "metadata": {},
   "source": [
    "### Balanced Parentheses Problem - II"
   ]
  },
  {
   "cell_type": "markdown",
   "id": "3da55965",
   "metadata": {},
   "source": [
    "- Consider two different types of brackets: '{}' and '()'.\n",
    "- Increase the number of counters"
   ]
  },
  {
   "cell_type": "markdown",
   "id": "5b11eae2",
   "metadata": {},
   "source": [
    "Counter-based algorithm is not equipped to handle cases such as \"(({)})\", where an opening bracket is followed by a closing bracket of a different type. Hence the 'order' of parentheses matters here. "
   ]
  },
  {
   "cell_type": "markdown",
   "id": "ef2ee679",
   "metadata": {},
   "source": [
    "({)\n",
    "- C1=1 and C2=0\n",
    "- C1=1 and C2=1\n",
    "- C1=0 and C2=1"
   ]
  },
  {
   "cell_type": "markdown",
   "id": "ad8a7b1c",
   "metadata": {},
   "source": [
    "({)}\n",
    "- C1=1 and C2=0\n",
    "- C1=1 and C2=1\n",
    "- C1=0 and C2=1\n",
    "- C1=0 and C2=0"
   ]
  },
  {
   "cell_type": "markdown",
   "id": "e1115511",
   "metadata": {},
   "source": [
    "Hence the 'order' of parentheses matters here."
   ]
  },
  {
   "cell_type": "markdown",
   "id": "ff5948d9",
   "metadata": {},
   "source": [
    "### Stacks can solve the problem\n",
    "The parenthesis that was opened recently should be closed first. For example, in (({)}), '(' appeared before '{'. Since '{' appeared recently, it should be closed first before closing the previous '(' with ')'. It follows the order of 'Last In First Out' principle. Therefore, the stack data structure can be useful here. "
   ]
  },
  {
   "cell_type": "markdown",
   "id": "82550133",
   "metadata": {},
   "source": [
    "### Balanced Parenthesis Problem Using Stacks"
   ]
  },
  {
   "cell_type": "markdown",
   "id": "669214a2",
   "metadata": {},
   "source": [
    "- Parse through the given string character by character\n",
    "- Every time you encounter an opening parenthesis ‘(‘ push it into the stack and every time you encounter a ‘)’ pop it out of the stack."
   ]
  },
  {
   "cell_type": "markdown",
   "id": "c38a1ca3",
   "metadata": {},
   "source": [
    "There are two correctness conditions to be checked\n",
    "- The stack should be **empty at the end of the scan**. If the stack is not empty at the end of the scan, it means that there are more opening parentheses than closing parentheses.\n",
    "- Pop() cannot be called on an empty stack. **Popping from an empty stack** at any point of parsing means that there are closing parentheses than opening parentheses. Parsing can be stopped as soon this condition is encountered to return the given parentheses is not balanced."
   ]
  },
  {
   "cell_type": "markdown",
   "id": "86288d4b",
   "metadata": {},
   "source": [
    "### Balanced Parentheses: Stack Implementation"
   ]
  },
  {
   "cell_type": "code",
   "execution_count": 153,
   "id": "a3c0cfcd",
   "metadata": {},
   "outputs": [],
   "source": [
    "def balanced(string):\n",
    "    s=Stack()\n",
    "    \n",
    "    index=0\n",
    "    \n",
    "    while(index<len(string)):\n",
    "        print(\"index\", index)\n",
    "        if string[index] ==\"(\":\n",
    "            s.push(string[index])\n",
    "            print(\"push\", s.items)\n",
    "        else:\n",
    "            if s.isEmpty():\n",
    "                return False\n",
    "            else:\n",
    "                s.pop()\n",
    "            print(\"pop\", s.items)\n",
    "        index= index+1\n",
    "    \n",
    "    if s.isEmpty():\n",
    "        return True\n",
    "    else:\n",
    "        return False"
   ]
  },
  {
   "cell_type": "code",
   "execution_count": 155,
   "id": "14a3f133",
   "metadata": {},
   "outputs": [
    {
     "name": "stdout",
     "output_type": "stream",
     "text": [
      "index 0\n",
      "push ['(']\n",
      "index 1\n",
      "push ['(', '(']\n",
      "index 2\n",
      "pop ['(']\n",
      "index 3\n",
      "pop []\n"
     ]
    },
    {
     "data": {
      "text/plain": [
       "True"
      ]
     },
     "execution_count": 155,
     "metadata": {},
     "output_type": "execute_result"
    }
   ],
   "source": [
    "string = \"(())\"\n",
    "balanced(string)"
   ]
  },
  {
   "cell_type": "code",
   "execution_count": 156,
   "id": "d88500fd",
   "metadata": {},
   "outputs": [
    {
     "name": "stdout",
     "output_type": "stream",
     "text": [
      "index 0\n",
      "push ['(']\n",
      "index 1\n",
      "push ['(', '(']\n",
      "index 2\n",
      "push ['(', '(', '(']\n",
      "index 3\n",
      "pop ['(', '(']\n",
      "index 4\n",
      "pop ['(']\n"
     ]
    },
    {
     "data": {
      "text/plain": [
       "False"
      ]
     },
     "execution_count": 156,
     "metadata": {},
     "output_type": "execute_result"
    }
   ],
   "source": [
    "string = \"((())\"\n",
    "balanced(string)"
   ]
  },
  {
   "cell_type": "code",
   "execution_count": 157,
   "id": "967bba6f",
   "metadata": {},
   "outputs": [
    {
     "name": "stdout",
     "output_type": "stream",
     "text": [
      "index 0\n",
      "push ['(']\n",
      "index 1\n",
      "pop []\n",
      "index 2\n"
     ]
    },
    {
     "data": {
      "text/plain": [
       "False"
      ]
     },
     "execution_count": 157,
     "metadata": {},
     "output_type": "execute_result"
    }
   ],
   "source": [
    "string = \"()))\"\n",
    "balanced(string)"
   ]
  },
  {
   "cell_type": "markdown",
   "id": "7d04d0d2",
   "metadata": {},
   "source": [
    "Declare a character stack ‘S’.\n",
    "Traverse the expression string.\n",
    "- If the current character is '(', push it into the stack.\n",
    "- If the current character is ')', pop it from the stack. If there is no '(' to pop, throw an exception and return 'false'. If pop() is called on an empty stack, then it indicates that the string is formed incorrectly.\n",
    "- If the stack is empty at the end, then it indicates that the string is formed correctly and return True\n",
    "\n",
    "The method has given above returns 'True' if the algorithm if the string of parentheses is balanced; otherwise, it returns 'False'."
   ]
  }
 ],
 "metadata": {
  "kernelspec": {
   "display_name": "Python 3 (ipykernel)",
   "language": "python",
   "name": "python3"
  },
  "language_info": {
   "codemirror_mode": {
    "name": "ipython",
    "version": 3
   },
   "file_extension": ".py",
   "mimetype": "text/x-python",
   "name": "python",
   "nbconvert_exporter": "python",
   "pygments_lexer": "ipython3",
   "version": "3.9.7"
  }
 },
 "nbformat": 4,
 "nbformat_minor": 5
}
