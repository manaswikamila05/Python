{
 "cells": [
  {
   "cell_type": "markdown",
   "metadata": {},
   "source": [
    "# Main concepts\n",
    "- Class\n",
    "- Objects\n",
    "- Polymorphism\n",
    "- Encapsulation\n",
    "- Inheritance\n",
    "- Data abstraction"
   ]
  },
  {
   "cell_type": "markdown",
   "metadata": {},
   "source": [
    "A class is a collection of objects. A class contains the blueprints or the prototype from which the objects are being created. It is a logical entity that contains some attributes and methods. "
   ]
  },
  {
   "cell_type": "markdown",
   "metadata": {},
   "source": [
    "- Classes are created by keyword class.\n",
    "- Attributes are the variables that belong to a class.\n",
    "- Attributes are always public and can be accessed using the dot (.) operator. "
   ]
  },
  {
   "cell_type": "markdown",
   "metadata": {},
   "source": [
    "The object is an entity that has a state and behavior associated with it."
   ]
  },
  {
   "cell_type": "markdown",
   "metadata": {},
   "source": [
    "An object consists of :\n",
    "\n",
    "- State: It is represented by the attributes of an object. It also reflects the properties of an object.\n",
    "- Behavior: It is represented by the methods of an object. It also reflects the response of an object to other objects.\n",
    "- Identity: It gives a unique name to an object and enables one object to interact with other objects."
   ]
  },
  {
   "cell_type": "markdown",
   "metadata": {},
   "source": [
    "A class is a blueprint for how something should be defined. It doesn’t actually contain any data. While the class is the blueprint, an instance is an object that is built from a class and contains real data. "
   ]
  },
  {
   "cell_type": "markdown",
   "metadata": {},
   "source": [
    "Attributes created in .__init__() are called instance attributes. An instance attribute’s value is specific to a particular instance of the class.\n",
    "On the other hand, class attributes are attributes that have the same value for all class instances. "
   ]
  },
  {
   "cell_type": "markdown",
   "metadata": {},
   "source": [
    "The self parameter is a reference to the current instance of the class, and is used to access variables that belongs to the class. It has to be the first parameter of any function in the class"
   ]
  },
  {
   "cell_type": "markdown",
   "metadata": {},
   "source": [
    "Constructors are generally used for instantiating an object. The task of constructors is to initialize(assign values) to the data members of the class when an object of the class is created. In Python the __init__() method is called the constructor and is always called when an object is created."
   ]
  },
  {
   "cell_type": "markdown",
   "metadata": {},
   "source": [
    "The __init__ method is run as soon as an object of a class is instantiated. The method is useful to do any initialization you want to do with your object. "
   ]
  },
  {
   "cell_type": "markdown",
   "metadata": {},
   "source": [
    "<h1 style = \"color : Blue\"> i. Creating Classes and Objects </h1>"
   ]
  },
  {
   "cell_type": "markdown",
   "metadata": {},
   "source": [
    "The class keyword is used to define a class, and in the __init__ method is used to initialise the attributes that define our class. "
   ]
  },
  {
   "cell_type": "markdown",
   "metadata": {},
   "source": [
    "The init method is instantiated automatically when a particular class is being used; it also determines the number of values that are to be passed.  "
   ]
  },
  {
   "cell_type": "markdown",
   "metadata": {},
   "source": [
    "<h2 style = \"color : Brown\">Defining a class</h2>\n",
    "\n",
    "- length and breadth as attributes\n",
    "- __init__() - constructor of class\n",
    "- self parameter - refers to the newly created instance of the class.  \n",
    "- attributes length and breadth are associated with self-keyword to identify them as instance variables"
   ]
  },
  {
   "cell_type": "code",
   "execution_count": 1,
   "metadata": {},
   "outputs": [],
   "source": [
    "class Rectangle :\n",
    "    def __init__(self):\n",
    "        self.length = 10\n",
    "        self.breadth = 5"
   ]
  },
  {
   "cell_type": "markdown",
   "metadata": {},
   "source": [
    "- create the object by calling name of the class followed by parenthesis. \n",
    "- print the values using dot operator"
   ]
  },
  {
   "cell_type": "code",
   "execution_count": 2,
   "metadata": {},
   "outputs": [
    {
     "name": "stdout",
     "output_type": "stream",
     "text": [
      "Length =  10 \n",
      "Breadth =  5\n"
     ]
    }
   ],
   "source": [
    "rect = Rectangle()\n",
    "print(\"Length = \",rect.length, \"\\nBreadth = \" ,rect.breadth)"
   ]
  },
  {
   "cell_type": "markdown",
   "metadata": {},
   "source": [
    "### Types of constructors : \n",
    "\n",
    "- default constructor: The default constructor is a simple constructor which doesn’t accept any arguments. Its definition has only one argument which is a reference to the instance being constructed.\n",
    "- parameterized constructor: constructor with parameters is known as parameterized constructor. The parameterized constructor takes its first argument as a reference to the instance being constructed known as self and the rest of the arguments are provided by the programmer."
   ]
  },
  {
   "cell_type": "markdown",
   "metadata": {},
   "source": [
    "<h2 style = \"color : Brown\">Parametrised Constructor</h2>\n",
    "\n",
    "- parametrised constructor - dynamically assign the attribute values during object creation"
   ]
  },
  {
   "cell_type": "code",
   "execution_count": 3,
   "metadata": {},
   "outputs": [
    {
     "name": "stdout",
     "output_type": "stream",
     "text": [
      "Length =  10 \n",
      "Breadth =  5\n"
     ]
    }
   ],
   "source": [
    "class Rectangle :\n",
    "    def __init__(self, length, breadth):\n",
    "        self.length = length\n",
    "        self.breadth = breadth\n",
    "        \n",
    "rect = Rectangle(10, 5)\n",
    "print(\"Length = \",rect.length, \"\\nBreadth = \" ,rect.breadth)"
   ]
  },
  {
   "cell_type": "markdown",
   "metadata": {},
   "source": [
    "- All objects of a class share class or static variables. \n",
    "- An instance or non-static variables are different for different objects (every object has a copy). \n",
    "\n",
    "\n",
    "- All variables which are assigned a value in the class declaration are class variables. And variables that are assigned values inside methods are instance variables."
   ]
  },
  {
   "cell_type": "markdown",
   "metadata": {},
   "source": [
    "<h1 style = \"color : Blue\">ii. Class Variable and Instance variables "
   ]
  },
  {
   "cell_type": "code",
   "execution_count": 3,
   "metadata": {},
   "outputs": [],
   "source": [
    "class Student:\n",
    "    teacher = \"Mrs. Jones\"  # class variable\n",
    "    room = \"103A\" # class variable\n",
    "    \n",
    "    def __init__(self, name, age):\n",
    "        self.name = name # instance variable\n",
    "        self.age = age # instance variable"
   ]
  },
  {
   "cell_type": "code",
   "execution_count": 7,
   "metadata": {},
   "outputs": [],
   "source": [
    "tom = Student(\"Tom\", 15)"
   ]
  },
  {
   "cell_type": "code",
   "execution_count": 12,
   "metadata": {},
   "outputs": [
    {
     "name": "stdout",
     "output_type": "stream",
     "text": [
      "Mrs. Jones 103A Tom 15\n"
     ]
    }
   ],
   "source": [
    "print(tom.teacher, tom.room, tom.name, tom.age)"
   ]
  },
  {
   "cell_type": "code",
   "execution_count": 13,
   "metadata": {},
   "outputs": [],
   "source": [
    "susan = Student(\"Susan\", 16)"
   ]
  },
  {
   "cell_type": "code",
   "execution_count": 14,
   "metadata": {},
   "outputs": [
    {
     "name": "stdout",
     "output_type": "stream",
     "text": [
      "Mrs. Jones 103A Susan 16\n"
     ]
    }
   ],
   "source": [
    "print(susan.teacher, susan.room, susan.name, susan.age)"
   ]
  },
  {
   "cell_type": "code",
   "execution_count": 15,
   "metadata": {},
   "outputs": [],
   "source": [
    "#  Student contains certain attributes such as teacher that is common to all the students\n",
    "# These attributes are class variables, and they are common to all instances of the class.\n",
    "\n",
    "Student.teacher = \"Mr. David\""
   ]
  },
  {
   "cell_type": "code",
   "execution_count": 17,
   "metadata": {},
   "outputs": [
    {
     "data": {
      "text/plain": [
       "__main__.Student"
      ]
     },
     "execution_count": 17,
     "metadata": {},
     "output_type": "execute_result"
    }
   ],
   "source": [
    "# tom is an instance of Student\n",
    "# it will return the class to which it belongs.\n",
    "\n",
    "type(tom)"
   ]
  },
  {
   "cell_type": "code",
   "execution_count": 16,
   "metadata": {},
   "outputs": [
    {
     "name": "stdout",
     "output_type": "stream",
     "text": [
      "Mr. David 103A Susan 16\n"
     ]
    }
   ],
   "source": [
    "print(susan.teacher, susan.room, susan.name, susan.age)"
   ]
  },
  {
   "cell_type": "code",
   "execution_count": 20,
   "metadata": {},
   "outputs": [],
   "source": [
    "class Student:\n",
    "    def __init__(self):\n",
    "        self.age = 10\n",
    "        self.name = \"Name\""
   ]
  },
  {
   "cell_type": "code",
   "execution_count": 21,
   "metadata": {},
   "outputs": [],
   "source": [
    "# instance of class Student\n",
    "# Since the init method doesn’t have any argument other than self, it won’t accept any argument while creating an instance to the class.\n",
    "student2 = Student()"
   ]
  },
  {
   "cell_type": "code",
   "execution_count": 36,
   "metadata": {},
   "outputs": [],
   "source": [
    "class Student:\n",
    "    standard = 'IV'\n",
    "    def __init__(self,age,name,Cid):\n",
    "        self.age = age\n",
    "        self.name = name\n",
    "        self.id = Cid"
   ]
  },
  {
   "cell_type": "code",
   "execution_count": 37,
   "metadata": {},
   "outputs": [
    {
     "name": "stdout",
     "output_type": "stream",
     "text": [
      "IV\n"
     ]
    }
   ],
   "source": [
    "# three necessary arguments as mentioned in the init method. \n",
    "\n",
    "student1 = Student(12,\"Raj\",24)\n",
    "student2 = Student(12,\"Sam\",10)\n",
    "student3 = Student(\"Shiv\",4, 3)\n",
    "\n",
    "print(student1.standard)"
   ]
  },
  {
   "cell_type": "code",
   "execution_count": 38,
   "metadata": {},
   "outputs": [
    {
     "name": "stdout",
     "output_type": "stream",
     "text": [
      "V\n"
     ]
    }
   ],
   "source": [
    "# update the student standard to V.\n",
    "# Student standard is a class variable, so it can be updated directly using Classname.attributename and this would apply to all the instances of the class.\n",
    "Student.standard= 'V'\n",
    "print(student1.standard)"
   ]
  },
  {
   "cell_type": "code",
   "execution_count": 40,
   "metadata": {},
   "outputs": [
    {
     "name": "stdout",
     "output_type": "stream",
     "text": [
      "V\n",
      "V\n",
      "V\n"
     ]
    }
   ],
   "source": [
    "# updated directly using Classname.attributename and this would apply to all the instances of the class.\n",
    "\n",
    "Student.standard= 'V'\n",
    "print(student1.standard)\n",
    "print(student2.standard)\n",
    "print(student3.standard)"
   ]
  },
  {
   "cell_type": "code",
   "execution_count": 41,
   "metadata": {},
   "outputs": [
    {
     "name": "stdout",
     "output_type": "stream",
     "text": [
      "IV\n",
      "V\n",
      "V\n"
     ]
    }
   ],
   "source": [
    "# This would change the standard of student1\n",
    "\n",
    "student1.standard='IV'\n",
    "print(student1.standard)\n",
    "print(student2.standard)\n",
    "print(student3.standard)"
   ]
  },
  {
   "cell_type": "code",
   "execution_count": 42,
   "metadata": {},
   "outputs": [],
   "source": [
    "class Circle :\n",
    "    pi = 3.14\n",
    "    def __init__(self, radius):\n",
    "        self.radius = radius"
   ]
  },
  {
   "cell_type": "code",
   "execution_count": 43,
   "metadata": {},
   "outputs": [
    {
     "name": "stdout",
     "output_type": "stream",
     "text": [
      "Radius = 5 \t pi = 3.14\n",
      "Radius = 2 \t pi = 3.14\n"
     ]
    }
   ],
   "source": [
    "circle_1 = Circle(5)\n",
    "print(\"Radius = {} \\t pi = {}\".format(circle_1.radius,circle_1.pi))\n",
    "\n",
    "circle_2 = Circle(2)\n",
    "print(\"Radius = {} \\t pi = {}\".format(circle_2.radius,circle_2.pi))"
   ]
  },
  {
   "cell_type": "code",
   "execution_count": 44,
   "metadata": {},
   "outputs": [
    {
     "name": "stdout",
     "output_type": "stream",
     "text": [
      "Radius = 5 \t pi = 3.1436\n",
      "Radius = 2 \t pi = 3.1436\n"
     ]
    }
   ],
   "source": [
    "Circle.pi = 3.1436\n",
    "\n",
    "circle_1 = Circle(5)\n",
    "print(\"Radius = {} \\t pi = {}\".format(circle_1.radius,circle_1.pi))\n",
    "\n",
    "circle_2 = Circle(2)\n",
    "print(\"Radius = {} \\t pi = {}\".format(circle_2.radius,circle_2.pi))"
   ]
  },
  {
   "cell_type": "markdown",
   "metadata": {},
   "source": [
    "The methods essentially are functions which are responsible to implement a certain functionality when they are used in code. Objects can also contain methods. Methods in objects are functions that belong to the object."
   ]
  },
  {
   "cell_type": "code",
   "execution_count": 50,
   "metadata": {},
   "outputs": [
    {
     "name": "stdout",
     "output_type": "stream",
     "text": [
      "Hello!, my name is John\n"
     ]
    }
   ],
   "source": [
    "class Person:\n",
    "    def __init__(self, name, age):\n",
    "        self.name = name\n",
    "        self.age = age\n",
    "\n",
    "    def introduce(self):\n",
    "        print(\"Hello!,z my name is \" + self.name)\n",
    "\n",
    "p1 = Person(\"John\", 36)\n",
    "p1.introduce()"
   ]
  },
  {
   "cell_type": "markdown",
   "metadata": {},
   "source": [
    "<h1 style = \"color : Blue\">iii. Adding a method to class</h1>\n",
    "\n",
    "- calculate_area() - retutns the product of attributes length and breadth   \n",
    "- self - identifies its association with the instance"
   ]
  },
  {
   "cell_type": "code",
   "execution_count": 45,
   "metadata": {},
   "outputs": [
    {
     "name": "stdout",
     "output_type": "stream",
     "text": [
      "Length =  10 \n",
      "Breadth =  5 \n",
      "Area =  50\n"
     ]
    }
   ],
   "source": [
    "class Rectangle :\n",
    "    def __init__(self, length, breadth):\n",
    "        self.length = length\n",
    "        self.breadth = breadth\n",
    "        \n",
    "    def calculate_area(self):\n",
    "        return self.length * self.breadth\n",
    "        \n",
    "rect = Rectangle(10, 5)\n",
    "print(\"Length = \",rect.length, \"\\nBreadth = \" ,rect.breadth, \"\\nArea = \", rect.calculate_area())"
   ]
  },
  {
   "cell_type": "markdown",
   "metadata": {},
   "source": [
    "<h2 style = \"color : Brown\"> Significance of self:</h2>\n",
    "\n",
    "- The attributes length and breadth are associated with an instance.\n",
    "- Self makes sure that each instance refers to its own copy of attributes"
   ]
  },
  {
   "cell_type": "code",
   "execution_count": 46,
   "metadata": {},
   "outputs": [
    {
     "name": "stdout",
     "output_type": "stream",
     "text": [
      "Length =  15 \n",
      "Breadth =  8 \n",
      "Area =  120\n"
     ]
    }
   ],
   "source": [
    "new_rect = Rectangle(15, 8)\n",
    "print(\"Length = \",new_rect.length, \"\\nBreadth = \" ,new_rect.breadth, \"\\nArea = \", new_rect.calculate_area())"
   ]
  },
  {
   "cell_type": "code",
   "execution_count": 47,
   "metadata": {},
   "outputs": [
    {
     "name": "stdout",
     "output_type": "stream",
     "text": [
      "Length =  10 \n",
      "Breadth =  5 \n",
      "Area =  50\n"
     ]
    }
   ],
   "source": [
    "print(\"Length = \",rect.length, \"\\nBreadth = \" ,rect.breadth, \"\\nArea = \", rect.calculate_area())"
   ]
  },
  {
   "cell_type": "markdown",
   "metadata": {},
   "source": [
    "### Method vs Functions\n",
    "\n",
    "- Python functions are called generically, methods are called on an object since we call a method on an object, it can access the data within it.\n",
    "\n",
    "- A 'Method' may alter an object’s state, but Python 'Function' usually only operates on it, and then returns a value."
   ]
  },
  {
   "cell_type": "markdown",
   "metadata": {},
   "source": [
    "<h1 style = \"color : Blue\">iv. Class Method and Static Method"
   ]
  },
  {
   "cell_type": "markdown",
   "metadata": {},
   "source": [
    "A class method is defined using a class method decorator (@classmethod) and takes a class parameter (cls) that has access to the state of the class. In other words, any change made using the class method would apply to all the instances of the class. "
   ]
  },
  {
   "cell_type": "code",
   "execution_count": 55,
   "metadata": {
    "scrolled": true
   },
   "outputs": [
    {
     "name": "stdout",
     "output_type": "stream",
     "text": [
      "15.700000000000001\n",
      "3.1436\n",
      "3.14\n",
      "This is circle's static method\n",
      "15.700000000000001\n"
     ]
    }
   ],
   "source": [
    "class Circle :\n",
    "    pi = 3.14\n",
    "    def __init__(self, radius):\n",
    "        self.radius = radius\n",
    "        \n",
    "    # Instance Method   \n",
    "    def calculate_area(self):\n",
    "        return Circle.pi * self.radius\n",
    "    \n",
    "    # Class Method - I cannot access - radius\n",
    "    # cannot access instance variables\n",
    "    @classmethod\n",
    "    def update_pi(cls):\n",
    "        pi = 3.1436\n",
    "        return pi\n",
    "        \n",
    "    # Static Method -  I cannot access - pi and radius - Class and instance variables\n",
    "    # cannot access Class and instance variables\n",
    "    @staticmethod\n",
    "    def circle_static_method():\n",
    "        print(\"This is circle's static method\")\n",
    "        \n",
    "cir = Circle(5)\n",
    "\n",
    "# Calling methods \n",
    "print(cir.calculate_area())\n",
    "print(Circle.update_pi())\n",
    "print(Circle.pi)\n",
    "Circle.circle_static_method()\n",
    "print(cir.calculate_area())"
   ]
  },
  {
   "cell_type": "code",
   "execution_count": 58,
   "metadata": {},
   "outputs": [
    {
     "name": "stdout",
     "output_type": "stream",
     "text": [
      "10 3 4\n",
      "10 30 40\n"
     ]
    }
   ],
   "source": [
    "class A :\n",
    "    x = 10\n",
    "    def __init__(self, y,z):\n",
    "        self.y = y\n",
    "        self.z = z\n",
    "           \n",
    "    def update_y(self):\n",
    "        self.y = self.y * self.x\n",
    "        self.z = self.z * self.x\n",
    "        \n",
    "A1 = A(3,4)\n",
    "print(A1.x, A1.y, A1.z)\n",
    "\n",
    "A1.update_y()\n",
    "print(A1.x, A1.y, A1.z)"
   ]
  },
  {
   "cell_type": "code",
   "execution_count": null,
   "metadata": {},
   "outputs": [],
   "source": [
    "class A :\n",
    "    x = 10\n",
    "    def __init__(self, y,z):\n",
    "        self.y = y\n",
    "        self.z = z\n",
    "           \n",
    "    def update_y(self):\n",
    "        self.y = self.y * self.x\n",
    "   \n",
    "    # cannot access instance variables\n",
    "    # update_z() would cause an error\n",
    "    @classmethod\n",
    "    def update_z(cls):\n",
    "        self.z = self.z + 20\n",
    "\n",
    "        \n",
    "A1 = A(3,4)\n",
    "A2 = A(5,6)\n",
    "\n",
    "A2.update_z()\n",
    "A1.y + A2.z"
   ]
  },
  {
   "cell_type": "markdown",
   "metadata": {},
   "source": [
    "Self keyword binds the attributes to the values of an instance but since here you are not authorised to handle instance variables it would return an error saying self is not defined"
   ]
  },
  {
   "cell_type": "code",
   "execution_count": 59,
   "metadata": {},
   "outputs": [
    {
     "data": {
      "text/plain": [
       "33"
      ]
     },
     "execution_count": 59,
     "metadata": {},
     "output_type": "execute_result"
    }
   ],
   "source": [
    "class A :\n",
    "    x = 10\n",
    "    def __init__(self, y,z):\n",
    "        self.y = y\n",
    "        self.z = z\n",
    "           \n",
    "    def update_y(self):\n",
    "        self.y = self.y * self.z\n",
    "\n",
    "        \n",
    "        \n",
    "A1 = A(3,4)\n",
    "A2 = A(5,6)\n",
    "\n",
    "A.x = 30\n",
    "A1.y + A2.x"
   ]
  },
  {
   "cell_type": "markdown",
   "metadata": {},
   "source": [
    "### Difference between static, class and instance methods"
   ]
  },
  {
   "cell_type": "code",
   "execution_count": 63,
   "metadata": {},
   "outputs": [],
   "source": [
    "class A :\n",
    "    def instancemethod(self):\n",
    "        return 'instance method called', self\n",
    "           \n",
    "    @classmethod\n",
    "    def classmethod(cls):\n",
    "        return 'class method called', cls\n",
    "    \n",
    "    @staticmethod\n",
    "    def staticmethod():\n",
    "        return 'static method called'\n",
    "        "
   ]
  },
  {
   "cell_type": "markdown",
   "metadata": {},
   "source": [
    "### Instance method\n",
    "- Can modify object instance state\n",
    "- Can modify class state"
   ]
  },
  {
   "cell_type": "markdown",
   "metadata": {},
   "source": [
    "### Class method\n",
    "- Cannot modify object instance state\n",
    "- Can modify class state"
   ]
  },
  {
   "cell_type": "markdown",
   "metadata": {},
   "source": [
    "### Static method\n",
    "- Cannot modify object instance state\n",
    "- Cannot modify class state"
   ]
  },
  {
   "cell_type": "code",
   "execution_count": 66,
   "metadata": {},
   "outputs": [
    {
     "data": {
      "text/plain": [
       "('instance method called', <__main__.A at 0x1f8955a5910>)"
      ]
     },
     "execution_count": 66,
     "metadata": {},
     "output_type": "execute_result"
    }
   ],
   "source": [
    "A1 = A()\n",
    "A1.instancemethod()"
   ]
  },
  {
   "cell_type": "code",
   "execution_count": 67,
   "metadata": {},
   "outputs": [
    {
     "data": {
      "text/plain": [
       "('class method called', __main__.A)"
      ]
     },
     "execution_count": 67,
     "metadata": {},
     "output_type": "execute_result"
    }
   ],
   "source": [
    "A1.classmethod()"
   ]
  },
  {
   "cell_type": "code",
   "execution_count": 68,
   "metadata": {},
   "outputs": [
    {
     "data": {
      "text/plain": [
       "'static method called'"
      ]
     },
     "execution_count": 68,
     "metadata": {},
     "output_type": "execute_result"
    }
   ],
   "source": [
    "A1.staticmethod()"
   ]
  },
  {
   "cell_type": "code",
   "execution_count": 69,
   "metadata": {},
   "outputs": [
    {
     "data": {
      "text/plain": [
       "('class method called', __main__.A)"
      ]
     },
     "execution_count": 69,
     "metadata": {},
     "output_type": "execute_result"
    }
   ],
   "source": [
    "A.classmethod()"
   ]
  },
  {
   "cell_type": "code",
   "execution_count": 70,
   "metadata": {},
   "outputs": [
    {
     "data": {
      "text/plain": [
       "'static method called'"
      ]
     },
     "execution_count": 70,
     "metadata": {},
     "output_type": "execute_result"
    }
   ],
   "source": [
    "A.staticmethod()"
   ]
  },
  {
   "cell_type": "code",
   "execution_count": 75,
   "metadata": {},
   "outputs": [],
   "source": [
    "class Pizza:\n",
    "    def __init__(self, ingredients):\n",
    "        self.ingredients = ingredients\n",
    "    \n",
    "    def __repr__(self):\n",
    "        return f'Pizza({self.ingredients})'\n"
   ]
  },
  {
   "cell_type": "code",
   "execution_count": 76,
   "metadata": {},
   "outputs": [
    {
     "data": {
      "text/plain": [
       "Pizza(['Cheese', 'tomatoes', 'ham'])"
      ]
     },
     "execution_count": 76,
     "metadata": {},
     "output_type": "execute_result"
    }
   ],
   "source": [
    "Pizza(['Cheese','tomatoes','ham'])"
   ]
  },
  {
   "cell_type": "code",
   "execution_count": 78,
   "metadata": {},
   "outputs": [],
   "source": [
    "class Pizza:\n",
    "    def __init__(self, ingredients):\n",
    "        self.ingredients = ingredients\n",
    "    \n",
    "    def __repr__(self):\n",
    "        return f'Pizza({self.ingredients})'\n",
    "    \n",
    "    @classmethod\n",
    "    def margherita(cls):\n",
    "        return cls(['Cheese','tomatoes'])\n",
    "    \n",
    "    @classmethod\n",
    "    def vegetarian(cls):\n",
    "        return cls(['Cheese','tomatoes','onion','capsicum'])"
   ]
  },
  {
   "cell_type": "code",
   "execution_count": 79,
   "metadata": {},
   "outputs": [
    {
     "data": {
      "text/plain": [
       "Pizza(['Cheese', 'tomatoes'])"
      ]
     },
     "execution_count": 79,
     "metadata": {},
     "output_type": "execute_result"
    }
   ],
   "source": [
    "Pizza.margherita()"
   ]
  },
  {
   "cell_type": "code",
   "execution_count": 81,
   "metadata": {},
   "outputs": [
    {
     "data": {
      "text/plain": [
       "Pizza(['Cheese', 'tomatoes', 'onion', 'capsicum'])"
      ]
     },
     "execution_count": 81,
     "metadata": {},
     "output_type": "execute_result"
    }
   ],
   "source": [
    "Pizza.vegetarian()"
   ]
  },
  {
   "cell_type": "code",
   "execution_count": 95,
   "metadata": {},
   "outputs": [],
   "source": [
    "import math"
   ]
  },
  {
   "cell_type": "code",
   "execution_count": 96,
   "metadata": {},
   "outputs": [],
   "source": [
    "class Pizza:\n",
    "    def __init__(self, radius, ingredients):\n",
    "        self.ingredients = ingredients\n",
    "        self.radius = radius\n",
    "    \n",
    "    def __repr__(self):\n",
    "        return f'Pizza({self.ingredients})'\n",
    "    \n",
    "    def area(self):\n",
    "        return self.circle_area(self.radius)\n",
    "    \n",
    "    @staticmethod\n",
    "    def circle_area(r):\n",
    "        return r**2 * math.pi"
   ]
  },
  {
   "cell_type": "code",
   "execution_count": 97,
   "metadata": {},
   "outputs": [],
   "source": [
    "p1 = Pizza(5,['Cheese'])"
   ]
  },
  {
   "cell_type": "code",
   "execution_count": 98,
   "metadata": {},
   "outputs": [
    {
     "data": {
      "text/plain": [
       "78.53981633974483"
      ]
     },
     "execution_count": 98,
     "metadata": {},
     "output_type": "execute_result"
    }
   ],
   "source": [
    "Pizza(5,['Cheese']).area()"
   ]
  },
  {
   "cell_type": "code",
   "execution_count": 100,
   "metadata": {},
   "outputs": [
    {
     "data": {
      "text/plain": [
       "314.1592653589793"
      ]
     },
     "execution_count": 100,
     "metadata": {},
     "output_type": "execute_result"
    }
   ],
   "source": [
    "# circle_area can be called without creation of an object\n",
    "\n",
    "Pizza.circle_area(10)"
   ]
  },
  {
   "cell_type": "markdown",
   "metadata": {},
   "source": [
    "Inheritance helps in the code reusability. Just like a child inherits their parents' qualities, the class that inherits properties is known as a child class, and the class from which it inherits the properties is called the parent class. "
   ]
  },
  {
   "cell_type": "markdown",
   "metadata": {},
   "source": [
    "- Parent class is the class being inherited from, also called base class.\n",
    "- Child class is the class that inherits from another class, also called derived class."
   ]
  },
  {
   "cell_type": "markdown",
   "metadata": {},
   "source": [
    "<h1 style = \"color : Blue\">v. Inheritance and Overriding"
   ]
  },
  {
   "cell_type": "code",
   "execution_count": 101,
   "metadata": {},
   "outputs": [],
   "source": [
    "class Shape :\n",
    "    \n",
    "    \n",
    "    def set_color(self, color):\n",
    "        self.color = color\n",
    "        \n",
    "    def calculate_area(self):\n",
    "        pass\n",
    "        \n",
    "    def color_the_shape(self):\n",
    "        color_price = {\"red\" : 10, \"blue\" : 15, \"green\" : 5}\n",
    "        return self.calculate_area() * color_price[self.color]"
   ]
  },
  {
   "cell_type": "code",
   "execution_count": 103,
   "metadata": {},
   "outputs": [],
   "source": [
    "class Circle(Shape) :\n",
    "    pi = 3.14\n",
    "    def __init__(self, radius):\n",
    "        self.radius = radius\n",
    "        \n",
    "    # overriding\n",
    "    def calculate_area(self):\n",
    "        return Circle.pi * self.radius**2"
   ]
  },
  {
   "cell_type": "code",
   "execution_count": 105,
   "metadata": {},
   "outputs": [
    {
     "name": "stdout",
     "output_type": "stream",
     "text": [
      "Circle with radius = 5 when colored red costs $ 785.0\n"
     ]
    }
   ],
   "source": [
    "c = Circle(5)\n",
    "c.set_color(\"red\")\n",
    "print(\"Circle with radius =\",c.radius ,\"when colored\", c.color,\"costs $\",c.color_the_shape())"
   ]
  },
  {
   "cell_type": "code",
   "execution_count": 106,
   "metadata": {},
   "outputs": [],
   "source": [
    "class Rectangle(Shape) :\n",
    "    def __init__(self, length, breadth):\n",
    "        self.length = length\n",
    "        self.breadth = breadth\n",
    "        \n",
    "     # Overriding user defined method   \n",
    "    def calculate_area(self):\n",
    "        return self.length * self.breadth\n",
    "    \n",
    "    # Overriding python default method\n",
    "    def __str__(self):\n",
    "        return \"area of rectangle = \" + str(self.calculate_area())"
   ]
  },
  {
   "cell_type": "code",
   "execution_count": 107,
   "metadata": {},
   "outputs": [
    {
     "name": "stdout",
     "output_type": "stream",
     "text": [
      "Rectangle with length = 5  and breadth =  10 when colored blue costs $ 750\n"
     ]
    }
   ],
   "source": [
    "r = Rectangle(5, 10)\n",
    "r.set_color(\"blue\")\n",
    "print(\"Rectangle with length =\",r.length ,\" and breadth = \",r.breadth ,\"when colored\", r.color,\"costs $\",r.color_the_shape())"
   ]
  },
  {
   "cell_type": "code",
   "execution_count": 31,
   "metadata": {},
   "outputs": [
    {
     "name": "stdout",
     "output_type": "stream",
     "text": [
      "area of rectangle = 50\n"
     ]
    }
   ],
   "source": [
    "print(r)"
   ]
  },
  {
   "cell_type": "code",
   "execution_count": 108,
   "metadata": {},
   "outputs": [
    {
     "name": "stdout",
     "output_type": "stream",
     "text": [
      "1 2\n"
     ]
    }
   ],
   "source": [
    "class A:\n",
    "    def __init__(self, x=1):\n",
    "        self.x = x\n",
    "class B(A):\n",
    "    def __init__(self,y =2):\n",
    "        super().__init__()\n",
    "        self.y = y\n",
    "\n",
    "def main():\n",
    "    b = B()\n",
    "    print(b.x,b.y)\n",
    "main()"
   ]
  },
  {
   "cell_type": "markdown",
   "metadata": {},
   "source": [
    "The super function plays an important role in accessing the properties of the base class or parent class. In the example shown above, using the super() function in class B assigns property x as an instance to B as well."
   ]
  },
  {
   "cell_type": "code",
   "execution_count": 7,
   "metadata": {},
   "outputs": [],
   "source": [
    "class A:\n",
    "    def __init__(self, name = 'Rahul'):\n",
    "        self.name = name\n",
    "class B(A):\n",
    "    def __init__(self, name, roll):\n",
    "        self.roll = roll\n",
    "        A.__init__(self, name)"
   ]
  },
  {
   "cell_type": "code",
   "execution_count": 8,
   "metadata": {},
   "outputs": [
    {
     "name": "stdout",
     "output_type": "stream",
     "text": [
      "Sam\n"
     ]
    }
   ],
   "source": [
    "p1 = B('Sam', 23)\n",
    "print (p1.name)"
   ]
  },
  {
   "cell_type": "code",
   "execution_count": 11,
   "metadata": {},
   "outputs": [
    {
     "name": "stdout",
     "output_type": "stream",
     "text": [
      "Rahul\n"
     ]
    }
   ],
   "source": [
    "p2 = A()\n",
    "print (p2.name)"
   ]
  },
  {
   "cell_type": "code",
   "execution_count": 12,
   "metadata": {},
   "outputs": [
    {
     "name": "stdout",
     "output_type": "stream",
     "text": [
      "45\n",
      "46\n"
     ]
    }
   ],
   "source": [
    "# Overwriting\n",
    "\n",
    "def f(x):\n",
    "    return x + 42\n",
    "print(f(3))\n",
    "\n",
    "# f will be overwritten (or redefined) in the following:\n",
    "def f(x):\n",
    "    return x + 43\n",
    "print(f(3))"
   ]
  },
  {
   "cell_type": "code",
   "execution_count": 14,
   "metadata": {},
   "outputs": [
    {
     "name": "stdout",
     "output_type": "stream",
     "text": [
      "49\n"
     ]
    }
   ],
   "source": [
    "# Overloading\n",
    "\n",
    "def f(n):\n",
    "    return n + 42\n",
    "\n",
    "def f(n,m):\n",
    "    return n + m + 42\n",
    "print(f(3, 4))"
   ]
  },
  {
   "cell_type": "code",
   "execution_count": 15,
   "metadata": {},
   "outputs": [
    {
     "name": "stdout",
     "output_type": "stream",
     "text": [
      "45 4 50\n"
     ]
    }
   ],
   "source": [
    "# Overriding\n",
    "\n",
    "def f(*x):\n",
    "    if len(x) == 1:\n",
    "        return x[0] + 42\n",
    "    elif len(x) == 2:\n",
    "        return x[0] - x[1] + 5\n",
    "    else:\n",
    "        return 2 * x[0] + x[1] + 42\n",
    "print(f(3), f(1, 2), f(3, 2, 1))"
   ]
  }
 ],
 "metadata": {
  "kernelspec": {
   "display_name": "Python 3 (ipykernel)",
   "language": "python",
   "name": "python3"
  },
  "language_info": {
   "codemirror_mode": {
    "name": "ipython",
    "version": 3
   },
   "file_extension": ".py",
   "mimetype": "text/x-python",
   "name": "python",
   "nbconvert_exporter": "python",
   "pygments_lexer": "ipython3",
   "version": "3.9.7"
  }
 },
 "nbformat": 4,
 "nbformat_minor": 2
}
