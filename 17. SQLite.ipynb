{
 "cells": [
  {
   "cell_type": "markdown",
   "id": "df219099",
   "metadata": {},
   "source": [
    "# Introduction to SQLite"
   ]
  },
  {
   "cell_type": "code",
   "execution_count": 1,
   "id": "3b44f43a",
   "metadata": {},
   "outputs": [],
   "source": [
    "import sqlite3"
   ]
  },
  {
   "cell_type": "code",
   "execution_count": 4,
   "id": "8dbe0b26",
   "metadata": {},
   "outputs": [],
   "source": [
    "# create a connection -> database\n",
    "# connect to an exixting DB or create a new DB\n",
    "\n",
    "conn = sqlite3.connect(\"example.db\")"
   ]
  },
  {
   "cell_type": "code",
   "execution_count": 5,
   "id": "e0e83989",
   "metadata": {},
   "outputs": [],
   "source": [
    "# create a cursor\n",
    "# it allows us to run queries on the database\n",
    "\n",
    "cur = conn.cursor()"
   ]
  },
  {
   "cell_type": "code",
   "execution_count": 6,
   "id": "f62b667a",
   "metadata": {},
   "outputs": [
    {
     "data": {
      "text/plain": [
       "<sqlite3.Cursor at 0x208dcbed180>"
      ]
     },
     "execution_count": 6,
     "metadata": {},
     "output_type": "execute_result"
    }
   ],
   "source": [
    "# create a table\n",
    "\n",
    "cur.execute(\" CREATE TABLE customer(firstname TEXT, lastname TEXT, income REAL)\")"
   ]
  },
  {
   "cell_type": "code",
   "execution_count": 8,
   "id": "6a464ade",
   "metadata": {},
   "outputs": [
    {
     "data": {
      "text/plain": [
       "<sqlite3.Cursor at 0x208dcbed180>"
      ]
     },
     "execution_count": 8,
     "metadata": {},
     "output_type": "execute_result"
    }
   ],
   "source": [
    "# Add data\n",
    "# Strings in single quote\n",
    "\n",
    "cur.execute(\"Insert into customer values('AB', 'xy', 12)\")"
   ]
  },
  {
   "cell_type": "code",
   "execution_count": 9,
   "id": "182e37b1",
   "metadata": {},
   "outputs": [],
   "source": [
    "# to save results\n",
    "conn.commit()"
   ]
  },
  {
   "cell_type": "code",
   "execution_count": 15,
   "id": "a2f8144e",
   "metadata": {},
   "outputs": [
    {
     "data": {
      "text/plain": [
       "('AB', 'xy', 12.0)"
      ]
     },
     "execution_count": 15,
     "metadata": {},
     "output_type": "execute_result"
    }
   ],
   "source": [
    "# Run a simple query\n",
    "\n",
    "cur.execute(\"SELECT * from customer\")\n",
    "\n",
    "# Fetch one roq\n",
    "cur.fetchone()"
   ]
  },
  {
   "cell_type": "code",
   "execution_count": 16,
   "id": "d72d809a",
   "metadata": {},
   "outputs": [
    {
     "name": "stdout",
     "output_type": "stream",
     "text": [
      "('AB', 'xy', 12.0)\n"
     ]
    }
   ],
   "source": [
    "for row in cur.execute(\"SELECT * from customer\"):\n",
    "    print(row)"
   ]
  },
  {
   "cell_type": "code",
   "execution_count": 17,
   "id": "1503b260",
   "metadata": {},
   "outputs": [
    {
     "data": {
      "text/plain": [
       "<sqlite3.Cursor at 0x208dcbed180>"
      ]
     },
     "execution_count": 17,
     "metadata": {},
     "output_type": "execute_result"
    }
   ],
   "source": [
    "# Add several rows\n",
    "\n",
    "cust_list = [('QW','WE',123),('DF','RT',68),('KJ', 'HJ', 67)]\n",
    "\n",
    "cur.executemany(\"insert into customer values(?,?,?)\", cust_list)"
   ]
  },
  {
   "cell_type": "code",
   "execution_count": 18,
   "id": "71d4d5a9",
   "metadata": {},
   "outputs": [
    {
     "name": "stdout",
     "output_type": "stream",
     "text": [
      "('AB', 'xy', 12.0)\n",
      "('QW', 'WE', 123.0)\n",
      "('DF', 'RT', 68.0)\n",
      "('KJ', 'HJ', 67.0)\n"
     ]
    }
   ],
   "source": [
    "for row in cur.execute(\"SELECT * from customer\"):\n",
    "    print(row)"
   ]
  },
  {
   "cell_type": "code",
   "execution_count": 20,
   "id": "882bc44e",
   "metadata": {},
   "outputs": [],
   "source": [
    "# to save results to the database\n",
    "conn.commit()"
   ]
  },
  {
   "cell_type": "code",
   "execution_count": 21,
   "id": "4c5274f9",
   "metadata": {},
   "outputs": [],
   "source": [
    "# close the connection\n",
    "\n",
    "conn.close()"
   ]
  },
  {
   "cell_type": "markdown",
   "id": "06a6100c",
   "metadata": {},
   "source": [
    "# Run queries"
   ]
  },
  {
   "cell_type": "code",
   "execution_count": 22,
   "id": "4b22769c",
   "metadata": {},
   "outputs": [],
   "source": [
    "conn = sqlite3.connect(\"example.db\")\n",
    "cur = conn.cursor()"
   ]
  },
  {
   "cell_type": "code",
   "execution_count": 26,
   "id": "7cf1e691",
   "metadata": {},
   "outputs": [
    {
     "data": {
      "text/plain": [
       "[('AB', 'xy', 12.0)]"
      ]
     },
     "execution_count": 26,
     "metadata": {},
     "output_type": "execute_result"
    }
   ],
   "source": [
    "cur.execute(\"select * from customer where firstname ='AB'\")\n",
    "cur.fetchall()"
   ]
  },
  {
   "cell_type": "code",
   "execution_count": 27,
   "id": "cdd16afc",
   "metadata": {},
   "outputs": [
    {
     "data": {
      "text/plain": [
       "[('QW', 'WE', 123.0)]"
      ]
     },
     "execution_count": 27,
     "metadata": {},
     "output_type": "execute_result"
    }
   ],
   "source": [
    "cur.execute(\"select * from customer where lastname ='WE'\")\n",
    "cur.fetchall()"
   ]
  },
  {
   "cell_type": "code",
   "execution_count": 28,
   "id": "8d16e35a",
   "metadata": {},
   "outputs": [
    {
     "data": {
      "text/plain": [
       "[]"
      ]
     },
     "execution_count": 28,
     "metadata": {},
     "output_type": "execute_result"
    }
   ],
   "source": [
    "# Empty list -> no results\n",
    "\n",
    "cur.execute(\"select * from customer where lastname ='r'\")\n",
    "cur.fetchall()"
   ]
  },
  {
   "cell_type": "code",
   "execution_count": 30,
   "id": "13bf21d3",
   "metadata": {},
   "outputs": [
    {
     "data": {
      "text/plain": [
       "[('KJ', 'HJ', 67.0),\n",
       " ('DF', 'RT', 68.0),\n",
       " ('QW', 'WE', 123.0),\n",
       " ('AB', 'xy', 12.0)]"
      ]
     },
     "execution_count": 30,
     "metadata": {},
     "output_type": "execute_result"
    }
   ],
   "source": [
    "cur.execute(\"select * from customer order by lastname\")\n",
    "cur.fetchall()"
   ]
  },
  {
   "cell_type": "code",
   "execution_count": 36,
   "id": "b3730b3f",
   "metadata": {},
   "outputs": [
    {
     "data": {
      "text/plain": [
       "[(270.0,)]"
      ]
     },
     "execution_count": 36,
     "metadata": {},
     "output_type": "execute_result"
    }
   ],
   "source": [
    "cur.execute(\"select sum(income) from customer\")\n",
    "cur.fetchall()"
   ]
  },
  {
   "cell_type": "code",
   "execution_count": 37,
   "id": "e2cd8c55",
   "metadata": {},
   "outputs": [
    {
     "data": {
      "text/plain": [
       "(270.0,)"
      ]
     },
     "execution_count": 37,
     "metadata": {},
     "output_type": "execute_result"
    }
   ],
   "source": [
    "cur.execute(\"select sum(income) from customer\")\n",
    "cur.fetchone()"
   ]
  },
  {
   "cell_type": "code",
   "execution_count": null,
   "id": "cb4b07c2",
   "metadata": {},
   "outputs": [],
   "source": [
    "conn.close()"
   ]
  },
  {
   "cell_type": "markdown",
   "id": "8c9453e5",
   "metadata": {},
   "source": [
    "# Pandas With SQLite"
   ]
  },
  {
   "cell_type": "code",
   "execution_count": null,
   "id": "a02284b0",
   "metadata": {},
   "outputs": [],
   "source": [
    "# Pandas -> panel data"
   ]
  },
  {
   "cell_type": "code",
   "execution_count": 39,
   "id": "724c49a8",
   "metadata": {},
   "outputs": [],
   "source": [
    "import pandas as pd\n",
    "import sqlite3\n",
    "\n",
    "import warnings\n",
    "warnings.filterwarnings(\"ignore\")"
   ]
  },
  {
   "cell_type": "code",
   "execution_count": 40,
   "id": "11b778a3",
   "metadata": {},
   "outputs": [],
   "source": [
    "conn = sqlite3.connect(\"example.db\")\n",
    "\n",
    "cur = conn.cursor()"
   ]
  },
  {
   "cell_type": "code",
   "execution_count": 41,
   "id": "f6cdc9bb",
   "metadata": {},
   "outputs": [
    {
     "data": {
      "text/plain": [
       "[('AB', 'xy', 12.0),\n",
       " ('QW', 'WE', 123.0),\n",
       " ('DF', 'RT', 68.0),\n",
       " ('KJ', 'HJ', 67.0)]"
      ]
     },
     "execution_count": 41,
     "metadata": {},
     "output_type": "execute_result"
    }
   ],
   "source": [
    "cur.execute(\"select * from customer\")\n",
    "cur.fetchall()"
   ]
  },
  {
   "cell_type": "markdown",
   "id": "135cd678",
   "metadata": {},
   "source": [
    "# Creation of a dataframe"
   ]
  },
  {
   "cell_type": "code",
   "execution_count": 43,
   "id": "d8086545",
   "metadata": {},
   "outputs": [],
   "source": [
    "# output of an SQL query in the form of a dataframe\n",
    "\n",
    "df = pd.read_sql(\"Select * from customer\", conn)"
   ]
  },
  {
   "cell_type": "code",
   "execution_count": 44,
   "id": "73d727c5",
   "metadata": {},
   "outputs": [
    {
     "data": {
      "text/html": [
       "<div>\n",
       "<style scoped>\n",
       "    .dataframe tbody tr th:only-of-type {\n",
       "        vertical-align: middle;\n",
       "    }\n",
       "\n",
       "    .dataframe tbody tr th {\n",
       "        vertical-align: top;\n",
       "    }\n",
       "\n",
       "    .dataframe thead th {\n",
       "        text-align: right;\n",
       "    }\n",
       "</style>\n",
       "<table border=\"1\" class=\"dataframe\">\n",
       "  <thead>\n",
       "    <tr style=\"text-align: right;\">\n",
       "      <th></th>\n",
       "      <th>firstname</th>\n",
       "      <th>lastname</th>\n",
       "      <th>income</th>\n",
       "    </tr>\n",
       "  </thead>\n",
       "  <tbody>\n",
       "    <tr>\n",
       "      <th>0</th>\n",
       "      <td>AB</td>\n",
       "      <td>xy</td>\n",
       "      <td>12.0</td>\n",
       "    </tr>\n",
       "    <tr>\n",
       "      <th>1</th>\n",
       "      <td>QW</td>\n",
       "      <td>WE</td>\n",
       "      <td>123.0</td>\n",
       "    </tr>\n",
       "    <tr>\n",
       "      <th>2</th>\n",
       "      <td>DF</td>\n",
       "      <td>RT</td>\n",
       "      <td>68.0</td>\n",
       "    </tr>\n",
       "    <tr>\n",
       "      <th>3</th>\n",
       "      <td>KJ</td>\n",
       "      <td>HJ</td>\n",
       "      <td>67.0</td>\n",
       "    </tr>\n",
       "  </tbody>\n",
       "</table>\n",
       "</div>"
      ],
      "text/plain": [
       "  firstname lastname  income\n",
       "0        AB       xy    12.0\n",
       "1        QW       WE   123.0\n",
       "2        DF       RT    68.0\n",
       "3        KJ       HJ    67.0"
      ]
     },
     "execution_count": 44,
     "metadata": {},
     "output_type": "execute_result"
    }
   ],
   "source": [
    "df.head()"
   ]
  },
  {
   "cell_type": "code",
   "execution_count": 45,
   "id": "fc81f947",
   "metadata": {},
   "outputs": [
    {
     "data": {
      "text/html": [
       "<div>\n",
       "<style scoped>\n",
       "    .dataframe tbody tr th:only-of-type {\n",
       "        vertical-align: middle;\n",
       "    }\n",
       "\n",
       "    .dataframe tbody tr th {\n",
       "        vertical-align: top;\n",
       "    }\n",
       "\n",
       "    .dataframe thead th {\n",
       "        text-align: right;\n",
       "    }\n",
       "</style>\n",
       "<table border=\"1\" class=\"dataframe\">\n",
       "  <thead>\n",
       "    <tr style=\"text-align: right;\">\n",
       "      <th></th>\n",
       "      <th>firstname</th>\n",
       "      <th>lastname</th>\n",
       "      <th>income</th>\n",
       "    </tr>\n",
       "  </thead>\n",
       "  <tbody>\n",
       "    <tr>\n",
       "      <th>0</th>\n",
       "      <td>AB</td>\n",
       "      <td>xy</td>\n",
       "      <td>12.0</td>\n",
       "    </tr>\n",
       "    <tr>\n",
       "      <th>1</th>\n",
       "      <td>QW</td>\n",
       "      <td>WE</td>\n",
       "      <td>123.0</td>\n",
       "    </tr>\n",
       "    <tr>\n",
       "      <th>2</th>\n",
       "      <td>DF</td>\n",
       "      <td>RT</td>\n",
       "      <td>68.0</td>\n",
       "    </tr>\n",
       "    <tr>\n",
       "      <th>3</th>\n",
       "      <td>KJ</td>\n",
       "      <td>HJ</td>\n",
       "      <td>67.0</td>\n",
       "    </tr>\n",
       "  </tbody>\n",
       "</table>\n",
       "</div>"
      ],
      "text/plain": [
       "  firstname lastname  income\n",
       "0        AB       xy    12.0\n",
       "1        QW       WE   123.0\n",
       "2        DF       RT    68.0\n",
       "3        KJ       HJ    67.0"
      ]
     },
     "execution_count": 45,
     "metadata": {},
     "output_type": "execute_result"
    }
   ],
   "source": [
    "df = pd.read_sql_query(\"Select * from customer\", conn)\n",
    "df"
   ]
  },
  {
   "cell_type": "code",
   "execution_count": 47,
   "id": "2fa4d79a",
   "metadata": {},
   "outputs": [
    {
     "data": {
      "text/html": [
       "<div>\n",
       "<style scoped>\n",
       "    .dataframe tbody tr th:only-of-type {\n",
       "        vertical-align: middle;\n",
       "    }\n",
       "\n",
       "    .dataframe tbody tr th {\n",
       "        vertical-align: top;\n",
       "    }\n",
       "\n",
       "    .dataframe thead th {\n",
       "        text-align: right;\n",
       "    }\n",
       "</style>\n",
       "<table border=\"1\" class=\"dataframe\">\n",
       "  <thead>\n",
       "    <tr style=\"text-align: right;\">\n",
       "      <th></th>\n",
       "      <th>firstname</th>\n",
       "      <th>lastname</th>\n",
       "      <th>income</th>\n",
       "    </tr>\n",
       "  </thead>\n",
       "  <tbody>\n",
       "    <tr>\n",
       "      <th>0</th>\n",
       "      <td>AB</td>\n",
       "      <td>xy</td>\n",
       "      <td>12.0</td>\n",
       "    </tr>\n",
       "    <tr>\n",
       "      <th>1</th>\n",
       "      <td>DF</td>\n",
       "      <td>RT</td>\n",
       "      <td>68.0</td>\n",
       "    </tr>\n",
       "    <tr>\n",
       "      <th>2</th>\n",
       "      <td>KJ</td>\n",
       "      <td>HJ</td>\n",
       "      <td>67.0</td>\n",
       "    </tr>\n",
       "    <tr>\n",
       "      <th>3</th>\n",
       "      <td>QW</td>\n",
       "      <td>WE</td>\n",
       "      <td>123.0</td>\n",
       "    </tr>\n",
       "  </tbody>\n",
       "</table>\n",
       "</div>"
      ],
      "text/plain": [
       "  firstname lastname  income\n",
       "0        AB       xy    12.0\n",
       "1        DF       RT    68.0\n",
       "2        KJ       HJ    67.0\n",
       "3        QW       WE   123.0"
      ]
     },
     "execution_count": 47,
     "metadata": {},
     "output_type": "execute_result"
    }
   ],
   "source": [
    "df = pd.read_sql_query(\"Select * from customer order by firstname\", conn)\n",
    "df"
   ]
  },
  {
   "cell_type": "markdown",
   "id": "98623a40",
   "metadata": {},
   "source": [
    "# Create a table in SQLite from a CSV file using Pandas"
   ]
  },
  {
   "cell_type": "code",
   "execution_count": 51,
   "id": "7377668f",
   "metadata": {},
   "outputs": [],
   "source": [
    "df = pd.read_csv(\"sample.csv\")"
   ]
  },
  {
   "cell_type": "code",
   "execution_count": 52,
   "id": "771360a5",
   "metadata": {},
   "outputs": [
    {
     "data": {
      "text/html": [
       "<div>\n",
       "<style scoped>\n",
       "    .dataframe tbody tr th:only-of-type {\n",
       "        vertical-align: middle;\n",
       "    }\n",
       "\n",
       "    .dataframe tbody tr th {\n",
       "        vertical-align: top;\n",
       "    }\n",
       "\n",
       "    .dataframe thead th {\n",
       "        text-align: right;\n",
       "    }\n",
       "</style>\n",
       "<table border=\"1\" class=\"dataframe\">\n",
       "  <thead>\n",
       "    <tr style=\"text-align: right;\">\n",
       "      <th></th>\n",
       "      <th>Name</th>\n",
       "      <th>Age</th>\n",
       "    </tr>\n",
       "  </thead>\n",
       "  <tbody>\n",
       "    <tr>\n",
       "      <th>0</th>\n",
       "      <td>Favio</td>\n",
       "      <td>31</td>\n",
       "    </tr>\n",
       "    <tr>\n",
       "      <th>1</th>\n",
       "      <td>Marco</td>\n",
       "      <td>25</td>\n",
       "    </tr>\n",
       "    <tr>\n",
       "      <th>2</th>\n",
       "      <td>Sri</td>\n",
       "      <td>60</td>\n",
       "    </tr>\n",
       "    <tr>\n",
       "      <th>3</th>\n",
       "      <td>Anu</td>\n",
       "      <td>58</td>\n",
       "    </tr>\n",
       "    <tr>\n",
       "      <th>4</th>\n",
       "      <td>Sandeep</td>\n",
       "      <td>28</td>\n",
       "    </tr>\n",
       "  </tbody>\n",
       "</table>\n",
       "</div>"
      ],
      "text/plain": [
       "      Name  Age\n",
       "0    Favio   31\n",
       "1    Marco   25\n",
       "2      Sri   60\n",
       "3      Anu   58\n",
       "4  Sandeep   28"
      ]
     },
     "execution_count": 52,
     "metadata": {},
     "output_type": "execute_result"
    }
   ],
   "source": [
    "df.head()"
   ]
  },
  {
   "cell_type": "code",
   "execution_count": 53,
   "id": "7c15f60f",
   "metadata": {},
   "outputs": [],
   "source": [
    "df.to_sql(\"sample_table\", conn, if_exists=\"replace\", index=False)"
   ]
  },
  {
   "cell_type": "code",
   "execution_count": 56,
   "id": "373e2064",
   "metadata": {},
   "outputs": [
    {
     "data": {
      "text/html": [
       "<div>\n",
       "<style scoped>\n",
       "    .dataframe tbody tr th:only-of-type {\n",
       "        vertical-align: middle;\n",
       "    }\n",
       "\n",
       "    .dataframe tbody tr th {\n",
       "        vertical-align: top;\n",
       "    }\n",
       "\n",
       "    .dataframe thead th {\n",
       "        text-align: right;\n",
       "    }\n",
       "</style>\n",
       "<table border=\"1\" class=\"dataframe\">\n",
       "  <thead>\n",
       "    <tr style=\"text-align: right;\">\n",
       "      <th></th>\n",
       "      <th>Name</th>\n",
       "      <th>Age</th>\n",
       "    </tr>\n",
       "  </thead>\n",
       "  <tbody>\n",
       "    <tr>\n",
       "      <th>0</th>\n",
       "      <td>Favio</td>\n",
       "      <td>31</td>\n",
       "    </tr>\n",
       "    <tr>\n",
       "      <th>1</th>\n",
       "      <td>Marco</td>\n",
       "      <td>25</td>\n",
       "    </tr>\n",
       "    <tr>\n",
       "      <th>2</th>\n",
       "      <td>Sri</td>\n",
       "      <td>60</td>\n",
       "    </tr>\n",
       "    <tr>\n",
       "      <th>3</th>\n",
       "      <td>Anu</td>\n",
       "      <td>58</td>\n",
       "    </tr>\n",
       "    <tr>\n",
       "      <th>4</th>\n",
       "      <td>Sandeep</td>\n",
       "      <td>28</td>\n",
       "    </tr>\n",
       "  </tbody>\n",
       "</table>\n",
       "</div>"
      ],
      "text/plain": [
       "      Name  Age\n",
       "0    Favio   31\n",
       "1    Marco   25\n",
       "2      Sri   60\n",
       "3      Anu   58\n",
       "4  Sandeep   28"
      ]
     },
     "execution_count": 56,
     "metadata": {},
     "output_type": "execute_result"
    }
   ],
   "source": [
    "pd.read_sql(\"select * from sample_table\", conn)"
   ]
  },
  {
   "cell_type": "markdown",
   "id": "dc5fbb8a",
   "metadata": {},
   "source": [
    "# Function to get table info"
   ]
  },
  {
   "cell_type": "code",
   "execution_count": 60,
   "id": "d5f57fea",
   "metadata": {},
   "outputs": [],
   "source": [
    "conn = sqlite3.connect(\"example.db\")\n",
    "cur=conn.cursor()"
   ]
  },
  {
   "cell_type": "code",
   "execution_count": 78,
   "id": "0f35d72f",
   "metadata": {},
   "outputs": [],
   "source": [
    "def table_info(conn, cur):\n",
    "    tables = cur.execute(\"select * from sqlite_master where type='table';\").fetchall()\n",
    "    \n",
    "    for table_name in tables:\n",
    "        table_name = table_name[1]\n",
    "        print(table_name)\n",
    "        \n",
    "        #table = pd.read_sql(\"select * from {} limit 0\".format(table_name), conn)\n",
    "        \n",
    "        for col in table.columns:\n",
    "            print(\"\\t \" + col)\n",
    "        print()"
   ]
  },
  {
   "cell_type": "code",
   "execution_count": 79,
   "id": "cb40ad30",
   "metadata": {},
   "outputs": [
    {
     "name": "stdout",
     "output_type": "stream",
     "text": [
      "customer\n",
      "\t firstname\n",
      "\t lastname\n",
      "\t income\n",
      "\n",
      "sample_table\n",
      "\t Name\n",
      "\t Age\n",
      "\n"
     ]
    }
   ],
   "source": [
    "table_info(conn, cur)"
   ]
  },
  {
   "cell_type": "markdown",
   "id": "a3198047",
   "metadata": {},
   "source": [
    "# Schema of the tables"
   ]
  },
  {
   "cell_type": "code",
   "execution_count": 80,
   "id": "e6235cef",
   "metadata": {},
   "outputs": [
    {
     "data": {
      "text/plain": [
       "[(0, 'firstname', 'TEXT', 0, None, 0),\n",
       " (1, 'lastname', 'TEXT', 0, None, 0),\n",
       " (2, 'income', 'REAL', 0, None, 0)]"
      ]
     },
     "execution_count": 80,
     "metadata": {},
     "output_type": "execute_result"
    }
   ],
   "source": [
    "cur.execute(\" PRAGMA table_info('customer')\").fetchall()"
   ]
  },
  {
   "cell_type": "markdown",
   "id": "cbfcda0a",
   "metadata": {},
   "source": [
    "#### Every row\n",
    "- Index\n",
    "- Column name\n",
    "- Data type\n",
    "- Can be NULL? 0-> can be NULL\n",
    "- Default value\n",
    "- Primary key?  0-> Not primary key"
   ]
  },
  {
   "cell_type": "code",
   "execution_count": null,
   "id": "772e2b36",
   "metadata": {},
   "outputs": [],
   "source": []
  }
 ],
 "metadata": {
  "kernelspec": {
   "display_name": "Python 3 (ipykernel)",
   "language": "python",
   "name": "python3"
  },
  "language_info": {
   "codemirror_mode": {
    "name": "ipython",
    "version": 3
   },
   "file_extension": ".py",
   "mimetype": "text/x-python",
   "name": "python",
   "nbconvert_exporter": "python",
   "pygments_lexer": "ipython3",
   "version": "3.9.7"
  }
 },
 "nbformat": 4,
 "nbformat_minor": 5
}
